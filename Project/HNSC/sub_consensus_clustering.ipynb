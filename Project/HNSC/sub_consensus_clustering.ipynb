{
 "cells": [
  {
   "cell_type": "code",
   "execution_count": null,
   "metadata": {},
   "outputs": [],
   "source": [
    "if (!requireNamespace(\"BiocManager\", quietly = TRUE))\n",
    "    install.packages(\"BiocManager\")\n",
    "BiocManager::install(\"ALL\")\n",
    "BiocManager::install(\"ConsensusClusterPlus\")"
   ]
  },
  {
   "cell_type": "code",
   "execution_count": null,
   "metadata": {},
   "outputs": [],
   "source": [
    "library(ALL)\n",
    "library(ConsensusClusterPlus)\n",
    "\n",
    "d = t(read.csv(\"chunhui/Input/HNSC/DEGmatrix.continous.ztrans.HNSC.csv\", row.names = 1))\n",
    "mads=apply(d,1,mad)\n",
    "d=d[rev(order(mads)),]\n",
    "d = sweep(d,1, apply(d,1,median,na.rm=T))\n",
    "\n",
    "title=tempdir()\n",
    "results = ConsensusClusterPlus(d,maxK=10,reps=100,pItem=0.8,pFeature=1,\n",
    "title=title,clusterAlg=\"hc\",distance=\"euclidean\",seed=1262118388.71279,plot=NULL)\n",
    "\n",
    "icl = calcICL(results,title=title,plot=\"png\")\n",
    "icl[[\"clusterConsensus\"]]\n",
    "icl[[\"itemConsensus\"]][1:5,]"
   ]
  }
 ],
 "metadata": {
  "kernelspec": {
   "display_name": "R",
   "language": "R",
   "name": "ir"
  },
  "language_info": {
   "codemirror_mode": "r",
   "file_extension": ".r",
   "mimetype": "text/x-r-source",
   "name": "R",
   "pygments_lexer": "r",
   "version": "3.6.1"
  }
 },
 "nbformat": 4,
 "nbformat_minor": 4
}
