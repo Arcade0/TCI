{
 "cells": [
  {
   "cell_type": "code",
   "execution_count": null,
   "metadata": {},
   "outputs": [],
   "source": [
    "A_Di = read.csv(\"chunhui/Input/HNSC/DriverDEGmatrix.HNSC.csv\", row.names=1)\n",
    "S_C = read.csv(\"chunhui/Input/HNSC/TCGA/cnv.csv\", row.names=1)\n",
    "\n",
    "library('biomaRt')\n",
    "mart <- useDataset(\"hsapiens_gene_ensembl\", useMart(\"ensembl\"))\n",
    "genes <- colnames(S_C)\n",
    "# df<-df[,-4]\n",
    "G_list <- getBM(filters= \"ensembl_peptide_id\", attributes= c(\"ensembl_peptide_id\",\"hgnc_symbol\"),values=genes,mart= mart)\n",
    "# merge(df,G_list,by.x=\"gene\",by.y=\"ensembl_peptide_id\")"
   ]
  }
 ],
 "metadata": {
  "kernelspec": {
   "display_name": "R",
   "language": "R",
   "name": "ir"
  },
  "language_info": {
   "codemirror_mode": "r",
   "file_extension": ".r",
   "mimetype": "text/x-r-source",
   "name": "R",
   "pygments_lexer": "r",
   "version": "3.6.1"
  }
 },
 "nbformat": 4,
 "nbformat_minor": 4
}
