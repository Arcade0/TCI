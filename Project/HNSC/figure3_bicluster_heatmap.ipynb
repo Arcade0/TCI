{
 "cells": [
  {
   "cell_type": "markdown",
   "metadata": {},
   "source": [
    "# Import Pack"
   ]
  },
  {
   "cell_type": "code",
   "execution_count": 1,
   "metadata": {
    "ExecuteTime": {
     "end_time": "2019-10-31T13:10:10.581345Z",
     "start_time": "2019-10-31T13:10:09.428094Z"
    }
   },
   "outputs": [
    {
     "name": "stderr",
     "output_type": "stream",
     "text": [
      "/Users/xinzhuo/anaconda3/lib/python3.7/site-packages/sklearn/utils/deprecation.py:144: FutureWarning: The sklearn.datasets.samples_generator module is  deprecated in version 0.22 and will be removed in version 0.24. The corresponding classes / functions should instead be imported from sklearn.datasets. Anything that cannot be imported from sklearn.datasets is now part of the private API.\n",
      "  warnings.warn(message, FutureWarning)\n",
      "/Users/xinzhuo/anaconda3/lib/python3.7/site-packages/sklearn/utils/deprecation.py:144: FutureWarning: The sklearn.cluster.bicluster module is  deprecated in version 0.22 and will be removed in version 0.24. The corresponding classes / functions should instead be imported from sklearn.cluster. Anything that cannot be imported from sklearn.cluster is now part of the private API.\n",
      "  warnings.warn(message, FutureWarning)\n"
     ]
    }
   ],
   "source": [
    "import numpy as np\n",
    "import pandas as pd\n",
    "import os\n",
    "import seaborn as sns\n",
    "import matplotlib as mpl\n",
    "from matplotlib import pyplot as plt\n",
    "# from node import node\n",
    "from copy import deepcopy\n",
    "from sklearn.datasets import make_checkerboard\n",
    "from sklearn.datasets import samples_generator as sg\n",
    "from sklearn.cluster.bicluster import SpectralBiclustering\n",
    "from sklearn.cluster.bicluster import SpectralCoclustering\n",
    "from sklearn.metrics import consensus_score\n",
    "from lifelines import KaplanMeierFitter\n",
    "from lifelines.statistics import logrank_test, multivariate_logrank_test\n",
    "from scipy.cluster import hierarchy\n",
    "from scipy import stats"
   ]
  },
  {
   "cell_type": "markdown",
   "metadata": {},
   "source": [
    "# Read Data"
   ]
  },
  {
   "cell_type": "code",
   "execution_count": 2,
   "metadata": {
    "ExecuteTime": {
     "end_time": "2019-10-31T13:10:24.652835Z",
     "start_time": "2019-10-31T13:10:10.592838Z"
    }
   },
   "outputs": [],
   "source": [
    "# Pan Can\n",
    "S_Dc = pd.read_csv(\"../TCI/EM/Input/TCGA expression.csv\", index_col=0, header=0)\n",
    "\n",
    "S_D = pd.read_csv('../TCI/TCGA_info/Input/PanCancer13tts.DEGmatrix.4TCI.csv', index_col=0, header=0)\n",
    "\n",
    "S_A = pd.read_csv('../TCI/TCGA_info/Input/PanCancer13tts.SGAmatrix.4TCI.csv', index_col=0, header=0)\n",
    "\n",
    "A_Do = pd.read_csv(\"../TCI/EM/A_Do.csv\", index_col=0, header=0)"
   ]
  },
  {
   "cell_type": "code",
   "execution_count": null,
   "metadata": {},
   "outputs": [],
   "source": [
    "fd = ['PTEN','PIK3CA','RB1','CCNE1','TP53','ATM','KRAS','NF1',\n",
    "                    'SMARCA4','CREBBP','ARID1A','FBXW7','PIK3R1','FAT1','APC'\n",
    "                    ,'MTOR','SETD2','EGFR','VHL','CDK4','NOTCH1','BRAF','E2F3']\n",
    "print(np.mean(np.mean(S_Ad[\"TP53\"])))\n",
    "print(np.mean(np.mean(S_A[\"TP53\"])))"
   ]
  },
  {
   "cell_type": "code",
   "execution_count": 3,
   "metadata": {},
   "outputs": [],
   "source": []
  },
  {
   "cell_type": "code",
   "execution_count": null,
   "metadata": {},
   "outputs": [],
   "source": [
    "# LUAD\n",
    "S_Ai = pd.read_csv(\"chunhui/Input/LUAD/SGAmatrix.LUAD.csv\", header=0, index_col=0)\n",
    "S_Ai.index = [ele[0:12] for ele in S_Ai.index if len(ele)>12]\n",
    "\n",
    "S_Di = pd.read_csv(\"chunhui/Input/LUAD/DEGmatrix.LUAD.csv\", header=0, index_col=0)\n",
    "S_Di.index = [ele[0:12] for ele in S_Di.index if len(ele)>12]\n",
    "S_Dai = S_D.loc[S_Di.index & S_D.index, A_D.columns & S_D.columns]\n",
    "S_Pi = pd.read_csv(\"chunhui/Input/LUAD/PROmatrix.LUAD.csv\", header=0, index_col=0)\n",
    "\n",
    "S_Dci = S_Dc.loc[S_Di.index & S_Dc.index, S_Di.columns & S_Dc.columns]\n",
    "S_Dcai = S_Dc.loc[S_Di.index & S_Dc.index, A_D.columns & S_Dc.columns ]\n",
    "S_Pci = pd.read_csv(\"chunhui/Input/LUAD/PROmatrix_ct.LUAD.csv\",header=0, index_col=0)\n",
    "S_Pci.index = [ele[0:12] for ele in S_Pci.index if len(ele)>12]"
   ]
  },
  {
   "cell_type": "markdown",
   "metadata": {},
   "source": [
    "# Hierachy Cluter"
   ]
  },
  {
   "cell_type": "code",
   "execution_count": null,
   "metadata": {},
   "outputs": [],
   "source": [
    "lis = {\"S_Ai\": S_Ai, \"S_Dci\": S_Dci, \"S_Pci\": S_Pci, \"S_Dct\": S_Dct}\n",
    "lis = { \"S_Dp\": S_Dc.loc[b, S_Dc.columns & set(paper_l)]}\n",
    "\n",
    "for ele in lis.keys():\n",
    "    \n",
    "    df = lis[ele]\n",
    "    \n",
    "    # df.corr() corrleationship\n",
    "    g = sns.clustermap(df, center=0, cmap=\"vlag\", row_cluster=False, figsize=(7, 7))\n",
    "    \n",
    "    ax0 = g.ax_heatmap\n",
    "    # ax0.set_title(\"ClusterMap\")\n",
    "    ax0.set_ylabel(\"Sample\")\n",
    "    ax0.set_xlabel(\"Gene\")\n",
    "    \n",
    "    plt.show()\n",
    "\n",
    "    # dfc = df.iloc[g.dendrogram_row.reordered_ind, g.dendrogram_col.reordered_ind]\n",
    "    dfc = df.iloc[:, g.dendrogram_col.reordered_ind]\n",
    "    dfc.to_csv(\"chunhui/Output/HNSC/%s_clu.csv\" % ele, header=True, index=True)\n",
    "    \n",
    "\n",
    "    fig = plt.figure(figsize=(8, 7))\n",
    "    ax1 = fig.add_subplot(111) \n",
    "    h = sns.heatmap(dfc, cmap=\"vlag\", center=0, cbar_kws = {\"shrink\":0.1}, yticklabels=False, xticklabels=False, ax=ax1)\n",
    "    ax1.yaxis.set_label_position(\"right\")\n",
    "\n",
    "    ax1.set_ylabel(\"Sample\" )\n",
    "    ax1.set_xlabel(\"Gene\")"
   ]
  },
  {
   "cell_type": "code",
   "execution_count": null,
   "metadata": {},
   "outputs": [],
   "source": [
    "S_Aic = S_Ai.loc[S_Ai.index & S_Dci.index]\n",
    "S_Dcic = S_Dci.loc[S_Aic.index]\n",
    "\n",
    "ga = sns.clustermap(S_Aic, cmap=\"vlag\", center=0, row_cluster=False)\n",
    "gd = sns.clustermap(S_Dcic, cmap=\"vlag\", center=0)\n",
    "\n",
    "S_Aic = S_Aic.iloc[:, ga.dendrogram_col.reordered_ind]\n",
    "S_Dcic = S_Dcic.iloc[gd.dendrogram_row.reordered_ind, gd.dendrogram_col.reordered_ind]\n",
    "\n",
    "dfc = pd.concat([S_Dcic, S_Aic], 1)\n",
    "fig = plt.figure(figsize=(10, 10))\n",
    "h = sns.heatmap(dfc, cmap=\"vlag\", center=0, cbar_kws = {\"shrink\":0.1})"
   ]
  },
  {
   "cell_type": "code",
   "execution_count": null,
   "metadata": {},
   "outputs": [],
   "source": [
    "dfci = S_Aic.iloc[gd.dendrogram_row.reordered_ind,:]\n",
    "\n",
    "fig = plt.figure(figsize=(7, 6))\n",
    "ax1 = fig.add_subplot(111) \n",
    "h = sns.heatmap(dfci, cmap=\"vlag\", center=0, cbar_kws = {\"shrink\":0.1}, yticklabels=False, xticklabels=False, ax=ax1)\n",
    "ax1.yaxis.set_label_position(\"right\")\n",
    "ax1.set_ylabel(\"Sample\" )\n",
    "ax1.set_xlabel(\"Gene\")"
   ]
  },
  {
   "cell_type": "code",
   "execution_count": null,
   "metadata": {},
   "outputs": [],
   "source": [
    "lis = {\"S_Dai\": S_Dai, \"S_Dcai\":S_Dcai}\n",
    "# hierarchy\n",
    "for ele in lis.keys():\n",
    "    df = lis[ele]\n",
    "    row_l = hierarchy.linkage(df)\n",
    "    col_l = hierarchy.linkage(df.T)\n",
    "    \n",
    "    g = sns.clustermap(df, cmap=\"vlag\", center=0)"
   ]
  },
  {
   "cell_type": "markdown",
   "metadata": {},
   "source": [
    "## Cut Gene"
   ]
  },
  {
   "cell_type": "code",
   "execution_count": null,
   "metadata": {},
   "outputs": [],
   "source": [
    "# PRO\n",
    "a = S_Pci.iloc[:, g.dendrogram_col.reordered_ind]\n",
    "dfc = a \n",
    "\n",
    "df_col = list(dfc.columns)\n",
    "\n",
    "sl = [df_col[0], \"ORAOV1\", \"EP300\", df_col[-1]]\n",
    "sb_l = []\n",
    "for i in range(len(sl)-1):\n",
    "    sb = dfc.iloc[:, df_col.index(sl[i]): df_col.index(sl[i+1])]\n",
    "    if i == (len(sl)-1)-1:\n",
    "        sb = dfc.iloc[:, df_col.index(sl[i]): df_col.index(sl[i+1]) + 1]\n",
    "    sb_l.append(sb)\n",
    "print(sb_l)\n",
    "\n",
    "for i in range(len(sb_l)):\n",
    "    sb = sb_l[i]\n",
    "    print(\" \".join(sb.columns))\n",
    "    print(\"\\n\")\n",
    "    sb.to_csv(\"chunhui/Output/HNSC/S_Pci_HNSC_%s.csv\" % i, index=True, header=True)"
   ]
  },
  {
   "cell_type": "code",
   "execution_count": null,
   "metadata": {},
   "outputs": [],
   "source": [
    "# DEG\n",
    "dfc = pd.read_csv(\"chunhui/Output/HNSC/S_Dci_clu.csv\", index_col=0, header=0)\n",
    "df_col = list(dfc.columns)\n",
    "\n",
    "# kfc = pd.read_csv(\"chunhui/Output/HNSC/S_Dcai.csv\", index_col=0, header=0)\n",
    "nm_l = [ele for ele in kfc.index if \"-11A\" in ele]\n",
    "abm_l = [ele for ele in kfc.index if \"-01A\" in ele]\n",
    "S_Dr = kfc\n",
    "\n",
    "sl = [df_col[0], \"USP31\", \"ITGAX\", \"BRDT\", \"CCT5\", df_col[-1]]\n",
    "sb_l = []\n",
    "for i in range(len(sl)-1):\n",
    "    sb = dfc.iloc[:, df_col.index(sl[i]): df_col.index(sl[i+1])]\n",
    "    if i == (len(sl)-1)-1:\n",
    "        sb = dfc.iloc[:, df_col.index(sl[i]): df_col.index(sl[i+1]) + 1]\n",
    "    sb_l.append(sb)\n",
    "    print(len(sb))\n",
    "    \n",
    "for i in range(len(sb_l)):\n",
    "    \n",
    "    sb = sb_l[i]\n",
    "    sb.to_csv(\"chunhui/Output/HNSC/S_D_HNSC_%s.csv\" % i, index=True, header=True)\n",
    "\n",
    "    S_Drn = S_Dr.loc[nm_l, sb.columns & kfc.columns]\n",
    "    print(S_Drn.shape)\n",
    "    S_Drn.to_csv(\"chunhui/Output/HNSC/S_DDrn_HNSC_%s.csv\" % i, index=True, header=True)\n",
    "    S_Dran = S_Dr.loc[abm_l, sb.columns & kfc.columns]\n",
    "    S_Dran.to_csv(\"chunhui/Output/HNSC/S_DDran_HNSC_%s.csv\" % i, index=True, header=True)\n",
    "    S_Dra = pd.concat([S_Drn, S_Dran], 0)\n",
    "    S_Dra.to_csv(\"chunhui/Output/HNSC/S_DDra_HNSC_%s.csv\" % i, index=True, header=True)"
   ]
  },
  {
   "cell_type": "markdown",
   "metadata": {},
   "source": [
    "## Label Heatmap"
   ]
  },
  {
   "cell_type": "code",
   "execution_count": null,
   "metadata": {},
   "outputs": [],
   "source": [
    "sub = pd.read_csv(\"EM/Input/tcga_subtype.csv\", index_col=0).loc[S_A.index]\n",
    "\n",
    "sub[\"index\"] = sub.index\n",
    "sub[\"subtype\"] = sub[\"X_primary_disease\"]\n",
    "df = S_D"
   ]
  },
  {
   "cell_type": "code",
   "execution_count": 4,
   "metadata": {},
   "outputs": [],
   "source": []
  },
  {
   "cell_type": "code",
   "execution_count": 5,
   "metadata": {},
   "outputs": [],
   "source": []
  },
  {
   "cell_type": "code",
   "execution_count": 6,
   "metadata": {
    "collapsed": true,
    "jupyter": {
     "outputs_hidden": true
    }
   },
   "outputs": [
    {
     "ename": "FileNotFoundError",
     "evalue": "[Errno 2] No such file or directory: 'PORT/7.2.csv'",
     "output_type": "error",
     "traceback": [
      "\u001b[0;31m---------------------------------------------------------------------------\u001b[0m",
      "\u001b[0;31mFileNotFoundError\u001b[0m                         Traceback (most recent call last)",
      "\u001b[0;32m<ipython-input-6-f943af20aeb6>\u001b[0m in \u001b[0;36m<module>\u001b[0;34m\u001b[0m\n\u001b[1;32m      1\u001b[0m \u001b[0;31m# HNSC paper\u001b[0m\u001b[0;34m\u001b[0m\u001b[0;34m\u001b[0m\u001b[0;34m\u001b[0m\u001b[0m\n\u001b[0;32m----> 2\u001b[0;31m \u001b[0msubtype\u001b[0m \u001b[0;34m=\u001b[0m \u001b[0mpd\u001b[0m\u001b[0;34m.\u001b[0m\u001b[0mread_csv\u001b[0m\u001b[0;34m(\u001b[0m\u001b[0;34m\"PORT/7.2.csv\"\u001b[0m\u001b[0;34m,\u001b[0m \u001b[0mindex_col\u001b[0m\u001b[0;34m=\u001b[0m\u001b[0;36m0\u001b[0m\u001b[0;34m,\u001b[0m \u001b[0mheader\u001b[0m\u001b[0;34m=\u001b[0m\u001b[0;36m0\u001b[0m\u001b[0;34m)\u001b[0m\u001b[0;34m\u001b[0m\u001b[0;34m\u001b[0m\u001b[0m\n\u001b[0m\u001b[1;32m      3\u001b[0m \u001b[0msubtype\u001b[0m\u001b[0;34m.\u001b[0m\u001b[0mindex\u001b[0m \u001b[0;34m=\u001b[0m \u001b[0;34m[\u001b[0m\u001b[0mele\u001b[0m\u001b[0;34m.\u001b[0m\u001b[0mreplace\u001b[0m\u001b[0;34m(\u001b[0m\u001b[0;34m\".\"\u001b[0m\u001b[0;34m,\u001b[0m \u001b[0;34m\"-\"\u001b[0m\u001b[0;34m)\u001b[0m \u001b[0;32mfor\u001b[0m \u001b[0mele\u001b[0m \u001b[0;32min\u001b[0m \u001b[0msubtype\u001b[0m\u001b[0;34m.\u001b[0m\u001b[0mindex\u001b[0m\u001b[0;34m]\u001b[0m\u001b[0;34m\u001b[0m\u001b[0;34m\u001b[0m\u001b[0m\n\u001b[1;32m      4\u001b[0m \u001b[0msubtype\u001b[0m \u001b[0;34m=\u001b[0m \u001b[0msubtype\u001b[0m\u001b[0;34m.\u001b[0m\u001b[0mloc\u001b[0m\u001b[0;34m[\u001b[0m\u001b[0msubtype\u001b[0m\u001b[0;34m.\u001b[0m\u001b[0mindex\u001b[0m \u001b[0;34m&\u001b[0m \u001b[0mS_Dci\u001b[0m\u001b[0;34m.\u001b[0m\u001b[0mindex\u001b[0m\u001b[0;34m]\u001b[0m\u001b[0;34m\u001b[0m\u001b[0;34m\u001b[0m\u001b[0m\n\u001b[1;32m      5\u001b[0m \u001b[0mS_Dp\u001b[0m \u001b[0;34m=\u001b[0m \u001b[0mS_Dc\u001b[0m\u001b[0;34m.\u001b[0m\u001b[0mloc\u001b[0m\u001b[0;34m[\u001b[0m\u001b[0msubtype\u001b[0m\u001b[0;34m.\u001b[0m\u001b[0mindex\u001b[0m \u001b[0;34m&\u001b[0m \u001b[0mS_D\u001b[0m\u001b[0;34m.\u001b[0m\u001b[0mindex\u001b[0m\u001b[0;34m,\u001b[0m \u001b[0mS_Dc\u001b[0m\u001b[0;34m.\u001b[0m\u001b[0mcolumns\u001b[0m \u001b[0;34m&\u001b[0m \u001b[0mset\u001b[0m\u001b[0;34m(\u001b[0m\u001b[0mpaper_l\u001b[0m\u001b[0;34m)\u001b[0m\u001b[0;34m]\u001b[0m\u001b[0;34m\u001b[0m\u001b[0;34m\u001b[0m\u001b[0m\n",
      "\u001b[0;32m~/anaconda3/lib/python3.7/site-packages/pandas/io/parsers.py\u001b[0m in \u001b[0;36mread_csv\u001b[0;34m(filepath_or_buffer, sep, delimiter, header, names, index_col, usecols, squeeze, prefix, mangle_dupe_cols, dtype, engine, converters, true_values, false_values, skipinitialspace, skiprows, skipfooter, nrows, na_values, keep_default_na, na_filter, verbose, skip_blank_lines, parse_dates, infer_datetime_format, keep_date_col, date_parser, dayfirst, cache_dates, iterator, chunksize, compression, thousands, decimal, lineterminator, quotechar, quoting, doublequote, escapechar, comment, encoding, dialect, error_bad_lines, warn_bad_lines, delim_whitespace, low_memory, memory_map, float_precision)\u001b[0m\n\u001b[1;32m    684\u001b[0m     )\n\u001b[1;32m    685\u001b[0m \u001b[0;34m\u001b[0m\u001b[0m\n\u001b[0;32m--> 686\u001b[0;31m     \u001b[0;32mreturn\u001b[0m \u001b[0m_read\u001b[0m\u001b[0;34m(\u001b[0m\u001b[0mfilepath_or_buffer\u001b[0m\u001b[0;34m,\u001b[0m \u001b[0mkwds\u001b[0m\u001b[0;34m)\u001b[0m\u001b[0;34m\u001b[0m\u001b[0;34m\u001b[0m\u001b[0m\n\u001b[0m\u001b[1;32m    687\u001b[0m \u001b[0;34m\u001b[0m\u001b[0m\n\u001b[1;32m    688\u001b[0m \u001b[0;34m\u001b[0m\u001b[0m\n",
      "\u001b[0;32m~/anaconda3/lib/python3.7/site-packages/pandas/io/parsers.py\u001b[0m in \u001b[0;36m_read\u001b[0;34m(filepath_or_buffer, kwds)\u001b[0m\n\u001b[1;32m    450\u001b[0m \u001b[0;34m\u001b[0m\u001b[0m\n\u001b[1;32m    451\u001b[0m     \u001b[0;31m# Create the parser.\u001b[0m\u001b[0;34m\u001b[0m\u001b[0;34m\u001b[0m\u001b[0;34m\u001b[0m\u001b[0m\n\u001b[0;32m--> 452\u001b[0;31m     \u001b[0mparser\u001b[0m \u001b[0;34m=\u001b[0m \u001b[0mTextFileReader\u001b[0m\u001b[0;34m(\u001b[0m\u001b[0mfp_or_buf\u001b[0m\u001b[0;34m,\u001b[0m \u001b[0;34m**\u001b[0m\u001b[0mkwds\u001b[0m\u001b[0;34m)\u001b[0m\u001b[0;34m\u001b[0m\u001b[0;34m\u001b[0m\u001b[0m\n\u001b[0m\u001b[1;32m    453\u001b[0m \u001b[0;34m\u001b[0m\u001b[0m\n\u001b[1;32m    454\u001b[0m     \u001b[0;32mif\u001b[0m \u001b[0mchunksize\u001b[0m \u001b[0;32mor\u001b[0m \u001b[0miterator\u001b[0m\u001b[0;34m:\u001b[0m\u001b[0;34m\u001b[0m\u001b[0;34m\u001b[0m\u001b[0m\n",
      "\u001b[0;32m~/anaconda3/lib/python3.7/site-packages/pandas/io/parsers.py\u001b[0m in \u001b[0;36m__init__\u001b[0;34m(self, f, engine, **kwds)\u001b[0m\n\u001b[1;32m    944\u001b[0m             \u001b[0mself\u001b[0m\u001b[0;34m.\u001b[0m\u001b[0moptions\u001b[0m\u001b[0;34m[\u001b[0m\u001b[0;34m\"has_index_names\"\u001b[0m\u001b[0;34m]\u001b[0m \u001b[0;34m=\u001b[0m \u001b[0mkwds\u001b[0m\u001b[0;34m[\u001b[0m\u001b[0;34m\"has_index_names\"\u001b[0m\u001b[0;34m]\u001b[0m\u001b[0;34m\u001b[0m\u001b[0;34m\u001b[0m\u001b[0m\n\u001b[1;32m    945\u001b[0m \u001b[0;34m\u001b[0m\u001b[0m\n\u001b[0;32m--> 946\u001b[0;31m         \u001b[0mself\u001b[0m\u001b[0;34m.\u001b[0m\u001b[0m_make_engine\u001b[0m\u001b[0;34m(\u001b[0m\u001b[0mself\u001b[0m\u001b[0;34m.\u001b[0m\u001b[0mengine\u001b[0m\u001b[0;34m)\u001b[0m\u001b[0;34m\u001b[0m\u001b[0;34m\u001b[0m\u001b[0m\n\u001b[0m\u001b[1;32m    947\u001b[0m \u001b[0;34m\u001b[0m\u001b[0m\n\u001b[1;32m    948\u001b[0m     \u001b[0;32mdef\u001b[0m \u001b[0mclose\u001b[0m\u001b[0;34m(\u001b[0m\u001b[0mself\u001b[0m\u001b[0;34m)\u001b[0m\u001b[0;34m:\u001b[0m\u001b[0;34m\u001b[0m\u001b[0;34m\u001b[0m\u001b[0m\n",
      "\u001b[0;32m~/anaconda3/lib/python3.7/site-packages/pandas/io/parsers.py\u001b[0m in \u001b[0;36m_make_engine\u001b[0;34m(self, engine)\u001b[0m\n\u001b[1;32m   1176\u001b[0m     \u001b[0;32mdef\u001b[0m \u001b[0m_make_engine\u001b[0m\u001b[0;34m(\u001b[0m\u001b[0mself\u001b[0m\u001b[0;34m,\u001b[0m \u001b[0mengine\u001b[0m\u001b[0;34m=\u001b[0m\u001b[0;34m\"c\"\u001b[0m\u001b[0;34m)\u001b[0m\u001b[0;34m:\u001b[0m\u001b[0;34m\u001b[0m\u001b[0;34m\u001b[0m\u001b[0m\n\u001b[1;32m   1177\u001b[0m         \u001b[0;32mif\u001b[0m \u001b[0mengine\u001b[0m \u001b[0;34m==\u001b[0m \u001b[0;34m\"c\"\u001b[0m\u001b[0;34m:\u001b[0m\u001b[0;34m\u001b[0m\u001b[0;34m\u001b[0m\u001b[0m\n\u001b[0;32m-> 1178\u001b[0;31m             \u001b[0mself\u001b[0m\u001b[0;34m.\u001b[0m\u001b[0m_engine\u001b[0m \u001b[0;34m=\u001b[0m \u001b[0mCParserWrapper\u001b[0m\u001b[0;34m(\u001b[0m\u001b[0mself\u001b[0m\u001b[0;34m.\u001b[0m\u001b[0mf\u001b[0m\u001b[0;34m,\u001b[0m \u001b[0;34m**\u001b[0m\u001b[0mself\u001b[0m\u001b[0;34m.\u001b[0m\u001b[0moptions\u001b[0m\u001b[0;34m)\u001b[0m\u001b[0;34m\u001b[0m\u001b[0;34m\u001b[0m\u001b[0m\n\u001b[0m\u001b[1;32m   1179\u001b[0m         \u001b[0;32melse\u001b[0m\u001b[0;34m:\u001b[0m\u001b[0;34m\u001b[0m\u001b[0;34m\u001b[0m\u001b[0m\n\u001b[1;32m   1180\u001b[0m             \u001b[0;32mif\u001b[0m \u001b[0mengine\u001b[0m \u001b[0;34m==\u001b[0m \u001b[0;34m\"python\"\u001b[0m\u001b[0;34m:\u001b[0m\u001b[0;34m\u001b[0m\u001b[0;34m\u001b[0m\u001b[0m\n",
      "\u001b[0;32m~/anaconda3/lib/python3.7/site-packages/pandas/io/parsers.py\u001b[0m in \u001b[0;36m__init__\u001b[0;34m(self, src, **kwds)\u001b[0m\n\u001b[1;32m   2006\u001b[0m         \u001b[0mkwds\u001b[0m\u001b[0;34m[\u001b[0m\u001b[0;34m\"usecols\"\u001b[0m\u001b[0;34m]\u001b[0m \u001b[0;34m=\u001b[0m \u001b[0mself\u001b[0m\u001b[0;34m.\u001b[0m\u001b[0musecols\u001b[0m\u001b[0;34m\u001b[0m\u001b[0;34m\u001b[0m\u001b[0m\n\u001b[1;32m   2007\u001b[0m \u001b[0;34m\u001b[0m\u001b[0m\n\u001b[0;32m-> 2008\u001b[0;31m         \u001b[0mself\u001b[0m\u001b[0;34m.\u001b[0m\u001b[0m_reader\u001b[0m \u001b[0;34m=\u001b[0m \u001b[0mparsers\u001b[0m\u001b[0;34m.\u001b[0m\u001b[0mTextReader\u001b[0m\u001b[0;34m(\u001b[0m\u001b[0msrc\u001b[0m\u001b[0;34m,\u001b[0m \u001b[0;34m**\u001b[0m\u001b[0mkwds\u001b[0m\u001b[0;34m)\u001b[0m\u001b[0;34m\u001b[0m\u001b[0;34m\u001b[0m\u001b[0m\n\u001b[0m\u001b[1;32m   2009\u001b[0m         \u001b[0mself\u001b[0m\u001b[0;34m.\u001b[0m\u001b[0munnamed_cols\u001b[0m \u001b[0;34m=\u001b[0m \u001b[0mself\u001b[0m\u001b[0;34m.\u001b[0m\u001b[0m_reader\u001b[0m\u001b[0;34m.\u001b[0m\u001b[0munnamed_cols\u001b[0m\u001b[0;34m\u001b[0m\u001b[0;34m\u001b[0m\u001b[0m\n\u001b[1;32m   2010\u001b[0m \u001b[0;34m\u001b[0m\u001b[0m\n",
      "\u001b[0;32mpandas/_libs/parsers.pyx\u001b[0m in \u001b[0;36mpandas._libs.parsers.TextReader.__cinit__\u001b[0;34m()\u001b[0m\n",
      "\u001b[0;32mpandas/_libs/parsers.pyx\u001b[0m in \u001b[0;36mpandas._libs.parsers.TextReader._setup_parser_source\u001b[0;34m()\u001b[0m\n",
      "\u001b[0;31mFileNotFoundError\u001b[0m: [Errno 2] No such file or directory: 'PORT/7.2.csv'"
     ]
    }
   ],
   "source": [
    "# HNSC paper\n",
    "subtype = pd.read_csv(\"PORT/7.2.csv\", index_col=0, header=0)\n",
    "subtype.index = [ele.replace(\".\", \"-\") for ele in subtype.index]\n",
    "subtype = subtype.loc[subtype.index & S_Dci.index]\n",
    "S_Dp = S_Dc.loc[subtype.index & S_D.index, S_Dc.columns & set(paper_l)]\n",
    "\n",
    "a = np.unique(subtype[\"RNA\"])\n",
    "b = []\n",
    "for ele in a:\n",
    "    subi = subtype[subtype[\"RNA\"] == ele]\n",
    "    b.extend(subi.index)\n",
    "sub = subtype.loc[b]\n",
    "\n",
    "df = S_Dp.loc[sub.index]\n",
    "sub[\"subtype\"] = sub[\"RNA\"]\n",
    "dfi = pd.concat([df, sub[\"subtype\"]], 1)"
   ]
  },
  {
   "cell_type": "code",
   "execution_count": 8,
   "metadata": {},
   "outputs": [
    {
     "data": {
      "image/png": "[encoded data removed]",
      "text/plain": [
       "<Figure size 720x720 with 5 Axes>"
      ]
     },
     "metadata": {
      "needs_background": "light"
     },
     "output_type": "display_data"
    }
   ],
   "source": []
  },
  {
   "cell_type": "markdown",
   "metadata": {},
   "source": [
    "## TCGA predict pathway Label"
   ]
  },
  {
   "cell_type": "code",
   "execution_count": null,
   "metadata": {},
   "outputs": [],
   "source": [
    "para = pd.read_table(\"Pre/Input/TCGA_BRCA/BRCA_merge_merged_reals.txt\", sep=\"\\t\", index_col=0)\n",
    "# para = pd.read_table(\"Pre/Input/TCGA_BRCA/BRCA_PanCan33_ssGSEA_1387GeneSets_NonZero_sample_level_Z.txt\", sep=\"\\t\", index_col=0)"
   ]
  },
  {
   "cell_type": "code",
   "execution_count": null,
   "metadata": {},
   "outputs": [],
   "source": [
    "p53 = node[\"P53\"] + [\"P53\"]\n",
    "p53_l = [ele for ele in para.index if any(x in ele.upper() for x in p53)]\n",
    "\n",
    "pi3k = node[\"PI3K\"] + [\"PI3K\", \"SUI\"]\n",
    "pi3k_l = [ele for ele in para.index if any(x in ele.upper() for x in pi3k)]\n",
    "\n",
    "rtk = node[\"RTK\"]\n",
    "rtk_l = [ele for ele in para.index if any(x in ele.upper() for x in rtk)]"
   ]
  },
  {
   "cell_type": "code",
   "execution_count": null,
   "metadata": {},
   "outputs": [],
   "source": [
    "para_d = para.loc[pi3k_l]\n",
    "para_d = para_d.loc[para_d.index[np.mean(abs(para_d), 1)>0.1]]\n",
    "\n",
    "sns.clustermap(para_d, center=0, cmap=\"vlag\", xticklabels=False)"
   ]
  },
  {
   "cell_type": "markdown",
   "metadata": {
    "toc-hr-collapsed": true,
    "toc-nb-collapsed": true
   },
   "source": [
    "## Bicluster"
   ]
  },
  {
   "cell_type": "code",
   "execution_count": null,
   "metadata": {},
   "outputs": [],
   "source": [
    "S_P = pd.read_csv(\"EM/Output/S_Ao_sb1/S_P_BRCA.csv\", index_col=0, header=0)\n",
    "S_Ai = pd.read_csv(\"EM/Input/S_Asb/S_A_BRCA.csv\", index_col=0, header=0)\n",
    "sga = \"PIK3CA\"\n",
    "A_Di = A_D[A_D.columns[np.sum(A_D.loc[[sga], :]) > 0]]\n",
    "df = S_D.loc[S_P.index, A_Di.columns]"
   ]
  },
  {
   "cell_type": "code",
   "execution_count": null,
   "metadata": {},
   "outputs": [],
   "source": [
    "dfs = df[df.columns[np.sum(df)>0]]\n",
    "dfs = dfs.loc[dfs.index[np.sum(dfs, 1)>0]]\n",
    "\n",
    "# bicluster\n",
    "data = dfs\n",
    "n = 10\n",
    "model = SpectralBiclustering(n_clusters=n, random_state=0)\n",
    "model.fit(data)\n",
    "fit_data = data.iloc[list(np.argsort(model.row_labels_)),list(np.argsort(model.column_labels_))]\n",
    "\n",
    "# print elements in each cluster\n",
    "for i in range(n):\n",
    "    sga_l = list(data.index[list(model.get_indices(i)[0])])\n",
    "    # S_Ai = S_P[sga_l]\n",
    "    # S_Ai.to_csv(\"EM/Output/BI/S_P%s\" % i, index=True, header=True)\n",
    "    print(list(data.index[list(model.get_indices(i)[0])]))\n",
    "\n",
    "# This just makes some sample 2D data and a corresponding vmap dict with labels for the values in the data\n",
    "fig = plt.figure(figsize=(10, 10))\n",
    "ax1 = fig.add_subplot()\n",
    "\n",
    "sns.heatmap(fit_data, center=0, cmap=\"vlag\", cbar_kws={\"shrink\": 0.1, \"aspect\":2}, ax=ax1)"
   ]
  },
  {
   "cell_type": "markdown",
   "metadata": {},
   "source": [
    "## Z score test compare differnece "
   ]
  },
  {
   "cell_type": "code",
   "execution_count": null,
   "metadata": {},
   "outputs": [],
   "source": [
    "sga = \"PIK3CA\"\n",
    "rep_l = S_P.index[S_P[\"PIK3CA\"] == 1]\n",
    "nrep_l =  S_P.index[S_P[\"PIK3CA\"] == 0]\n",
    "\n",
    "rep_exp = S_P.loc[rep_l]\n",
    "nrep_exp = S_P.loc[nrep_l]\n",
    "\n",
    "stats_l = []\n",
    "de_l = []\n",
    "for deg in rep_exp.columns:\n",
    "    rsv1 = rep_exp[deg]\n",
    "    rsv2 = nrep_exp[deg]\n",
    "    p = stats.ttest_ind(rsv1,rsv2)\n",
    "    stats_l.append(p)\n",
    "    if p[1]<0.01:\n",
    "        de_l.append(deg)\n",
    "\n",
    "df = pd.concat([rep_exp[de_l], nrep_exp[de_l]], 0)\n",
    "sns.clustermap(df, row_cluster=False, center=0, cmap=\"vlag\",)"
   ]
  },
  {
   "cell_type": "markdown",
   "metadata": {},
   "source": [
    "## t-sne"
   ]
  },
  {
   "cell_type": "code",
   "execution_count": null,
   "metadata": {},
   "outputs": [],
   "source": [
    "A_Dc = A_D[A_D.columns[np.sum(A_D.loc[[\"PIK3CA\"],:])>0]]\n",
    "# sns.clustermap(S_Dc.loc[S_Ai.index, S_Dc.columns & A_Dc.columns])\n",
    "S_Ai = pd.read_csv(\"EM/Output/S_Ao_sb1/S_P_BRCA.csv\", index_col=0, header=0)\n",
    "\n",
    "from sklearn.manifold import TSNE\n",
    "X = S_D.loc[S_Ai.index, S_D.columns & A_Dc.columns]\n",
    "X_embedded = TSNE(n_components=2).fit_transform(X)\n",
    "sns.scatterplot(data=X_embedded)"
   ]
  }
 ],
 "metadata": {
  "kernelspec": {
   "display_name": "Python 3",
   "language": "python",
   "name": "python3"
  },
  "language_info": {
   "codemirror_mode": {
    "name": "ipython",
    "version": 3
   },
   "file_extension": ".py",
   "mimetype": "text/x-python",
   "name": "python",
   "nbconvert_exporter": "python",
   "pygments_lexer": "ipython3",
   "version": "3.7.7"
  },
  "toc": {
   "base_numbering": 1,
   "nav_menu": {},
   "number_sections": true,
   "sideBar": true,
   "skip_h1_title": false,
   "title_cell": "Table of Contents",
   "title_sidebar": "Contents",
   "toc_cell": false,
   "toc_position": {},
   "toc_section_display": true,
   "toc_window_display": false
  },
  "toc-autonumbering": true,
  "toc-showmarkdowntxt": false,
  "toc-showtags": false,
  "varInspector": {
   "cols": {
    "lenName": 16,
    "lenType": 16,
    "lenVar": 40
   },
   "kernels_config": {
    "python": {
     "delete_cmd_postfix": "",
     "delete_cmd_prefix": "del ",
     "library": "var_list.py",
     "varRefreshCmd": "print(var_dic_list())"
    },
    "r": {
     "delete_cmd_postfix": ") ",
     "delete_cmd_prefix": "rm(",
     "library": "var_list.r",
     "varRefreshCmd": "cat(var_dic_list()) "
    }
   },
   "types_to_exclude": [
    "module",
    "function",
    "builtin_function_or_method",
    "instance",
    "_Feature"
   ],
   "window_display": false
  }
 },
 "nbformat": 4,
 "nbformat_minor": 4
}
