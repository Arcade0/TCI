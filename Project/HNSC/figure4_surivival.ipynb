{
 "cells": [
  {
   "cell_type": "markdown",
   "metadata": {
    "Collapsed": "false"
   },
   "source": [
    "# Import Packages"
   ]
  },
  {
   "cell_type": "code",
   "execution_count": 1,
   "metadata": {
    "Collapsed": "false",
    "collapsed": true,
    "jupyter": {
     "outputs_hidden": true
    }
   },
   "outputs": [
    {
     "name": "stderr",
     "output_type": "stream",
     "text": [
      "/Users/xinzhuo/anaconda3/lib/python3.7/site-packages/sklearn/utils/deprecation.py:144: FutureWarning: The sklearn.datasets.samples_generator module is  deprecated in version 0.22 and will be removed in version 0.24. The corresponding classes / functions should instead be imported from sklearn.datasets. Anything that cannot be imported from sklearn.datasets is now part of the private API.\n",
      "  warnings.warn(message, FutureWarning)\n",
      "/Users/xinzhuo/anaconda3/lib/python3.7/site-packages/sklearn/utils/deprecation.py:144: FutureWarning: The sklearn.cluster.bicluster module is  deprecated in version 0.22 and will be removed in version 0.24. The corresponding classes / functions should instead be imported from sklearn.cluster. Anything that cannot be imported from sklearn.cluster is now part of the private API.\n",
      "  warnings.warn(message, FutureWarning)\n"
     ]
    }
   ],
   "source": [
    "import numpy as np\n",
    "import pandas as pd\n",
    "import os\n",
    "import seaborn as sns\n",
    "import matplotlib as mpl\n",
    "from matplotlib import pyplot as plt\n",
    "# from node import node\n",
    "from copy import deepcopy\n",
    "from sklearn.datasets import make_checkerboard\n",
    "from sklearn.datasets import samples_generator as sg\n",
    "from sklearn.cluster.bicluster import SpectralBiclustering\n",
    "from sklearn.cluster.bicluster import SpectralCoclustering\n",
    "from sklearn.metrics import consensus_score\n",
    "from lifelines import KaplanMeierFitter\n",
    "from lifelines.statistics import logrank_test, pairwise_logrank_test, multivariate_logrank_test\n",
    "from scipy.cluster import hierarchy"
   ]
  },
  {
   "cell_type": "markdown",
   "metadata": {
    "Collapsed": "false"
   },
   "source": [
    "# Read Globle Data"
   ]
  },
  {
   "cell_type": "code",
   "execution_count": 2,
   "metadata": {
    "Collapsed": "false"
   },
   "outputs": [],
   "source": [
    "S_A = pd.read_csv('EM/Input/S_A.csv', index_col=0, header=0)\n",
    "S_D = pd.read_csv('EM/Input/S_D.csv', index_col=0, header=0)\n",
    "A_Df10 = pd.read_csv('EM/Input/A_Df/A_Df10.csv', index_col=0, header=0)\n",
    "A_D = pd.read_csv('EM/Input/A_Do.csv', index_col=0, header=0)"
   ]
  },
  {
   "cell_type": "code",
   "execution_count": 5,
   "metadata": {
    "Collapsed": "false"
   },
   "outputs": [],
   "source": [
    "S_Dc = pd.read_csv(\"Pre_TCGAinfo/Input/PanCancer13tts.DEGmatrix.4TCI.csv\", header=0, index_col=0)"
   ]
  },
  {
   "cell_type": "markdown",
   "metadata": {
    "Collapsed": "false"
   },
   "source": [
    "# Extract Structure"
   ]
  },
  {
   "cell_type": "markdown",
   "metadata": {
    "Collapsed": "false"
   },
   "source": [
    "## HNSC"
   ]
  },
  {
   "cell_type": "code",
   "execution_count": 2,
   "metadata": {
    "Collapsed": "false"
   },
   "outputs": [],
   "source": [
    "# HNSC\n",
    "# HNSC TCI MUT\n",
    "S_Ai = pd.read_csv(\"chunhui/Output/HNSC/S_Ai_clu.csv\", header=0, index_col=0)\n",
    "S_Ai.index = [ele[0:12] for ele in S_Ai.index]\n",
    "S_Ai_f = ['TCGA-CV-5430','TCGA-CQ-5327', 'TCGA-CN-6010']\n",
    "\n",
    "S_Mi = pd.read_csv(\"chunhui/Input/HNSC/TCGA/S_Mi.csv\", header=0, index_col=0)\n",
    "S_Mi.index = [ele[0:12] for ele in S_Mi.index]\n",
    "\n",
    "# add empty row and column\n",
    "add_l = [idx for idx in S_Ai.index if idx not in S_Mi.index]\n",
    "for ele in add_l:\n",
    "    S_Mi.loc[ele,:] = 0\n",
    "add_l = [idx for idx in S_Ai.columns if idx not in S_Mi.columns]\n",
    "for ele in add_l:\n",
    "    S_Mi.loc[:,ele] = 0\n",
    "\n",
    "S_At = pd.read_csv(\"chunhui/Output/HNSC/S_A_clu.csv\", header=0, index_col=0)\n",
    "S_At_f = [\"TCGA-WA-A7GZ\", \"TCGA-WA-A7GZ\", \"TCGA-WA-A7GZ\"]\n",
    "\n",
    "S_Mt = pd.read_csv(\"chunhui/Input/HNSC/TCGA/HNSC_mc3_gene_level.txt\" ,sep='\\t', index_col=0).T\n",
    "S_Mt.index = [ele[0:12] for ele in S_Mt.index]\n",
    "S_Mt = S_Mt.loc[S_Mt.index & S_At.index, S_Mt.columns & S_At.columns]\n",
    "\n",
    "S_Mt = pd.read_csv(\"chunhui/Input/HNSC/TCGA/HNSC_mc3_gene_level.txt\" ,sep='\\t', index_col=0).T\n",
    "S_Mt.index = [ele[0:12] for ele in S_Mt.index]\n",
    "S_Mt = S_Mt.loc[S_Mt.index & S_At.index, S_Mt.columns & S_At.columns]\n",
    "\n",
    "# add empty row and column\n",
    "add_l = [idx for idx in S_At.columns if idx not in S_Mt.columns]\n",
    "for ele in add_l:\n",
    "    S_Mt.loc[:,ele] = 0\n",
    "\n",
    "add_l = [idx for idx in S_At.index if idx not in S_Mt.index]\n",
    "for ele in add_l:\n",
    "    S_Mt.loc[ele,:] = 0\n",
    "\n",
    "# HNSC TCI PRO\n",
    "S_Pci = pd.read_csv(\"chunhui/Output/HNSC/S_Pci_clu.csv\", header=0, index_col=0)\n",
    "S_Pci.index = [ele[0:12] for ele in S_Pci.index]\n",
    "S_Pci_f = [\"TCGA-CR-7370\", \"TCGA-CV-5441\", \"TCGA-CV-A45O\"]  # ct PRO\n",
    "\n",
    "# HNSC TCI DEG\n",
    "S_Dci = pd.read_csv(\"chunhui/Output/HNSC/S_Dci_clu.csv\", header=0, index_col=0)\n",
    "S_Dci.index = [ele[0:12] for ele in S_Dci.index]\n",
    "S_Dci_f = [\"TCGA-CV-7253\",\"TCGA-P3-A6T3\", \"TCGA-TN-A7HJ\"] # ct DEG\n",
    "\n",
    "# All DEG\n",
    "S_Dct = pd.read_csv(\"chunhui/Output/HNSC/S_Dct_clu.csv\", header=0, index_col=0)\n",
    "S_Dct.index = [ele[0:12] for ele in S_Dct.index]\n",
    "S_Dct_f = [\"TCGA-F7-7848\", \"TCGA-CV-7180\", \"TCGA-F7-A623\"]"
   ]
  },
  {
   "cell_type": "code",
   "execution_count": 3,
   "metadata": {
    "Collapsed": "false"
   },
   "outputs": [],
   "source": [
    "# Survival Data\n",
    "sur_df = pd.read_table(\"chunhui/Input/HNSC/HNSC_survival.txt\", sep=\"\\t\", index_col=1)\n",
    "par = \"OS\"\n",
    "sur_dfs = sur_df[[\"%s.time\" % par, par]].dropna(axis=0, how=\"any\")"
   ]
  },
  {
   "cell_type": "code",
   "execution_count": 125,
   "metadata": {
    "Collapsed": "false"
   },
   "outputs": [],
   "source": [
    "# Paper\n",
    "subtype = pd.read_csv(\"PORT/7.2.csv\", index_col=0, header=0)\n",
    "subtype.index = [ele.replace(\".\", \"-\") for ele in subtype.index]"
   ]
  },
  {
   "cell_type": "markdown",
   "metadata": {
    "Collapsed": "false",
    "toc-hr-collapsed": true,
    "toc-nb-collapsed": true
   },
   "source": [
    "## LUAD"
   ]
  },
  {
   "cell_type": "code",
   "execution_count": 71,
   "metadata": {
    "Collapsed": "false"
   },
   "outputs": [],
   "source": [
    "# LUAD TCI MUT\n",
    "S_Ai = pd.read_csv(\"chunhui/Output/LUAD/S_Ai_clu.csv\", header=0, index_col=0)\n",
    "S_Ai.index = [ele[0:12] for ele in S_Ai.index]\n",
    "S_Ai_f = [\"TCGA-J2-A4AG\", \"TCGA-69-7760\", \"TCGA-44-6148\" ]\n",
    "\n",
    "# LUAD TCI DEG\n",
    "S_Di = pd.read_csv(\"chunhui/Output/LUAD/S_Di_clu.csv\", header=0, index_col=0)\n",
    "S_Di.index = [ele[0:12] for ele in S_Di.index]\n",
    "S_Di_f = [\"TCGA-35-5375\", \"TCGA-44-7661\", \"TCGA-55-7815\"] # disc DEG\n",
    "\n",
    "S_Dci = pd.read_csv(\"chunhui/Output/LUAD/S_Dci_clu.csv\", header=0, index_col=0)\n",
    "S_Dci.index = [ele[0:12] for ele in S_Dci.index]\n",
    "S_Dci_f = [\"TCGA-49-4486\", \"TCGA-MP-A4T6\", \"TCGA-55-7995\"]  # ct DEG\n",
    "\n",
    "# All DEG\n",
    "# S_Dai = pd.read_csv(\"chunhui/Output/LUAD/S_Dai_clu.csv\", header=0, index_col=0)\n",
    "# S_Dai.index = [ele[0:12] for ele in S_Dai.index]\n",
    "# S_Dai_f = [\"TCGA-QK-A6V9\", \"TCGA-CN-5358\", \"TCGA-CV-7248\"]\n",
    "\n",
    "# S_Dcai = pd.read_csv(\"chunhui/Output/LUAD/S_Dcai_clu.csv\", header=0, index_col=0)\n",
    "# S_Dcai.index = [ele[0:12] for ele in S_Dcai.index]\n",
    "# S_Dcai_f = [\"TCGA-CV-A6JT\", \"TCGA-KUA6-H8\", \"TCGA-CN-A6V3\"]\n",
    "\n",
    "# LUAD TCI PRO\n",
    "S_Pi = pd.read_csv(\"chunhui/Output/LUAD/S_Pi_clu.csv\", header=0, index_col=0)\n",
    "S_Pi.index = [ele[0:12] for ele in S_Pi.index]\n",
    "S_Pi_f = [\"TCGA-91-6828\", \"TCGA-50-5933\", \"TCGA-55-7815\"] # disc PRO\n",
    "\n",
    "S_Pci = pd.read_csv(\"chunhui/Output/LUAD/S_Pci_clu.csv\", header=0, index_col=0)\n",
    "S_Pci.index = [ele[0:12] for ele in S_Pci.index]\n",
    "S_Pci_f = [\"TCGA-86-8359\", \"TCGA-73-7499\", \"TCGA-55-7994\"]  # ct PRO"
   ]
  },
  {
   "cell_type": "code",
   "execution_count": 21,
   "metadata": {
    "Collapsed": "false"
   },
   "outputs": [],
   "source": [
    "# Survival Data\n",
    "sur_df = pd.read_table(\"chunhui/Input/LUAD/LUAD_survival.txt\", sep=\"\\t\", index_col=1)\n",
    "par = \"OS\"\n",
    "sur_dfs = sur_df[[\"%s.time\" % par, par]].dropna(axis=0, how=\"any\")"
   ]
  },
  {
   "cell_type": "code",
   "execution_count": 11,
   "metadata": {
    "Collapsed": "false"
   },
   "outputs": [
    {
     "data": {
      "text/plain": [
       "232"
      ]
     },
     "execution_count": 11,
     "metadata": {},
     "output_type": "execute_result"
    }
   ],
   "source": [
    "np.sum(sur_df[\"PFI\"])"
   ]
  },
  {
   "cell_type": "markdown",
   "metadata": {
    "Collapsed": "false",
    "toc-hr-collapsed": true,
    "toc-nb-collapsed": true
   },
   "source": [
    "## BRCA"
   ]
  },
  {
   "cell_type": "code",
   "execution_count": 53,
   "metadata": {
    "Collapsed": "false"
   },
   "outputs": [],
   "source": [
    "BRCA_sub = pd.read_csv(\"chunhui/Input/BRCA/Subtype_BRCA.csv\", index_col=0, header=0)\n",
    "sb_l = [0, \"Basal\", \"Her2\", \"LumA\", \"LumB\", \"Normal\"]\n",
    "\n",
    "# BRCA PRO\n",
    "S_Pi = pd.read_csv(\"chunhui/Output/BRCA/S_Ps_BRCA_ct.csv\", index_col=0, header=0).loc[BRCA_sub.index]\n",
    "S_Pi_f = [\"TCGA-AQ-A04J\", \"TCGA-AC-A62X\", \"TCGA-A2-A1FX\", \"TCGA-A8-A07L\"] \n",
    "\n",
    "# # BRCA DEG\n",
    "# S_Dci = S_Dc.loc[BRCA_sub.index, A_D.columns & S_Dc.columns]\n",
    "# S_Dci_f = [\"TCGA-A7-A3J0\", \"TCGA-A2-A0CO\", \"TCGA-AC-A3W7\", \"TCGA-D8-A1XL\"] \n",
    "\n",
    "# Survival Data\n",
    "sur_df = pd.read_table(\"chunhui/Input/BRCA/BRCA_survival.txt\", sep=\"\\t\", index_col=1)\n",
    "par = \"OS\"\n",
    "sur_dfs = sur_df[[\"%s.time\" % par, par]].dropna(axis=0, how=\"any\")"
   ]
  },
  {
   "cell_type": "markdown",
   "metadata": {
    "Collapsed": "false",
    "toc-hr-collapsed": true,
    "toc-nb-collapsed": true
   },
   "source": [
    "# Suboverlapping"
   ]
  },
  {
   "cell_type": "code",
   "execution_count": 97,
   "metadata": {
    "Collapsed": "false",
    "collapsed": true,
    "jupyter": {
     "outputs_hidden": true
    }
   },
   "outputs": [
    {
     "name": "stdout",
     "output_type": "stream",
     "text": [
      "[0, 120, 192, 324, 488]\n"
     ]
    },
    {
     "data": {
      "text/html": [
       "<div>\n",
       "<style scoped>\n",
       "    .dataframe tbody tr th:only-of-type {\n",
       "        vertical-align: middle;\n",
       "    }\n",
       "\n",
       "    .dataframe tbody tr th {\n",
       "        vertical-align: top;\n",
       "    }\n",
       "\n",
       "    .dataframe thead th {\n",
       "        text-align: right;\n",
       "    }\n",
       "</style>\n",
       "<table border=\"1\" class=\"dataframe\">\n",
       "  <thead>\n",
       "    <tr style=\"text-align: right;\">\n",
       "      <th></th>\n",
       "      <th>0</th>\n",
       "      <th>1</th>\n",
       "      <th>2</th>\n",
       "      <th>3</th>\n",
       "    </tr>\n",
       "  </thead>\n",
       "  <tbody>\n",
       "    <tr>\n",
       "      <th>0</th>\n",
       "      <td>22</td>\n",
       "      <td>59</td>\n",
       "      <td>6</td>\n",
       "      <td>4</td>\n",
       "    </tr>\n",
       "    <tr>\n",
       "      <th>1</th>\n",
       "      <td>66</td>\n",
       "      <td>12</td>\n",
       "      <td>5</td>\n",
       "      <td>34</td>\n",
       "    </tr>\n",
       "    <tr>\n",
       "      <th>2</th>\n",
       "      <td>19</td>\n",
       "      <td>0</td>\n",
       "      <td>101</td>\n",
       "      <td>36</td>\n",
       "    </tr>\n",
       "    <tr>\n",
       "      <th>3</th>\n",
       "      <td>13</td>\n",
       "      <td>1</td>\n",
       "      <td>20</td>\n",
       "      <td>90</td>\n",
       "    </tr>\n",
       "  </tbody>\n",
       "</table>\n",
       "</div>"
      ],
      "text/plain": [
       "    0   1    2   3\n",
       "0  22  59    6   4\n",
       "1  66  12    5  34\n",
       "2  19   0  101  36\n",
       "3  13   1   20  90"
      ]
     },
     "execution_count": 97,
     "metadata": {},
     "output_type": "execute_result"
    }
   ],
   "source": [
    "df = S_Dci\n",
    "fen_l = S_Dci_f\n",
    "idx_l = list(df.index)\n",
    "id_l = [idx_l.index(ele) for ele in fen_l]\n",
    "id_l.insert(0, 0)\n",
    "id_l.insert(len(id_l), df.shape[0])\n",
    "deg_l = [idx_l[id_l[i]: id_l[i+1]] for i in range(len(id_l)-1)]\n",
    "\n",
    "# Find overlap between samples\n",
    "df = S_Pci\n",
    "fen_l = S_Pci_f\n",
    "idx_l = list(df.index)\n",
    "id_l = [idx_l.index(ele) for ele in fen_l]\n",
    "id_l.insert(0, 0)\n",
    "id_l.insert(len(id_l), df.shape[0])\n",
    "print(id_l)\n",
    "sga_l = [idx_l[id_l[i]: id_l[i+1]] for i in range(len(id_l)-1)]\n",
    "\n",
    "ovl_l = [[len(set(sga) & set(deg)) for sga in sga_l] for deg in deg_l]\n",
    "pd.DataFrame(ovl_l)"
   ]
  },
  {
   "cell_type": "markdown",
   "metadata": {
    "Collapsed": "false"
   },
   "source": [
    "# Plot Sur"
   ]
  },
  {
   "cell_type": "code",
   "execution_count": 22,
   "metadata": {
    "Collapsed": "false"
   },
   "outputs": [
    {
     "name": "stdout",
     "output_type": "stream",
     "text": [
      "[0, 110, 224, 474, 494]\n"
     ]
    },
    {
     "name": "stderr",
     "output_type": "stream",
     "text": [
      "/Users/xinzhuo/anaconda3/lib/python3.7/site-packages/lifelines/fitters/kaplan_meier_fitter.py:265: FutureWarning: Support for multi-dimensional indexing (e.g. `obj[:, None]`) is deprecated and will be removed in a future version.  Convert to a numpy array before indexing instead.\n",
      "  self.confidence_interval_ = self._bounds(cumulative_sq_[:, None], alpha, ci_labels)\n",
      "/Users/xinzhuo/anaconda3/lib/python3.7/site-packages/lifelines/fitters/kaplan_meier_fitter.py:265: FutureWarning: Support for multi-dimensional indexing (e.g. `obj[:, None]`) is deprecated and will be removed in a future version.  Convert to a numpy array before indexing instead.\n",
      "  self.confidence_interval_ = self._bounds(cumulative_sq_[:, None], alpha, ci_labels)\n",
      "/Users/xinzhuo/anaconda3/lib/python3.7/site-packages/lifelines/fitters/kaplan_meier_fitter.py:265: FutureWarning: Support for multi-dimensional indexing (e.g. `obj[:, None]`) is deprecated and will be removed in a future version.  Convert to a numpy array before indexing instead.\n",
      "  self.confidence_interval_ = self._bounds(cumulative_sq_[:, None], alpha, ci_labels)\n",
      "/Users/xinzhuo/anaconda3/lib/python3.7/site-packages/lifelines/fitters/kaplan_meier_fitter.py:265: FutureWarning: Support for multi-dimensional indexing (e.g. `obj[:, None]`) is deprecated and will be removed in a future version.  Convert to a numpy array before indexing instead.\n",
      "  self.confidence_interval_ = self._bounds(cumulative_sq_[:, None], alpha, ci_labels)\n"
     ]
    },
    {
     "name": "stdout",
     "output_type": "stream",
     "text": [
      "[0, 120, 195, 325, 488]\n"
     ]
    },
    {
     "name": "stderr",
     "output_type": "stream",
     "text": [
      "/Users/xinzhuo/anaconda3/lib/python3.7/site-packages/lifelines/fitters/kaplan_meier_fitter.py:265: FutureWarning: Support for multi-dimensional indexing (e.g. `obj[:, None]`) is deprecated and will be removed in a future version.  Convert to a numpy array before indexing instead.\n",
      "  self.confidence_interval_ = self._bounds(cumulative_sq_[:, None], alpha, ci_labels)\n",
      "/Users/xinzhuo/anaconda3/lib/python3.7/site-packages/lifelines/fitters/kaplan_meier_fitter.py:265: FutureWarning: Support for multi-dimensional indexing (e.g. `obj[:, None]`) is deprecated and will be removed in a future version.  Convert to a numpy array before indexing instead.\n",
      "  self.confidence_interval_ = self._bounds(cumulative_sq_[:, None], alpha, ci_labels)\n",
      "/Users/xinzhuo/anaconda3/lib/python3.7/site-packages/lifelines/fitters/kaplan_meier_fitter.py:265: FutureWarning: Support for multi-dimensional indexing (e.g. `obj[:, None]`) is deprecated and will be removed in a future version.  Convert to a numpy array before indexing instead.\n",
      "  self.confidence_interval_ = self._bounds(cumulative_sq_[:, None], alpha, ci_labels)\n",
      "/Users/xinzhuo/anaconda3/lib/python3.7/site-packages/lifelines/fitters/kaplan_meier_fitter.py:265: FutureWarning: Support for multi-dimensional indexing (e.g. `obj[:, None]`) is deprecated and will be removed in a future version.  Convert to a numpy array before indexing instead.\n",
      "  self.confidence_interval_ = self._bounds(cumulative_sq_[:, None], alpha, ci_labels)\n"
     ]
    },
    {
     "name": "stdout",
     "output_type": "stream",
     "text": [
      "[0, 91, 208, 364, 488]\n"
     ]
    },
    {
     "name": "stderr",
     "output_type": "stream",
     "text": [
      "/Users/xinzhuo/anaconda3/lib/python3.7/site-packages/lifelines/fitters/kaplan_meier_fitter.py:265: FutureWarning: Support for multi-dimensional indexing (e.g. `obj[:, None]`) is deprecated and will be removed in a future version.  Convert to a numpy array before indexing instead.\n",
      "  self.confidence_interval_ = self._bounds(cumulative_sq_[:, None], alpha, ci_labels)\n",
      "/Users/xinzhuo/anaconda3/lib/python3.7/site-packages/lifelines/fitters/kaplan_meier_fitter.py:265: FutureWarning: Support for multi-dimensional indexing (e.g. `obj[:, None]`) is deprecated and will be removed in a future version.  Convert to a numpy array before indexing instead.\n",
      "  self.confidence_interval_ = self._bounds(cumulative_sq_[:, None], alpha, ci_labels)\n",
      "/Users/xinzhuo/anaconda3/lib/python3.7/site-packages/lifelines/fitters/kaplan_meier_fitter.py:265: FutureWarning: Support for multi-dimensional indexing (e.g. `obj[:, None]`) is deprecated and will be removed in a future version.  Convert to a numpy array before indexing instead.\n",
      "  self.confidence_interval_ = self._bounds(cumulative_sq_[:, None], alpha, ci_labels)\n",
      "/Users/xinzhuo/anaconda3/lib/python3.7/site-packages/lifelines/fitters/kaplan_meier_fitter.py:265: FutureWarning: Support for multi-dimensional indexing (e.g. `obj[:, None]`) is deprecated and will be removed in a future version.  Convert to a numpy array before indexing instead.\n",
      "  self.confidence_interval_ = self._bounds(cumulative_sq_[:, None], alpha, ci_labels)\n"
     ]
    },
    {
     "name": "stdout",
     "output_type": "stream",
     "text": [
      "[0, 168, 300, 432, 488]\n"
     ]
    },
    {
     "name": "stderr",
     "output_type": "stream",
     "text": [
      "/Users/xinzhuo/anaconda3/lib/python3.7/site-packages/lifelines/fitters/kaplan_meier_fitter.py:265: FutureWarning: Support for multi-dimensional indexing (e.g. `obj[:, None]`) is deprecated and will be removed in a future version.  Convert to a numpy array before indexing instead.\n",
      "  self.confidence_interval_ = self._bounds(cumulative_sq_[:, None], alpha, ci_labels)\n",
      "/Users/xinzhuo/anaconda3/lib/python3.7/site-packages/lifelines/fitters/kaplan_meier_fitter.py:265: FutureWarning: Support for multi-dimensional indexing (e.g. `obj[:, None]`) is deprecated and will be removed in a future version.  Convert to a numpy array before indexing instead.\n",
      "  self.confidence_interval_ = self._bounds(cumulative_sq_[:, None], alpha, ci_labels)\n",
      "/Users/xinzhuo/anaconda3/lib/python3.7/site-packages/lifelines/fitters/kaplan_meier_fitter.py:265: FutureWarning: Support for multi-dimensional indexing (e.g. `obj[:, None]`) is deprecated and will be removed in a future version.  Convert to a numpy array before indexing instead.\n",
      "  self.confidence_interval_ = self._bounds(cumulative_sq_[:, None], alpha, ci_labels)\n",
      "/Users/xinzhuo/anaconda3/lib/python3.7/site-packages/lifelines/fitters/kaplan_meier_fitter.py:265: FutureWarning: Support for multi-dimensional indexing (e.g. `obj[:, None]`) is deprecated and will be removed in a future version.  Convert to a numpy array before indexing instead.\n",
      "  self.confidence_interval_ = self._bounds(cumulative_sq_[:, None], alpha, ci_labels)\n"
     ]
    },
    {
     "data": {
      "image/png": "[encoded data removed]",
      "text/plain": [
       "<Figure size 360x504 with 1 Axes>"
      ]
     },
     "metadata": {
      "needs_background": "light"
     },
     "output_type": "display_data"
    },
    {
     "data": {
      "image/png": "[encoded data removed]",
      "text/plain": [
       "<Figure size 360x504 with 1 Axes>"
      ]
     },
     "metadata": {
      "needs_background": "light"
     },
     "output_type": "display_data"
    },
    {
     "data": {
      "image/png": "[encoded data removed]",
      "text/plain": [
       "<Figure size 360x504 with 1 Axes>"
      ]
     },
     "metadata": {
      "needs_background": "light"
     },
     "output_type": "display_data"
    },
    {
     "data": {
      "image/png": "[encoded data removed]",
      "text/plain": [
       "<Figure size 360x504 with 1 Axes>"
      ]
     },
     "metadata": {
      "needs_background": "light"
     },
     "output_type": "display_data"
    }
   ],
   "source": [
    "lis = {\"S_Ai\": [S_Ai, \"SGA\"], \"S_Pci\": [S_Pci, \"PRO\"],  \"S_Dci\":[S_Dci, \"DEG\"], \"S_Dct\":[S_Dct, \"DEG\"]}\n",
    "\n",
    "for ele in lis.keys():\n",
    "    \n",
    "    df = lis[ele][0]\n",
    "    fen_l = locals()[ele + \"_f\"]\n",
    "    dfs = sur_dfs\n",
    "\n",
    "    # # hierarchy\n",
    "    # fig = plt.figure()\n",
    "    # ax1 = fig.add_subplot(111) \n",
    "\n",
    "    # g = sns.clustermap(df, cmap=\"vlag\", center=0)\n",
    "    # Z = g.dendrogram_row.linkage\n",
    "    # # Z = hierarchy.linkage(df)\n",
    "\n",
    "    # hierarchy.set_link_color_palette(['blue', 'red', 'yellow', 'green', 'pink'])\n",
    "    # dn1 = hierarchy.dendrogram(Z, ax=ax1, color_threshold=2.5, orientation='top')\n",
    "\n",
    "    # hierarchy.set_link_color_palette(None)  # reset to default after use\n",
    "    # plt.show()\n",
    "\n",
    "    idx_l = list(df.index)\n",
    "    id_l = [idx_l.index(ele) for ele in fen_l]\n",
    "    id_l.insert(0, 0)\n",
    "    id_l.insert(len(id_l), df.shape[0])\n",
    "    print(id_l)\n",
    "\n",
    "    # Surivival Plot\n",
    "    fig = plt.figure(figsize=(5,7))\n",
    "    ax1 = fig.add_subplot(111) \n",
    "\n",
    "    km = KaplanMeierFitter()\n",
    "    \n",
    "    s_l = []\n",
    "    t_l = []\n",
    "    g_l = []\n",
    "    e_l = []\n",
    "    # manually\n",
    "    for i in range(len(id_l)-1):\n",
    "        ele_ls = idx_l[id_l[i]: id_l[i+1]]\n",
    "    # hierarchy\n",
    "    # for ele in ['blue', 'red', 'yellow', 'green', 'pink']:\n",
    "    #     ele_l = [dn1['leaves'][i] for i in range(len(dn1['color_list'])) if dn1['color_list'][i]==ele]\n",
    "    #     ele_ls = df.index[ele_l]\n",
    "\n",
    "        df_m = dfs.loc[set(ele_ls) & set(dfs.index)]\n",
    "        df_m = df_m.drop_duplicates(subset=None, keep='first', inplace=False)\n",
    "\n",
    "        i = str(i)\n",
    "        locals()[\"T_\" + i] = df_m['%s.time' % par] #/ 365\n",
    "        locals()[\"E_\" + i] = df_m[par]\n",
    "        s_l.extend(df_m.index)\n",
    "        t_l.extend(locals()[\"T_\" + i])\n",
    "        g_l.extend([\"%s_subtype_%s\" % (lis[ele][1], i)]*locals()[\"T_\" + i].shape[0])\n",
    "        e_l.extend(locals()[\"E_\" + i])\n",
    "        km.fit(locals()[\"T_\" + i], event_observed=locals()[\"E_\" + i], label=\"%s_subtype_%s\" % (lis[ele][1], i))\n",
    "        km.survival_function_.plot(ax=ax1)\n",
    "\n",
    "    ax1.set_xlabel(\"Days\")\n",
    "    ax1.set_xlim([0,2500])\n",
    "    \n",
    "    lr = pairwise_logrank_test(t_l, g_l, e_l)\n",
    "\n",
    "    test = pd.DataFrame([t_l, g_l, e_l ], index=[\"Days\", \"Groups\", \"Events\"], columns=s_l).T\n",
    "    \n",
    "#     print(test.shape)\n",
    "    test.to_csv(\"chunhui/Output/HNSC/%s_HNSC_Sur.csv\" % ele, index=True, header=True)\n",
    "    plt.savefig(\"HNSC_plot/%s_subtype.png\" % ele, dpi=600)"
   ]
  },
  {
   "cell_type": "code",
   "execution_count": null,
   "metadata": {
    "Collapsed": "false"
   },
   "outputs": [],
   "source": []
  }
 ],
 "metadata": {
  "kernelspec": {
   "display_name": "Python 3",
   "language": "python",
   "name": "python3"
  },
  "language_info": {
   "codemirror_mode": {
    "name": "ipython",
    "version": 3
   },
   "file_extension": ".py",
   "mimetype": "text/x-python",
   "name": "python",
   "nbconvert_exporter": "python",
   "pygments_lexer": "ipython3",
   "version": "3.7.7"
  },
  "toc-autonumbering": true
 },
 "nbformat": 4,
 "nbformat_minor": 4
}
