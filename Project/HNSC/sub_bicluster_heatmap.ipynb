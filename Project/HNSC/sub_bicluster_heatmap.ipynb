{
 "cells": [
  {
   "cell_type": "markdown",
   "source": [
    "# Import Pack"
   ],
   "metadata": {}
  },
  {
   "cell_type": "code",
   "execution_count": 1,
   "source": [
    "import numpy as np\n",
    "import pandas as pd\n",
    "import os\n",
    "import seaborn as sns\n",
    "import matplotlib as mpl\n",
    "from matplotlib import pyplot as plt\n",
    "# from node import node\n",
    "from copy import deepcopy\n",
    "from sklearn.datasets import make_checkerboard\n",
    "from sklearn.datasets import samples_generator as sg\n",
    "from sklearn.cluster.bicluster import SpectralBiclustering\n",
    "from sklearn.cluster.bicluster import SpectralCoclustering\n",
    "from sklearn.metrics import consensus_score\n",
    "from lifelines import KaplanMeierFitter\n",
    "from lifelines.statistics import logrank_test, multivariate_logrank_test\n",
    "from scipy.cluster import hierarchy\n",
    "from scipy import stats"
   ],
   "outputs": [
    {
     "output_type": "stream",
     "name": "stderr",
     "text": [
      "/Users/xinzhuo/anaconda3/lib/python3.7/site-packages/sklearn/utils/deprecation.py:144: FutureWarning: The sklearn.datasets.samples_generator module is  deprecated in version 0.22 and will be removed in version 0.24. The corresponding classes / functions should instead be imported from sklearn.datasets. Anything that cannot be imported from sklearn.datasets is now part of the private API.\n",
      "  warnings.warn(message, FutureWarning)\n",
      "/Users/xinzhuo/anaconda3/lib/python3.7/site-packages/sklearn/utils/deprecation.py:144: FutureWarning: The sklearn.cluster.bicluster module is  deprecated in version 0.22 and will be removed in version 0.24. The corresponding classes / functions should instead be imported from sklearn.cluster. Anything that cannot be imported from sklearn.cluster is now part of the private API.\n",
      "  warnings.warn(message, FutureWarning)\n"
     ]
    }
   ],
   "metadata": {
    "ExecuteTime": {
     "end_time": "2019-10-31T13:10:10.581345Z",
     "start_time": "2019-10-31T13:10:09.428094Z"
    }
   }
  },
  {
   "cell_type": "markdown",
   "source": [
    "# Read Data"
   ],
   "metadata": {}
  },
  {
   "cell_type": "code",
   "execution_count": 2,
   "source": [
    "# Pan Can\n",
    "S_Dc = pd.read_csv(\"../TCI/EM/Input/TCGA expression.csv\",\n",
    "                   index_col=0,\n",
    "                   header=0)\n",
    "\n",
    "S_D = pd.read_csv('../TCI/TCGA_info/Input/PanCancer13tts.DEGmatrix.4TCI.csv',\n",
    "                  index_col=0,\n",
    "                  header=0)\n",
    "\n",
    "S_A = pd.read_csv('../TCI/TCGA_info/Input/PanCancer13tts.SGAmatrix.4TCI.csv',\n",
    "                  index_col=0,\n",
    "                  header=0)\n",
    "\n",
    "A_Do = pd.read_csv(\"../TCI/EM/A_Do.csv\", index_col=0, header=0)"
   ],
   "outputs": [],
   "metadata": {
    "ExecuteTime": {
     "end_time": "2019-10-31T13:10:24.652835Z",
     "start_time": "2019-10-31T13:10:10.592838Z"
    }
   }
  },
  {
   "cell_type": "code",
   "execution_count": null,
   "source": [
    "fd = [\r\n",
    "    'PTEN', 'PIK3CA', 'RB1', 'CCNE1', 'TP53', 'ATM', 'KRAS', 'NF1', 'SMARCA4',\r\n",
    "    'CREBBP', 'ARID1A', 'FBXW7', 'PIK3R1', 'FAT1', 'APC', 'MTOR', 'SETD2',\r\n",
    "    'EGFR', 'VHL', 'CDK4', 'NOTCH1', 'BRAF', 'E2F3'\r\n",
    "]\r\n",
    "print(np.mean(np.mean(S_Ad[\"TP53\"])))\r\n",
    "print(np.mean(np.mean(S_A[\"TP53\"])))"
   ],
   "outputs": [],
   "metadata": {}
  },
  {
   "cell_type": "code",
   "execution_count": null,
   "source": [
    "# LUAD\r\n",
    "S_Ai = pd.read_csv(\"chunhui/Input/LUAD/SGAmatrix.LUAD.csv\",\r\n",
    "                   header=0,\r\n",
    "                   index_col=0)\r\n",
    "S_Ai.index = [ele[0:12] for ele in S_Ai.index if len(ele) > 12]\r\n",
    "\r\n",
    "S_Di = pd.read_csv(\"chunhui/Input/LUAD/DEGmatrix.LUAD.csv\",\r\n",
    "                   header=0,\r\n",
    "                   index_col=0)\r\n",
    "S_Di.index = [ele[0:12] for ele in S_Di.index if len(ele) > 12]\r\n",
    "S_Dai = S_D.loc[S_Di.index & S_D.index, A_D.columns & S_D.columns]\r\n",
    "S_Pi = pd.read_csv(\"chunhui/Input/LUAD/PROmatrix.LUAD.csv\",\r\n",
    "                   header=0,\r\n",
    "                   index_col=0)\r\n",
    "\r\n",
    "S_Dci = S_Dc.loc[S_Di.index & S_Dc.index, S_Di.columns & S_Dc.columns]\r\n",
    "S_Dcai = S_Dc.loc[S_Di.index & S_Dc.index, A_D.columns & S_Dc.columns]\r\n",
    "S_Pci = pd.read_csv(\"chunhui/Input/LUAD/PROmatrix_ct.LUAD.csv\",\r\n",
    "                    header=0,\r\n",
    "                    index_col=0)\r\n",
    "S_Pci.index = [ele[0:12] for ele in S_Pci.index if len(ele) > 12]\r\n"
   ],
   "outputs": [],
   "metadata": {}
  },
  {
   "cell_type": "markdown",
   "source": [
    "# Hierachy Cluter"
   ],
   "metadata": {}
  },
  {
   "cell_type": "code",
   "execution_count": null,
   "source": [
    "lis = {\"S_Ai\": S_Ai, \"S_Dci\": S_Dci, \"S_Pci\": S_Pci, \"S_Dct\": S_Dct}\r\n",
    "lis = {\"S_Dp\": S_Dc.loc[b, S_Dc.columns & set(paper_l)]}\r\n",
    "\r\n",
    "for ele in lis.keys():\r\n",
    "\r\n",
    "    df = lis[ele]\r\n",
    "\r\n",
    "    # df.corr() corrleationship\r\n",
    "    g = sns.clustermap(df,\r\n",
    "                       center=0,\r\n",
    "                       cmap=\"vlag\",\r\n",
    "                       row_cluster=False,\r\n",
    "                       figsize=(7, 7))\r\n",
    "\r\n",
    "    ax0 = g.ax_heatmap\r\n",
    "    # ax0.set_title(\"ClusterMap\")\r\n",
    "    ax0.set_ylabel(\"Sample\")\r\n",
    "    ax0.set_xlabel(\"Gene\")\r\n",
    "\r\n",
    "    plt.show()\r\n",
    "\r\n",
    "    # dfc = df.iloc[g.dendrogram_row.reordered_ind, g.dendrogram_col.reordered_ind]\r\n",
    "    dfc = df.iloc[:, g.dendrogram_col.reordered_ind]\r\n",
    "    dfc.to_csv(\"chunhui/Output/HNSC/%s_clu.csv\" % ele, header=True, index=True)\r\n",
    "\r\n",
    "    fig = plt.figure(figsize=(8, 7))\r\n",
    "    ax1 = fig.add_subplot(111)\r\n",
    "    h = sns.heatmap(dfc,\r\n",
    "                    cmap=\"vlag\",\r\n",
    "                    center=0,\r\n",
    "                    cbar_kws={\"shrink\": 0.1},\r\n",
    "                    yticklabels=False,\r\n",
    "                    xticklabels=False,\r\n",
    "                    ax=ax1)\r\n",
    "    ax1.yaxis.set_label_position(\"right\")\r\n",
    "\r\n",
    "    ax1.set_ylabel(\"Sample\")\r\n",
    "    ax1.set_xlabel(\"Gene\")"
   ],
   "outputs": [],
   "metadata": {}
  },
  {
   "cell_type": "code",
   "execution_count": null,
   "source": [
    "S_Aic = S_Ai.loc[S_Ai.index & S_Dci.index]\r\n",
    "S_Dcic = S_Dci.loc[S_Aic.index]\r\n",
    "\r\n",
    "ga = sns.clustermap(S_Aic, cmap=\"vlag\", center=0, row_cluster=False)\r\n",
    "gd = sns.clustermap(S_Dcic, cmap=\"vlag\", center=0)\r\n",
    "\r\n",
    "S_Aic = S_Aic.iloc[:, ga.dendrogram_col.reordered_ind]\r\n",
    "S_Dcic = S_Dcic.iloc[gd.dendrogram_row.reordered_ind,\r\n",
    "                     gd.dendrogram_col.reordered_ind]\r\n",
    "\r\n",
    "dfc = pd.concat([S_Dcic, S_Aic], 1)\r\n",
    "fig = plt.figure(figsize=(10, 10))\r\n",
    "h = sns.heatmap(dfc, cmap=\"vlag\", center=0, cbar_kws={\"shrink\": 0.1})\r\n"
   ],
   "outputs": [],
   "metadata": {}
  },
  {
   "cell_type": "code",
   "execution_count": null,
   "source": [
    "dfci = S_Aic.iloc[gd.dendrogram_row.reordered_ind, :]\r\n",
    "\r\n",
    "fig = plt.figure(figsize=(7, 6))\r\n",
    "ax1 = fig.add_subplot(111)\r\n",
    "h = sns.heatmap(dfci,\r\n",
    "                cmap=\"vlag\",\r\n",
    "                center=0,\r\n",
    "                cbar_kws={\"shrink\": 0.1},\r\n",
    "                yticklabels=False,\r\n",
    "                xticklabels=False,\r\n",
    "                ax=ax1)\r\n",
    "ax1.yaxis.set_label_position(\"right\")\r\n",
    "ax1.set_ylabel(\"Sample\")\r\n",
    "ax1.set_xlabel(\"Gene\")"
   ],
   "outputs": [],
   "metadata": {}
  },
  {
   "cell_type": "code",
   "execution_count": null,
   "source": [
    "lis = {\"S_Dai\": S_Dai, \"S_Dcai\": S_Dcai}\r\n",
    "# hierarchy\r\n",
    "for ele in lis.keys():\r\n",
    "    df = lis[ele]\r\n",
    "    row_l = hierarchy.linkage(df)\r\n",
    "    col_l = hierarchy.linkage(df.T)\r\n",
    "\r\n",
    "    g = sns.clustermap(df, cmap=\"vlag\", center=0)"
   ],
   "outputs": [],
   "metadata": {}
  },
  {
   "cell_type": "markdown",
   "source": [
    "## Cut Gene"
   ],
   "metadata": {}
  },
  {
   "cell_type": "code",
   "execution_count": null,
   "source": [
    "# PRO\r\n",
    "a = S_Pci.iloc[:, g.dendrogram_col.reordered_ind]\r\n",
    "dfc = a\r\n",
    "\r\n",
    "df_col = list(dfc.columns)\r\n",
    "\r\n",
    "sl = [df_col[0], \"ORAOV1\", \"EP300\", df_col[-1]]\r\n",
    "sb_l = []\r\n",
    "for i in range(len(sl) - 1):\r\n",
    "    sb = dfc.iloc[:, df_col.index(sl[i]):df_col.index(sl[i + 1])]\r\n",
    "    if i == (len(sl) - 1) - 1:\r\n",
    "        sb = dfc.iloc[:, df_col.index(sl[i]):df_col.index(sl[i + 1]) + 1]\r\n",
    "    sb_l.append(sb)\r\n",
    "print(sb_l)\r\n",
    "\r\n",
    "for i in range(len(sb_l)):\r\n",
    "    sb = sb_l[i]\r\n",
    "    print(\" \".join(sb.columns))\r\n",
    "    print(\"\\n\")\r\n",
    "    sb.to_csv(\"chunhui/Output/HNSC/S_Pci_HNSC_%s.csv\" % i,\r\n",
    "              index=True,\r\n",
    "              header=True)\r\n"
   ],
   "outputs": [],
   "metadata": {}
  },
  {
   "cell_type": "code",
   "execution_count": null,
   "source": [
    "# DEG\r\n",
    "dfc = pd.read_csv(\"chunhui/Output/HNSC/S_Dci_clu.csv\", index_col=0, header=0)\r\n",
    "df_col = list(dfc.columns)\r\n",
    "\r\n",
    "# kfc = pd.read_csv(\"chunhui/Output/HNSC/S_Dcai.csv\", index_col=0, header=0)\r\n",
    "nm_l = [ele for ele in kfc.index if \"-11A\" in ele]\r\n",
    "abm_l = [ele for ele in kfc.index if \"-01A\" in ele]\r\n",
    "S_Dr = kfc\r\n",
    "\r\n",
    "sl = [df_col[0], \"USP31\", \"ITGAX\", \"BRDT\", \"CCT5\", df_col[-1]]\r\n",
    "sb_l = []\r\n",
    "for i in range(len(sl) - 1):\r\n",
    "    sb = dfc.iloc[:, df_col.index(sl[i]):df_col.index(sl[i + 1])]\r\n",
    "    if i == (len(sl) - 1) - 1:\r\n",
    "        sb = dfc.iloc[:, df_col.index(sl[i]):df_col.index(sl[i + 1]) + 1]\r\n",
    "    sb_l.append(sb)\r\n",
    "    print(len(sb))\r\n",
    "\r\n",
    "for i in range(len(sb_l)):\r\n",
    "\r\n",
    "    sb = sb_l[i]\r\n",
    "    sb.to_csv(\"chunhui/Output/HNSC/S_D_HNSC_%s.csv\" % i,\r\n",
    "              index=True,\r\n",
    "              header=True)\r\n",
    "\r\n",
    "    S_Drn = S_Dr.loc[nm_l, sb.columns & kfc.columns]\r\n",
    "    print(S_Drn.shape)\r\n",
    "    S_Drn.to_csv(\"chunhui/Output/HNSC/S_DDrn_HNSC_%s.csv\" % i,\r\n",
    "                 index=True,\r\n",
    "                 header=True)\r\n",
    "    S_Dran = S_Dr.loc[abm_l, sb.columns & kfc.columns]\r\n",
    "    S_Dran.to_csv(\"chunhui/Output/HNSC/S_DDran_HNSC_%s.csv\" % i,\r\n",
    "                  index=True,\r\n",
    "                  header=True)\r\n",
    "    S_Dra = pd.concat([S_Drn, S_Dran], 0)\r\n",
    "    S_Dra.to_csv(\"chunhui/Output/HNSC/S_DDra_HNSC_%s.csv\" % i,\r\n",
    "                 index=True,\r\n",
    "                 header=True)\r\n"
   ],
   "outputs": [],
   "metadata": {}
  },
  {
   "cell_type": "markdown",
   "source": [
    "## Label Heatmap"
   ],
   "metadata": {}
  },
  {
   "cell_type": "code",
   "execution_count": null,
   "source": [
    "sub = pd.read_csv(\"EM/Input/tcga_subtype.csv\", index_col=0).loc[S_A.index]\r\n",
    "\r\n",
    "sub[\"index\"] = sub.index\r\n",
    "sub[\"subtype\"] = sub[\"X_primary_disease\"]\r\n",
    "df = S_D"
   ],
   "outputs": [],
   "metadata": {}
  },
  {
   "cell_type": "code",
   "execution_count": null,
   "source": [
    "# HNSC paper\r\n",
    "subtype = pd.read_csv(\"PORT/7.2.csv\", index_col=0, header=0)\r\n",
    "subtype.index = [ele.replace(\".\", \"-\") for ele in subtype.index]\r\n",
    "subtype = subtype.loc[subtype.index & S_Dci.index]\r\n",
    "S_Dp = S_Dc.loc[subtype.index & S_D.index, S_Dc.columns & set(paper_l)]\r\n",
    "\r\n",
    "a = np.unique(subtype[\"RNA\"])\r\n",
    "b = []\r\n",
    "for ele in a:\r\n",
    "    subi = subtype[subtype[\"RNA\"] == ele]\r\n",
    "    b.extend(subi.index)\r\n",
    "sub = subtype.loc[b]\r\n",
    "\r\n",
    "df = S_Dp.loc[sub.index]\r\n",
    "sub[\"subtype\"] = sub[\"RNA\"]\r\n",
    "dfi = pd.concat([df, sub[\"subtype\"]], 1)"
   ],
   "outputs": [],
   "metadata": {
    "collapsed": true,
    "jupyter": {
     "outputs_hidden": true
    }
   }
  },
  {
   "cell_type": "markdown",
   "source": [
    "## TCGA predict pathway Label"
   ],
   "metadata": {}
  },
  {
   "cell_type": "code",
   "execution_count": null,
   "source": [
    "para = pd.read_table(\"Pre/Input/TCGA_BRCA/BRCA_merge_merged_reals.txt\",\r\n",
    "                     sep=\"\\t\",\r\n",
    "                     index_col=0)\r\n",
    "# para = pd.read_table(\"Pre/Input/TCGA_BRCA/BRCA_PanCan33_ssGSEA_1387GeneSets_NonZero_sample_level_Z.txt\", sep=\"\\t\", index_col=0)"
   ],
   "outputs": [],
   "metadata": {}
  },
  {
   "cell_type": "code",
   "execution_count": null,
   "source": [
    "p53 = node[\"P53\"] + [\"P53\"]\r\n",
    "p53_l = [ele for ele in para.index if any(x in ele.upper() for x in p53)]\r\n",
    "\r\n",
    "pi3k = node[\"PI3K\"] + [\"PI3K\", \"SUI\"]\r\n",
    "pi3k_l = [ele for ele in para.index if any(x in ele.upper() for x in pi3k)]\r\n",
    "\r\n",
    "rtk = node[\"RTK\"]\r\n",
    "rtk_l = [ele for ele in para.index if any(x in ele.upper() for x in rtk)]"
   ],
   "outputs": [],
   "metadata": {}
  },
  {
   "cell_type": "code",
   "execution_count": null,
   "source": [
    "para_d = para.loc[pi3k_l]\r\n",
    "para_d = para_d.loc[para_d.index[np.mean(abs(para_d), 1)>0.1]]\r\n",
    "\r\n",
    "sns.clustermap(para_d, center=0, cmap=\"vlag\", xticklabels=False)"
   ],
   "outputs": [],
   "metadata": {}
  },
  {
   "cell_type": "markdown",
   "source": [
    "## Bicluster"
   ],
   "metadata": {
    "toc-hr-collapsed": true,
    "toc-nb-collapsed": true
   }
  },
  {
   "cell_type": "code",
   "execution_count": null,
   "source": [
    "S_P = pd.read_csv(\"EM/Output/S_Ao_sb1/S_P_BRCA.csv\", index_col=0, header=0)\r\n",
    "S_Ai = pd.read_csv(\"EM/Input/S_Asb/S_A_BRCA.csv\", index_col=0, header=0)\r\n",
    "sga = \"PIK3CA\"\r\n",
    "A_Di = A_D[A_D.columns[np.sum(A_D.loc[[sga], :]) > 0]]\r\n",
    "df = S_D.loc[S_P.index, A_Di.columns]"
   ],
   "outputs": [],
   "metadata": {}
  },
  {
   "cell_type": "code",
   "execution_count": null,
   "source": [
    "dfs = df[df.columns[np.sum(df) > 0]]\r\n",
    "dfs = dfs.loc[dfs.index[np.sum(dfs, 1) > 0]]\r\n",
    "\r\n",
    "# bicluster\r\n",
    "data = dfs\r\n",
    "n = 10\r\n",
    "model = SpectralBiclustering(n_clusters=n, random_state=0)\r\n",
    "model.fit(data)\r\n",
    "fit_data = data.iloc[list(np.argsort(model.row_labels_)),\r\n",
    "                     list(np.argsort(model.column_labels_))]\r\n",
    "\r\n",
    "# print elements in each cluster\r\n",
    "for i in range(n):\r\n",
    "    sga_l = list(data.index[list(model.get_indices(i)[0])])\r\n",
    "    # S_Ai = S_P[sga_l]\r\n",
    "    # S_Ai.to_csv(\"EM/Output/BI/S_P%s\" % i, index=True, header=True)\r\n",
    "    print(list(data.index[list(model.get_indices(i)[0])]))\r\n",
    "\r\n",
    "# This just makes some sample 2D data and a corresponding vmap dict with labels for the values in the data\r\n",
    "fig = plt.figure(figsize=(10, 10))\r\n",
    "ax1 = fig.add_subplot()\r\n",
    "\r\n",
    "sns.heatmap(fit_data,\r\n",
    "            center=0,\r\n",
    "            cmap=\"vlag\",\r\n",
    "            cbar_kws={\r\n",
    "                \"shrink\": 0.1,\r\n",
    "                \"aspect\": 2\r\n",
    "            },\r\n",
    "            ax=ax1)\r\n"
   ],
   "outputs": [],
   "metadata": {}
  },
  {
   "cell_type": "markdown",
   "source": [
    "## Z score test compare differnece "
   ],
   "metadata": {}
  },
  {
   "cell_type": "code",
   "execution_count": null,
   "source": [
    "sga = \"PIK3CA\"\r\n",
    "rep_l = S_P.index[S_P[\"PIK3CA\"] == 1]\r\n",
    "nrep_l = S_P.index[S_P[\"PIK3CA\"] == 0]\r\n",
    "\r\n",
    "rep_exp = S_P.loc[rep_l]\r\n",
    "nrep_exp = S_P.loc[nrep_l]\r\n",
    "\r\n",
    "stats_l = []\r\n",
    "de_l = []\r\n",
    "for deg in rep_exp.columns:\r\n",
    "    rsv1 = rep_exp[deg]\r\n",
    "    rsv2 = nrep_exp[deg]\r\n",
    "    p = stats.ttest_ind(rsv1, rsv2)\r\n",
    "    stats_l.append(p)\r\n",
    "    if p[1] < 0.01:\r\n",
    "        de_l.append(deg)\r\n",
    "\r\n",
    "df = pd.concat([rep_exp[de_l], nrep_exp[de_l]], 0)\r\n",
    "sns.clustermap(\r\n",
    "    df,\r\n",
    "    row_cluster=False,\r\n",
    "    center=0,\r\n",
    "    cmap=\"vlag\",\r\n",
    ")\r\n"
   ],
   "outputs": [],
   "metadata": {}
  },
  {
   "cell_type": "markdown",
   "source": [
    "## t-sne"
   ],
   "metadata": {}
  },
  {
   "cell_type": "code",
   "execution_count": null,
   "source": [
    "A_Dc = A_D[A_D.columns[np.sum(A_D.loc[[\"PIK3CA\"], :]) > 0]]\r\n",
    "# sns.clustermap(S_Dc.loc[S_Ai.index, S_Dc.columns & A_Dc.columns])\r\n",
    "S_Ai = pd.read_csv(\"EM/Output/S_Ao_sb1/S_P_BRCA.csv\", index_col=0, header=0)\r\n",
    "\r\n",
    "from sklearn.manifold import TSNE\r\n",
    "\r\n",
    "X = S_D.loc[S_Ai.index, S_D.columns & A_Dc.columns]\r\n",
    "X_embedded = TSNE(n_components=2).fit_transform(X)\r\n",
    "sns.scatterplot(data=X_embedded)"
   ],
   "outputs": [],
   "metadata": {}
  }
 ],
 "metadata": {
  "kernelspec": {
   "display_name": "Python 3",
   "language": "python",
   "name": "python3"
  },
  "language_info": {
   "codemirror_mode": {
    "name": "ipython",
    "version": 3
   },
   "file_extension": ".py",
   "mimetype": "text/x-python",
   "name": "python",
   "nbconvert_exporter": "python",
   "pygments_lexer": "ipython3",
   "version": "3.8.3"
  },
  "toc": {
   "base_numbering": 1,
   "nav_menu": {},
   "number_sections": true,
   "sideBar": true,
   "skip_h1_title": false,
   "title_cell": "Table of Contents",
   "title_sidebar": "Contents",
   "toc_cell": false,
   "toc_position": {},
   "toc_section_display": true,
   "toc_window_display": false
  },
  "toc-autonumbering": true,
  "toc-showmarkdowntxt": false,
  "toc-showtags": false,
  "varInspector": {
   "cols": {
    "lenName": 16,
    "lenType": 16,
    "lenVar": 40
   },
   "kernels_config": {
    "python": {
     "delete_cmd_postfix": "",
     "delete_cmd_prefix": "del ",
     "library": "var_list.py",
     "varRefreshCmd": "print(var_dic_list())"
    },
    "r": {
     "delete_cmd_postfix": ") ",
     "delete_cmd_prefix": "rm(",
     "library": "var_list.r",
     "varRefreshCmd": "cat(var_dic_list()) "
    }
   },
   "types_to_exclude": [
    "module",
    "function",
    "builtin_function_or_method",
    "instance",
    "_Feature"
   ],
   "window_display": false
  }
 },
 "nbformat": 4,
 "nbformat_minor": 4
}