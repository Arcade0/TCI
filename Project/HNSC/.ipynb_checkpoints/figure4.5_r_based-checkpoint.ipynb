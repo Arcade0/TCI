{
 "cells": [
  {
   "cell_type": "markdown",
   "metadata": {
    "Collapsed": "false",
    "toc-hr-collapsed": true,
    "toc-nb-collapsed": true
   },
   "source": [
    "# ConsensusCluster"
   ]
  },
  {
   "cell_type": "code",
   "execution_count": null,
   "metadata": {
    "Collapsed": "false"
   },
   "outputs": [],
   "source": [
    "remove.packages(\"BiocVersion\")\n",
    "if (!requireNamespace(\"BiocManager\", quietly = TRUE))\n",
    "    install.packages(\"BiocManager\")\n",
    "BiocManager::install(version = \"3.10\")\n",
    "BiocManager::install(\"ConsensusClusterPlus\")\n",
    "BiocManager::install(\"ALL\")"
   ]
  },
  {
   "cell_type": "code",
   "execution_count": null,
   "metadata": {
    "Collapsed": "false"
   },
   "outputs": [],
   "source": [
    "library(ALL)\n",
    "library(ConsensusClusterPlus)\n",
    "\n",
    "d = read.csv(\"chunhui/Input/HNSC/DEGmatrix.continous.ztrans.HNSC.csv\", row.names=1)\n",
    "d = t(d)\n",
    "mads=apply(d,1,mad)\n",
    "d = d[rev(order(mads)),]\n",
    "d = sweep(d,1, apply(d,1,median,na.rm=T))\n",
    "\n",
    "title=tempdir()\n",
    "results = ConsensusClusterPlus(\n",
    "    d,maxK=6,reps=50,pItem=0.8,pFeature=1, \n",
    "    title=title,clusterAlg=\"hc\",distance=\"pearson\",seed=126211,plot=FALSE)"
   ]
  },
  {
   "cell_type": "markdown",
   "metadata": {
    "Collapsed": "false",
    "toc-hr-collapsed": true,
    "toc-nb-collapsed": true
   },
   "source": [
    "# Gene Mapping"
   ]
  },
  {
   "cell_type": "code",
   "execution_count": null,
   "metadata": {
    "Collapsed": "false"
   },
   "outputs": [],
   "source": [
    "A_Di = read.csv(\"chunhui/Input/HNSC/DriverDEGmatrix.HNSC.csv\", row.names=1)\n",
    "S_C = read.csv(\"chunhui/Input/HNSC/TCGA/cnv.csv\", row.names=1)"
   ]
  },
  {
   "cell_type": "code",
   "execution_count": null,
   "metadata": {
    "Collapsed": "false"
   },
   "outputs": [],
   "source": [
    "library('biomaRt')\n",
    "mart <- useDataset(\"hsapiens_gene_ensembl\", useMart(\"ensembl\"))\n",
    "genes <- colnames(S_C)\n",
    "# df<-df[,-4]\n",
    "G_list <- getBM(filters= \"ensembl_peptide_id\", attributes= c(\"ensembl_peptide_id\",\"hgnc_symbol\"),values=genes,mart= mart)\n",
    "# merge(df,G_list,by.x=\"gene\",by.y=\"ensembl_peptide_id\")"
   ]
  },
  {
   "cell_type": "markdown",
   "metadata": {
    "Collapsed": "false",
    "toc-hr-collapsed": true,
    "toc-nb-collapsed": true
   },
   "source": [
    "# GSEA LOG RANK"
   ]
  },
  {
   "cell_type": "code",
   "execution_count": null,
   "metadata": {
    "Collapsed": "false"
   },
   "outputs": [],
   "source": [
    "# install.packages(\"fcros\")\n",
    "library(fcros)\n",
    "\n",
    "type = \"HNSC\"\n",
    "for (i in 0:4){\n",
    "    \n",
    "    fdata = read.csv(paste(\"chunhui/Output/\", type, \"/\", \"S_DDra_\", type, \"_\", i, \".csv\", sep=\"\"), row.names=1)\n",
    "    ndata = read.csv(paste(\"chunhui/Output/\", type, \"/\", \"S_DDrn_\", type, \"_\",  i, \".csv\", sep=\"\"), row.names=1)\n",
    "    bndata = read.csv(paste(\"chunhui/Output/\", type, \"/\", \"S_DDran_\", type, \"_\", i, \".csv\", sep=\"\"), row.names=1)\n",
    "    cont = colnames(t(ndata))\n",
    "    test = colnames(t(bndata))\n",
    "    log2.opt = 0\n",
    "    trim.opt = 0.25\n",
    "    af = fcros(t(fdata), cont, test, log2.opt, trim.opt)\n",
    "\n",
    "    afd = af\n",
    "    afd$ri[afd$ri<0.5] = afd$ri[afd$ri<0.5] - 1\n",
    "    fcrosWrite(afd, file = paste(\"chunhui/Output/\", type, \"/\", \"gsea_\", type, \"_\", i, \".csv\", sep=\"\"),thr=1) \n",
    "    ac = read.csv(paste(\"chunhui/Output/\", type, \"/\", \"gsea_\", type, \"_\", i, \".csv\", sep=\"\"), sep=\"\\t\")\n",
    "    write.table(ac[1:2], paste(\"chunhui/Output/\", type, \"/\", \"gsea_\", type, \"_\", i, \".rnk\", sep=\"\"), row.names=FALSE, sep=\"\\t\", quote=FALSE)\n",
    "    }"
   ]
  },
  {
   "cell_type": "code",
   "execution_count": null,
   "metadata": {
    "Collapsed": "false"
   },
   "outputs": [],
   "source": [
    "# KEGG\n",
    "# if (!requireNamespace(\"BiocManager\", quietly = TRUE))\n",
    "#     install.packages(\"BiocManager\")\n",
    "\n",
    "# BiocManager::install(\"clusterProfiler\")\n",
    "# BiocManager::install(\"enrichplot\")\n",
    "# BiocManager::install(\"pathview\")\n",
    "# BiocManager::install(\"org.Hs.eg.db\")\n",
    "# install.packages(\"remotes\")\n",
    "# remotes::install_github(\"GuangchuangYu/DOSE\")\n",
    "# install.packages(\"ggupset\")\n",
    "library('org.Hs.eg.db')\n",
    "library(\"clusterProfiler\")\n",
    "library(\"enrichplot\")\n",
    "library(\"pathview\")\n",
    "library(\"DOSE\")"
   ]
  },
  {
   "cell_type": "code",
   "execution_count": null,
   "metadata": {
    "Collapsed": "false"
   },
   "outputs": [],
   "source": [
    "for (i in 0:4){\n",
    "    \n",
    "    fdata = read.csv(paste(\"chunhui/Output/\", type, \"/\", \"S_DDra_\", type, \"_\", i, \".csv\", sep=\"\"), row.names=1)\n",
    "\n",
    "    # you will have your own list here\n",
    "    symbols = colnames(fdata)\n",
    "    # use mapIds method to obtain Entrez IDs\n",
    "    gene = mapIds(org.Hs.eg.db, symbols, 'ENTREZID', 'SYMBOL')\n",
    "\n",
    "    a = c()\n",
    "    for (i in 1:length(gene)){\n",
    "        a = c(a, gene[[i]])\n",
    "    }\n",
    "    a = a[!is.na(a)]\n",
    "    \n",
    "    b <- enrichKEGG(gene         = gene,\n",
    "                     organism     = 'hsa',\n",
    "                     pvalueCutoff = 0.05)\n",
    "\n",
    "    oragene <- enrichDGN(a)\n",
    "    print(barplot(oragene,showCategory = 20))\n",
    "    # 该函数默认参数为：\n",
    "    # enrichDGN(gene, pvalueCutoff = 0.05, pAdjustMethod = \"BH\", universe,\n",
    "    #   minGSSize = 10, maxGSSize = 500, qvalueCutoff = 0.2,\n",
    "    #   readable = FALSE)\n",
    "    }"
   ]
  },
  {
   "cell_type": "code",
   "execution_count": null,
   "metadata": {
    "Collapsed": "false"
   },
   "outputs": [],
   "source": [
    "p1 <- dotplot(oragene, showCategory=30) + ggtitle(\"dotplot for ORA\")\n",
    "plot_grid(p1, ncol=1)"
   ]
  },
  {
   "cell_type": "code",
   "execution_count": null,
   "metadata": {
    "Collapsed": "false"
   },
   "outputs": [],
   "source": [
    "oragnx <- setReadable(oragene, 'org.Hs.eg.db', 'ENTREZID')  ## 将 Gene ID 转换为 symbol\n",
    "\n",
    "cnetplot(oragnx, foldChange=geneList)"
   ]
  },
  {
   "cell_type": "code",
   "execution_count": null,
   "metadata": {
    "Collapsed": "false"
   },
   "outputs": [],
   "source": [
    "geneList = ac[1:2]"
   ]
  },
  {
   "cell_type": "code",
   "execution_count": null,
   "metadata": {
    "Collapsed": "false"
   },
   "outputs": [],
   "source": []
  },
  {
   "cell_type": "code",
   "execution_count": null,
   "metadata": {
    "Collapsed": "false"
   },
   "outputs": [],
   "source": [
    "cnetplot(oragnx, categorySize=\"pvalue\", foldChange=geneList)  ## categorySize 可以是 \"pvalue\" 或 \"geneNum\" "
   ]
  },
  {
   "cell_type": "code",
   "execution_count": null,
   "metadata": {
    "Collapsed": "false"
   },
   "outputs": [],
   "source": [
    "cnetplot(oragnx, foldChange=geneList, circular = TRUE, colorEdge = TRUE)  ## 圆形布局，给线条上色"
   ]
  },
  {
   "cell_type": "code",
   "execution_count": null,
   "metadata": {
    "Collapsed": "false"
   },
   "outputs": [],
   "source": [
    "heatplot(oragnx, foldChange=geneList)"
   ]
  },
  {
   "cell_type": "code",
   "execution_count": null,
   "metadata": {
    "Collapsed": "false"
   },
   "outputs": [],
   "source": [
    "emapplot(oragene)"
   ]
  },
  {
   "cell_type": "code",
   "execution_count": null,
   "metadata": {
    "Collapsed": "false"
   },
   "outputs": [],
   "source": [
    "upsetplot(oragene)"
   ]
  },
  {
   "cell_type": "code",
   "execution_count": null,
   "metadata": {
    "Collapsed": "false"
   },
   "outputs": [],
   "source": [
    "# ridgeplot(gseagene)"
   ]
  },
  {
   "cell_type": "code",
   "execution_count": null,
   "metadata": {
    "Collapsed": "false"
   },
   "outputs": [],
   "source": [
    "terms <- oragene$Description[1:3]\n",
    "p <- pmcplot(terms, 2012:2019) ## 默认为proportion=TRUE\n",
    "p2 <- pmcplot(terms, 2012:2019, proportion=FALSE)\n",
    "plot_grid(p, p2, ncol=2)"
   ]
  },
  {
   "cell_type": "code",
   "execution_count": null,
   "metadata": {
    "Collapsed": "false"
   },
   "outputs": [],
   "source": [
    "browseKEGG(kk, 'hsa04110')"
   ]
  },
  {
   "cell_type": "code",
   "execution_count": null,
   "metadata": {
    "Collapsed": "false"
   },
   "outputs": [],
   "source": [
    "hsa04110 <- pathview(gene.data  = geneList,\n",
    "                     pathway.id = \"hsa04110\",\n",
    "                     species    = \"hsa\",\n",
    "                     limit      = list(gene=max(abs(geneList)), cpd=1)) ## cpd, compound\n",
    "# Info: Downloading xml files for hsa04110, 1/1 pathways..\n",
    "# Info: Downloading png files for hsa04110, 1/1 pathways..\n",
    "# 'select()' returned 1:1 mapping between keys and columns\n",
    "# Info: Working in directory /YOUR PATH/Project/clusterProfiler\n",
    "# Info: Writing image file hsa04110.pathview.png"
   ]
  },
  {
   "cell_type": "markdown",
   "metadata": {
    "Collapsed": "false"
   },
   "source": [
    "# Survival"
   ]
  },
  {
   "cell_type": "markdown",
   "metadata": {
    "Collapsed": "false"
   },
   "source": [
    "## Overall Survival"
   ]
  },
  {
   "cell_type": "code",
   "execution_count": 4,
   "metadata": {
    "Collapsed": "false"
   },
   "outputs": [
    {
     "name": "stderr",
     "output_type": "stream",
     "text": [
      "also installing the dependencies ‘Rcpp’, ‘matrixStats’, ‘RcppArmadillo’, ‘zip’, ‘SparseM’, ‘conquer’, ‘sp’, ‘openxlsx’, ‘minqa’, ‘nloptr’, ‘statmod’, ‘RcppEigen’, ‘pbkrtest’, ‘quantreg’, ‘maptools’, ‘rio’, ‘lme4’, ‘car’, ‘ggrepel’, ‘rstatix’, ‘exactRankTests’, ‘mvtnorm’, ‘glue’, ‘lifecycle’, ‘rlang’, ‘tidyselect’, ‘vctrs’, ‘ellipsis’, ‘pillar’, ‘ggpubr’, ‘maxstat’, ‘broom’, ‘dplyr’, ‘tidyr’, ‘tibble’\n",
      "\n",
      "Warning message in download.file(url, destfile, method, mode = \"wb\", ...):\n",
      "“downloaded length 3227648 != reported length 3270766”Warning message in download.file(url, destfile, method, mode = \"wb\", ...):\n",
      "“URL 'https://cran.r-project.org/src/contrib/lme4_1.1-25.tar.gz': status was 'Failure when receiving data from the peer'”"
     ]
    },
    {
     "name": "stdout",
     "output_type": "stream",
     "text": [
      "Error in download.file(url, destfile, method, mode = \"wb\", ...) : \n",
      "  download from 'https://cran.r-project.org/src/contrib/lme4_1.1-25.tar.gz' failed\n"
     ]
    },
    {
     "name": "stderr",
     "output_type": "stream",
     "text": [
      "Warning message in download.packages(pkgs, destdir = tmpd, available = available, :\n",
      "“download of package ‘lme4’ failed”Warning message in install.packages(\"survminer\"):\n",
      "“installation of package ‘Rcpp’ had non-zero exit status”Warning message in install.packages(\"survminer\"):\n",
      "“installation of package ‘matrixStats’ had non-zero exit status”Warning message in install.packages(\"survminer\"):\n",
      "“installation of package ‘zip’ had non-zero exit status”Warning message in install.packages(\"survminer\"):\n",
      "“installation of package ‘SparseM’ had non-zero exit status”Warning message in install.packages(\"survminer\"):\n",
      "“installation of package ‘sp’ had non-zero exit status”Warning message in install.packages(\"survminer\"):\n",
      "“installation of package ‘nloptr’ had non-zero exit status”Warning message in install.packages(\"survminer\"):\n",
      "“installation of package ‘statmod’ had non-zero exit status”Warning message in install.packages(\"survminer\"):\n",
      "“installation of package ‘pbkrtest’ had non-zero exit status”Warning message in install.packages(\"survminer\"):\n",
      "“installation of package ‘exactRankTests’ had non-zero exit status”Warning message in install.packages(\"survminer\"):\n",
      "“installation of package ‘mvtnorm’ had non-zero exit status”Warning message in install.packages(\"survminer\"):\n",
      "“installation of package ‘glue’ had non-zero exit status”Warning message in install.packages(\"survminer\"):\n",
      "“installation of package ‘rlang’ had non-zero exit status”Warning message in install.packages(\"survminer\"):\n",
      "“installation of package ‘RcppArmadillo’ had non-zero exit status”Warning message in install.packages(\"survminer\"):\n",
      "“installation of package ‘openxlsx’ had non-zero exit status”Warning message in install.packages(\"survminer\"):\n",
      "“installation of package ‘minqa’ had non-zero exit status”Warning message in install.packages(\"survminer\"):\n",
      "“installation of package ‘RcppEigen’ had non-zero exit status”Warning message in install.packages(\"survminer\"):\n",
      "“installation of package ‘maptools’ had non-zero exit status”Warning message in install.packages(\"survminer\"):\n",
      "“installation of package ‘ggrepel’ had non-zero exit status”Warning message in install.packages(\"survminer\"):\n",
      "“installation of package ‘lifecycle’ had non-zero exit status”Warning message in install.packages(\"survminer\"):\n",
      "“installation of package ‘ellipsis’ had non-zero exit status”Warning message in install.packages(\"survminer\"):\n",
      "“installation of package ‘maxstat’ had non-zero exit status”Warning message in install.packages(\"survminer\"):\n",
      "“installation of package ‘conquer’ had non-zero exit status”Warning message in install.packages(\"survminer\"):\n",
      "“installation of package ‘vctrs’ had non-zero exit status”Warning message in install.packages(\"survminer\"):\n",
      "“installation of package ‘quantreg’ had non-zero exit status”Warning message in install.packages(\"survminer\"):\n",
      "“installation of package ‘tidyselect’ had non-zero exit status”Warning message in install.packages(\"survminer\"):\n",
      "“installation of package ‘pillar’ had non-zero exit status”Warning message in install.packages(\"survminer\"):\n",
      "“installation of package ‘tibble’ had non-zero exit status”Warning message in install.packages(\"survminer\"):\n",
      "“installation of package ‘rio’ had non-zero exit status”Warning message in install.packages(\"survminer\"):\n",
      "“installation of package ‘dplyr’ had non-zero exit status”Warning message in install.packages(\"survminer\"):\n",
      "“installation of package ‘car’ had non-zero exit status”Warning message in install.packages(\"survminer\"):\n",
      "“installation of package ‘tidyr’ had non-zero exit status”Warning message in install.packages(\"survminer\"):\n",
      "“installation of package ‘broom’ had non-zero exit status”Warning message in install.packages(\"survminer\"):\n",
      "“installation of package ‘rstatix’ had non-zero exit status”Warning message in install.packages(\"survminer\"):\n",
      "“installation of package ‘ggpubr’ had non-zero exit status”Warning message in install.packages(\"survminer\"):\n",
      "“installation of package ‘survminer’ had non-zero exit status”Updating HTML index of packages in '.Library'\n",
      "Making 'packages.html' ... done\n"
     ]
    }
   ],
   "source": [
    "# install.packages(\"survival\")\n",
    "install.packages(\"survminer\")"
   ]
  },
  {
   "cell_type": "code",
   "execution_count": 3,
   "metadata": {
    "Collapsed": "false"
   },
   "outputs": [
    {
     "ename": "ERROR",
     "evalue": "Error in library(\"survminer\"): there is no package called ‘survminer’\n",
     "output_type": "error",
     "traceback": [
      "Error in library(\"survminer\"): there is no package called ‘survminer’\nTraceback:\n",
      "1. library(\"survminer\")"
     ]
    }
   ],
   "source": [
    "library(\"survival\")\n",
    "library(\"survminer\")\n",
    "# Survival curves with global p-valuea\n",
    "lis = c(\"S_Ai\", \"S_Dci\", \"S_Dct\", \"S_Pci\")\n",
    "\n",
    "for (s in lis){\n",
    "    \n",
    "    print(s)\n",
    "    data = read.csv(paste(\"chunhui/Output/HNSC/\", s, \"_HNSC_Sur.csv\", sep=\"\"), row.names = 1, as.is = TRUE)\n",
    "    data[data[\"Days\"]>2000, \"Events\"] = 0\n",
    "\n",
    "    fit <- survfit(Surv(Days, Events) ~ Groups, data = data)\n",
    "    print(ggsurvplot(fit, data = data,\n",
    "               legend.title = \"Subgroup\",\n",
    "                legend.labs = levels(data$Groups),\n",
    "#                legend.labs = c('Atypical', 'Basal', 'Classical', 'Mesenchymal'),\n",
    "               legend = \"right\",\n",
    "               pval = TRUE, palette = \"lancet\", xlim = c(0,2000), xlab=\"Time(days)\"))\n",
    "}"
   ]
  },
  {
   "cell_type": "markdown",
   "metadata": {
    "Collapsed": "false"
   },
   "source": [
    "## Expression Subgroup"
   ]
  },
  {
   "cell_type": "code",
   "execution_count": null,
   "metadata": {
    "Collapsed": "false"
   },
   "outputs": [],
   "source": [
    "# cox - regression single factor\n",
    "hnsc = read.csv(\"chunhui/Output/HNSC/S_Pci_HNSC_cox.csv\", row.names=1)\n",
    "hnsc[hnsc[\"Days\"]>2000, \"Events\"] = 0\n",
    "S_Pci = read.csv(\"chunhui/Output/HNSC/S_Pci_clu.csv\", row.names=1)\n",
    "\n",
    "x = \"Surv(Days, Groups) ~ \"\n",
    "for (ele in colnames(S_Pci)){\n",
    "    x = paste(x, ele, sep=\" + \")\n",
    "    }\n",
    "z = as.formula(x)\n",
    "\n",
    "res.cox <- coxph(z, data = hnsc)\n",
    "print(summary(res.cox))\n",
    "\n",
    "# coe = res.cox$coefficients\n",
    "# data.frame(sort(coe))\n",
    "# mean(abs(coe))"
   ]
  },
  {
   "cell_type": "markdown",
   "metadata": {
    "Collapsed": "false"
   },
   "source": [
    "## Gene Subgroup"
   ]
  },
  {
   "cell_type": "code",
   "execution_count": null,
   "metadata": {
    "Collapsed": "false"
   },
   "outputs": [],
   "source": [
    "# plot survival\n",
    "# var_l = c(\"SEC61G\", \"FADD\", \"CSMD1\", \"NIM1\", \"FLG\", \"RYR2\", \"C5orf55\", \"CSMD3\", \"KDM6A\",\"RPL39P5\", \"SI\", \"ERLIN2\")\n",
    "var_l = c(\"SEC61G\", \"FADD\", \"CSMD1\", \"NIM1\", \"RYR2\", \"C5orf55\", \"RPL39P5\")\n",
    "\n",
    "for (ele in var_l){\n",
    "    \n",
    "    x = paste(\"Surv(Days, Events) ~\", ele, sep=\" \")\n",
    "    z = as.formula(x)\n",
    "    fit <- do.call(survfit,list(formula=z, data=hnsc))\n",
    "    print(ggsurvplot(fit, data = hnsc,\n",
    "               legend.title = \"Subtype\",\n",
    "               legend.labs = levels(hnsc[ele]),\n",
    "               legend = \"right\",\n",
    "               pval = TRUE, palette = \"lancet\", xlim = c(0,2500)))\n",
    "}"
   ]
  },
  {
   "cell_type": "markdown",
   "metadata": {
    "Collapsed": "false",
    "toc-hr-collapsed": true,
    "toc-nb-collapsed": true
   },
   "source": [
    "# COX regression"
   ]
  },
  {
   "cell_type": "code",
   "execution_count": null,
   "metadata": {
    "Collapsed": "false"
   },
   "outputs": [],
   "source": [
    "# install.packages(\"My.stepwise\")\n",
    "# install.packages(\"glmnet\")\n",
    "library(My.stepwise)"
   ]
  },
  {
   "cell_type": "code",
   "execution_count": null,
   "metadata": {
    "Collapsed": "false"
   },
   "outputs": [],
   "source": [
    "# Not run:\n",
    "# The data 'lung' is available in the 'survival' package.\n",
    "# End(Not run)\n",
    "\n",
    "my.data <- na.omit(hnsc)\n",
    "\n",
    "my.variable.list <- colnames(S_Pci)\n",
    "My.stepwise.coxph(\n",
    "    Time = \"Days\", Status = \"Events\", variable.list = my.variable.list, data = my.data, sle = 0.25, sls = 0.25)"
   ]
  },
  {
   "cell_type": "code",
   "execution_count": null,
   "metadata": {
    "Collapsed": "false"
   },
   "outputs": [],
   "source": [
    "library(glmnet)\n",
    "load(\"VignetteExample.rdata\")\n",
    "cv.fit <- cv.glmnet(\n",
    "    patient.data$x, Surv(patient.data$time, patient.data$status), \n",
    "    family=\"cox\", maxit = 1000)\n",
    "plot(cv.fit)"
   ]
  },
  {
   "cell_type": "code",
   "execution_count": null,
   "metadata": {
    "Collapsed": "false"
   },
   "outputs": [],
   "source": [
    "cv.fit$lambda.min\n",
    "Coefficients <- coef(fit, s = cv.fit$lambda.min)\n",
    "Active.Index <- which(Coefficients != 0)\n",
    "Active.Coefficients <- Coefficients[Active.Index]\n",
    "\n",
    "Active.Index\n",
    "Active.Coefficients"
   ]
  },
  {
   "cell_type": "code",
   "execution_count": null,
   "metadata": {
    "Collapsed": "false"
   },
   "outputs": [],
   "source": [
    "load.Rdata(\"Pre_TCIinfo/Input/sigdriversNtarDEGs.p=0.05.DEGrate=0.2.RData\")"
   ]
  },
  {
   "cell_type": "code",
   "execution_count": null,
   "metadata": {
    "Collapsed": "false"
   },
   "outputs": [],
   "source": [
    "print(1)"
   ]
  },
  {
   "cell_type": "code",
   "execution_count": null,
   "metadata": {
    "Collapsed": "false"
   },
   "outputs": [],
   "source": []
  }
 ],
 "metadata": {
  "kernelspec": {
   "display_name": "R",
   "language": "R",
   "name": "ir"
  },
  "language_info": {
   "codemirror_mode": "r",
   "file_extension": ".r",
   "mimetype": "text/x-r-source",
   "name": "R",
   "pygments_lexer": "r",
   "version": "3.6.1"
  }
 },
 "nbformat": 4,
 "nbformat_minor": 4
}
