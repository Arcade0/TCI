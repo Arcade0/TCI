{
 "cells": [
  {
   "cell_type": "markdown",
   "metadata": {
    "Collapsed": "false"
   },
   "source": [
    "# Import pack"
   ]
  },
  {
   "cell_type": "code",
   "execution_count": null,
   "metadata": {
    "Collapsed": "false"
   },
   "outputs": [],
   "source": [
    "import numpy as np\n",
    "import pandas as pd\n",
    "import os\n",
    "import seaborn as sns\n",
    "import matplotlib as mpl\n",
    "from matplotlib import pyplot as plt\n",
    "from copy import deepcopy\n",
    "\n",
    "from sklearn.datasets import make_checkerboard\n",
    "from sklearn.datasets import samples_generator as sg\n",
    "from sklearn.cluster.bicluster import SpectralBiclustering\n",
    "from sklearn.cluster.bicluster import SpectralCoclustering\n",
    "from sklearn.metrics import consensus_score\n",
    "from lifelines import KaplanMeierFitter\n",
    "from lifelines.statistics import logrank_test, pairwise_logrank_test, multivariate_logrank_test\n",
    "from scipy.cluster import hierarchy\n",
    "\n",
    "import scipy.stats as stats"
   ]
  },
  {
   "cell_type": "code",
   "execution_count": null,
   "metadata": {
    "Collapsed": "false"
   },
   "outputs": [],
   "source": [
    "# # pre cluster data\n",
    "# a = S_A.loc[S_Ai.index & S_A.index, :]\n",
    "# g1 = sns.clustermap(a, col_cluster=False, cmap=sns.color_palette(\"RdBu_r\", 15)[7:-1])\n",
    "# b = a.iloc[g1.dendrogram_row.reordered_ind,:]\n",
    "\n",
    "# import sys  # 导入sys模块\n",
    "# sys.setrecursionlimit(10000)  # 将默认的递归深度修改为3000\n",
    "\n",
    "# g2 = sns.clustermap(b, row_cluster=False, cmap=\"RdBu_r\")\n",
    "# c = b.iloc[:, g2.dendrogram_col.reordered_ind]"
   ]
  },
  {
   "cell_type": "markdown",
   "metadata": {},
   "source": [
    "# Read file"
   ]
  },
  {
   "cell_type": "code",
   "execution_count": null,
   "metadata": {},
   "outputs": [],
   "source": [
    "import read_HNSC\n",
    "# import read_all"
   ]
  },
  {
   "cell_type": "markdown",
   "metadata": {
    "Collapsed": "false"
   },
   "source": [
    "# Run"
   ]
  },
  {
   "cell_type": "code",
   "execution_count": null,
   "metadata": {
    "Collapsed": "false"
   },
   "outputs": [],
   "source": [
    "# set parameter\n",
    "# df = S_Ai.loc[S_Dci.index, set(driver_l) & set(S_Pci.columns)]\n",
    "# df = pd.concat([df, hpv], 1)\n",
    "# df = 0 * S_Ai  + S_Mi\n",
    "# df = df.fillna(0)\n",
    "# df = S_Ai + 2 * df\n",
    "# df = df.loc[S_Dci.index, set(S_Ai.columns) & set(driver_l)]"
   ]
  },
  {
   "cell_type": "markdown",
   "metadata": {
    "Collapsed": "false"
   },
   "source": [
    "## Discrete Data"
   ]
  },
  {
   "cell_type": "code",
   "execution_count": null,
   "metadata": {
    "Collapsed": "false"
   },
   "outputs": [],
   "source": [
    "# this line is used to check color list\n",
    "sns.palplot(sns.color_palette(\"RdBu_r\", 15)[6:-1])"
   ]
  },
  {
   "cell_type": "code",
   "execution_count": null,
   "metadata": {
    "Collapsed": "false"
   },
   "outputs": [],
   "source": [
    "import py_label_heatmap\n",
    "from importlib import reload  \n",
    "reload(py_label_heatmap)\n",
    "\n",
    "df = S_At + S_Mt\n",
    "df = df.loc[S_At.index, S_At.columns]\n",
    "fen_l = S_At_f\n",
    "fi = \"SGA\"\n",
    "\n",
    "# add side bar columns\n",
    "label_column = \"%s_type_\" % fi\n",
    "dfi = deepcopy(df)\n",
    "# id_l =[0] + [list(dfi.index).index(ele) for ele in fen_l] + [dfi.shape[0]]\n",
    "# dfi[label_column] = np.sum([[label_column+ str(i)]*(id_l[i+1]-id_l[i]) for i in range(len(id_l)-1)])\n",
    "dfi[label_column] = \"SGA_type_0\"\n",
    "\n",
    "# color_pal = sns.color_palette(\"RdBu_r\", 15)[7:-1]\n",
    "\n",
    "df_labels = [\"Normal\", \"CNV\", \"Mutation\" ]\n",
    "df_pal = [color_pal[0], \"#ace600\", color_pal[-1]]  # selected color\n",
    "color_pal = df_pal\n",
    "rc_labels = dfi[label_column]\n",
    "rc_pal = [sns.color_palette(\"Set2\", 4)[1]]  # random color\n",
    "# tick_l = [\"TP53\",\"CDKN2A\",\"CDKN2B\",\"RB1\", \"NOTCH1\", \"NSD1\", \"NFE2L2\",\n",
    "#           \"KEAP1\", \"FBXW7\", \"EP300\", \"EGFR\", \"PIK3CA\", \"PTEN\", \"CASP8\", \"FAT1\", \"HRAS\"]\n",
    "\n",
    "py_label_heatmap.label_heatmap(\n",
    "    dfi, fen_l, color_pal, \n",
    "    df_labels,rc_labels, df_pal, rc_pal, \n",
    "    df_legend_position=(0.1, 0.35), rc_legend_position=(0.1, 0.5),\n",
    "    label_column=label_column,\n",
    "    r_c=False, c_c=False, y_t=False, x_t=False, \n",
    "    show_tick=False, tick_l=None,\n",
    "    col_name=fi, row_name=\"Sample\",\n",
    "    dfi_legend_title=\"%s State\" % fi,\n",
    "    rc_legend_title=\"Subtype\", \n",
    "    figure_name=\"HNSC_plot/S_At_heatmap.png\")"
   ]
  },
  {
   "cell_type": "markdown",
   "metadata": {
    "Collapsed": "false"
   },
   "source": [
    "## Cotinous Data"
   ]
  },
  {
   "cell_type": "code",
   "execution_count": null,
   "metadata": {},
   "outputs": [],
   "source": [
    "# 调色板\n",
    "colors = [\"windows blue\", \"amber\", \"greyish\", \"faded green\", \"dusty purple\"]\n",
    "a = sns.color_palette(\"dark\")\n",
    "sns.palplot(a)\n",
    "print(a.as_hex())"
   ]
  },
  {
   "cell_type": "code",
   "execution_count": null,
   "metadata": {},
   "outputs": [],
   "source": [
    "# use samples in TCGA paper\n",
    "cc_df = pd.read_excel(\"chunhui/Input/HNSC/TCGA/nature14129-s2/7.2.xlsx\", header=0, index_col=0)\n",
    "cc_df.index = [ele.replace(\".\", \"-\") for ele in cc_df.index]\n",
    "ov_l = [ele for ele in S_Dci.index if ele in cc_df.index]\n",
    "set(S_Dci_f) & set(ov_l)\n",
    "# ov = S_Dci.loc[ov_l]\n",
    "# plt.figure(figsize=(15,10))\n",
    "# g = sns.clustermap(ov, cmap=\"RdBu_r\")\n",
    "# ov = ov.iloc[g.dendrogram_row.reordered_ind, g.dendrogram_col.reordered_ind]\n",
    "# ov_f = ['TCGA-CQ-6225', 'TCGA-CN-6019',\"TCGA-DQ-5624\"]\n",
    "\n",
    "oov =  S_Dci.loc[ov_l]\n",
    "oov_f = ['TCGA-CV-7253', 'TCGA-CN-6011','TCGA-CN-4738']\n",
    "\n",
    "# cc_df[\"DEG_type_\"] = cc_df[\"RNA\"]\n",
    "# dfi = pd.concat([oov, cc_df.loc[oov.index, [\"DEG_type_\"]]], 1)"
   ]
  },
  {
   "cell_type": "code",
   "execution_count": null,
   "metadata": {},
   "outputs": [],
   "source": [
    "dfi"
   ]
  },
  {
   "cell_type": "code",
   "execution_count": null,
   "metadata": {
    "Collapsed": "false"
   },
   "outputs": [],
   "source": [
    "import py_label_heatmap\n",
    "from importlib import reload  \n",
    "reload(py_label_heatmap)\n",
    "\n",
    "df = oov\n",
    "fen_l = oov_f\n",
    "fi = \"DEG\"\n",
    "# add side bar columns\n",
    "label_column = \"%s_type_\" % fi\n",
    "dfi = deepcopy(df)\n",
    "id_l =[0] + [list(dfi.index).index(ele) for ele in fen_l] + [dfi.shape[0]]\n",
    "dfi[label_column] = np.sum([[label_column+ str(i)]*(id_l[i+1]-id_l[i]) for i in range(len(id_l)-1)])"
   ]
  },
  {
   "cell_type": "code",
   "execution_count": null,
   "metadata": {},
   "outputs": [],
   "source": [
    "dfi[[\"DEG_type_\"]].to_csv(\"DEG_275patients.csv\", header=True, index=True)"
   ]
  },
  {
   "cell_type": "code",
   "execution_count": null,
   "metadata": {
    "Collapsed": "false"
   },
   "outputs": [],
   "source": [
    "import py_label_heatmap\n",
    "from importlib import reload  \n",
    "reload(py_label_heatmap)\n",
    "\n",
    "color_pal = \"RdBu_r\"\n",
    "df_labels = [\"Decrease\", \"Increase\"]\n",
    "df_pal = [color_pal[0], color_pal[-1]]  # selected color\n",
    "rc_labels = dfi[label_column]\n",
    "\n",
    "rc_pal = sns.color_palette(\"Set2\", 4)  # random color\n",
    "# tick_l = [\"TP53\",\"CDKN2A\",\"CDKN2B\",\"RB1\", \"NOTCH1\", \"NSD1\", \"NFE2L2\",\n",
    "#           \"KEAP1\", \"FBXW7\", \"EP300\", \"EGFR\", \"PIK3CA\", \"PTEN\", \"CASP8\", \"FAT1\", \"HRAS\"]\n",
    "py_label_heatmap.label_heatmap(\n",
    "    dfi, color_pal, \n",
    "    df_labels, rc_labels, df_pal, rc_pal,\n",
    "    df_legend_position=(0.1, 0.4), rc_legend_position=(0.1, 0.5),\n",
    "    continous=True, cbar_location=(0.1,0.3,0.02,0.08),\n",
    "    label_column=label_column,\n",
    "    r_c=False, c_c=False, y_t=False, x_t=False, \n",
    "    show_tick=False, tick_l=None,\n",
    "    col_name=fi, row_name=\"Sample\",\n",
    "    dfi_legend_title=\"%s State\" % fi,\n",
    "    rc_legend_title=\"Subtype\", \n",
    "    figure_name=\"HNSC_plot/%s_ALL.png\" % fi)"
   ]
  },
  {
   "cell_type": "markdown",
   "metadata": {
    "Collapsed": "false"
   },
   "source": [
    "# Save as Survival"
   ]
  },
  {
   "cell_type": "code",
   "execution_count": null,
   "metadata": {},
   "outputs": [],
   "source": [
    "# read survival data \n",
    "sur_df = pd.read_table(\"chunhui/Input/HNSC/HNSC_survival.txt\", sep=\"\\t\", index_col=1)\n",
    "par = \"OS\"\n",
    "sur_dfs = sur_df[[\"%s.time\" % par, par]].dropna(axis=0, how=\"any\")\n",
    "sur_dfs = sur_dfs[~sur_dfs.index.duplicated(keep='first')]"
   ]
  },
  {
   "cell_type": "code",
   "execution_count": null,
   "metadata": {},
   "outputs": [],
   "source": [
    "# paper suv\n",
    "sur_curve = pd.concat([cc_df[[\"RNA\"]], sur_dfs.loc[cc_df.index]], 1)\n",
    "sur_curve.columns = [\"Groups\", \"Days\", \"Events\"]\n",
    "sur_curve.loc[ov.index,:].to_csv(\"chunhui/Output/HNSC/nature_surv.csv\", index=True, header=True)"
   ]
  },
  {
   "cell_type": "code",
   "execution_count": null,
   "metadata": {},
   "outputs": [],
   "source": [
    "# Plot Sur\n",
    "\n",
    "lis = {\"S_Ai\": [S_Ai, \"SGA\"], \"S_Pci\": [S_Pci, \"PRO\"],  \"S_Dci\":[S_Dci, \"DEG\"], \"S_Dct\":[S_Dct, \"DEG\"]}\n",
    "lis = {\"oov\": [oov, \"DEG\"]}\n",
    "for ele in lis.keys():\n",
    "    \n",
    "    df = lis[ele][0]\n",
    "    fen_l = locals()[ele + \"_f\"]\n",
    "#     dfs = new_sur\n",
    "    dfs = sur_dfs\n",
    "\n",
    "\n",
    "    # # hierarchy\n",
    "    # fig = plt.figure()\n",
    "    # ax1 = fig.add_subplot(111) \n",
    "\n",
    "    # g = sns.clustermap(df, cmap=\"vlag\", center=0)\n",
    "    # Z = g.dendrogram_row.linkage\n",
    "    # # Z = hierarchy.linkage(df)\n",
    "\n",
    "    # hierarchy.set_link_color_palette(['blue', 'red', 'yellow', 'green', 'pink'])\n",
    "    # dn1 = hierarchy.dendrogram(Z, ax=ax1, color_threshold=2.5, orientation='top')\n",
    "\n",
    "    # hierarchy.set_link_color_palette(None)  # reset to default after use\n",
    "    # plt.show()\n",
    "\n",
    "    idx_l = list(df.index)\n",
    "    id_l = [idx_l.index(ele) for ele in fen_l]\n",
    "    id_l.insert(0, 0)\n",
    "    id_l.insert(len(id_l), df.shape[0])\n",
    "    print(id_l)\n",
    "\n",
    "    # Surivival Plot\n",
    "    fig = plt.figure(figsize=(5,7))\n",
    "    ax1 = fig.add_subplot(111) \n",
    "\n",
    "    km = KaplanMeierFitter()\n",
    "    \n",
    "    s_l = []\n",
    "    t_l = []\n",
    "    g_l = []\n",
    "    e_l = []\n",
    "    # manually\n",
    "    for i in range(len(id_l)-1):\n",
    "        ele_ls = idx_l[id_l[i]: id_l[i+1]]\n",
    "    # hierarchy\n",
    "    # for ele in ['blue', 'red', 'yellow', 'green', 'pink']:\n",
    "    #     ele_l = [dn1['leaves'][i] for i in range(len(dn1['color_list'])) if dn1['color_list'][i]==ele]\n",
    "    #     ele_ls = df.index[ele_l]\n",
    "\n",
    "        df_m = dfs.loc[set(ele_ls) & set(dfs.index)]\n",
    "        df_m = df_m[~df_m.index.duplicated(keep='first')]\n",
    "        \n",
    "        i = str(i)\n",
    "        locals()[\"T_\" + i] = df_m['%s.time' % par] #/ 365\n",
    "        locals()[\"E_\" + i] = df_m[par]\n",
    "        s_l.extend(df_m.index)\n",
    "        t_l.extend(locals()[\"T_\" + i])\n",
    "        g_l.extend([\"%s_subtype_%s\" % (lis[ele][1], i)]*locals()[\"T_\" + i].shape[0])\n",
    "        e_l.extend(locals()[\"E_\" + i])\n",
    "        km.fit(locals()[\"T_\" + i], event_observed=locals()[\"E_\" + i], label=\"%s_subtype_%s\" % (lis[ele][1], i))\n",
    "        km.survival_function_.plot(ax=ax1)\n",
    "\n",
    "    ax1.set_xlabel(\"Days\")\n",
    "#     ax1.set_xlim([0,2500])\n",
    "\n",
    "    lr = pairwise_logrank_test(t_l, g_l, e_l)\n",
    "\n",
    "    surv_curve = pd.DataFrame([t_l, g_l, e_l ], index=[\"Days\", \"Groups\", \"Events\"], columns=s_l).T\n",
    "    \n",
    "#     print(test.shape)\n",
    "    surv_curve.to_csv(\"chunhui/Output/HNSC/%s_HNSC_Sur.csv\" % ele, index=True, header=True)\n",
    "    plt.savefig(\"HNSC_plot/%s_subtype.png\" % ele, dpi=600)"
   ]
  },
  {
   "cell_type": "code",
   "execution_count": null,
   "metadata": {},
   "outputs": [],
   "source": [
    "# Suboverlapping\n",
    "df0 = sur_curve\n",
    "df0_subtype = np.unique(df0[\"Groups\"])\n",
    "df1 = surv_curve\n",
    "df1_subtype = np.unique(df1[\"Groups\"])\n",
    "\n",
    "df0_l = [list(df0.loc[df0[\"Groups\"]==ele, \"Groups\"].index) for ele in df0_subtype]\n",
    "df1_l = [list(df1.loc[df1[\"Groups\"]==ele, \"Groups\"].index) for ele in df1_subtype]\n",
    "\n",
    "\n",
    "\n",
    "ovl_l = [[len(set(df0) & set(df1)) for df0 in df0_l] for df1 in df1_l]\n",
    "ovl_df = pd.DataFrame(ovl_l)\n",
    "ovl_df.columns = df0_subtype\n",
    "ovl_df.index = df1_subtype\n",
    "ovl_df.to_csv(\"chunhui/Output/HNSC/oovl_df.csv\", index=True, header=True)"
   ]
  },
  {
   "cell_type": "markdown",
   "metadata": {},
   "source": [
    "# risk factor"
   ]
  },
  {
   "cell_type": "code",
   "execution_count": null,
   "metadata": {},
   "outputs": [],
   "source": [
    "# HNSC TCI DEG\n",
    "S_Ai = pd.read_csv(\"chunhui/Output/HNSC/S_Ai_clu.csv\", header=0, index_col=0)\n",
    "S_Ai.index = [ele[0:12] for ele in S_Ai.index]\n",
    "S_Ai_f = ['TCGA-CV-5430','TCGA-CQ-5327', 'TCGA-CN-6010']\n",
    "\n",
    "S_Dci = pd.read_csv(\"chunhui/Output/HNSC/S_Dci_clu.csv\", header=0, index_col=0)\n",
    "S_Dci.index = [ele[0:12] for ele in S_Dci.index]\n",
    "S_Dci_f = [\"TCGA-CV-7253\",\"TCGA-P3-A6T3\", \"TCGA-TN-A7HJ\"] # ct DEG\n",
    "\n",
    "df = S_Dci\n",
    "fen_l = S_Dci_f\n",
    "label_column = \"DEG_subtype_\"\n",
    "# add side bar columns\n",
    "dfi = deepcopy(df)\n",
    "id_l =[0] + [list(dfi.index).index(ele) for ele in fen_l] + [dfi.shape[0]]\n",
    "g_l = [list(dfi.index)[id_l[i]: id_l[i+1]] for i in range(len(id_l)-1)]\n",
    "dfi[label_column] = np.sum([[label_column+ str(i)]*(id_l[i+1]-id_l[i]) for i in range(len(id_l)-1)])"
   ]
  },
  {
   "cell_type": "code",
   "execution_count": null,
   "metadata": {},
   "outputs": [],
   "source": [
    "# clinic risk factor\n",
    "cli = pd.read_csv(\"chunhui/Input/HNSC/TCGA/HNSC_clinicalMatrix\", sep=\"\\t\")\n",
    "cli.index = cli[\"sampleID\"]\n",
    "ncli = cli.loc[[ele for ele in cli.index if \"-11\" in ele],:]\n",
    "acli = cli.loc[[ele for ele in cli.index if \"-01\" in ele],:]\n",
    "acli.index = [ele[0:12] for ele in acli.index]"
   ]
  },
  {
   "cell_type": "code",
   "execution_count": null,
   "metadata": {},
   "outputs": [],
   "source": [
    "# hpv state\n",
    "sta = pd.read_csv(\"chunhui/Input/HNSC/hnsc_tcga_pan_can_atlas_2018_clinical_data.tsv\", sep=\"\\t\")\n",
    "sta.index  = sta[\"Sample ID\"]\n",
    "\n",
    "hpv = sta[[\"Subtype\"]]\n",
    "hpv.loc[hpv[\"Subtype\"] == \"HNSC_HPV-\", \"Subtype\"] = 0\n",
    "hpv.loc[hpv[\"Subtype\"] == \"HNSC_HPV+\", \"Subtype\"] = 1\n",
    "hpv = hpv.fillna(\"NAN\")\n",
    "hpv.index = [ele[0:12] for ele in hpv.index]"
   ]
  },
  {
   "cell_type": "code",
   "execution_count": null,
   "metadata": {},
   "outputs": [],
   "source": [
    "# stage\n",
    "stage = acli[[\"clinical_stage\"]].fillna(\"none\")\n",
    "stage = acli[[\"pathologic_stage\"]].fillna(\"none\")\n",
    "stage[stage == 'Stage I'] = 1\n",
    "stage[stage == 'Stage II'] = 2\n",
    "stage[stage == 'Stage III'] = 3\n",
    "stage[stage == 'Stage IVA'] = 4\n",
    "stage[stage == 'Stage IVB'] = 5\n",
    "stage[stage == 'Stage IVC'] = 6\n",
    "stage[stage == '[Discrepancy]'] = \"none\"\n",
    "\n",
    "\n",
    "# PNI metasesi, perineural_invasion_present\n",
    "pip = acli[[\"perineural_invasion_present\"]].fillna(\"none\")\n",
    "\n",
    "# pip[pip == 'YES'] = 1\n",
    "# pip[pip == 'NO'] = 0\n",
    "\n",
    "# solerval glend tumor, exxcl\n",
    "ht = acli[[\"histological_type\"]].fillna(\"none\")\n",
    "\n",
    "# ht[ht == 'Head & Neck Squamous Cell Carcinoma'] = 1\n",
    "# ht[ht == 'Head & Neck Squamous Cell Carcinoma, Spindle Cell Variant'] = 2\n",
    "# ht[ht == 'Head & Neck Squamous Cell Carcinoma Basaloid Type'] = 3\n",
    "\n",
    "# gender\n",
    "gender = acli[[\"gender\"]].fillna(\"none\")\n",
    "\n",
    "# gender[gender[\"gender\"] == \"FEMALE\"] = 0\n",
    "# gender[gender[\"gender\"] == \"MALE\"] = 1\n",
    "\n",
    "# smoking\n",
    "smo = acli[[\"tobacco_smoking_history\"]].fillna(\"none\")\n",
    "\n",
    "# alcohol\n",
    "alco = acli[[\"alcohol_history_documented\"]].fillna(\"none\")\n",
    "# alco[alco == 'YES'] = 1\n",
    "# alco[alco == 'NO'] = 0\n",
    "\n",
    "ext = pd.concat((stage, gender, smo, alco, pip, ht), 1)\n",
    "a = ext.loc[~ext.index.duplicated(keep='first')].copy()\n",
    "b = a.loc[dfi.index,:]\n",
    "ndfi = pd.concat((dfi, b), 1)\n",
    "\n",
    "ndfi[\"sga:TP53\"] = S_Ai.loc[ndfi.index, [\"TP53\"]]\n",
    "ndfi[\"sga:NOTCH1\"] = S_Ai.loc[ndfi.index, [\"NOTCH1\"]]\n",
    "ndfi[\"sga:NSD1\"] = S_Ai.loc[ndfi.index, [\"NSD1\"]]\n",
    "no_l = [ele for ele in ndfi.index if ele not in hpv.index]\n",
    "for ele in no_l:\n",
    "    hpv.loc[ele, \"Subtype\"] = \"none\"\n",
    "hpv[hpv == \"NAN\"] = \"none\"\n",
    "ndfi[\"HPV\"] = hpv.loc[ndfi.index, [\"Subtype\"]]"
   ]
  },
  {
   "cell_type": "code",
   "execution_count": null,
   "metadata": {},
   "outputs": [],
   "source": [
    "\n",
    "ndfi.loc[dfi.index, :].to_csv(\"chunhui/Output/HNSC/clinical_rf.csv\", header=True, index=True)"
   ]
  },
  {
   "cell_type": "markdown",
   "metadata": {},
   "source": [
    "# age and TMB"
   ]
  },
  {
   "cell_type": "code",
   "execution_count": null,
   "metadata": {},
   "outputs": [],
   "source": [
    "age = cli[[\"age_at_initial_pathologic_diagnosis\"]].fillna(0)\n",
    "age[age[\"age_at_initial_pathologic_diagnosis\"] == 0] = 60\n",
    "# np.sum(stage, 0)/(stage.shape[0] - np.sum(stage[stage == 0], 0))\n",
    "\n",
    "stage = age"
   ]
  },
  {
   "cell_type": "code",
   "execution_count": null,
   "metadata": {},
   "outputs": [],
   "source": [
    "TMB = pd.read_csv(\"chunhui/Input/HNSC/TMB.csv\", index_col=0, header=0)\n",
    "TMB.index = [ele[0:12] for ele in TMB.index]\n",
    "tmb = TMB.loc[TMB.index & S_Ai.index]\n",
    "\n",
    "stage = tmb"
   ]
  },
  {
   "cell_type": "code",
   "execution_count": null,
   "metadata": {},
   "outputs": [],
   "source": [
    "for i in range(len(g_l)):\n",
    "    locals()[\"DEG_type_\" + str(i)] = stage.loc[set(g_l[i]) & set(stage.index), :]\n",
    "    locals()[\"DEG_type_\" + str(i)].columns = [\"VAR\"]\n",
    "    locals()[\"DEG_type_\" + str(i)][\"Subtype\"] = \"DEG_type_\" + str(i)\n",
    "a = pd.concat((DEG_type_0, DEG_type_1, DEG_type_2, DEG_type_3), 0)\n",
    "# stats.f_oneway(DEG_type_0, DEG_type_1, DEG_type_2, DEG_type_3)\n",
    "\n",
    "plt.figure(figsize=(5,5))\n",
    "plt.xticks(rotation=45)\n",
    "b = pd.melt(a, id_vars=[\"Subtype\"])\n",
    "# g = sns.boxplot(x=\"Subtype\", y=\"value\", data=b, palette=sns.color_palette(\"Set2\", 4))\n",
    "g = sns.violinplot(x=\"Subtype\", y=\"value\", data=b, palette=sns.color_palette(\"Set2\", 4))\n",
    "\n",
    "# g.set_ylim([0, 20])\n",
    "g.set_xlabel(None)\n",
    "g.set_ylabel(\"AGE\")\n",
    "# plt.savefig(\"HNSC_plot/SGADEG_Muation_Recall.png\", dpi=600)"
   ]
  }
 ],
 "metadata": {
  "kernelspec": {
   "display_name": "Python 3",
   "language": "python",
   "name": "python3"
  },
  "language_info": {
   "codemirror_mode": {
    "name": "ipython",
    "version": 3
   },
   "file_extension": ".py",
   "mimetype": "text/x-python",
   "name": "python",
   "nbconvert_exporter": "python",
   "pygments_lexer": "ipython3",
   "version": "3.8.3"
  },
  "toc-autonumbering": true,
  "toc-showcode": true,
  "toc-showmarkdowntxt": true,
  "toc-showtags": false
 },
 "nbformat": 4,
 "nbformat_minor": 4
}
