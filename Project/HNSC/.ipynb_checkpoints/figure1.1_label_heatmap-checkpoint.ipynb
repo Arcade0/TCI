{
 "cells": [
  {
   "cell_type": "markdown",
   "metadata": {
    "Collapsed": "false"
   },
   "source": [
    "# Import pack"
   ]
  },
  {
   "cell_type": "code",
   "execution_count": null,
   "metadata": {
    "Collapsed": "false"
   },
   "outputs": [],
   "source": [
    "import numpy as np\n",
    "import pandas as pd\n",
    "import os\n",
    "import seaborn as sns\n",
    "import matplotlib as mpl\n",
    "from matplotlib import pyplot as plt\n",
    "from copy import deepcopy\n",
    "\n",
    "from sklearn.datasets import make_checkerboard\n",
    "from sklearn.datasets import samples_generator as sg\n",
    "from sklearn.cluster.bicluster import SpectralBiclustering\n",
    "from sklearn.cluster.bicluster import SpectralCoclustering\n",
    "from sklearn.metrics import consensus_score\n",
    "from lifelines import KaplanMeierFitter\n",
    "from lifelines.statistics import logrank_test, pairwise_logrank_test, multivariate_logrank_test\n",
    "from scipy.cluster import hierarchy\n",
    "\n",
    "import scipy.stats as stats\n"
   ]
  },
  {
   "cell_type": "markdown",
   "metadata": {
    "Collapsed": "false"
   },
   "source": [
    "# Read file"
   ]
  },
  {
   "cell_type": "code",
   "execution_count": null,
   "metadata": {
    "Collapsed": "false"
   },
   "outputs": [],
   "source": [
    "# Pan Can\n",
    "S_Dc = pd.read_csv(\"../TCI/EM/Input/TCGA expression.csv\", index_col=0, header=0)\n",
    "\n",
    "S_D = pd.read_csv('../TCI/TCGA_info/Input/PanCancer13tts.DEGmatrix.4TCI.csv', index_col=0, header=0)\n",
    "\n",
    "S_A = pd.read_csv('../TCI/TCGA_info/Input/PanCancer13tts.SGAmatrix.4TCI.csv', index_col=0, header=0)\n",
    "\n",
    "A_Do = pd.read_csv(\"../TCI/EM/A_Do.csv\", index_col=0, header=0)"
   ]
  },
  {
   "cell_type": "code",
   "execution_count": null,
   "metadata": {
    "Collapsed": "false"
   },
   "outputs": [],
   "source": [
    "# # pre cluster data\n",
    "# a = S_A.loc[S_Ai.index & S_A.index, :]\n",
    "# g1 = sns.clustermap(a, col_cluster=False, cmap=sns.color_palette(\"RdBu_r\", 15)[7:-1])\n",
    "# b = a.iloc[g1.dendrogram_row.reordered_ind,:]\n",
    "\n",
    "# import sys  # 导入sys模块\n",
    "# sys.setrecursionlimit(10000)  # 将默认的递归深度修改为3000\n",
    "\n",
    "# g2 = sns.clustermap(b, row_cluster=False, cmap=\"RdBu_r\")\n",
    "# c = b.iloc[:, g2.dendrogram_col.reordered_ind]"
   ]
  },
  {
   "cell_type": "code",
   "execution_count": null,
   "metadata": {
    "Collapsed": "false"
   },
   "outputs": [],
   "source": [
    "# HNSC\n",
    "# HNSC TCI MUT\n",
    "S_Ai = pd.read_csv(\"chunhui/Output/HNSC/S_Ai_clu.csv\", header=0, index_col=0)\n",
    "S_Ai.index = [ele[0:12] for ele in S_Ai.index]\n",
    "S_Ai_f = ['TCGA-CV-5430','TCGA-CQ-5327', 'TCGA-CN-6010']\n",
    "\n",
    "S_Mi = pd.read_csv(\"chunhui/Input/HNSC/TCGA/S_Mi.csv\", header=0, index_col=0)\n",
    "S_Mi.index = [ele[0:12] for ele in S_Mi.index]\n",
    "\n",
    "# add empty row and column\n",
    "add_l = [idx for idx in S_Ai.index if idx not in S_Mi.index]\n",
    "for ele in add_l:\n",
    "    S_Mi.loc[ele,:] = 0\n",
    "add_l = [idx for idx in S_Ai.columns if idx not in S_Mi.columns]\n",
    "for ele in add_l:\n",
    "    S_Mi.loc[:,ele] = 0\n",
    "\n",
    "S_At = pd.read_csv(\"chunhui/Output/HNSC/S_A_clu.csv\", header=0, index_col=0)\n",
    "S_At_f = [\"TCGA-WA-A7GZ\", \"TCGA-WA-A7GZ\", \"TCGA-WA-A7GZ\"]\n",
    "\n",
    "S_Mt = pd.read_csv(\"chunhui/Input/HNSC/TCGA/HNSC_mc3_gene_level.txt\" ,sep='\\t', index_col=0).T\n",
    "S_Mt.index = [ele[0:12] for ele in S_Mt.index]\n",
    "S_Mt = S_Mt.loc[S_Mt.index & S_At.index, S_Mt.columns & S_At.columns]\n",
    "\n",
    "S_Mt = pd.read_csv(\"chunhui/Input/HNSC/TCGA/HNSC_mc3_gene_level.txt\" ,sep='\\t', index_col=0).T\n",
    "S_Mt.index = [ele[0:12] for ele in S_Mt.index]\n",
    "S_Mt = S_Mt.loc[S_Mt.index & S_At.index, S_Mt.columns & S_At.columns]\n",
    "\n",
    "# add empty row and column\n",
    "add_l = [idx for idx in S_At.columns if idx not in S_Mt.columns]\n",
    "for ele in add_l:\n",
    "    S_Mt.loc[:,ele] = 0\n",
    "\n",
    "add_l = [idx for idx in S_At.index if idx not in S_Mt.index]\n",
    "for ele in add_l:\n",
    "    S_Mt.loc[ele,:] = 0\n",
    "\n",
    "# HNSC TCI PRO\n",
    "S_Pci = pd.read_csv(\"chunhui/Output/HNSC/S_Pci_clu.csv\", header=0, index_col=0)\n",
    "S_Pci.index = [ele[0:12] for ele in S_Pci.index]\n",
    "S_Pci_f = [\"TCGA-CR-7370\", \"TCGA-CV-5441\", \"TCGA-CV-A45O\"]  # ct PRO\n",
    "\n",
    "# HNSC TCI DEG\n",
    "S_Dci = pd.read_csv(\"chunhui/Output/HNSC/S_Dci_clu.csv\", header=0, index_col=0)\n",
    "S_Dci.index = [ele[0:12] for ele in S_Dci.index]\n",
    "S_Dci_f = [\"TCGA-CV-7253\",\"TCGA-P3-A6T3\", \"TCGA-TN-A7HJ\"] # ct DEG\n",
    "\n",
    "# All DEG\n",
    "S_Dct = pd.read_csv(\"chunhui/Output/HNSC/S_Dct_clu.csv\", header=0, index_col=0)\n",
    "S_Dct.index = [ele[0:12] for ele in S_Dct.index]\n",
    "S_Dct_f = [\"TCGA-F7-7848\", \"TCGA-CV-7180\", \"TCGA-F7-A623\"]\n",
    "\n",
    "# hpv = pd.read_csv(\"chunhui/Input/HNSC/TCGA/PORT/HNSC_hpvstates.csv\", header=0, index_col=0)\n",
    "# hpv.loc[hpv[\"x\"] == \"hpvneg\", \"x\"] = 0\n",
    "# hpv.loc[hpv[\"x\"] == \"hpvpos\", \"x\"] = 1\n",
    "# hpv.loc[pd.isna(hpv[\"x\"]), \"x\"] = 0\n",
    "# hpv = pd.DataFrame(np.int64(hpv), index=hpv.index, columns=[\"HPV\"])\n",
    "\n",
    "# Survival Data\n",
    "sur_df = pd.read_table(\"chunhui/Input/HNSC/HNSC_survival.txt\", sep=\"\\t\", index_col=1)\n",
    "par = \"OS\"\n",
    "sur_dfs = sur_df[[\"%s.time\" % par, par]].dropna(axis=0, how=\"any\")\n",
    "\n",
    "# # Paper\n",
    "# subtype = pd.read_csv(\"PORT/7.2.csv\", index_col=0, header=0)\n",
    "# subtype.index = [ele.replace(\".\", \"-\") for ele in subtype.index]"
   ]
  },
  {
   "cell_type": "code",
   "execution_count": null,
   "metadata": {},
   "outputs": [],
   "source": [
    "# LUAD TCI MUT\n",
    "S_Ai = pd.read_csv(\"chunhui/Output/LUAD/S_Ai_clu.csv\", header=0, index_col=0)\n",
    "S_Ai.index = [ele[0:12] for ele in S_Ai.index]\n",
    "S_Ai_f = [\"TCGA-J2-A4AG\", \"TCGA-69-7760\", \"TCGA-44-6148\" ]\n",
    "\n",
    "# LUAD TCI DEG\n",
    "S_Di = pd.read_csv(\"chunhui/Output/LUAD/S_Di_clu.csv\", header=0, index_col=0)\n",
    "S_Di.index = [ele[0:12] for ele in S_Di.index]\n",
    "S_Di_f = [\"TCGA-35-5375\", \"TCGA-44-7661\", \"TCGA-55-7815\"] # disc DEG\n",
    "\n",
    "S_Dci = pd.read_csv(\"chunhui/Output/LUAD/S_Dci_clu.csv\", header=0, index_col=0)\n",
    "S_Dci.index = [ele[0:12] for ele in S_Dci.index]\n",
    "S_Dci_f = [\"TCGA-49-4486\", \"TCGA-MP-A4T6\", \"TCGA-55-7995\"]  # ct DEG\n",
    "\n",
    "# All DEG\n",
    "# S_Dai = pd.read_csv(\"chunhui/Output/LUAD/S_Dai_clu.csv\", header=0, index_col=0)\n",
    "# S_Dai.index = [ele[0:12] for ele in S_Dai.index]\n",
    "# S_Dai_f = [\"TCGA-QK-A6V9\", \"TCGA-CN-5358\", \"TCGA-CV-7248\"]\n",
    "\n",
    "# S_Dcai = pd.read_csv(\"chunhui/Output/LUAD/S_Dcai_clu.csv\", header=0, index_col=0)\n",
    "# S_Dcai.index = [ele[0:12] for ele in S_Dcai.index]\n",
    "# S_Dcai_f = [\"TCGA-CV-A6JT\", \"TCGA-KUA6-H8\", \"TCGA-CN-A6V3\"]\n",
    "\n",
    "# LUAD TCI PRO\n",
    "S_Pi = pd.read_csv(\"chunhui/Output/LUAD/S_Pi_clu.csv\", header=0, index_col=0)\n",
    "S_Pi.index = [ele[0:12] for ele in S_Pi.index]\n",
    "S_Pi_f = [\"TCGA-91-6828\", \"TCGA-50-5933\", \"TCGA-55-7815\"] # disc PRO\n",
    "\n",
    "S_Pci = pd.read_csv(\"chunhui/Output/LUAD/S_Pci_clu.csv\", header=0, index_col=0)\n",
    "S_Pci.index = [ele[0:12] for ele in S_Pci.index]\n",
    "S_Pci_f = [\"TCGA-86-8359\", \"TCGA-73-7499\", \"TCGA-55-7994\"]  # ct PRO\n",
    "\n",
    "# Survival Data\n",
    "sur_df = pd.read_table(\"chunhui/Input/LUAD/LUAD_survival.txt\", sep=\"\\t\", index_col=1)\n",
    "par = \"OS\"\n",
    "sur_dfs = sur_df[[\"%s.time\" % par, par]].dropna(axis=0, how=\"any\")\n",
    "\n",
    "np.sum(sur_df[\"PFI\"])"
   ]
  },
  {
   "cell_type": "code",
   "execution_count": null,
   "metadata": {},
   "outputs": [],
   "source": [
    "# BRCA\n",
    "BRCA_sub = pd.read_csv(\"chunhui/Input/BRCA/Subtype_BRCA.csv\", index_col=0, header=0)\n",
    "sb_l = [0, \"Basal\", \"Her2\", \"LumA\", \"LumB\", \"Normal\"]\n",
    "\n",
    "# BRCA PRO\n",
    "S_Pi = pd.read_csv(\"chunhui/Output/BRCA/S_Ps_BRCA_ct.csv\", index_col=0, header=0).loc[BRCA_sub.index]\n",
    "S_Pi_f = [\"TCGA-AQ-A04J\", \"TCGA-AC-A62X\", \"TCGA-A2-A1FX\", \"TCGA-A8-A07L\"] \n",
    "\n",
    "# # BRCA DEG\n",
    "# S_Dci = S_Dc.loc[BRCA_sub.index, A_D.columns & S_Dc.columns]\n",
    "# S_Dci_f = [\"TCGA-A7-A3J0\", \"TCGA-A2-A0CO\", \"TCGA-AC-A3W7\", \"TCGA-D8-A1XL\"] \n",
    "\n",
    "# Survival Data\n",
    "sur_df = pd.read_table(\"chunhui/Input/BRCA/BRCA_survival.txt\", sep=\"\\t\", index_col=1)\n",
    "par = \"OS\"\n",
    "sur_dfs = sur_df[[\"%s.time\" % par, par]].dropna(axis=0, how=\"any\")\n",
    "\n",
    "# Suboverlapping\n",
    "\n",
    "df = S_Dci\n",
    "fen_l = S_Dci_f\n",
    "idx_l = list(df.index)\n",
    "id_l = [idx_l.index(ele) for ele in fen_l]\n",
    "id_l.insert(0, 0)\n",
    "id_l.insert(len(id_l), df.shape[0])\n",
    "deg_l = [idx_l[id_l[i]: id_l[i+1]] for i in range(len(id_l)-1)]\n",
    "\n",
    "# Find overlap between samples\n",
    "df = S_Pci\n",
    "fen_l = S_Pci_f\n",
    "idx_l = list(df.index)\n",
    "id_l = [idx_l.index(ele) for ele in fen_l]\n",
    "id_l.insert(0, 0)\n",
    "id_l.insert(len(id_l), df.shape[0])\n",
    "print(id_l)\n",
    "sga_l = [idx_l[id_l[i]: id_l[i+1]] for i in range(len(id_l)-1)]\n",
    "\n",
    "ovl_l = [[len(set(sga) & set(deg)) for sga in sga_l] for deg in deg_l]\n",
    "pd.DataFrame(ovl_l)"
   ]
  },
  {
   "cell_type": "code",
   "execution_count": null,
   "metadata": {
    "Collapsed": "false"
   },
   "outputs": [],
   "source": [
    "# TCGA subtyping gene\n",
    "paper_l = [\n",
    "    \"AADAT\", \"AASS\", \"ABCB10\", \"ABCB6\", \"ABCC1\", \"ABCC3\", \"ABCC5\", \"ABHD1\",\n",
    "    \"ABHD10\", \"ABI2\", \"ACAP2\", \"ACTL6A\", \"ADAM11\", \"ADAM17\", \"ADAM23\", \"ADCY10\",\n",
    "    \"ADD2\", \"ADD3\", \"ADSS\", \"AGPAT5\", \"AGPAT9\", \"AK7\", \"AKAP1\", \"AKAP8\", \n",
    "    \"AKR1C1\", \"AKR1C3\", \"ALCAM\", \"ALDH1A1\", \"ALG10\", \"ALG3\", \"ALMS1\", \"ALMS1P\", \n",
    "    \"ALOX12P2\", \"ANAPC11\", \"ANGEL2\", \"ANKRD40\", \"ANP32E\", \"ANXA10\", \"AP3M2\", \"APEX1\", \n",
    "    \"APOA1BP\", \"APOBEC3D\", \"APOBEC3F\", \"APOOL\", \"AQP11\", \"ARHGAP8\", \n",
    "    \"ARID4B\", \"ARL13B\", \"ARMC8\", \"ARMCX6\", \"ARSJ\", \"ASF1A\", \"ASNS\", \"ASPM\", \"ATAD2\",\n",
    "    \"ATAD5\", \"ATF2\", \"ATP1B1\", \"ATP2B1\", \"ATP2C1\", \"ATP4A\", \"ATP6V1B1\", \"ATP8B3\", \"ATRN\",\n",
    "    \"ATXN10\", \"B3GALNT2\", \"B4GALNT1\", \"B4GALT4\", \"BAZ1A\", \"BCAT1\",\n",
    "    \"BCL7A\", \"BDNF\", \"BEX2\", \"BEX5\", \"BFSP1\", \"BHMT\", \"BID\", \"BIK\", \"BOD1\", \"BOLA3\",\n",
    "    \"BRAF\", \"BRCA1\", \"BRCA2\", \"BRIP1\", \"BRMS1L\", \"BUB1\", \"BUB1B\", \"C10orf82\", \"C11orf88\",\n",
    "    \"C12orf32\", \"C12orf47\", \"C12orf48\", \"C12orf66\", \"C14orf101\", \n",
    "    \"C14orf167\", \"C15orf23\", \"C15orf33\", \"C16orf59\", \"C16orf61\", \"C16orf63\", \"C16orf75\",\n",
    "    \"C17orf53\", \"C17orf69\", \"C17orf75\", \"C17orf90\", \"C19orf2\", \"C19orf63\", \"C1D\", \"C1orf107\", \n",
    "    \"C1orf124\", \"C1orf131\", \"C1orf27\", \"C1orf31\", \"C1orf35\",\n",
    "    \"C1orf51\", \"C1orf57\", \"C20orf3\", \"C21orf90\", \"C2orf44\", \"C2orf86\", \"C3orf21\", \"C3orf34\",\n",
    "    \"C3orf58\", \"C6orf162\", \"C6orf167\", \"C6orf168\", \"C7orf27\", \"C8orf51\", \"C9orf100\", \"C9orf125\",\n",
    "    \"C9orf30\", \"C9orf43\", \"CA9\", \"CABYR\", \"CALB1\", \"CALCB\", \n",
    "    \"CAMSAP1L1\", \"CASC5\", \"CASK\", \"CBLL1\", \"CBX1\", \"CBX6\", \"CCDC126\", \"CCDC136\", \"CCDC150\",\n",
    "    \"CCDC46\", \"CCL26\", \"CCNB1IP1\", \"CCT3\", \"CD9\", \"CDC45\", \"CDCA3\", \"CDCA5\", \"CDK19\", \"CDK4\",\n",
    "    \"CDK8\", \"CEBPZ\", \"CENPF\", \"CENPJ\", \"CENPN\", \"CENPO\", \"CEP152\", \n",
    "    \"CEP290\", \"CEP70\", \"CES1\", \"CHAF1A\", \"CHCHD7\", \"CHD1L\", \"CHD6\", \"CHEK2\", \"CHRM2\", \"CHRM3\",\n",
    "    \"CHST7\", \"CHTF18\", \"CKS1B\", \"CLCN2\", \"CLCN5\", \"CLK2\", \"CLTC\", \"CNIH4\", \"CNST\", \"CNTNAP2\", \n",
    "    \"COCH\", \"COG2\", \"COIL\", \"COL11A2\", \"COL20A1\", \"COMMD2\", \"COPB2\", \n",
    "    \"CORO1C\", \"CORO2A\", \"COX7A2L\", \"CREB5\", \"CREG2\", \"CS\", \"CSNK1D\", \"CT45A1\", \"CTCFL\", \"CTPS2\", \"CXCR7\",\n",
    "    \"CXorf57\", \"CXorf61\", \"CYP26A1\", \"CYP2S1\", \"CYP4F11\", \"DARS2\", \"DBF4\", \"DCUN1D1\", \"DDX39\", \n",
    "    \"DDX59\", \"DGKG\", \"DHFRL1\", \"DHX36\", \"DHX9\", \"DIP2B\", \"DKC1\", \"DLEC1\", \"DLG1\", \"DLX6\", \"DMRT2\", \n",
    "    \"DMRT3\", \"DNA2\", \"DNAH14\", \"DNAJB11\", \"DNAJC30\", \"DNMT3A\", \"DPPA2\", \n",
    "    \"DPYSL4\", \"DSCC1\", \"DSCR6\", \"DSG2\", \"DTL\", \"DUSP12\", \"DUSP19\", \"DVL3\", \"DZIP1L\", \"E2F6\", \"ECE2\", \n",
    "    \"ECT2\", \"EFNA1\", \"EFS\", \"EGF\", \"EGLN1\", \"EHHADH\", \"EIF1\", \"EIF2B5\", \"EIF2C2\", \"EIF4A2\", \"ELK4\", \"EN1\", \n",
    "    \"ENO2\", \"ENTPD6\", \"EPB49\", \"EPCAM\", \"EPDR1\", \"EPR1\", \n",
    "    \"ESCO2\", \"ETV1\", \"ETV4\", \"ETV5\", \"EXO1\", \"EXOC6\", \"F11R\", \"FADS1\", \"FAM119A\", \"FAM120C\", \"FAM158A\",\n",
    "    \"FAM161A\", \"FAM169A\", \"FAM189B\", \"FAM200A\", \"FAM20B\", \"FAM36A\", \"FAM55C\", \"FAM64A\", \"FAM71F1\", \"FAM72A\", \n",
    "    \"FAM90A1\", \"FANCI\", \"FBN2\", \"FBXL21\", \"FBXO11\", \n",
    "    \"FBXO15\", \"FBXO21\", \"FBXO28\", \"FEN1\", \"FGF12\", \"FGF19\", \"FGFBP2\", \"FLAD1\", \"FLJ39653\", \"FLVCR1\", \"FMN2\", \n",
    "    \"FOLH1\", \"FOLH1B\", \"FOXK2\", \"FOXM1\", \"FREM1\", \"FSTL4\", \"FSTL5\", \"FXR1\", \"FZD3\", \"FZD6\", \"FZD7\", \"GABPB1\",\n",
    "    \"GABRA5\", \"GABRB3\", \"GABRG3\", \"GALNT8\",\n",
    "    \"GAP43\", \"GATAD1\", \"GBA3\", \"GCGR\", \"GCLC\", \"GCNT2\", \"GCSH\", \"GDAP1\", \"GDF9\", \"GDI1\", \"GFM1\", \"GGT7\", \"GINS1\",\n",
    "    \"GINS2\", \"GJB7\", \"GLRX5\", \"GLT25D2\", \"GMCL1\", \"GMPS\", \"GNA13\", \"GNAZ\", \"GNG4\", \"GNGT1\", \"GNPAT\", \"GOLIM4\", \n",
    "    \"GPC3\", \"GPI\", \"GPR161\", \"GPR176\",\n",
    "    \"GPR19\", \"GPR27\", \"GPR98\", \"GPX2\", \"GSPT2\", \"GSTA1\", \"GSTA2\", \"GSTA3\", \"GSTA4\", \"GSTA5\", \"GSTM1\", \"GSTM2\", \n",
    "    \"GSTM3\", \"GSTM4\", \"GTF2I\", \"GTF2IP1\", \"GTF3C3\", \"GTSE1\", \"GUCY1B2\", \"HAUS4\", \"HDGF\", \"HDGFRP3\", \"HEY1\",\n",
    "    \"HGSNAT\", \"HHAT\", \"HHIPL2\", \"HJURP\", \"HMG20B\",\n",
    "    \"HMGB3L1\", \"HMGXB4\", \"HNRPLL\", \"HOXA10\", \"HOXA11\", \"HOXA13\", \"HOXA5\", \"HOXA9\", \"HOXB13\", \"HOXB5\", \"HOXB6\",\n",
    "    \"HOXB7\", \"HOXB9\", \"HOXC10\", \"HOXC12\", \"HOXC8\", \"HOXC9\", \"HOXD13\", \"HPS3\", \"HS3ST5\", \"HSCB\", \"HSP90AA1\", \n",
    "    \"HSPD1\", \"HSPE1\", \"IARS2\", \"ICK\", \"IDH1\", \"IGF1R\",\n",
    "    \"IGSF11\", \"ILF2\", \"INTU\", \"IPO4\", \"IPO9\", \"IQGAP3\", \"IRF2BP2\", \"ITPKA\", \"ITPKB\", \"JAKMIP2\", \"JOSD1\", \"KCNG3\",\n",
    "    \"KCNH8\", \"KCNJ14\", \"KCNK1\", \"KCNMB3\", \"KCNS3\", \"KDM3A\", \"KIAA0146\", \"KIAA0319\", \"KIAA0406\", \"KIAA0907\",\n",
    "    \"KIAA1715\", \"KIAA1804\", \"KIF11\", \"KIF14\", \"KIF18A\", \n",
    "    \"KIF23\", \"KIF4A\", \"KIRREL2\", \"KLHDC5\", \"KLHDC9\", \"KLHL11\", \"KLHL12\", \"KLHL13\", \"KLHL15\", \"KLHL23\", \"KLHL24\",\n",
    "    \"KNTC1\", \"KRTCAP3\", \"LAPTM4B\", \"LASS2\", \"LASS5\", \"LATS1\", \"LBX2\", \"LCLAT1\", \"LGALS8\", \"LGSN\", \"LIG3\", \"LIM2\",\n",
    "    \"LMAN2L\", \"LMNB2\", \"LOC100303728\", \"LOC152217\", \"LOC389458\", \"LOC400027\", \"LOC440040\", \"LOC728613\", \"LOC729082\",\n",
    "    \"LONRF1\", \"LOXL4\", \"LPHN1\", \"LPP\", \"LPPR1\", \"LRP12\", \"LRP3\", \"LRP8\", \"LRRC34\", \"LRRC37B\", \"LRRC37B2\", \"LRRC4\", \n",
    "    \"LRRC58\", \"LSG1\", \"LTBP4\", \"MAEL\", \"MAFG\", \"MAGEA10\", \"MAGEA11\", \"MAGEA4\", \"MAGEA9B\", \"MAGEB6\", \"MAGEC2\",\n",
    "    \"MAGED4B\", \"MAP1B\", \"MAP2K6\", \"MAP4K3\", \"9-Mar\", \"MARK1\", \"MARS2\", \"MASTL\", \"MBIP\", \"MBTPS2\", \"MC1R\", \"MCCC1\", \n",
    "    \"MCM10\", \"MCM4\", \"MCM7\", \"MDM4\", \"ME1\", \"MEST\", \"METTL1\", \"MEX3A\", \"MEX3B\", \"MFN1\", \"MGC4473\", \"MIB1\", \"MLC1\",\n",
    "    \"MLF1\", \"MLLT11\", \"MNAT1\", \"MORC2\", \"MOSC1\", \"MPHOSPH9\", \"MPP3\", \"MPPED1\", \"MRAP2\", \"MRPL3\", \"MRPL47\", \n",
    "    \"MRPL55\", \"MSH6\", \"MSI2\", \"MSL1\", \"MTERF\", \"MTL5\", \"MTMR4\", \"MTR\", \"MYNN\", \"MYO19\", \"NAP1L2\", \"NARG2\",\n",
    "    \"NAT8L\", \"NCAPD2\",\n",
    "    \"NCAPH\", \"NCBP2\", \"NCRNA00086\", \"NDRG4\", \"NDUFB9\", \"NEDD4L\", \"NEK2\", \"NELL2\", \"NENF\", \"NFE2L2\", \"NFYB\",\n",
    "    \"NGDN\", \"NIPA1\", \"NKAIN2\", \"NLGN1\", \"NLK\", \"NLN\", \"NMB\", \"NMD3\", \"NOL10\", \"NOVA1\", \"NPM2\", \"NPR2\", \"NPR3\",\n",
    "    \"NQO1\", \"NRCAM\", \"NRL\", \"NSL1\", \"NT5C3L\", \"NTRK2\", \"NTS\", \"NUCKS1\", \"NUDT1\", \"NUDT10\", \"NUDT11\", \"NUF2\",\n",
    "    \"NUPL2\", \"NXF2\", \"ODC1\", \"ORAOV1\", \"ORC2L\", \"ORC6L\", \"OSGIN1\", \"OTX1\", \"PAGE2\", \"PAGE5\", \"PAK1\", \"PAK2\",\n",
    "    \"PAK7\", \"PAPOLA\", \"PAQR3\", \"PARD3\", \"PARL\", \"PARP2\", \"PAX6\", \"PBK\", \"PCBP2\", \"PCCB\", \"PCDH19\", \"PCDHB11\", \n",
    "    \"PCDHB2\", \"PCDHB3\", \"PCDHB6\", \"PCDHB7\", \"PCDHB8\", \"PCID2\", \"PCYT1B\", \"PDCD10\", \"PEX13\", \"PFKFB4\", \"PFN2\",\n",
    "    \"PGAP1\", \"PGK1\", \"PGM5P2\", \"PGRMC1\", \"PHACTR3\", \"PHC3\", \"PHKA1\", \"PHLDB2\", \"PHTF2\", \"PIAS2\", \"PIGM\", \"PIGZ\",\n",
    "    \"PIK3CA\", \"PIR\", \"PLA2G10\", \"PLAG1\", \"PLAGL2\", \"PLCB1\", \"PLCB4\", \"PLK5P\", \"PNCK\", \"PNMAL1\", \"PNO1\", \"PNPT1\",\n",
    "    \"PODXL2\", \"POLR2H\", \"POMC\", \"POTEB\", \"POTEE\", \"POTEF\", \"PPFIA1\", \"PPP1R13B\", \"PPP1R16A\", \"PPP2R5A\", \"PPPDE1\",\n",
    "    \"PPT1\", \"PRAME\", \"PRC1\", \"PRCC\", \"PRDM13\", \"PRELID2\", \"PRKAB2\", \"PRKCI\", \"PRKX\", \"PRR7\", \"PRTFDC1\", \"PSAT1\", \n",
    "    \"PSMB4\", \"PSMB5\", \"PSMC1\", \"PSMD11\", \"PSMD2\", \"PTCH1\", \"PTDSS1\", \"PTGES3\", \"PTPLAD1\", \"PYCR1\", \"PYCR2\", \n",
    "    \"QSER1\", \"RAB2B\", \"RAB34\", \"RAB3B\", \"RAB3IP\", \"RAB40B\", \"RAB6B\", \"RAD21\", \"RAD51\", \"RAD51AP1\", \"RAD51L3\", \n",
    "    \"RAD54B\", \"RAD54L\", \"RAGE\", \"RALGAPA1\", \"RANBP1\", \"RASL11A\", \"RASSF9\", \"RBM12B\", \"RBM19\", \"RBM23\", \"RBM34\",\n",
    "    \"RBM8A\", \"RBPMS2\", \"RCN2\", \"RCOR3\", \"RECQL4\", \"RFC3\", \"RFC4\", \"RFWD2\", \"RHBDD3\", \"RIC8B\", \"RIMKLA\", \"RIT1\", \n",
    "    \"RNF175\", \"RNF2\", \"RNF216\", \"RNF7\", \"RNFT2\", \"RPL22L1\", \"RPL39L\", \"RPP25\", \"RPS6KA6\", \"RPS6KC1\", \"RSRC1\", \n",
    "    \"RTKN\", \"RYK\", \"SALL4\", \"SAMD12\", \"SATB2\", \"SCAND3\", \"SCHIP1\", \"SCN1A\",\n",
    "    \"SCN2A\", \"SCN8A\", \"SCUBE3\", \"SDK1\", \"SEC14L4\", \"SEC62\", \"SELT\", \"SEMA3D\", \"SEMA4F\", \"SEMA6D\", \"SENP2\",\n",
    "    \"SENP5\", \"12-Sep\", \"SERHL2\", \"SESN3\", \"SETD8\", \"SFRS13B\", \"SFXN1\", \"SGEF\", \"SGOL2\", \"SHC4\", \"SIAH2\",\n",
    "    \"SIPA1L2\", \"SIX1\", \"SIX4\", \"SKA1\", \"SLC10A4\", \"SLC13A5\", \"SLC16A14\", \"SLC20A2\", \"SLC25A17\", \"SLC25A36\",\n",
    "    \"SLC25A40\", \"SLC29A4\", \"SLC30A3\", \"SLC30A6\", \"SLC33A1\", \"SLC35B1\", \"SLC44A1\", \"SLC45A4\", \"SLC47A1\", \n",
    "    \"SLC4A3\", \"SLC5A11\", \"SLC6A10P\", \"SLC6A8\", \"SLC7A11\", \"SLC7A8\", \"SLC9A9\", \"SLCO1A2\", \"SLCO3A1\", \"SMARCA5\", \n",
    "    \"SMC2\", \"SMC4\", \"SMC5\", \"SMG7\", \"SMO\", \"SMOX\", \"SMS\", \"SMYD3\", \"SNAP47\", \"SNRNP27\", \"SNRPE\", \"SNRPG\", \"SNX13\",\n",
    "    \"SNX27\", \"SNX5\", \"SOSTDC1\", \"SOX12\", \"SOX2\", \"SOX5\", \"SPAG5\", \"SPATA20\", \"SPATA22\", \"SPESP1\", \"SPIN1\", \"SPP1\",\n",
    "    \"SPR\", \"SPRED1\", \"SPRY2\", \"SR140\", \"SRPRB\", \"SRRM3\", \"SRXN1\", \"SSFA2\", \"ST13\", \"ST6GALNAC2\", \"STK31\", \"STK32B\",\n",
    "    \"STK33\", \"STOX2\", \"STRBP\", \"STRC\", \"STXBP4\", \"STXBP5L\", \"STXBP6\", \"SULT4A1\", \"SUPT16H\", \"SUPT3H\", \"SV2A\", \n",
    "    \"SYT1\", \"TADA2A\", \"TAF1A\", \"TARBP1\", \"TBCCD1\", \"TBL1X\", \"TBL1XR1\", \"TBL2\", \"TBPL1\", \"TCF15\", \"TDH\", \"TERF1\",\n",
    "    \"TET3\", \"TEX19\", \"TFB1M\", \"TFRC\", \"TH1L\", \"THOC5\", \"TIA1\", \"TK1\", \"TKT\", \"TLX2\", \"TM4SF1\", \"TM9SF1\", \"TMEFF1\",\n",
    "    \"TMEM117\", \"TMEM132A\", \"TMEM14A\", \"TMEM158\", \"TMEM183A\", \"TMEM194A\", \"TMEM202\", \"TMEM216\", \"TMEM22\", \"TMEM38B\",\n",
    "    \"TMEM44\", \"TMEM81\", \"TMEM9\", \"TMEM97\", \"TMEM98\", \"TMPO\", \"TMSB15B\", \"TMTC1\", \"TMTC3\", \"TMTC4\", \"TMX1\", \"TNC\",\n",
    "    \"TNFRSF18\", \"TNKS\", \"TNNI3\", \"TOM1L1\", \"TOMM20\", \"TOP1MT\", \"TOP2A\", \"TOPBP1\", \"TPST1\", \"TPTE\", \"TRIB2\", \"TRIM11\",\n",
    "    \"TRIM2\", \"TRIM45\", \"TRIM59\", \"TROAP\", \"TRPC1\", \"TSEN15\", \"TSGA14\", \"TSNAX\", \"TSPAN7\", \"TTBK2\", \"TTC14\", \"TTC25\",\n",
    "    \"TTC30A\", \"TTC30B\", \"TTF2\", \"TTK\", \"TTL\", \"TUBGCP4\", \"TUSC3\", \"TXNRD1\", \"UBE2C\", \"UBE2Q1\", \"UBE2S\", \"UBE2T\", \n",
    "    \"UBQLN1\", \"UBXN2A\", \"UCHL1\", \"UGDH\", \"UGT8\", \"UNC119\", \"UPK1B\", \"URB2\", \"USP28\", \"USP39\", \"UST\", \"UXS1\", \"VAX2\",\n",
    "    \"VCX\", \"VCX2\", \"VCX3A\", \"VCY\", \"VEZT\", \"VKORC1L1\", \"VPS8\", \"VWDE\", \"WBSCR22\", \"WBSCR28\", \n",
    "    \"WDR45L\", \"WDR5\", \"WDR67\", \"WWTR1\", \"XCL1\", \"XCL2\", \"XPNPEP3\", \"XPO7\", \"XPOT\", \"XPR1\", \"XRCC6\", \"XRCC6BP1\",\n",
    "    \"YDJC\", \"YEATS2\", \"YY1AP1\", \"ZBTB25\", \"ZBTB26\", \"ZBTB39\", \"ZBTB41\", \"ZDHHC2\", \"ZDHHC3\", \"ZDHHC4\", \"ZFHX3\",\n",
    "    \"ZFP64\", \"ZIC1\", \"ZKSCAN5\", \"ZNF124\", \"ZNF174\", \"ZNF189\", \"ZNF227\", \"ZNF271\", \"ZNF280A\", \"ZNF322B\", \"ZNF334\", \n",
    "    \"ZNF34\", \"ZNF419\", \"ZNF473\", \"ZNF507\", \"ZNF512\", \"ZNF551\", \"ZNF594\", \"ZNF606\", \"ZNF623\", \"ZNF639\", \"ZNF642\", \n",
    "    \"ZNF643\", \"ZNF695\", \"ZNF7\", \"ZNF74\", \"ZNF77\", \"ZNRF3\", \"ZSCAN29\"]\n",
    "\n",
    "\n",
    "# Comprehensive Characterization of Cancer Driver Genes and Mutations\n",
    "driver_l =  [\n",
    "    \"PIK3CA\", \"FBXW7\", \"PTEN\", \"FAT1\", \"EP300\", \"NFE2L2\", \"KMT2D\", \"ZNF750\", \"NSD1\", \"EPHA2\", \"RASA1\",\n",
    "    \"HLA-A\", \"NOTCH1\", \"MAPK1\", \"HLA-B\", \"TGFBR2\", \"CASP8\", \"KEAP1\", \"CDKN2A\", \"TP53\", \"RB1\",\"RHOA\", \n",
    "    \"FGFR3\", \"HRAS\", \"ARID2\", \"RAC1\", \"CUL3\", \"KDM6A\", \"NOTCH1\"]"
   ]
  },
  {
   "cell_type": "markdown",
   "metadata": {
    "Collapsed": "false"
   },
   "source": [
    "# Run"
   ]
  },
  {
   "cell_type": "code",
   "execution_count": null,
   "metadata": {
    "Collapsed": "false"
   },
   "outputs": [],
   "source": [
    "# set parameter\n",
    "# df = S_Ai.loc[S_Dci.index, set(driver_l) & set(S_Pci.columns)]\n",
    "# df = pd.concat([df, hpv], 1)\n",
    "# df = 0 * S_Ai  + S_Mi\n",
    "# df = df.fillna(0)\n",
    "# df = S_Ai + 2 * df\n",
    "# df = df.loc[S_Dci.index, set(S_Ai.columns) & set(driver_l)]"
   ]
  },
  {
   "cell_type": "markdown",
   "metadata": {
    "Collapsed": "false"
   },
   "source": [
    "## Discrete Data"
   ]
  },
  {
   "cell_type": "code",
   "execution_count": null,
   "metadata": {
    "Collapsed": "false"
   },
   "outputs": [],
   "source": [
    "# this line is used to check color list\n",
    "sns.palplot(sns.color_palette(\"RdBu_r\", 15)[6:-1])"
   ]
  },
  {
   "cell_type": "code",
   "execution_count": null,
   "metadata": {
    "Collapsed": "false"
   },
   "outputs": [],
   "source": [
    "import py_label_heatmap\n",
    "from importlib import reload  \n",
    "reload(py_label_heatmap)\n",
    "\n",
    "df = S_At + S_Mt\n",
    "df = df.loc[S_At.index, S_At.columns]\n",
    "fen_l = S_At_f\n",
    "fi = \"SGA\"\n",
    "\n",
    "# add side bar columns\n",
    "label_column = \"%s_type_\" % fi\n",
    "dfi = deepcopy(df)\n",
    "# id_l =[0] + [list(dfi.index).index(ele) for ele in fen_l] + [dfi.shape[0]]\n",
    "# dfi[label_column] = np.sum([[label_column+ str(i)]*(id_l[i+1]-id_l[i]) for i in range(len(id_l)-1)])\n",
    "dfi[label_column] = \"SGA_type_0\"\n",
    "\n",
    "# color_pal = sns.color_palette(\"RdBu_r\", 15)[7:-1]\n",
    "\n",
    "df_labels = [\"Normal\", \"CNV\", \"Mutation\" ]\n",
    "df_pal = [color_pal[0], \"#ace600\", color_pal[-1]]  # selected color\n",
    "color_pal = df_pal\n",
    "rc_labels = dfi[label_column]\n",
    "rc_pal = [sns.color_palette(\"Set2\", 4)[1]]  # random color\n",
    "# tick_l = [\"TP53\",\"CDKN2A\",\"CDKN2B\",\"RB1\", \"NOTCH1\", \"NSD1\", \"NFE2L2\",\n",
    "#           \"KEAP1\", \"FBXW7\", \"EP300\", \"EGFR\", \"PIK3CA\", \"PTEN\", \"CASP8\", \"FAT1\", \"HRAS\"]\n",
    "\n",
    "py_label_heatmap.label_heatmap(\n",
    "    dfi, fen_l, color_pal, \n",
    "    df_labels,rc_labels, df_pal, rc_pal, \n",
    "    df_legend_position=(0.1, 0.35), rc_legend_position=(0.1, 0.5),\n",
    "    label_column=label_column,\n",
    "    r_c=False, c_c=False, y_t=False, x_t=False, \n",
    "    show_tick=False, tick_l=None,\n",
    "    col_name=fi, row_name=\"Sample\",\n",
    "    dfi_legend_title=\"%s State\" % fi,\n",
    "    rc_legend_title=\"Subtype\", \n",
    "    figure_name=\"HNSC_plot/S_At_heatmap.png\")"
   ]
  },
  {
   "cell_type": "markdown",
   "metadata": {
    "Collapsed": "false"
   },
   "source": [
    "## Cotinous Data"
   ]
  },
  {
   "cell_type": "code",
   "execution_count": null,
   "metadata": {
    "Collapsed": "false"
   },
   "outputs": [],
   "source": [
    "import py_label_heatmap\n",
    "from importlib import reload  \n",
    "reload(py_label_heatmap)\n",
    "\n",
    "df = S_Dct\n",
    "fen_l = S_Dct_f\n",
    "fi = \"DEG\"\n",
    "# add side bar columns\n",
    "label_column = \"%s_type_\" % fi\n",
    "dfi = deepcopy(df)\n",
    "id_l =[0] + [list(dfi.index).index(ele) for ele in fen_l] + [dfi.shape[0]]\n",
    "dfi[label_column] = np.sum([[label_column+ str(i)]*(id_l[i+1]-id_l[i]) for i in range(len(id_l)-1)])\n",
    "\n",
    "color_pal = \"RdBu_r\"\n",
    "df_labels = [\"Decrease\", \"Increase\"]\n",
    "df_pal = [color_pal[0], color_pal[-1]]  # selected color\n",
    "rc_labels = dfi[label_column]\n",
    "rc_pal = sns.color_palette(\"Set2\", 4)  # random color\n",
    "# tick_l = [\"TP53\",\"CDKN2A\",\"CDKN2B\",\"RB1\", \"NOTCH1\", \"NSD1\", \"NFE2L2\",\n",
    "#           \"KEAP1\", \"FBXW7\", \"EP300\", \"EGFR\", \"PIK3CA\", \"PTEN\", \"CASP8\", \"FAT1\", \"HRAS\"]\n",
    "\n",
    "py_label_heatmap.label_heatmap(\n",
    "    dfi, fen_l, color_pal, \n",
    "    df_labels, rc_labels, df_pal, rc_pal,\n",
    "    df_legend_position=(0.15, 0.4), rc_legend_position=(0.15, 0.5),\n",
    "    continous=True, cbar_location=(0.15,0.3,0.02,0.08),\n",
    "    label_column=label_column,\n",
    "    r_c=False, c_c=False, y_t=False, x_t=False, \n",
    "    show_tick=False, tick_l=None,\n",
    "    col_name=fi, row_name=\"Sample\",\n",
    "    dfi_legend_title=\"%s State\" % fi,\n",
    "    rc_legend_title=\"Subtype\", \n",
    "    figure_name=\"HNSC_plot/%s_ALL.png\" % fi)"
   ]
  },
  {
   "cell_type": "code",
   "execution_count": null,
   "metadata": {},
   "outputs": [],
   "source": [
    "a = sns.color_palette(\"Set2\", 4)\n",
    "a.as_hex()"
   ]
  },
  {
   "cell_type": "markdown",
   "metadata": {
    "Collapsed": "false"
   },
   "source": [
    "# Save as Survival"
   ]
  },
  {
   "cell_type": "code",
   "execution_count": null,
   "metadata": {},
   "outputs": [],
   "source": [
    "# Plot Sur\n",
    "\n",
    "lis = {\"S_Ai\": [S_Ai, \"SGA\"], \"S_Pci\": [S_Pci, \"PRO\"],  \"S_Dci\":[S_Dci, \"DEG\"], \"S_Dct\":[S_Dct, \"DEG\"]}\n",
    "\n",
    "for ele in lis.keys():\n",
    "    \n",
    "    df = lis[ele][0]\n",
    "    fen_l = locals()[ele + \"_f\"]\n",
    "    dfs = sur_dfs\n",
    "\n",
    "    # # hierarchy\n",
    "    # fig = plt.figure()\n",
    "    # ax1 = fig.add_subplot(111) \n",
    "\n",
    "    # g = sns.clustermap(df, cmap=\"vlag\", center=0)\n",
    "    # Z = g.dendrogram_row.linkage\n",
    "    # # Z = hierarchy.linkage(df)\n",
    "\n",
    "    # hierarchy.set_link_color_palette(['blue', 'red', 'yellow', 'green', 'pink'])\n",
    "    # dn1 = hierarchy.dendrogram(Z, ax=ax1, color_threshold=2.5, orientation='top')\n",
    "\n",
    "    # hierarchy.set_link_color_palette(None)  # reset to default after use\n",
    "    # plt.show()\n",
    "\n",
    "    idx_l = list(df.index)\n",
    "    id_l = [idx_l.index(ele) for ele in fen_l]\n",
    "    id_l.insert(0, 0)\n",
    "    id_l.insert(len(id_l), df.shape[0])\n",
    "    print(id_l)\n",
    "\n",
    "    # Surivival Plot\n",
    "    fig = plt.figure(figsize=(5,7))\n",
    "    ax1 = fig.add_subplot(111) \n",
    "\n",
    "    km = KaplanMeierFitter()\n",
    "    \n",
    "    s_l = []\n",
    "    t_l = []\n",
    "    g_l = []\n",
    "    e_l = []\n",
    "    # manually\n",
    "    for i in range(len(id_l)-1):\n",
    "        ele_ls = idx_l[id_l[i]: id_l[i+1]]\n",
    "    # hierarchy\n",
    "    # for ele in ['blue', 'red', 'yellow', 'green', 'pink']:\n",
    "    #     ele_l = [dn1['leaves'][i] for i in range(len(dn1['color_list'])) if dn1['color_list'][i]==ele]\n",
    "    #     ele_ls = df.index[ele_l]\n",
    "\n",
    "        df_m = dfs.loc[set(ele_ls) & set(dfs.index)]\n",
    "        df_m = df_m.drop_duplicates(subset=None, keep='first', inplace=False)\n",
    "\n",
    "        i = str(i)\n",
    "        locals()[\"T_\" + i] = df_m['%s.time' % par] #/ 365\n",
    "        locals()[\"E_\" + i] = df_m[par]\n",
    "        s_l.extend(df_m.index)\n",
    "        t_l.extend(locals()[\"T_\" + i])\n",
    "        g_l.extend([\"%s_subtype_%s\" % (lis[ele][1], i)]*locals()[\"T_\" + i].shape[0])\n",
    "        e_l.extend(locals()[\"E_\" + i])\n",
    "        km.fit(locals()[\"T_\" + i], event_observed=locals()[\"E_\" + i], label=\"%s_subtype_%s\" % (lis[ele][1], i))\n",
    "        km.survival_function_.plot(ax=ax1)\n",
    "\n",
    "    ax1.set_xlabel(\"Days\")\n",
    "#     ax1.set_xlim([0,2500])\n",
    "    \n",
    "    lr = pairwise_logrank_test(t_l, g_l, e_l)\n",
    "\n",
    "    surv_curve = pd.DataFrame([t_l, g_l, e_l ], index=[\"Days\", \"Groups\", \"Events\"], columns=s_l).T\n",
    "    \n",
    "#     print(test.shape)\n",
    "    surv_curve.to_csv(\"chunhui/Output/HNSC/%s_HNSC_Sur.csv\" % ele, index=True, header=True)\n",
    "    plt.savefig(\"HNSC_plot/%s_subtype.png\" % ele, dpi=600)"
   ]
  },
  {
   "cell_type": "markdown",
   "metadata": {},
   "source": [
    "# risk factor"
   ]
  },
  {
   "cell_type": "code",
   "execution_count": 126,
   "metadata": {},
   "outputs": [],
   "source": [
    "df = S_Dci\n",
    "fen_l = S_Dci_f\n",
    "\n",
    "# add side bar columns\n",
    "dfi = deepcopy(df)\n",
    "id_l =[0] + [list(dfi.index).index(ele) for ele in fen_l] + [dfi.shape[0]]\n",
    "g_l = [list(dfi.index)[id_l[i]: id_l[i+1]] for i in range(len(id_l)-1)]\n",
    "dfi[label_column] = np.sum([[label_column+ str(i)]*(id_l[i+1]-id_l[i]) for i in range(len(id_l)-1)])"
   ]
  },
  {
   "cell_type": "code",
   "execution_count": 37,
   "metadata": {},
   "outputs": [],
   "source": [
    "cli = pd.read_csv(\"chunhui/Input/HNSC/TCGA/HNSC_clinicalMatrix\", sep=\"\\t\")\n",
    "cli.index  = cli[\"sampleID\"]\n",
    "cli.index = [ele[0:12] for ele in cli.index]"
   ]
  },
  {
   "cell_type": "code",
   "execution_count": 158,
   "metadata": {},
   "outputs": [
    {
     "ename": "NameError",
     "evalue": "name 'nd' is not defined",
     "output_type": "error",
     "traceback": [
      "\u001b[1;31m---------------------------------------------------------------------------\u001b[0m",
      "\u001b[1;31mNameError\u001b[0m                                 Traceback (most recent call last)",
      "\u001b[1;32m<ipython-input-158-bf7dc2d4c2d7>\u001b[0m in \u001b[0;36m<module>\u001b[1;34m\u001b[0m\n\u001b[0;32m      2\u001b[0m \u001b[0ma\u001b[0m \u001b[1;33m=\u001b[0m \u001b[0mext\u001b[0m\u001b[1;33m.\u001b[0m\u001b[0mloc\u001b[0m\u001b[1;33m[\u001b[0m\u001b[1;33m~\u001b[0m\u001b[0mext\u001b[0m\u001b[1;33m.\u001b[0m\u001b[0mindex\u001b[0m\u001b[1;33m.\u001b[0m\u001b[0mduplicated\u001b[0m\u001b[1;33m(\u001b[0m\u001b[0mkeep\u001b[0m\u001b[1;33m=\u001b[0m\u001b[1;34m'first'\u001b[0m\u001b[1;33m)\u001b[0m\u001b[1;33m]\u001b[0m\u001b[1;33m.\u001b[0m\u001b[0mcopy\u001b[0m\u001b[1;33m(\u001b[0m\u001b[1;33m)\u001b[0m\u001b[1;33m\u001b[0m\u001b[1;33m\u001b[0m\u001b[0m\n\u001b[0;32m      3\u001b[0m \u001b[0mndfi\u001b[0m \u001b[1;33m=\u001b[0m \u001b[0ma\u001b[0m\u001b[1;33m.\u001b[0m\u001b[0mloc\u001b[0m\u001b[1;33m[\u001b[0m\u001b[0mdfi\u001b[0m\u001b[1;33m.\u001b[0m\u001b[0mindex\u001b[0m\u001b[1;33m,\u001b[0m\u001b[1;33m:\u001b[0m\u001b[1;33m]\u001b[0m\u001b[1;33m\u001b[0m\u001b[1;33m\u001b[0m\u001b[0m\n\u001b[1;32m----> 4\u001b[1;33m \u001b[0mnd\u001b[0m\u001b[1;33m\u001b[0m\u001b[1;33m\u001b[0m\u001b[0m\n\u001b[0m",
      "\u001b[1;31mNameError\u001b[0m: name 'nd' is not defined"
     ]
    }
   ],
   "source": [
    "ext = pd.concat((stage, gender, smo, alco, pip, ht), 1)\n",
    "a = ext.loc[~ext.index.duplicated(keep='first')].copy()\n",
    "ndfi = a.loc[dfi.index,:]\n"
   ]
  },
  {
   "cell_type": "code",
   "execution_count": 130,
   "metadata": {},
   "outputs": [],
   "source": [
    "# stage\n",
    "stage = cli[[\"clinical_stage\"]].fillna(\"NA\")\n",
    "# stage = cli[[\"pathologic_stage\"]].fillna(\"NA\")\n",
    "# stage[stage == 'Stage I'] = 1\n",
    "# stage[stage == 'Stage II'] = 2\n",
    "# stage[stage == 'Stage III'] = 3\n",
    "# stage[stage == 'Stage IVA'] = 4\n",
    "# stage[stage == 'Stage IVB'] = 5\n",
    "# stage[stage == 'Stage IVC'] = 6\n",
    "# stage[stage == 'NA'] = 3\n",
    "\n",
    "# PNI metasesi, perineural_invasion_present\n",
    "pip = cli[[\"perineural_invasion_present\"]].fillna(\"NA\")\n",
    "\n",
    "# pip[pip == 'YES'] = 1\n",
    "# pip[pip == 'NO'] = 0\n",
    "# pip[pip == 'NA'] = 0.5\n",
    "\n",
    "# solerval glend tumor, exxcl\n",
    "ht = cli[[\"histological_type\"]].fillna(\"NA\")\n",
    "\n",
    "# ht[ht == 'Head & Neck Squamous Cell Carcinoma'] = 1\n",
    "# ht[ht == 'Head & Neck Squamous Cell Carcinoma, Spindle Cell Variant'] = 2\n",
    "# ht[ht == 'Head & Neck Squamous Cell Carcinoma Basaloid Type'] = 3\n",
    "\n",
    "# gender\n",
    "gender = cli[[\"gender\"]].fillna(\"NA\")\n",
    "\n",
    "# gender[gender[\"gender\"] == \"FEMALE\"] = 0\n",
    "# gender[gender[\"gender\"] == \"MALE\"] = 1\n",
    "\n",
    "# smoking\n",
    "smo = cli[[\"tobacco_smoking_history\"]].fillna(3)\n",
    "\n",
    "# alcohol\n",
    "alco = cli[[\"alcohol_history_documented\"]].fillna(\"NA\")\n",
    "\n",
    "# alco[alco == 'YES'] = 1\n",
    "# alco[alco == 'NO'] = 0\n",
    "# alco[alco == 'NA'] = 0.5\n",
    "\n"
   ]
  },
  {
   "cell_type": "code",
   "execution_count": null,
   "metadata": {},
   "outputs": [],
   "source": [
    "stage = S_Ai[[\"TP53\"]]\n",
    "for i in range(len(g_l)):\n",
    "    locals()[\"DEG_type_\" + str(i)]= stage.loc[set(g_l[i]) & set(stage.index), :]\n",
    "    print(np.mean(locals()[\"DEG_type_\" + str(i)]))\n",
    "stats.f_oneway(DEG_type_0, DEG_type_1, DEG_type_2, DEG_type_3)\n",
    "\n",
    "DEG_type_o = pd.concat([DEG_type_1, DEG_type_2, DEG_type_3], 0)\n",
    "stats.f_oneway(DEG_type_o, DEG_type_0)\n",
    "\n",
    "stage = S_Ai[[\"NOTCH1\"]]\n",
    "for i in range(len(g_l)):\n",
    "    locals()[\"DEG_type_\" + str(i)]= stage.loc[set(g_l[i]) & set(stage.index), :]\n",
    "    print(np.mean(locals()[\"DEG_type_\" + str(i)]))\n",
    "stats.f_oneway(DEG_type_0, DEG_type_1, DEG_type_2, DEG_type_3)\n",
    "\n",
    "DEG_type_o = pd.concat([DEG_type_1, DEG_type_2, DEG_type_3], 0)\n",
    "stats.f_oneway(DEG_type_o, DEG_type_0)\n",
    "\n",
    "stage = S_Ai[[\"NSD1\"]]\n",
    "for i in range(len(g_l)):\n",
    "    locals()[\"DEG_type_\" + str(i)]= stage.loc[set(g_l[i]) & set(stage.index), :]\n",
    "    print(np.mean(locals()[\"DEG_type_\" + str(i)]))\n",
    "stats.f_oneway(DEG_type_0, DEG_type_1, DEG_type_2, DEG_type_3)\n",
    "\n",
    "DEG_type_o = pd.concat([DEG_type_0, DEG_type_2, DEG_type_3], 0)\n",
    "stats.f_oneway(DEG_type_o, DEG_type_1)\n",
    "\n",
    "stage = hpv[[\"HPV\"]]\n",
    "for i in range(len(g_l)):\n",
    "    locals()[\"DEG_type_\" + str(i)]= stage.loc[set(g_l[i]) & set(stage.index), :]\n",
    "stats.f_oneway(DEG_type_0, DEG_type_1, DEG_type_2, DEG_type_3)"
   ]
  },
  {
   "cell_type": "markdown",
   "metadata": {},
   "source": [
    "# age and TMB"
   ]
  },
  {
   "cell_type": "code",
   "execution_count": 116,
   "metadata": {},
   "outputs": [],
   "source": [
    "age = cli[[\"age_at_initial_pathologic_diagnosis\"]].fillna(0)\n",
    "age[age[\"age_at_initial_pathologic_diagnosis\"] == 0] = 60\n",
    "# np.sum(stage, 0)/(stage.shape[0] - np.sum(stage[stage == 0], 0))\n",
    "\n",
    "stage = age"
   ]
  },
  {
   "cell_type": "code",
   "execution_count": 89,
   "metadata": {},
   "outputs": [],
   "source": [
    "TMB = pd.read_csv(\"chunhui/Input/HNSC/TMB.csv\", index_col=0, header=0)\n",
    "TMB.index = [ele[0:12] for ele in TMB.index]\n",
    "tmb = TMB.loc[TMB.index & S_Ai.index]\n",
    "\n",
    "stage = tmb"
   ]
  },
  {
   "cell_type": "code",
   "execution_count": 120,
   "metadata": {},
   "outputs": [
    {
     "data": {
      "text/plain": [
       "Text(0, 0.5, 'AGE')"
      ]
     },
     "execution_count": 120,
     "metadata": {},
     "output_type": "execute_result"
    },
    {
     "data": {
      "image/png": "[encoded data removed]",
      "text/plain": [
       "<Figure size 360x360 with 1 Axes>"
      ]
     },
     "metadata": {
      "needs_background": "light"
     },
     "output_type": "display_data"
    }
   ],
   "source": [
    "for i in range(len(g_l)):\n",
    "    locals()[\"DEG_type_\" + str(i)] = stage.loc[set(g_l[i]) & set(stage.index), :]\n",
    "    locals()[\"DEG_type_\" + str(i)].columns = [\"VAR\"]\n",
    "    locals()[\"DEG_type_\" + str(i)][\"Subtype\"] = \"DEG_type_\" + str(i)\n",
    "a = pd.concat((DEG_type_0, DEG_type_1, DEG_type_2, DEG_type_3), 0)\n",
    "# stats.f_oneway(DEG_type_0, DEG_type_1, DEG_type_2, DEG_type_3)\n",
    "\n",
    "plt.figure(figsize=(5,5))\n",
    "plt.xticks(rotation=45)\n",
    "b = pd.melt(a, id_vars=[\"Subtype\"])\n",
    "# g = sns.boxplot(x=\"Subtype\", y=\"value\", data=b, palette=sns.color_palette(\"Set2\", 4))\n",
    "g = sns.violinplot(x=\"Subtype\", y=\"value\", data=b, palette=sns.color_palette(\"Set2\", 4))\n",
    "\n",
    "# g.set_ylim([0, 20])\n",
    "g.set_xlabel(None)\n",
    "g.set_ylabel(\"AGE\")\n",
    "# plt.savefig(\"HNSC_plot/SGADEG_Muation_Recall.png\", dpi=600)"
   ]
  },
  {
   "cell_type": "code",
   "execution_count": null,
   "metadata": {},
   "outputs": [],
   "source": []
  }
 ],
 "metadata": {
  "kernelspec": {
   "display_name": "Python 3",
   "language": "python",
   "name": "python3"
  },
  "language_info": {
   "codemirror_mode": {
    "name": "ipython",
    "version": 3
   },
   "file_extension": ".py",
   "mimetype": "text/x-python",
   "name": "python",
   "nbconvert_exporter": "python",
   "pygments_lexer": "ipython3",
   "version": "3.8.3"
  },
  "toc-autonumbering": true,
  "toc-showcode": false,
  "toc-showmarkdowntxt": false,
  "toc-showtags": false
 },
 "nbformat": 4,
 "nbformat_minor": 4
}
