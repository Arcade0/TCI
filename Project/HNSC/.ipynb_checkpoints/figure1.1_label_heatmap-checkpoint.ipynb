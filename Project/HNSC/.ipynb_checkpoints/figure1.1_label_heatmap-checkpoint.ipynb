{
 "cells": [
  {
   "cell_type": "markdown",
   "metadata": {
    "Collapsed": "false"
   },
   "source": [
    "# Import pack"
   ]
  },
  {
   "cell_type": "code",
   "execution_count": 7,
   "metadata": {
    "Collapsed": "false"
   },
   "outputs": [
    {
     "ename": "SyntaxError",
     "evalue": "invalid syntax (<ipython-input-7-c04bdeeb5b93>, line 5)",
     "output_type": "error",
     "traceback": [
      "\u001b[1;36m  File \u001b[1;32m\"<ipython-input-7-c04bdeeb5b93>\"\u001b[1;36m, line \u001b[1;32m5\u001b[0m\n\u001b[1;33m    import matplotlib as # mpl\u001b[0m\n\u001b[1;37m                         ^\u001b[0m\n\u001b[1;31mSyntaxError\u001b[0m\u001b[1;31m:\u001b[0m invalid syntax\n"
     ]
    }
   ],
   "source": [
    "import numpy as np\n",
    "import pandas as pd\n",
    "import os\n",
    "import seaborn as sns\n",
    "import matplotlib as # mpl\n",
    "from matplotlib import pypl t as#  plt\n",
    "from copy import deep# copy\n",
    "\n",
    "from sklearn.datasets import make_check# erboard\n",
    "from sklearn.datasets import samples_generat# or as sg\n",
    "from sklearn.cluster.bicluster import SpectralBic# lustering\n",
    "from sklearn.cluster.bicluster import SpectralCoclustering\n",
    "from sklearn.metrics import consensus_score\n",
    "from lifelines import KaplanMeierFitter\n",
    "from lifelines.statistics import logrank_test, pairwise_logrank_test, multivariate_logrank_test\n",
    "from scipy.cluster import hierarchy\n",
    "\n",
    "import scipy.stats as stats"
   ]
  },
  {
   "cell_type": "code",
   "execution_count": null,
   "metadata": {
    "Collapsed": "false"
   },
   "outputs": [],
   "source": [
    "# # pre cluster data\n",
    "# a = S_A.loc[S_Ai.index & S_A.index, :]\n",
    "# g1 = sns.clustermap(a, col_cluster=False, cmap=sns.color_palette(\"RdBu_r\", 15)[7:-1])\n",
    "# b = a.iloc[g1.dendrogram_row.reordered_ind,:]\n",
    "\n",
    "# import sys  # 导入sys模块\n",
    "# sys.setrecursionlimit(10000)  # 将默认的递归深度修改为3000\n",
    "\n",
    "# g2 = sns.clustermap(b, row_cluster=False, cmap=\"RdBu_r\")\n",
    "# c = b.iloc[:, g2.dendrogram_col.reordered_ind]"
   ]
  },
  {
   "cell_type": "markdown",
   "metadata": {},
   "source": [
    "# Read file"
   ]
  },
  {
   "cell_type": "code",
   "execution_count": null,
   "metadata": {},
   "outputs": [],
   "source": [
    "# Pan Can\n",
    "S_Dc = pd.read_csv(\"../TCI/EM/Input/TCGA expression.csv\",\n",
    "                   index_col=0,\n",
    "                   header=0)\n",
    "\n",
    "S_D = pd.read_csv('../TCI/TCGA_info/Input/PanCancer13tts.DEGmatrix.4TCI.csv',\n",
    "                  index_col=0,\n",
    "                  header=0)\n",
    "\n",
    "S_A = pd.read_csv('../TCI/TCGA_info/Input/PanCancer13tts.SGAmatrix.4TCI.csv',\n",
    "                  index_col=0,\n",
    "                  header=0)\n",
    "\n",
    "A_Do = pd.read_csv(\"../TCI/EM/A_Do.csv\", index_col=0, header=0)"
   ]
  },
  {
   "cell_type": "code",
   "execution_count": 10,
   "metadata": {},
   "outputs": [],
   "source": [
    "S_At = pd.read_csv(\"chunhui/Output/HNSC/S_Dci_clu.csv\", header=0, index_col=0)"
   ]
  },
  {
   "cell_type": "code",
   "execution_count": 11,
   "metadata": {},
   "outputs": [
    {
     "data": {
      "text/plain": [
       "(488, 903)"
      ]
     },
     "execution_count": 11,
     "metadata": {},
     "output_type": "execute_result"
    }
   ],
   "source": [
    "S_At.shape"
   ]
  },
  {
   "cell_type": "code",
   "execution_count": null,
   "metadata": {},
   "outputs": [],
   "source": [
    "# HNSC\n",
    "# HNSC TCI MUT\n",
    "S_Ai = pd.read_csv(\"chunhui/Output/HNSC/S_Ai_clu.csv\", header=0, index_col=0)\n",
    "S_Ai.index = [ele[0:12] for ele in S_Ai.index]\n",
    "S_Ai_f = ['TCGA-CV-5430', 'TCGA-CQ-5327', 'TCGA-CR-6471']\n",
    "\n",
    "S_Mi = pd.read_csv(\"chunhui/Input/HNSC/TCGA/S_Mi.csv\", header=0, index_col=0)\n",
    "S_Mi.index = [ele[0:12] for ele in S_Mi.index]\n",
    "\n",
    "# add empty row and column\n",
    "add_l = [idx for idx in S_Ai.index if idx not in S_Mi.index]\n",
    "for ele in add_l:\n",
    "    S_Mi.loc[ele, :] = 0\n",
    "add_l = [idx for idx in S_Ai.columns if idx not in S_Mi.columns]\n",
    "for ele in add_l:\n",
    "    S_Mi.loc[:, ele] = 0\n",
    "\n",
    "S_At = pd.read_csv(\"chunhui/Output/HNSC/S_A_clu.csv\", header=0, index_col=0)\n",
    "S_At_f = [\"TCGA-CR-6491\", \"TCGA-CV-A468\", \"TCGA-CV-7440\"]\n",
    "\n",
    "S_Mt = pd.read_csv(\"chunhui/Input/HNSC/TCGA/HNSC_mc3_gene_level.txt\",\n",
    "                   sep='\\t',\n",
    "                   index_col=0).T\n",
    "S_Mt.index = [ele[0:12] for ele in S_Mt.index]\n",
    "S_Mt = S_Mt.loc[S_Mt.index & S_At.index, S_Mt.columns & S_At.columns]\n",
    "\n",
    "# add empty row and column\n",
    "add_l = [idx for idx in S_At.columns if idx not in S_Mt.columns]\n",
    "for ele in add_l:\n",
    "    S_Mt.loc[:, ele] = 0\n",
    "\n",
    "add_l = [idx for idx in S_At.index if idx not in S_Mt.index]\n",
    "for ele in add_l:\n",
    "    S_Mt.loc[ele, :] = 0\n",
    "\n",
    "# HNSC TCI PRO\n",
    "S_Pci = pd.read_csv(\"chunhui/Output/HNSC/S_Pci_clu.csv\", header=0, index_col=0)\n",
    "S_Pci.index = [ele[0:12] for ele in S_Pci.index]\n",
    "S_Pci_f = [\"TCGA-CR-7370\", \"TCGA-CV-5441\", \"TCGA-CV-A45O\"]  # ct PRO\n",
    "\n",
    "# HNSC TCI DEG\n",
    "S_Dci = pd.read_csv(\"chunhui/Output/HNSC/S_Dci_clu.csv\", header=0, index_col=0)\n",
    "S_Dci.index = [ele[0:12] for ele in S_Dci.index]\n",
    "S_Dci_f = [\"TCGA-CV-7253\", \"TCGA-P3-A6T3\", \"TCGA-TN-A7HJ\"]  # ct DEG\n",
    "\n",
    "# All DEG\n",
    "S_Dct = pd.read_csv(\"chunhui/Output/HNSC/S_Dct_clu.csv\", header=0, index_col=0)\n",
    "S_Dct.index = [ele[0:12] for ele in S_Dct.index]\n",
    "S_Dct_f = [\"TCGA-F7-7848\", \"TCGA-CV-7180\", \"TCGA-F7-A623\"]\n",
    "\n",
    "# clinic data\n",
    "cli = pd.read_csv(\"chunhui/Input/HNSC/TCGA/HNSC_clinicalMatrix\", sep=\"\\t\")\n",
    "cli.index = cli[\"sampleID\"]\n",
    "ncli = cli.loc[[ele for ele in cli.index if \"-11\" in ele], :]\n",
    "acli = cli.loc[[ele for ele in cli.index if \"-01\" in ele], :]\n",
    "# rf.index = [ele[0:12] for ele in rf.index]\n",
    "\n",
    "sta = pd.read_csv(\n",
    "    \"chunhui/Input/HNSC/hnsc_tcga_pan_can_atlas_2018_clinical_data.tsv\",\n",
    "    sep=\"\\t\")\n",
    "sta.index = sta[\"Sample ID\"]\n",
    "\n",
    "new_sur = sta.loc[:, ['Overall Survival (Months)', 'Overall Survival Status']]\n",
    "new_sur.columns = [\"OS.time\", \"OS\"]\n",
    "new_sur.index = [ele[0:12] for ele in new_sur.index]\n",
    "new_sur.loc[new_sur[\"OS\"] == \"0:LIVING\", \"OS\"] = 0\n",
    "new_sur.loc[new_sur[\"OS\"] == \"1:DECEASED\", \"OS\"] = 1\n",
    "new_sur.fillna(np.mean(new_sur[\"OS.time\"]))\n",
    "new_sur[\"OS\"] = new_sur[\"OS\"].astype(float)\n",
    "new_sur[\"OS.time\"] = new_sur[\"OS.time\"].astype(float) * 30\n",
    "\n",
    "# Survival Data\n",
    "sur_df = pd.read_table(\"chunhui/Input/HNSC/HNSC_survival.txt\",\n",
    "                       sep=\"\\t\",\n",
    "                       index_col=1)\n",
    "par = \"OS\"\n",
    "sur_dfs = sur_df[[\"%s.time\" % par, par]].dropna(axis=0, how=\"any\")\n",
    "sur_dfs[~sur_dfs.index.duplicated(keep='first')]\n",
    "\n",
    "# Comprehensive Characterization of Cancer Driver Genes and Mutations\n",
    "cc_l = [\n",
    "    \"PIK3CA\", \"FBXW7\", \"PTEN\", \"FAT1\", \"EP300\", \"NFE2L2\", \"KMT2D\", \"ZNF750\",\n",
    "    \"NSD1\", \"EPHA2\", \"RASA1\", \"HLA-A\", \"NOTCH1\", \"MAPK1\", \"HLA-B\", \"TGFBR2\",\n",
    "    \"CASP8\", \"KEAP1\", \"CDKN2A\", \"TP53\", \"RB1\", \"RHOA\", \"FGFR3\", \"HRAS\",\n",
    "    \"ARID2\", \"RAC1\", \"CUL3\", \"KDM6A\", \"NOTCH1\"\n",
    "]\n",
    "cc_df = pd.read_excel(\"chunhui/Input/HNSC/TCGA/nature14129-s2/7.2.xlsx\",\n",
    "                      header=0,\n",
    "                      index_col=0)\n",
    "cc_df.index = [ele.replace(\".\", \"-\") for ele in cc_df.index]\n",
    "\n",
    "# TCGA used gene\n",
    "from paper_l import paper_l"
   ]
  },
  {
   "cell_type": "markdown",
   "metadata": {
    "Collapsed": "false"
   },
   "source": [
    "# Run"
   ]
  },
  {
   "cell_type": "code",
   "execution_count": null,
   "metadata": {
    "Collapsed": "false"
   },
   "outputs": [],
   "source": [
    "# set parameter\n",
    "# df = S_Ai.loc[S_Dci.index, set(driver_l) & set(S_Pci.columns)]\n",
    "# df = pd.concat([df, hpv], 1)\n",
    "# df = 0 * S_Ai  + S_Mi\n",
    "# df = df.fillna(0)\n",
    "# df = S_Ai + 2 * df\n",
    "# df = df.loc[S_Dci.index, set(S_Ai.columns) & set(driver_l)]"
   ]
  },
  {
   "cell_type": "markdown",
   "metadata": {
    "Collapsed": "false"
   },
   "source": [
    "## Discrete Data"
   ]
  },
  {
   "cell_type": "code",
   "execution_count": null,
   "metadata": {
    "Collapsed": "false"
   },
   "outputs": [],
   "source": [
    "# this line is used to check color list\n",
    "sns.palplot(sns.color_palette(\"RdBu_r\", 15)[6:-1])"
   ]
  },
  {
   "cell_type": "code",
   "execution_count": 55,
   "metadata": {
    "Collapsed": "false"
   },
   "outputs": [],
   "source": [
    "# df = S_At + S_Mt\n",
    "# df = df.loc[S_At.index, S_At.columns]\n",
    "# fen_l = S_At_f\n",
    "# fi = \"SGA\"\n",
    "df = S_Pci.loc[S_Dci.index, :]\n",
    "fen_l = S_Dci_f\n",
    "fi = \"PRO\"\n",
    "# add side bar columns\n",
    "label_column = \"%s_type_\" % fi\n",
    "dfi = deepcopy(df)\n",
    "id_l = [0] + [list(dfi.index).index(ele) for ele in fen_l] + [dfi.shape[0]]\n",
    "dfi[label_column] = np.sum([[label_column + str(i)] * (id_l[i + 1] - id_l[i])\n",
    "                            for i in range(len(id_l) - 1)])\n"
   ]
  },
  {
   "cell_type": "code",
   "execution_count": null,
   "metadata": {
    "Collapsed": "false"
   },
   "outputs": [],
   "source": [
    "import py_label_heatmap\n",
    "from importlib import reload\n",
    "\n",
    "reload(py_label_heatmap)\n",
    "color_pal = sns.color_palette(\"RdBu_r\", 15)[7:-1]\n",
    "\n",
    "# df_labels = [\"Normal\", \"CNV\", \"Mutation\" ]\n",
    "df_labels = [\"Normal\", \"Mutation\"]\n",
    "\n",
    "# df_pal = [color_pal[0], \"#ace600\", color_pal[-1]]  # selected color\n",
    "df_pal = [color_pal[0], color_pal[-1]]  # selected color\n",
    "\n",
    "color_pal = df_pal\n",
    "rc_labels = dfi[label_column]\n",
    "rc_pal = sns.color_palette(\"Set2\", 4)  # random color\n",
    "tick_l = [\n",
    "    \"TP53\", \"CDKN2A\", \"CDKN2B\", \"RB1\", \"NOTCH1\", \"NSD1\", \"NFE2L2\", \"KEAP1\",\n",
    "    \"FBXW7\", \"EP300\", \"EGFR\", \"PIK3CA\", \"PTEN\", \"CASP8\", \"FAT1\", \"HRAS\"\n",
    "]\n",
    "\n",
    "py_label_heatmap.label_heatmap(dfi,\n",
    "                               color_pal,\n",
    "                               df_labels,\n",
    "                               rc_labels,\n",
    "                               df_pal,\n",
    "                               rc_pal,\n",
    "                               df_legend_position=(0, 0.22),\n",
    "                               rc_legend_position=(0, 0.57),\n",
    "                               label_column=label_column,\n",
    "                               r_c=False,\n",
    "                               c_c=False,\n",
    "                               y_t=False,\n",
    "                               x_t=False,\n",
    "                               show_tick=True,\n",
    "                               tick_l=tick_l,\n",
    "                               col_name=fi,\n",
    "                               row_name=\"Sample\",\n",
    "                               dfi_legend_title=\"%s State\" % fi,\n",
    "                               rc_legend_title=\"Subtype\",\n",
    "                               figure_name=\"HNSC_plot/S_At_heatmap.png\")\n"
   ]
  },
  {
   "cell_type": "markdown",
   "metadata": {
    "Collapsed": "false"
   },
   "source": [
    "## Cotinous Data"
   ]
  },
  {
   "cell_type": "code",
   "execution_count": null,
   "metadata": {},
   "outputs": [],
   "source": [
    "# 调色板\n",
    "colors = [\"windows blue\", \"amber\", \"greyish\", \"faded green\", \"dusty purple\"]\n",
    "a = sns.color_palette(\"dark\")\n",
    "sns.palplot(a)\n",
    "print(a.as_hex())"
   ]
  },
  {
   "cell_type": "code",
   "execution_count": null,
   "metadata": {},
   "outputs": [],
   "source": [
    "# use samples in TCGA paper\n",
    "cc_df = pd.read_excel(\"chunhui/Input/HNSC/TCGA/nature14129-s2/7.2.xlsx\",\n",
    "                      header=0,\n",
    "                      index_col=0)\n",
    "cc_df.index = [ele.replace(\".\", \"-\") for ele in cc_df.index]\n",
    "ov_l = [ele for ele in S_Dci.index if ele in cc_df.index]\n",
    "set(S_Dci_f) & set(ov_l)\n",
    "# ov = S_Dci.loc[ov_l]\n",
    "# plt.figure(figsize=(15,10))\n",
    "# g = sns.clustermap(ov, cmap=\"RdBu_r\")\n",
    "# ov = ov.iloc[g.dendrogram_row.reordered_ind, g.dendrogram_col.reordered_ind]\n",
    "# ov_f = ['TCGA-CQ-6225', 'TCGA-CN-6019',\"TCGA-DQ-5624\"]\n",
    "\n",
    "oov = S_Dci.loc[ov_l]\n",
    "oov_f = ['TCGA-CV-7253', 'TCGA-CN-6011', 'TCGA-CN-4738']\n",
    "\n",
    "# cc_df[\"DEG_type_\"] = cc_df[\"RNA\"]\n",
    "# dfi = pd.concat([oov, cc_df.loc[oov.index, [\"DEG_type_\"]]], 1)\n",
    "# dfi[[\"DEG_type_\"]].to_csv(\"DEG_275patients.csv\", header=True, index=True)"
   ]
  },
  {
   "cell_type": "code",
   "execution_count": null,
   "metadata": {},
   "outputs": [],
   "source": [
    "df = S_Dci\n",
    "fen_l = S_Dci_f\n",
    "fi = \"DEG\"\n",
    "\n",
    "# add side bar columns\n",
    "label_column = \"%s_type_\" % fi\n",
    "dfi = deepcopy(df)\n",
    "id_l = [0] + [list(dfi.index).index(ele) for ele in fen_l] + [dfi.shape[0]]\n",
    "dfi[label_column] = np.sum([[label_column + str(i)] * (id_l[i + 1] - id_l[i])\n",
    "                            for i in range(len(id_l) - 1)])\n"
   ]
  },
  {
   "cell_type": "code",
   "execution_count": null,
   "metadata": {
    "Collapsed": "false"
   },
   "outputs": [],
   "source": [
    "import py_label_heatmap\n",
    "from importlib import reload\n",
    "\n",
    "reload(py_label_heatmap)\n",
    "\n",
    "color_pal = \"RdBu_r\"\n",
    "df_labels = [\"Decrease\", \"Increase\"]\n",
    "df_pal = [color_pal[0], color_pal[-1]]  # selected color\n",
    "rc_labels = dfi[label_column]\n",
    "\n",
    "rc_pal = sns.color_palette(\"Set2\", 4)  # random color\n",
    "# tick_l = [\"TP53\",\"CDKN2A\",\"CDKN2B\",\"RB1\", \"NOTCH1\", \"NSD1\", \"NFE2L2\",\n",
    "#           \"KEAP1\", \"FBXW7\", \"EP300\", \"EGFR\", \"PIK3CA\", \"PTEN\", \"CASP8\", \"FAT1\", \"HRAS\"]\n",
    "py_label_heatmap.label_heatmap(dfi,\n",
    "                               color_pal,\n",
    "                               df_labels,\n",
    "                               rc_labels,\n",
    "                               df_pal,\n",
    "                               rc_pal,\n",
    "                               df_legend_position=(0, 0.4),\n",
    "                               rc_legend_position=(0, 0.57),\n",
    "                               continous=True,\n",
    "                               cbar_location=(-0.1, 0.1, 0.05, 0.15),\n",
    "                               label_column=label_column,\n",
    "                               r_c=False,\n",
    "                               c_c=False,\n",
    "                               y_t=False,\n",
    "                               x_t=False,\n",
    "                               show_tick=False,\n",
    "                               tick_l=None,\n",
    "                               col_name=fi,\n",
    "                               row_name=\"Sample\",\n",
    "                               dfi_legend_title=\"%s State\" % fi,\n",
    "                               rc_legend_title=\"Subtype\",\n",
    "                               figure_name=\"HNSC_plot/%s_ALL_test.png\" % fi)\n"
   ]
  },
  {
   "cell_type": "markdown",
   "metadata": {
    "Collapsed": "false"
   },
   "source": [
    "# Save as Survival"
   ]
  },
  {
   "cell_type": "code",
   "execution_count": null,
   "metadata": {},
   "outputs": [],
   "source": [
    "# read survival data\n",
    "sur_df = pd.read_table(\"chunhui/Input/HNSC/HNSC_survival.txt\",\n",
    "                       sep=\"\\t\",\n",
    "                       index_col=1)\n",
    "par = \"OS\"\n",
    "sur_dfs = sur_df[[\"%s.time\" % par, par]].dropna(axis=0, how=\"any\")\n",
    "sur_dfs = sur_dfs[~sur_dfs.index.duplicated(keep='first')]"
   ]
  },
  {
   "cell_type": "code",
   "execution_count": null,
   "metadata": {},
   "outputs": [],
   "source": [
    "# paper suv\n",
    "sur_curve = pd.concat([cc_df[[\"RNA\"]], sur_dfs.loc[cc_df.index]], 1)\n",
    "sur_curve.columns = [\"Groups\", \"Days\", \"Events\"]\n",
    "sur_curve.loc[ov.index, :].to_csv(\"chunhui/Output/HNSC/nature_surv.csv\",\n",
    "                                  index=True,\n",
    "                                  header=True)\n"
   ]
  },
  {
   "cell_type": "code",
   "execution_count": null,
   "metadata": {},
   "outputs": [],
   "source": [
    "# Plot Sur\n",
    "\n",
    "lis = {\n",
    "    \"S_Ai\": [S_Ai, \"SGA\"],\n",
    "    \"S_At\": [S_At, \"SGA\"],\n",
    "    \"S_Pci\": [S_Pci, \"PRO\"],\n",
    "    \"S_Dci\": [S_Dci, \"DEG\"],\n",
    "    \"S_Dct\": [S_Dct, \"DEG\"]\n",
    "}\n",
    "# lis = {\"oov\": [oov, \"DEG\"]}\n",
    "for ele in lis.keys():\n",
    "\n",
    "    df = lis[ele][0]\n",
    "    fen_l = locals()[ele + \"_f\"]\n",
    "    #     dfs = new_sur\n",
    "    dfs = sur_dfs\n",
    "\n",
    "    # # hierarchy\n",
    "    # fig = plt.figure()\n",
    "    # ax1 = fig.add_subplot(111)\n",
    "\n",
    "    # g = sns.clustermap(df, cmap=\"vlag\", center=0)\n",
    "    # Z = g.dendrogram_row.linkage\n",
    "    # # Z = hierarchy.linkage(df)\n",
    "\n",
    "    # hierarchy.set_link_color_palette(['blue', 'red', 'yellow', 'green', 'pink'])\n",
    "    # dn1 = hierarchy.dendrogram(Z, ax=ax1, color_threshold=2.5, orientation='top')\n",
    "\n",
    "    # hierarchy.set_link_color_palette(None)  # reset to default after use\n",
    "    # plt.show()\n",
    "\n",
    "    idx_l = list(df.index)\n",
    "    id_l = [idx_l.index(ele) for ele in fen_l]\n",
    "    id_l.insert(0, 0)\n",
    "    id_l.insert(len(id_l), df.shape[0])\n",
    "    print(id_l)\n",
    "\n",
    "    # Surivival Plot\n",
    "    fig = plt.figure(figsize=(5, 7))\n",
    "    ax1 = fig.add_subplot(111)\n",
    "\n",
    "    km = KaplanMeierFitter()\n",
    "\n",
    "    s_l = []\n",
    "    t_l = []\n",
    "    g_l = []\n",
    "    e_l = []\n",
    "    # manually\n",
    "    for i in range(len(id_l) - 1):\n",
    "        ele_ls = idx_l[id_l[i]:id_l[i + 1]]\n",
    "        # hierarchy\n",
    "        # for ele in ['blue', 'red', 'yellow', 'green', 'pink']:\n",
    "        #     ele_l = [dn1['leaves'][i] for i in range(len(dn1['color_list'])) if dn1['color_list'][i]==ele]\n",
    "        #     ele_ls = df.index[ele_l]\n",
    "\n",
    "        df_m = dfs.loc[set(ele_ls) & set(dfs.index)]\n",
    "        df_m = df_m[~df_m.index.duplicated(keep='first')]\n",
    "\n",
    "        i = str(i)\n",
    "        locals()[\"T_\" + i] = df_m['%s.time' % par]  #/ 365\n",
    "        locals()[\"E_\" + i] = df_m[par]\n",
    "        s_l.extend(df_m.index)\n",
    "        t_l.extend(locals()[\"T_\" + i])\n",
    "        g_l.extend([\"%s_type_%s\" % (lis[ele][1], i)] *\n",
    "                   locals()[\"T_\" + i].shape[0])\n",
    "        e_l.extend(locals()[\"E_\" + i])\n",
    "        km.fit(locals()[\"T_\" + i],\n",
    "               event_observed=locals()[\"E_\" + i],\n",
    "               label=\"%s_type_%s\" % (lis[ele][1], i))\n",
    "        km.survival_function_.plot(ax=ax1)\n",
    "\n",
    "    ax1.set_xlabel(\"Days\")\n",
    "    #     ax1.set_xlim([0,2500])\n",
    "\n",
    "    lr = pairwise_logrank_test(t_l, g_l, e_l)\n",
    "\n",
    "    surv_curve = pd.DataFrame([t_l, g_l, e_l],\n",
    "                              index=[\"Days\", \"Groups\", \"Events\"],\n",
    "                              columns=s_l).T\n",
    "\n",
    "    #     print(test.shape)\n",
    "    surv_curve.to_csv(\"chunhui/Output/HNSC/%s_HNSC_Sur.csv\" % ele,\n",
    "                      index=True,\n",
    "                      header=True)\n",
    "    plt.savefig(\"HNSC_plot/%s_type.png\" % ele, dpi=600)"
   ]
  },
  {
   "cell_type": "code",
   "execution_count": null,
   "metadata": {},
   "outputs": [],
   "source": [
    "# Suboverlapping\n",
    "df0 = sur_curve\n",
    "df0_type = np.unique(df0[\"Groups\"])\n",
    "df1 = surv_curve\n",
    "df1_type = np.unique(df1[\"Groups\"])\n",
    "\n",
    "df0_l = [\n",
    "    list(df0.loc[df0[\"Groups\"] == ele, \"Groups\"].index) for ele in df0_type\n",
    "]\n",
    "df1_l = [\n",
    "    list(df1.loc[df1[\"Groups\"] == ele, \"Groups\"].index) for ele in df1_type\n",
    "]\n",
    "\n",
    "ovl_l = [[len(set(df0) & set(df1)) for df0 in df0_l] for df1 in df1_l]\n",
    "ovl_df = pd.DataFrame(ovl_l)\n",
    "ovl_df.columns = df0_type\n",
    "ovl_df.index = df1_type\n",
    "ovl_df.to_csv(\"chunhui/Output/HNSC/oovl_df.csv\", index=True, header=True)"
   ]
  },
  {
   "cell_type": "markdown",
   "metadata": {},
   "source": [
    "# risk factor"
   ]
  },
  {
   "cell_type": "code",
   "execution_count": null,
   "metadata": {},
   "outputs": [],
   "source": [
    "# HNSC TCI DEG\n",
    "S_Ai = pd.read_csv(\"chunhui/Output/HNSC/S_Ai_clu.csv\", header=0, index_col=0)\n",
    "S_Ai.index = [ele[0:12] for ele in S_Ai.index]\n",
    "S_Ai_f = ['TCGA-CV-5430', 'TCGA-CQ-5327', 'TCGA-CN-6010']\n",
    "\n",
    "S_Dci = pd.read_csv(\"chunhui/Output/HNSC/S_Dci_clu.csv\", header=0, index_col=0)\n",
    "S_Dci.index = [ele[0:12] for ele in S_Dci.index]\n",
    "S_Dci_f = [\"TCGA-CV-7253\", \"TCGA-P3-A6T3\", \"TCGA-TN-A7HJ\"]  # ct DEG\n",
    "\n",
    "df = S_Dci\n",
    "fen_l = S_Dci_f\n",
    "label_column = \"DEG_type_\"\n",
    "# add side bar columns\n",
    "dfi = deepcopy(df)\n",
    "id_l = [0] + [list(dfi.index).index(ele) for ele in fen_l] + [dfi.shape[0]]\n",
    "g_l = [list(dfi.index)[id_l[i]:id_l[i + 1]] for i in range(len(id_l) - 1)]\n",
    "dfi[label_column] = np.sum([[label_column + str(i)] * (id_l[i + 1] - id_l[i])\n",
    "                            for i in range(len(id_l) - 1)])\n"
   ]
  },
  {
   "cell_type": "code",
   "execution_count": null,
   "metadata": {},
   "outputs": [],
   "source": [
    "# clinic risk factor\n",
    "cli = pd.read_csv(\"chunhui/Input/HNSC/TCGA/HNSC_clinicalMatrix\", sep=\"\\t\")\n",
    "cli.index = cli[\"sampleID\"]\n",
    "ncli = cli.loc[[ele for ele in cli.index if \"-11\" in ele], :]\n",
    "acli = cli.loc[[ele for ele in cli.index if \"-01\" in ele], :]\n",
    "acli.index = [ele[0:12] for ele in acli.index]"
   ]
  },
  {
   "cell_type": "code",
   "execution_count": null,
   "metadata": {},
   "outputs": [],
   "source": [
    "# hpv state\n",
    "sta = pd.read_csv(\n",
    "    \"chunhui/Input/HNSC/hnsc_tcga_pan_can_atlas_2018_clinical_data.tsv\",\n",
    "    sep=\"\\t\")\n",
    "sta.index = sta[\"Sample ID\"]\n",
    "\n",
    "hpv = sta[[\"Subtype\"]]\n",
    "hpv.loc[hpv[\"Subtype\"] == \"HNSC_HPV-\", \"Subtype\"] = 0\n",
    "hpv.loc[hpv[\"Subtype\"] == \"HNSC_HPV+\", \"Subtype\"] = 1\n",
    "hpv = hpv.fillna(\"NAN\")\n",
    "hpv.index = [ele[0:12] for ele in hpv.index]"
   ]
  },
  {
   "cell_type": "code",
   "execution_count": null,
   "metadata": {},
   "outputs": [],
   "source": [
    "# stage\n",
    "stage = acli[[\"clinical_stage\"]].fillna(\"none\")\n",
    "stage = acli[[\"pathologic_stage\"]].fillna(\"none\")\n",
    "stage.columns = [\"Stage\"]\n",
    "# stage[stage == 'Stage I'] = 1\n",
    "# stage[stage == 'Stage II'] = 2\n",
    "# stage[stage == 'Stage III'] = 3\n",
    "# stage[stage == 'Stage IVA'] = 4\n",
    "# stage[stage == 'Stage IVB'] = 5\n",
    "# stage[stage == 'Stage IVC'] = 6\n",
    "stage[stage == '[Discrepancy]'] = \"none\"\n",
    "\n",
    "# PNI metasesi, perineural_invasion_present\n",
    "pip = acli[[\"perineural_invasion_present\"]].fillna(\"none\")\n",
    "pip.columns = [\"PI\"]\n",
    "# pip[pip == 'YES'] = 1\n",
    "# pip[pip == 'NO'] = 0\n",
    "\n",
    "# solerval glend tumor, exxcl\n",
    "ht = acli[[\"histological_type\"]].fillna(\"none\")\n",
    "ht[ht == 'Head & Neck Squamous Cell Carcinoma'] = \"Basal\"\n",
    "ht[ht == 'Head & Neck Squamous Cell Carcinoma, Spindle Cell Variant'] = \"SCV\"\n",
    "ht[ht == 'Head & Neck Squamous Cell Carcinoma Basaloid Type'] = \"Basaloid\"\n",
    "ht.columns = [\"Histology\"]\n",
    "\n",
    "# gender\n",
    "gender = acli[[\"gender\"]].fillna(\"none\")\n",
    "gender.columns = ['Gender']\n",
    "# gender[gender[\"gender\"] == \"FEMALE\"] = 0\n",
    "# gender[gender[\"gender\"] == \"MALE\"] = 1\n",
    "\n",
    "# smoking\n",
    "smo = acli[[\"tobacco_smoking_history\"]].fillna(\"none\")\n",
    "smo.columns = [\"Tobacco\"]\n",
    "\n",
    "# alcohol\n",
    "alco = acli[[\"alcohol_history_documented\"]].fillna(\"none\")\n",
    "# alco[alco == 'YES'] = 1\n",
    "# alco[alco == 'NO'] = 0\n",
    "alco.columns = [\"Alcohol\"]\n",
    "\n",
    "ext = pd.concat((stage, gender, smo, alco, pip, ht), 1)\n",
    "a = ext.loc[~ext.index.duplicated(keep='first')].copy()\n",
    "b = a.loc[dfi.index, :]\n",
    "ndfi = pd.concat((dfi, b), 1)\n",
    "\n",
    "ndfi[\"sga:TP53\"] = S_Ai.loc[ndfi.index, [\"TP53\"]]\n",
    "ndfi[\"sga:NOTCH1\"] = S_Ai.loc[ndfi.index, [\"NOTCH1\"]]\n",
    "ndfi[\"sga:NSD1\"] = S_Ai.loc[ndfi.index, [\"NSD1\"]]\n",
    "no_l = [ele for ele in ndfi.index if ele not in hpv.index]\n",
    "for ele in no_l:\n",
    "    hpv.loc[ele, \"Subtype\"] = \"none\"\n",
    "hpv[hpv == \"NAN\"] = \"none\"\n",
    "ndfi[\"HPV\"] = hpv.loc[ndfi.index, [\"Subtype\"]]\n",
    "ndfi[\"Subtype\"] = ndfi[\"DEG_type_\"]"
   ]
  },
  {
   "cell_type": "code",
   "execution_count": null,
   "metadata": {},
   "outputs": [],
   "source": [
    "ndfi.loc[dfi.index, :].to_csv(\"chunhui/Output/HNSC/clinical_rf.csv\",\n",
    "                              header=True,\n",
    "                              index=True)\n"
   ]
  },
  {
   "cell_type": "markdown",
   "metadata": {},
   "source": [
    "# age and TMB"
   ]
  },
  {
   "cell_type": "code",
   "execution_count": null,
   "metadata": {},
   "outputs": [],
   "source": [
    "age = cli[[\"age_at_initial_pathologic_diagnosis\"]].fillna(0)\n",
    "age[age[\"age_at_initial_pathologic_diagnosis\"] == 0] = 60\n",
    "# np.sum(stage, 0)/(stage.shape[0] - np.sum(stage[stage == 0], 0))\n",
    "\n",
    "stage = age"
   ]
  },
  {
   "cell_type": "code",
   "execution_count": null,
   "metadata": {},
   "outputs": [],
   "source": [
    "TMB = pd.read_csv(\"chunhui/Input/HNSC/TMB.csv\", index_col=0, header=0)\n",
    "TMB.index = [ele[0:12] for ele in TMB.index]\n",
    "tmb = TMB.loc[TMB.index & S_Ai.index]\n",
    "\n",
    "stage = tmb"
   ]
  },
  {
   "cell_type": "code",
   "execution_count": 37,
   "metadata": {},
   "outputs": [
    {
     "data": {
      "image/png": "[encoded data removed]",
      "text/plain": [
       "<Figure size 144x144 with 1 Axes>"
      ]
     },
     "metadata": {
      "needs_background": "light"
     },
     "output_type": "display_data"
    }
   ],
   "source": [
    "for i in range(len(g_l)):\n",
    "    locals()[\"DEG_type_\" + str(i)] = stage.loc[set(g_l[i])\n",
    "                                               & set(stage.index), :]\n",
    "    locals()[\"DEG_type_\" + str(i)].columns = [\"VAR\"]\n",
    "    locals()[\"DEG_type_\" + str(i)][\"Subtype\"] = \"DEG_type_\" + str(i)\n",
    "a = pd.concat((DEG_type_0, DEG_type_1, DEG_type_2, DEG_type_3), 0)\n",
    "# stats.f_oneway(DEG_type_0, DEG_type_1, DEG_type_2, DEG_type_3)\n",
    "\n",
    "plt.rc('font', family='Times New Roman')\n",
    "\n",
    "plt.figure(figsize=(2, 2))\n",
    "plt.xticks(rotation=45)\n",
    "b = pd.melt(a, id_vars=[\"Subtype\"])\n",
    "# g = sns.boxplot(x=\"Subtype\", y=\"value\", data=b, palette=sns.color_palette(\"Set2\", 4))\n",
    "g = sns.violinplot(x=\"Subtype\",\n",
    "                   y=\"value\",\n",
    "                   data=b,\n",
    "                   palette=sns.color_palette(\"Set2\", 4),\n",
    "                   cut=0)\n",
    "\n",
    "# g.set_ylim([0, 20])\n",
    "g.set_xlabel(None)\n",
    "g.set_ylabel(\"AGE\", fontsize=10)\n",
    "g.set_xticklabels([\"DEG_type_1\", \"DEG_type_2\", \"DEG_type_3\", \"DEG_type_4\"])\n",
    "# g.set_yticklabels([0,20,40,60], fontsize=6)\n",
    "\n",
    "plt.savefig(\"HNSC_plot/risk_age.png\", dpi=600)"
   ]
  },
  {
   "cell_type": "code",
   "execution_count": null,
   "metadata": {},
   "outputs": [],
   "source": []
  }
 ],
 "metadata": {
  "kernelspec": {
   "display_name": "Python 3",
   "language": "python",
   "name": "python3"
  },
  "language_info": {
   "codemirror_mode": {
    "name": "ipython",
    "version": 3
   },
   "file_extension": ".py",
   "mimetype": "text/x-python",
   "name": "python",
   "nbconvert_exporter": "python",
   "pygments_lexer": "ipython3",
   "version": "3.8.8"
  },
  "toc-autonumbering": false,
  "toc-showcode": true,
  "toc-showmarkdowntxt": true,
  "toc-showtags": false
 },
 "nbformat": 4,
 "nbformat_minor": 4
}
