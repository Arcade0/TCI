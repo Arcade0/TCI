{
 "cells": [
  {
   "cell_type": "markdown",
   "metadata": {},
   "source": [
    "# Import Pack"
   ]
  },
  {
   "cell_type": "code",
   "execution_count": 1,
   "metadata": {
    "ExecuteTime": {
     "end_time": "2019-10-31T13:10:10.581345Z",
     "start_time": "2019-10-31T13:10:09.428094Z"
    }
   },
   "outputs": [
    {
     "name": "stderr",
     "output_type": "stream",
     "text": [
      "C:\\ProgramData\\Anaconda3\\lib\\site-packages\\sklearn\\utils\\deprecation.py:144: FutureWarning: The sklearn.datasets.samples_generator module is  deprecated in version 0.22 and will be removed in version 0.24. The corresponding classes / functions should instead be imported from sklearn.datasets. Anything that cannot be imported from sklearn.datasets is now part of the private API.\n",
      "  warnings.warn(message, FutureWarning)\n",
      "C:\\ProgramData\\Anaconda3\\lib\\site-packages\\sklearn\\utils\\deprecation.py:144: FutureWarning: The sklearn.cluster.bicluster module is  deprecated in version 0.22 and will be removed in version 0.24. The corresponding classes / functions should instead be imported from sklearn.cluster. Anything that cannot be imported from sklearn.cluster is now part of the private API.\n",
      "  warnings.warn(message, FutureWarning)\n"
     ]
    }
   ],
   "source": [
    "import numpy as np\n",
    "import pandas as pd\n",
    "import os\n",
    "import seaborn as sns\n",
    "import matplotlib as mpl\n",
    "from matplotlib import pyplot as plt\n",
    "from node import node\n",
    "from copy import deepcopy\n",
    "from sklearn.datasets import make_checkerboard\n",
    "from sklearn.datasets import samples_generator as sg\n",
    "from sklearn.cluster.bicluster import SpectralBiclustering\n",
    "from sklearn.cluster.bicluster import SpectralCoclustering\n",
    "from sklearn.metrics import consensus_score\n",
    "from lifelines import KaplanMeierFitter\n",
    "from lifelines.statistics import logrank_test, multivariate_logrank_test\n",
    "from scipy.cluster import hierarchy\n",
    "from scipy import stats"
   ]
  },
  {
   "cell_type": "markdown",
   "metadata": {},
   "source": [
    "# Read Data"
   ]
  },
  {
   "cell_type": "code",
   "execution_count": 4,
   "metadata": {
    "ExecuteTime": {
     "end_time": "2019-10-31T13:10:24.652835Z",
     "start_time": "2019-10-31T13:10:10.592838Z"
    }
   },
   "outputs": [],
   "source": [
    "# Pan Can\n",
    "S_A = pd.read_csv('EM_v1/Input/S_A.csv', index_col=0, header=0)\n",
    "S_D = pd.read_csv('EM_v1/Input/S_D.csv', index_col=0, header=0)\n",
    "# A_Df10 = pd.read_csv('EM_v1/Input/A_Df/A_Df10.csv', index_col=0, header=0)\n",
    "A_D = pd.read_csv('EM_v1/Input/A_Do.csv', index_col=0, header=0)\n",
    "\n",
    "# S_Dc = pd.read_csv(\"/data03/zliu/tci/Pre/Input/TCGA expression.csv\", index_col=0, header=0)"
   ]
  },
  {
   "cell_type": "code",
   "execution_count": 5,
   "metadata": {},
   "outputs": [],
   "source": [
    "S_Ad = pd.read_csv(\"EM/S_Ad1.csv\", index_col=0, header=0)"
   ]
  },
  {
   "cell_type": "code",
   "execution_count": 8,
   "metadata": {},
   "outputs": [
    {
     "name": "stdout",
     "output_type": "stream",
     "text": [
      "0.6827545615067687\n",
      "0.4384932313125368\n"
     ]
    }
   ],
   "source": [
    "fd = ['PTEN','PIK3CA','RB1','CCNE1','TP53','ATM','KRAS','NF1',\n",
    "                    'SMARCA4','CREBBP','ARID1A','FBXW7','PIK3R1','FAT1','APC'\n",
    "                    ,'MTOR','SETD2','EGFR','VHL','CDK4','NOTCH1','BRAF','E2F3']\n",
    "print(np.mean(np.mean(S_Ad[\"TP53\"])))\n",
    "print(np.mean(np.mean(S_A[\"TP53\"])))"
   ]
  },
  {
   "cell_type": "code",
   "execution_count": 58,
   "metadata": {},
   "outputs": [],
   "source": [
    "# HNSC\n",
    "# Set Input Data\n",
    "# HNSC TCI MUT\n",
    "S_Ai = pd.read_csv(\"chunhui/Output/HNSC/S_Ai_clu.csv\", header=0, index_col=0)\n",
    "S_Ai.index = [ele[0:12] for ele in S_Ai.index]\n",
    "S_Ai_f = [\"TCGA-F7-8489\", \"TCGA-CV-A6K2\", \"TCGA-D6-6827\" ]\n",
    "\n",
    "S_Mi = pd.read_csv(\"chunhui/Input/HNSC/TCGA/S_Mi.csv\", header=0, index_col=0)\n",
    "S_Mi.index = [ele[0:12] for ele in S_Mi.index]\n",
    "\n",
    "S_At = pd.read_csv(\"chunhui/Output/HNSC/S_A_clu.csv\", header=0, index_col=0)\n",
    "S_At_f = [\"TCGA-KU-A66T\", \"TCGA-UF-A7JJ\", \"TCGA-UF-A7JD\"]\n",
    "\n",
    "S_M = pd.read_csv(\"chunhui/Input/HNSC/TCGA/S_M.csv\", header=0, index_col=0)\n",
    "S_M.index = [ele[0:12] for ele in S_M.index]\n",
    "\n",
    "# HNSC TCI PRO\n",
    "S_Pci = pd.read_csv(\"chunhui/Output/HNSC/S_Pci_clu.csv\", header=0, index_col=0)\n",
    "S_Pci.index = [ele[0:12] for ele in S_Pci.index]\n",
    "S_Pci_f = [\"TCGA-CR-7370\", \"TCGA-CV-5441\", \"TCGA-CV-A45O\"]  # ct PRO\n",
    "\n",
    "# HNSC TCI DEG\n",
    "S_Dci = pd.read_csv(\"chunhui/Output/HNSC/S_Dci_clu.csv\", header=0, index_col=0)\n",
    "S_Dci.index = [ele[0:12] for ele in S_Dci.index]\n",
    "S_Dci_f = [\"TCGA-CV-7253\",\"TCGA-P3-A6T3\", \"TCGA-TN-A7HJ\"] # ct DEG\n",
    "\n",
    "# All DEG\n",
    "S_Dcai = pd.read_csv(\"chunhui/Output/HNSC/S_Dct_clu.csv\", header=0, index_col=0)\n",
    "S_Dcai.index = [ele[0:12] for ele in S_Dcai.index]\n",
    "S_Dcai_f = [\"TCGA-BB-4227\", \"TCGA-CN-6994\",\"TCGA-CR-7398\"]\n",
    "\n",
    "# hpv = pd.read_csv(\"chunhui/Input/HNSC/TCGA/PORT/HNSC_hpvstates.csv\", header=0, index_col=0)\n",
    "# hpv.loc[hpv[\"x\"] == \"hpvneg\", \"x\"] = 0\n",
    "# hpv.loc[hpv[\"x\"] == \"hpvpos\", \"x\"] = 1\n",
    "# hpv.loc[pd.isna(hpv[\"x\"]), \"x\"] = 0\n",
    "# hpv = pd.DataFrame(np.int64(hpv), index=hpv.index, columns=[\"HPV\"])\n",
    "\n",
    "\n",
    "# TCGA subtyping gene\n",
    "paper_l = [\n",
    "    \"AADAT\", \"AASS\", \"ABCB10\", \"ABCB6\", \"ABCC1\", \"ABCC3\", \"ABCC5\", \"ABHD1\", \"ABHD10\", \"ABI2\", \"ACAP2\", \"ACTL6A\", \"ADAM11\", \"ADAM17\", \"ADAM23\", \"ADCY10\", \"ADD2\", \"ADD3\", \"ADSS\", \"AGPAT5\", \"AGPAT9\", \"AK7\", \"AKAP1\", \"AKAP8\", \n",
    "    \"AKR1C1\", \"AKR1C3\", \"ALCAM\", \"ALDH1A1\", \"ALG10\", \"ALG3\", \"ALMS1\", \"ALMS1P\", \"ALOX12P2\", \"ANAPC11\", \"ANGEL2\", \"ANKRD40\", \"ANP32E\", \"ANXA10\", \"AP3M2\", \"APEX1\", \"APOA1BP\", \"APOBEC3D\", \"APOBEC3F\", \"APOOL\", \"AQP11\", \"ARHGAP8\", \n",
    "    \"ARID4B\", \"ARL13B\", \"ARMC8\", \"ARMCX6\", \"ARSJ\", \"ASF1A\", \"ASNS\", \"ASPM\", \"ATAD2\", \"ATAD5\", \"ATF2\", \"ATP1B1\", \"ATP2B1\", \"ATP2C1\", \"ATP4A\", \"ATP6V1B1\", \"ATP8B3\", \"ATRN\", \"ATXN10\", \"B3GALNT2\", \"B4GALNT1\", \"B4GALT4\", \"BAZ1A\", \"BCAT1\",\n",
    "    \"BCL7A\", \"BDNF\", \"BEX2\", \"BEX5\", \"BFSP1\", \"BHMT\", \"BID\", \"BIK\", \"BOD1\", \"BOLA3\", \"BRAF\", \"BRCA1\", \"BRCA2\", \"BRIP1\", \"BRMS1L\", \"BUB1\", \"BUB1B\", \"C10orf82\", \"C11orf88\", \"C12orf32\", \"C12orf47\", \"C12orf48\", \"C12orf66\", \"C14orf101\", \n",
    "    \"C14orf167\", \"C15orf23\", \"C15orf33\", \"C16orf59\", \"C16orf61\", \"C16orf63\", \"C16orf75\", \"C17orf53\", \"C17orf69\", \"C17orf75\", \"C17orf90\", \"C19orf2\", \"C19orf63\", \"C1D\", \"C1orf107\", \"C1orf124\", \"C1orf131\", \"C1orf27\", \"C1orf31\", \"C1orf35\",\n",
    "    \"C1orf51\", \"C1orf57\", \"C20orf3\", \"C21orf90\", \"C2orf44\", \"C2orf86\", \"C3orf21\", \"C3orf34\", \"C3orf58\", \"C6orf162\", \"C6orf167\", \"C6orf168\", \"C7orf27\", \"C8orf51\", \"C9orf100\", \"C9orf125\", \"C9orf30\", \"C9orf43\", \"CA9\", \"CABYR\", \"CALB1\", \"CALCB\", \n",
    "    \"CAMSAP1L1\", \"CASC5\", \"CASK\", \"CBLL1\", \"CBX1\", \"CBX6\", \"CCDC126\", \"CCDC136\", \"CCDC150\", \"CCDC46\", \"CCL26\", \"CCNB1IP1\", \"CCT3\", \"CD9\", \"CDC45\", \"CDCA3\", \"CDCA5\", \"CDK19\", \"CDK4\", \"CDK8\", \"CEBPZ\", \"CENPF\", \"CENPJ\", \"CENPN\", \"CENPO\", \"CEP152\", \n",
    "    \"CEP290\", \"CEP70\", \"CES1\", \"CHAF1A\", \"CHCHD7\", \"CHD1L\", \"CHD6\", \"CHEK2\", \"CHRM2\", \"CHRM3\", \"CHST7\", \"CHTF18\", \"CKS1B\", \"CLCN2\", \"CLCN5\", \"CLK2\", \"CLTC\", \"CNIH4\", \"CNST\", \"CNTNAP2\", \"COCH\", \"COG2\", \"COIL\", \"COL11A2\", \"COL20A1\", \"COMMD2\", \"COPB2\", \n",
    "    \"CORO1C\", \"CORO2A\", \"COX7A2L\", \"CREB5\", \"CREG2\", \"CS\", \"CSNK1D\", \"CT45A1\", \"CTCFL\", \"CTPS2\", \"CXCR7\",\n",
    "    \"CXorf57\", \"CXorf61\", \"CYP26A1\", \"CYP2S1\", \"CYP4F11\", \"DARS2\", \"DBF4\", \"DCUN1D1\", \"DDX39\", \"DDX59\", \"DGKG\", \"DHFRL1\", \"DHX36\", \"DHX9\", \"DIP2B\", \"DKC1\", \"DLEC1\", \"DLG1\", \"DLX6\", \"DMRT2\", \"DMRT3\", \"DNA2\", \"DNAH14\", \"DNAJB11\", \"DNAJC30\", \"DNMT3A\", \"DPPA2\", \n",
    "    \"DPYSL4\", \"DSCC1\", \"DSCR6\", \"DSG2\", \"DTL\", \"DUSP12\", \"DUSP19\", \"DVL3\", \"DZIP1L\", \"E2F6\", \"ECE2\", \"ECT2\", \"EFNA1\", \"EFS\", \"EGF\", \"EGLN1\", \"EHHADH\", \"EIF1\", \"EIF2B5\", \"EIF2C2\", \"EIF4A2\", \"ELK4\", \"EN1\", \"ENO2\", \"ENTPD6\", \"EPB49\", \"EPCAM\", \"EPDR1\", \"EPR1\", \n",
    "    \"ESCO2\", \"ETV1\", \"ETV4\", \"ETV5\", \"EXO1\", \"EXOC6\", \"F11R\", \"FADS1\", \"FAM119A\", \"FAM120C\", \"FAM158A\", \"FAM161A\", \"FAM169A\", \"FAM189B\", \"FAM200A\", \"FAM20B\", \"FAM36A\", \"FAM55C\", \"FAM64A\", \"FAM71F1\", \"FAM72A\", \"FAM90A1\", \"FANCI\", \"FBN2\", \"FBXL21\", \"FBXO11\", \n",
    "    \"FBXO15\", \"FBXO21\", \"FBXO28\", \"FEN1\", \"FGF12\", \"FGF19\", \"FGFBP2\", \"FLAD1\", \"FLJ39653\", \"FLVCR1\", \"FMN2\", \"FOLH1\", \"FOLH1B\", \"FOXK2\", \"FOXM1\", \"FREM1\", \"FSTL4\", \"FSTL5\", \"FXR1\", \"FZD3\", \"FZD6\", \"FZD7\", \"GABPB1\", \"GABRA5\", \"GABRB3\", \"GABRG3\", \"GALNT8\",\n",
    "    \"GAP43\", \"GATAD1\", \"GBA3\", \"GCGR\", \"GCLC\", \"GCNT2\", \"GCSH\", \"GDAP1\", \"GDF9\", \"GDI1\", \"GFM1\", \"GGT7\", \"GINS1\", \"GINS2\", \"GJB7\", \"GLRX5\", \"GLT25D2\", \"GMCL1\", \"GMPS\", \"GNA13\", \"GNAZ\", \"GNG4\", \"GNGT1\", \"GNPAT\", \"GOLIM4\", \"GPC3\", \"GPI\", \"GPR161\", \"GPR176\",\n",
    "    \"GPR19\", \"GPR27\", \"GPR98\", \"GPX2\", \"GSPT2\", \"GSTA1\", \"GSTA2\", \"GSTA3\", \"GSTA4\", \"GSTA5\", \"GSTM1\", \"GSTM2\", \"GSTM3\", \"GSTM4\", \"GTF2I\", \"GTF2IP1\", \"GTF3C3\", \"GTSE1\", \"GUCY1B2\", \"HAUS4\", \"HDGF\", \"HDGFRP3\", \"HEY1\", \"HGSNAT\", \"HHAT\", \"HHIPL2\", \"HJURP\", \"HMG20B\",\n",
    "    \"HMGB3L1\", \"HMGXB4\", \"HNRPLL\", \"HOXA10\", \"HOXA11\", \"HOXA13\", \"HOXA5\", \"HOXA9\", \"HOXB13\", \"HOXB5\", \"HOXB6\", \"HOXB7\", \"HOXB9\", \"HOXC10\", \"HOXC12\", \"HOXC8\", \"HOXC9\", \"HOXD13\", \"HPS3\", \"HS3ST5\", \"HSCB\", \"HSP90AA1\", \"HSPD1\", \"HSPE1\", \"IARS2\", \"ICK\", \"IDH1\", \"IGF1R\",\n",
    "    \"IGSF11\", \"ILF2\", \"INTU\", \"IPO4\", \"IPO9\", \"IQGAP3\", \"IRF2BP2\", \"ITPKA\", \"ITPKB\", \"JAKMIP2\", \"JOSD1\", \"KCNG3\", \"KCNH8\", \"KCNJ14\", \"KCNK1\", \"KCNMB3\", \"KCNS3\", \"KDM3A\", \"KIAA0146\", \"KIAA0319\", \"KIAA0406\", \"KIAA0907\", \"KIAA1715\", \"KIAA1804\", \"KIF11\", \"KIF14\", \"KIF18A\", \n",
    "    \"KIF23\", \"KIF4A\", \"KIRREL2\", \"KLHDC5\", \"KLHDC9\", \"KLHL11\", \"KLHL12\", \"KLHL13\", \"KLHL15\", \"KLHL23\", \"KLHL24\", \"KNTC1\", \"KRTCAP3\", \"LAPTM4B\", \"LASS2\", \"LASS5\", \"LATS1\", \"LBX2\", \"LCLAT1\", \"LGALS8\", \"LGSN\", \"LIG3\", \"LIM2\", \"LMAN2L\", \"LMNB2\", \"LOC100303728\", \"LOC152217\", \"LOC389458\", \"LOC400027\", \"LOC440040\", \"LOC728613\", \"LOC729082\", \"LONRF1\", \"LOXL4\", \"LPHN1\", \"LPP\", \"LPPR1\", \"LRP12\", \"LRP3\", \"LRP8\", \"LRRC34\", \"LRRC37B\", \"LRRC37B2\", \"LRRC4\", \"LRRC58\", \"LSG1\", \"LTBP4\", \"MAEL\", \"MAFG\", \"MAGEA10\", \"MAGEA11\", \"MAGEA4\", \"MAGEA9B\", \"MAGEB6\", \"MAGEC2\", \"MAGED4B\", \"MAP1B\", \"MAP2K6\", \"MAP4K3\", \"9-Mar\", \"MARK1\", \"MARS2\", \"MASTL\", \"MBIP\", \"MBTPS2\", \"MC1R\", \"MCCC1\", \"MCM10\", \"MCM4\", \"MCM7\", \"MDM4\", \"ME1\", \"MEST\", \"METTL1\", \"MEX3A\", \"MEX3B\", \"MFN1\", \"MGC4473\", \"MIB1\", \"MLC1\", \"MLF1\", \"MLLT11\", \"MNAT1\", \"MORC2\", \"MOSC1\", \"MPHOSPH9\", \"MPP3\", \"MPPED1\", \"MRAP2\", \"MRPL3\", \"MRPL47\", \"MRPL55\", \"MSH6\", \"MSI2\", \"MSL1\", \"MTERF\", \"MTL5\", \"MTMR4\", \"MTR\", \"MYNN\", \"MYO19\", \"NAP1L2\", \"NARG2\", \"NAT8L\", \"NCAPD2\",\n",
    "    \"NCAPH\", \"NCBP2\", \"NCRNA00086\", \"NDRG4\", \"NDUFB9\", \"NEDD4L\", \"NEK2\", \"NELL2\", \"NENF\", \"NFE2L2\", \"NFYB\", \"NGDN\", \"NIPA1\", \"NKAIN2\", \"NLGN1\", \"NLK\", \"NLN\", \"NMB\", \"NMD3\", \"NOL10\", \"NOVA1\", \"NPM2\", \"NPR2\", \"NPR3\", \"NQO1\", \"NRCAM\", \"NRL\", \"NSL1\", \"NT5C3L\", \"NTRK2\", \"NTS\", \"NUCKS1\", \"NUDT1\", \"NUDT10\", \"NUDT11\", \"NUF2\", \"NUPL2\", \"NXF2\", \"ODC1\", \"ORAOV1\", \"ORC2L\", \"ORC6L\", \"OSGIN1\", \"OTX1\", \"PAGE2\", \"PAGE5\", \"PAK1\", \"PAK2\", \"PAK7\", \"PAPOLA\", \"PAQR3\", \"PARD3\", \"PARL\", \"PARP2\", \"PAX6\", \"PBK\", \"PCBP2\", \"PCCB\", \"PCDH19\", \"PCDHB11\", \"PCDHB2\", \"PCDHB3\", \"PCDHB6\", \"PCDHB7\", \"PCDHB8\", \"PCID2\", \"PCYT1B\", \"PDCD10\", \"PEX13\", \"PFKFB4\", \"PFN2\", \"PGAP1\", \"PGK1\", \"PGM5P2\", \"PGRMC1\", \"PHACTR3\", \"PHC3\", \"PHKA1\", \"PHLDB2\", \"PHTF2\", \"PIAS2\", \"PIGM\", \"PIGZ\", \"PIK3CA\", \"PIR\", \"PLA2G10\", \"PLAG1\", \"PLAGL2\", \"PLCB1\", \"PLCB4\", \"PLK5P\", \"PNCK\", \"PNMAL1\", \"PNO1\", \"PNPT1\", \"PODXL2\", \"POLR2H\", \"POMC\", \"POTEB\", \"POTEE\", \"POTEF\", \"PPFIA1\", \"PPP1R13B\", \"PPP1R16A\", \"PPP2R5A\", \"PPPDE1\", \"PPT1\", \"PRAME\", \"PRC1\", \"PRCC\", \"PRDM13\", \"PRELID2\", \"PRKAB2\", \"PRKCI\", \"PRKX\", \"PRR7\", \"PRTFDC1\", \"PSAT1\", \"PSMB4\", \"PSMB5\", \"PSMC1\", \"PSMD11\", \"PSMD2\", \"PTCH1\", \"PTDSS1\", \"PTGES3\", \"PTPLAD1\", \"PYCR1\", \"PYCR2\", \"QSER1\", \"RAB2B\", \"RAB34\", \"RAB3B\", \"RAB3IP\", \"RAB40B\", \"RAB6B\", \"RAD21\", \"RAD51\", \"RAD51AP1\", \"RAD51L3\", \"RAD54B\", \"RAD54L\", \"RAGE\", \"RALGAPA1\", \"RANBP1\", \"RASL11A\", \"RASSF9\", \"RBM12B\", \"RBM19\", \"RBM23\", \"RBM34\", \"RBM8A\", \"RBPMS2\", \"RCN2\", \"RCOR3\", \"RECQL4\", \"RFC3\", \"RFC4\", \"RFWD2\", \"RHBDD3\", \"RIC8B\", \"RIMKLA\", \"RIT1\", \"RNF175\", \"RNF2\", \"RNF216\", \"RNF7\", \"RNFT2\", \"RPL22L1\", \"RPL39L\", \"RPP25\", \"RPS6KA6\", \"RPS6KC1\", \"RSRC1\", \"RTKN\", \"RYK\", \"SALL4\", \"SAMD12\", \"SATB2\", \"SCAND3\", \"SCHIP1\", \"SCN1A\",\n",
    "    \"SCN2A\", \"SCN8A\", \"SCUBE3\", \"SDK1\", \"SEC14L4\", \"SEC62\", \"SELT\", \"SEMA3D\", \"SEMA4F\", \"SEMA6D\", \"SENP2\", \"SENP5\", \"12-Sep\", \"SERHL2\", \"SESN3\", \"SETD8\", \"SFRS13B\", \"SFXN1\", \"SGEF\", \"SGOL2\", \"SHC4\", \"SIAH2\", \"SIPA1L2\", \"SIX1\", \"SIX4\", \"SKA1\", \"SLC10A4\", \"SLC13A5\", \"SLC16A14\", \"SLC20A2\", \"SLC25A17\", \"SLC25A36\", \"SLC25A40\", \"SLC29A4\", \"SLC30A3\", \"SLC30A6\", \"SLC33A1\", \"SLC35B1\", \"SLC44A1\", \"SLC45A4\", \"SLC47A1\", \"SLC4A3\", \"SLC5A11\", \"SLC6A10P\", \"SLC6A8\", \"SLC7A11\", \"SLC7A8\", \"SLC9A9\", \"SLCO1A2\", \"SLCO3A1\", \"SMARCA5\", \"SMC2\", \"SMC4\", \"SMC5\", \"SMG7\", \"SMO\", \"SMOX\", \"SMS\", \"SMYD3\", \"SNAP47\", \"SNRNP27\", \"SNRPE\", \"SNRPG\", \"SNX13\", \"SNX27\", \"SNX5\", \"SOSTDC1\", \"SOX12\", \"SOX2\", \"SOX5\", \"SPAG5\", \"SPATA20\", \"SPATA22\", \"SPESP1\", \"SPIN1\", \"SPP1\", \"SPR\", \"SPRED1\", \"SPRY2\", \"SR140\", \"SRPRB\", \"SRRM3\", \"SRXN1\", \"SSFA2\", \"ST13\", \"ST6GALNAC2\", \"STK31\", \"STK32B\", \"STK33\", \"STOX2\", \"STRBP\", \"STRC\", \"STXBP4\", \"STXBP5L\", \"STXBP6\", \"SULT4A1\", \"SUPT16H\", \"SUPT3H\", \"SV2A\", \"SYT1\", \"TADA2A\", \"TAF1A\", \"TARBP1\", \"TBCCD1\", \"TBL1X\", \"TBL1XR1\", \"TBL2\", \"TBPL1\", \"TCF15\", \"TDH\", \"TERF1\", \"TET3\", \"TEX19\", \"TFB1M\", \"TFRC\", \"TH1L\", \"THOC5\", \"TIA1\", \"TK1\", \"TKT\", \"TLX2\", \"TM4SF1\", \"TM9SF1\", \"TMEFF1\", \"TMEM117\", \"TMEM132A\", \"TMEM14A\", \"TMEM158\", \"TMEM183A\", \"TMEM194A\", \"TMEM202\", \"TMEM216\", \"TMEM22\", \"TMEM38B\", \"TMEM44\", \"TMEM81\", \"TMEM9\", \"TMEM97\", \"TMEM98\", \"TMPO\", \"TMSB15B\", \"TMTC1\", \"TMTC3\", \"TMTC4\", \"TMX1\", \"TNC\", \"TNFRSF18\", \"TNKS\", \"TNNI3\", \"TOM1L1\", \"TOMM20\", \"TOP1MT\", \"TOP2A\", \"TOPBP1\", \"TPST1\", \"TPTE\", \"TRIB2\", \"TRIM11\", \"TRIM2\", \"TRIM45\", \"TRIM59\", \"TROAP\", \"TRPC1\", \"TSEN15\", \"TSGA14\", \"TSNAX\", \"TSPAN7\", \"TTBK2\", \"TTC14\", \"TTC25\", \"TTC30A\", \"TTC30B\", \"TTF2\", \"TTK\", \"TTL\", \"TUBGCP4\", \"TUSC3\", \"TXNRD1\", \"UBE2C\", \"UBE2Q1\", \"UBE2S\", \"UBE2T\", \"UBQLN1\", \"UBXN2A\", \"UCHL1\", \"UGDH\", \"UGT8\", \"UNC119\", \"UPK1B\", \"URB2\", \"USP28\", \"USP39\", \"UST\", \"UXS1\", \"VAX2\", \"VCX\", \"VCX2\", \"VCX3A\", \"VCY\", \"VEZT\", \"VKORC1L1\", \"VPS8\", \"VWDE\", \"WBSCR22\", \"WBSCR28\", \n",
    "    \"WDR45L\", \"WDR5\", \"WDR67\", \"WWTR1\", \"XCL1\", \"XCL2\", \"XPNPEP3\", \"XPO7\", \"XPOT\", \"XPR1\", \"XRCC6\", \"XRCC6BP1\", \"YDJC\", \"YEATS2\", \"YY1AP1\", \"ZBTB25\", \"ZBTB26\", \"ZBTB39\", \"ZBTB41\", \"ZDHHC2\", \"ZDHHC3\", \"ZDHHC4\", \"ZFHX3\", \"ZFP64\", \"ZIC1\", \"ZKSCAN5\", \"ZNF124\", \"ZNF174\", \"ZNF189\", \"ZNF227\", \"ZNF271\", \"ZNF280A\", \"ZNF322B\", \"ZNF334\", \"ZNF34\", \"ZNF419\", \"ZNF473\", \"ZNF507\", \"ZNF512\", \"ZNF551\", \"ZNF594\", \"ZNF606\", \"ZNF623\", \"ZNF639\", \"ZNF642\", \"ZNF643\", \"ZNF695\", \"ZNF7\", \"ZNF74\", \"ZNF77\", \"ZNRF3\", \"ZSCAN29\"]\n",
    "\n",
    "\n",
    "# Comprehensive Characterization of Cancer Driver Genes and Mutations\n",
    "driver_l =  [\n",
    "    \"PIK3CA\", \"FBXW7\", \"PTEN\", \"FAT1\", \"EP300\", \"NFE2L2\", \"KMT2D\", \"ZNF750\", \"NSD1\", \"EPHA2\", \"RASA1\",\n",
    "    \"HLA-A\", \"NOTCH1\", \"MAPK1\", \"HLA-B\", \"TGFBR2\", \"CASP8\", \"KEAP1\", \"CDKN2A\", \"TP53\", \"RB1\",\"RHOA\", \n",
    "    \"FGFR3\", \"HRAS\", \"ARID2\", \"RAC1\", \"CUL3\", \"KDM6A\", \"NOTCH1\"]"
   ]
  },
  {
   "cell_type": "code",
   "execution_count": null,
   "metadata": {},
   "outputs": [],
   "source": [
    "# LUAD\n",
    "S_Ai = pd.read_csv(\"chunhui/Input/LUAD/SGAmatrix.LUAD.csv\", header=0, index_col=0)\n",
    "S_Ai.index = [ele[0:12] for ele in S_Ai.index if len(ele)>12]\n",
    "\n",
    "S_Di = pd.read_csv(\"chunhui/Input/LUAD/DEGmatrix.LUAD.csv\", header=0, index_col=0)\n",
    "S_Di.index = [ele[0:12] for ele in S_Di.index if len(ele)>12]\n",
    "S_Dai = S_D.loc[S_Di.index & S_D.index, A_D.columns & S_D.columns]\n",
    "S_Pi = pd.read_csv(\"chunhui/Input/LUAD/PROmatrix.LUAD.csv\", header=0, index_col=0)\n",
    "\n",
    "S_Dci = S_Dc.loc[S_Di.index & S_Dc.index, S_Di.columns & S_Dc.columns]\n",
    "S_Dcai = S_Dc.loc[S_Di.index & S_Dc.index, A_D.columns & S_Dc.columns ]\n",
    "S_Pci = pd.read_csv(\"chunhui/Input/LUAD/PROmatrix_ct.LUAD.csv\",header=0, index_col=0)\n",
    "S_Pci.index = [ele[0:12] for ele in S_Pci.index if len(ele)>12]"
   ]
  },
  {
   "cell_type": "markdown",
   "metadata": {},
   "source": [
    "# Hierachy Cluter"
   ]
  },
  {
   "cell_type": "code",
   "execution_count": null,
   "metadata": {},
   "outputs": [],
   "source": [
    "lis = {\"S_Ai\": S_Ai, \"S_Dci\": S_Dci, \"S_Pci\": S_Pci, \"S_Dct\": S_Dct}\n",
    "lis = { \"S_Dp\": S_Dc.loc[b, S_Dc.columns & set(paper_l)]}\n",
    "\n",
    "for ele in lis.keys():\n",
    "    \n",
    "    df = lis[ele]\n",
    "    \n",
    "    # df.corr() corrleationship\n",
    "    g = sns.clustermap(df, center=0, cmap=\"vlag\", row_cluster=False, figsize=(7, 7))\n",
    "    \n",
    "    ax0 = g.ax_heatmap\n",
    "    # ax0.set_title(\"ClusterMap\")\n",
    "    ax0.set_ylabel(\"Sample\")\n",
    "    ax0.set_xlabel(\"Gene\")\n",
    "    \n",
    "    plt.show()\n",
    "\n",
    "    # dfc = df.iloc[g.dendrogram_row.reordered_ind, g.dendrogram_col.reordered_ind]\n",
    "    dfc = df.iloc[:, g.dendrogram_col.reordered_ind]\n",
    "    dfc.to_csv(\"chunhui/Output/HNSC/%s_clu.csv\" % ele, header=True, index=True)\n",
    "    \n",
    "\n",
    "    fig = plt.figure(figsize=(8, 7))\n",
    "    ax1 = fig.add_subplot(111) \n",
    "    h = sns.heatmap(dfc, cmap=\"vlag\", center=0, cbar_kws = {\"shrink\":0.1}, yticklabels=False, xticklabels=False, ax=ax1)\n",
    "    ax1.yaxis.set_label_position(\"right\")\n",
    "\n",
    "    ax1.set_ylabel(\"Sample\" )\n",
    "    ax1.set_xlabel(\"Gene\")"
   ]
  },
  {
   "cell_type": "code",
   "execution_count": null,
   "metadata": {},
   "outputs": [],
   "source": [
    "S_Aic = S_Ai.loc[S_Ai.index & S_Dci.index]\n",
    "S_Dcic = S_Dci.loc[S_Aic.index]\n",
    "\n",
    "ga = sns.clustermap(S_Aic, cmap=\"vlag\", center=0, row_cluster=False)\n",
    "gd = sns.clustermap(S_Dcic, cmap=\"vlag\", center=0)\n",
    "\n",
    "S_Aic = S_Aic.iloc[:, ga.dendrogram_col.reordered_ind]\n",
    "S_Dcic = S_Dcic.iloc[gd.dendrogram_row.reordered_ind, gd.dendrogram_col.reordered_ind]\n",
    "\n",
    "dfc = pd.concat([S_Dcic, S_Aic], 1)\n",
    "fig = plt.figure(figsize=(10, 10))\n",
    "h = sns.heatmap(dfc, cmap=\"vlag\", center=0, cbar_kws = {\"shrink\":0.1})"
   ]
  },
  {
   "cell_type": "code",
   "execution_count": null,
   "metadata": {},
   "outputs": [],
   "source": [
    "dfci = S_Aic.iloc[gd.dendrogram_row.reordered_ind,:]\n",
    "\n",
    "fig = plt.figure(figsize=(7, 6))\n",
    "ax1 = fig.add_subplot(111) \n",
    "h = sns.heatmap(dfci, cmap=\"vlag\", center=0, cbar_kws = {\"shrink\":0.1}, yticklabels=False, xticklabels=False, ax=ax1)\n",
    "ax1.yaxis.set_label_position(\"right\")\n",
    "ax1.set_ylabel(\"Sample\" )\n",
    "ax1.set_xlabel(\"Gene\")"
   ]
  },
  {
   "cell_type": "code",
   "execution_count": null,
   "metadata": {},
   "outputs": [],
   "source": [
    "lis = {\"S_Dai\": S_Dai, \"S_Dcai\":S_Dcai}\n",
    "# hierarchy\n",
    "for ele in lis.keys():\n",
    "    df = lis[ele]\n",
    "    row_l = hierarchy.linkage(df)\n",
    "    col_l = hierarchy.linkage(df.T)\n",
    "    \n",
    "    g = sns.clustermap(df, cmap=\"vlag\", center=0)"
   ]
  },
  {
   "cell_type": "markdown",
   "metadata": {},
   "source": [
    "## Cut Gene"
   ]
  },
  {
   "cell_type": "code",
   "execution_count": 98,
   "metadata": {
    "collapsed": true,
    "jupyter": {
     "outputs_hidden": true
    }
   },
   "outputs": [
    {
     "name": "stdout",
     "output_type": "stream",
     "text": [
      "[              NSD1  SDHAP1  PBX2P1  USH2A  ADAMTS12  CBX3P2  ZNF252P  \\\n",
      "TCGA-CV-6954   1.0     1.0     0.0    1.0       1.0     1.0      0.0   \n",
      "TCGA-CR-6484   0.0     1.0     1.0    1.0       1.0     1.0      0.0   \n",
      "TCGA-BA-A6DI   1.0     1.0     0.0    0.0       1.0     0.0      0.0   \n",
      "TCGA-CR-7389   1.0     0.0     0.0    0.0       1.0     0.0      1.0   \n",
      "TCGA-BA-A6DB   0.0     1.0     0.0    1.0       1.0     0.0      1.0   \n",
      "...            ...     ...     ...    ...       ...     ...      ...   \n",
      "TCGA-CQ-5327   1.0     0.0     0.0    0.0       1.0     1.0      0.0   \n",
      "TCGA-CV-A6K2   1.0     1.0     0.0    1.0       1.0     0.0      0.0   \n",
      "TCGA-RS-A6TO   1.0     1.0     0.0    1.0       1.0     0.0      1.0   \n",
      "TCGA-BA-A6DJ   0.0     0.0     0.0    0.0       1.0     1.0      1.0   \n",
      "TCGA-CQ-7068   1.0     0.0     0.0    0.0       1.0     1.0      1.0   \n",
      "\n",
      "              C18orf56  SEC61G  EGFR  ...  C5orf55  WTAPP1  ZNF705E  TP53  \\\n",
      "TCGA-CV-6954       0.0     1.0   1.0  ...      1.0     0.0      1.0   0.0   \n",
      "TCGA-CR-6484       1.0     1.0   1.0  ...      0.0     0.0      0.0   1.0   \n",
      "TCGA-BA-A6DI       0.0     1.0   1.0  ...      0.0     0.0      0.0   1.0   \n",
      "TCGA-CR-7389       0.0     1.0   1.0  ...      1.0     0.0      0.0   1.0   \n",
      "TCGA-BA-A6DB       0.0     1.0   1.0  ...      1.0     0.0      0.0   1.0   \n",
      "...                ...     ...   ...  ...      ...     ...      ...   ...   \n",
      "TCGA-CQ-5327       0.0     0.0   1.0  ...      1.0     1.0      1.0   0.0   \n",
      "TCGA-CV-A6K2       0.0     1.0   1.0  ...      1.0     1.0      1.0   1.0   \n",
      "TCGA-RS-A6TO       0.0     1.0   1.0  ...      1.0     1.0      1.0   1.0   \n",
      "TCGA-BA-A6DJ       1.0     1.0   1.0  ...      1.0     1.0      1.0   0.0   \n",
      "TCGA-CQ-7068       1.0     1.0   1.0  ...      1.0     1.0      1.0   0.0   \n",
      "\n",
      "              NOTCH1  CDKN2A  CDKN2B  MTAP  CSMD1  MIR548K  \n",
      "TCGA-CV-6954     1.0     1.0     1.0   0.0    1.0      0.0  \n",
      "TCGA-CR-6484     1.0     1.0     1.0   1.0    1.0      0.0  \n",
      "TCGA-BA-A6DI     1.0     0.0     0.0   1.0    1.0      0.0  \n",
      "TCGA-CR-7389     0.0     1.0     1.0   1.0    1.0      0.0  \n",
      "TCGA-BA-A6DB     1.0     1.0     1.0   1.0    0.0      1.0  \n",
      "...              ...     ...     ...   ...    ...      ...  \n",
      "TCGA-CQ-5327     1.0     1.0     1.0   1.0    1.0      1.0  \n",
      "TCGA-CV-A6K2     0.0     1.0     1.0   1.0    1.0      1.0  \n",
      "TCGA-RS-A6TO     1.0     1.0     1.0   1.0    1.0      1.0  \n",
      "TCGA-BA-A6DJ     1.0     1.0     1.0   1.0    1.0      1.0  \n",
      "TCGA-CQ-7068     1.0     1.0     1.0   1.0    1.0      1.0  \n",
      "\n",
      "[488 rows x 22 columns],               ORAOV1  CSMD3  TTN  ARID1A  FBXW7  APC  WWOX  RB1  CDH10  ZFHX4  \\\n",
      "TCGA-CV-6954     1.0    1.0  1.0     0.0    1.0  0.0   0.0  0.0    0.0    0.0   \n",
      "TCGA-CR-6484     1.0    0.0  1.0     1.0    0.0  1.0   1.0  0.0    0.0    0.0   \n",
      "TCGA-BA-A6DI     0.0    0.0  0.0     0.0    0.0  0.0   1.0  0.0    0.0    0.0   \n",
      "TCGA-CR-7389     0.0    0.0  0.0     0.0    0.0  0.0   0.0  0.0    0.0    0.0   \n",
      "TCGA-BA-A6DB     0.0    0.0  1.0     0.0    0.0  0.0   0.0  0.0    1.0    0.0   \n",
      "...              ...    ...  ...     ...    ...  ...   ...  ...    ...    ...   \n",
      "TCGA-CQ-5327     1.0    0.0  1.0     0.0    1.0  0.0   1.0  1.0    0.0    0.0   \n",
      "TCGA-CV-A6K2     0.0    1.0  1.0     0.0    0.0  0.0   1.0  1.0    1.0    0.0   \n",
      "TCGA-RS-A6TO     0.0    1.0  1.0     1.0    1.0  1.0   1.0  1.0    1.0    1.0   \n",
      "TCGA-BA-A6DJ     0.0    1.0  1.0     0.0    0.0  1.0   1.0  0.0    0.0    1.0   \n",
      "TCGA-CQ-7068     0.0    1.0  1.0     0.0    1.0  1.0   1.0  1.0    1.0    1.0   \n",
      "\n",
      "              MUC16  RN7SKP265  PTEN  RYR2  PIK3CA  C3orf55  C3orf65  \\\n",
      "TCGA-CV-6954    0.0        1.0   1.0   0.0     0.0      1.0      1.0   \n",
      "TCGA-CR-6484    0.0        0.0   0.0   0.0     0.0      1.0      1.0   \n",
      "TCGA-BA-A6DI    0.0        0.0   1.0   0.0     1.0      1.0      1.0   \n",
      "TCGA-CR-7389    0.0        0.0   0.0   1.0     1.0      1.0      1.0   \n",
      "TCGA-BA-A6DB    0.0        0.0   0.0   0.0     0.0      1.0      1.0   \n",
      "...             ...        ...   ...   ...     ...      ...      ...   \n",
      "TCGA-CQ-5327    1.0        0.0   0.0   0.0     0.0      0.0      0.0   \n",
      "TCGA-CV-A6K2    1.0        0.0   0.0   1.0     0.0      0.0      0.0   \n",
      "TCGA-RS-A6TO    1.0        1.0   0.0   0.0     0.0      0.0      1.0   \n",
      "TCGA-BA-A6DJ    0.0        0.0   0.0   1.0     0.0      0.0      0.0   \n",
      "TCGA-CQ-7068    1.0        0.0   0.0   0.0     0.0      0.0      0.0   \n",
      "\n",
      "              KIAA0226  KEAP1  NFE2L2  \n",
      "TCGA-CV-6954       1.0    0.0     0.0  \n",
      "TCGA-CR-6484       1.0    0.0     0.0  \n",
      "TCGA-BA-A6DI       0.0    1.0     0.0  \n",
      "TCGA-CR-7389       1.0    0.0     0.0  \n",
      "TCGA-BA-A6DB       0.0    0.0     0.0  \n",
      "...                ...    ...     ...  \n",
      "TCGA-CQ-5327       0.0    0.0     0.0  \n",
      "TCGA-CV-A6K2       0.0    0.0     0.0  \n",
      "TCGA-RS-A6TO       0.0    0.0     1.0  \n",
      "TCGA-BA-A6DJ       0.0    0.0     0.0  \n",
      "TCGA-CQ-7068       0.0    0.0     0.0  \n",
      "\n",
      "[488 rows x 20 columns],               EP300  HRAS  FAT1  SYNE1  COL11A1  PCLO  FLG  LRP1B  FADD  \\\n",
      "TCGA-CV-6954    1.0   1.0   1.0    0.0      1.0   1.0  0.0    0.0   0.0   \n",
      "TCGA-CR-6484    1.0   1.0   1.0    1.0      1.0   1.0  0.0    1.0   0.0   \n",
      "TCGA-BA-A6DI    0.0   1.0   1.0    0.0      0.0   0.0  0.0    0.0   0.0   \n",
      "TCGA-CR-7389    0.0   0.0   0.0    0.0      0.0   0.0  1.0    0.0   0.0   \n",
      "TCGA-BA-A6DB    0.0   0.0   0.0    0.0      0.0   1.0  0.0    0.0   0.0   \n",
      "...             ...   ...   ...    ...      ...   ...  ...    ...   ...   \n",
      "TCGA-CQ-5327    1.0   0.0   1.0    0.0      0.0   0.0  1.0    0.0   0.0   \n",
      "TCGA-CV-A6K2    1.0   1.0   1.0    1.0      0.0   1.0  1.0    1.0   1.0   \n",
      "TCGA-RS-A6TO    1.0   1.0   1.0    1.0      1.0   1.0  1.0    1.0   0.0   \n",
      "TCGA-BA-A6DJ    1.0   1.0   1.0    1.0      1.0   1.0  1.0    1.0   0.0   \n",
      "TCGA-CQ-7068    1.0   1.0   1.0    1.0      1.0   1.0  0.0    1.0   0.0   \n",
      "\n",
      "              MIR3664  ...  RNA5SP251  FKBP9L  KDM6A  RPL39P5  MGAM  NACAP1  \\\n",
      "TCGA-CV-6954      0.0  ...        0.0     0.0    0.0      0.0   0.0     0.0   \n",
      "TCGA-CR-6484      0.0  ...        1.0     0.0    0.0      0.0   0.0     0.0   \n",
      "TCGA-BA-A6DI      0.0  ...        0.0     0.0    0.0      0.0   0.0     0.0   \n",
      "TCGA-CR-7389      1.0  ...        0.0     1.0    0.0      0.0   0.0     0.0   \n",
      "TCGA-BA-A6DB      0.0  ...        0.0     0.0    0.0      0.0   0.0     0.0   \n",
      "...               ...  ...        ...     ...    ...      ...   ...     ...   \n",
      "TCGA-CQ-5327      0.0  ...        0.0     0.0    1.0      0.0   0.0     0.0   \n",
      "TCGA-CV-A6K2      0.0  ...        1.0     0.0    0.0      0.0   0.0     0.0   \n",
      "TCGA-RS-A6TO      0.0  ...        0.0     0.0    0.0      0.0   0.0     0.0   \n",
      "TCGA-BA-A6DJ      0.0  ...        1.0     0.0    0.0      0.0   0.0     0.0   \n",
      "TCGA-CQ-7068      0.0  ...        1.0     0.0    0.0      0.0   0.0     0.0   \n",
      "\n",
      "              SGK196  ERLIN2  ATRX  NIM1  \n",
      "TCGA-CV-6954     0.0     0.0   0.0   1.0  \n",
      "TCGA-CR-6484     0.0     0.0   0.0   0.0  \n",
      "TCGA-BA-A6DI     0.0     0.0   0.0   0.0  \n",
      "TCGA-CR-7389     0.0     0.0   0.0   0.0  \n",
      "TCGA-BA-A6DB     0.0     0.0   0.0   1.0  \n",
      "...              ...     ...   ...   ...  \n",
      "TCGA-CQ-5327     0.0     0.0   0.0   0.0  \n",
      "TCGA-CV-A6K2     0.0     0.0   0.0   0.0  \n",
      "TCGA-RS-A6TO     0.0     0.0   0.0   0.0  \n",
      "TCGA-BA-A6DJ     0.0     0.0   0.0   0.0  \n",
      "TCGA-CQ-7068     0.0     0.0   0.0   0.0  \n",
      "\n",
      "[488 rows x 22 columns]]\n",
      "NSD1 SDHAP1 PBX2P1 USH2A ADAMTS12 CBX3P2 ZNF252P C18orf56 SEC61G EGFR CASP8 RBFADN C5orf55 WTAPP1 ZNF705E TP53 NOTCH1 CDKN2A CDKN2B MTAP CSMD1 MIR548K\n",
      "\n",
      "\n",
      "ORAOV1 CSMD3 TTN ARID1A FBXW7 APC WWOX RB1 CDH10 ZFHX4 MUC16 RN7SKP265 PTEN RYR2 PIK3CA C3orf55 C3orf65 KIAA0226 KEAP1 NFE2L2\n",
      "\n",
      "\n",
      "EP300 HRAS FAT1 SYNE1 COL11A1 PCLO FLG LRP1B FADD MIR3664 SI DNAH5 RNA5SP251 FKBP9L KDM6A RPL39P5 MGAM NACAP1 SGK196 ERLIN2 ATRX NIM1\n",
      "\n",
      "\n"
     ]
    }
   ],
   "source": [
    "# PRO\n",
    "a = S_Pci.iloc[:, g.dendrogram_col.reordered_ind]\n",
    "dfc = a \n",
    "\n",
    "df_col = list(dfc.columns)\n",
    "\n",
    "sl = [df_col[0], \"ORAOV1\", \"EP300\", df_col[-1]]\n",
    "sb_l = []\n",
    "for i in range(len(sl)-1):\n",
    "    sb = dfc.iloc[:, df_col.index(sl[i]): df_col.index(sl[i+1])]\n",
    "    if i == (len(sl)-1)-1:\n",
    "        sb = dfc.iloc[:, df_col.index(sl[i]): df_col.index(sl[i+1]) + 1]\n",
    "    sb_l.append(sb)\n",
    "print(sb_l)\n",
    "\n",
    "for i in range(len(sb_l)):\n",
    "    sb = sb_l[i]\n",
    "    print(\" \".join(sb.columns))\n",
    "    print(\"\\n\")\n",
    "    sb.to_csv(\"chunhui/Output/HNSC/S_Pci_HNSC_%s.csv\" % i, index=True, header=True)"
   ]
  },
  {
   "cell_type": "code",
   "execution_count": 1082,
   "metadata": {},
   "outputs": [
    {
     "name": "stdout",
     "output_type": "stream",
     "text": [
      "488\n",
      "488\n",
      "488\n",
      "488\n",
      "488\n",
      "(44, 82)\n",
      "(44, 202)\n",
      "(44, 161)\n",
      "(44, 175)\n",
      "(44, 164)\n"
     ]
    }
   ],
   "source": [
    "# DEG\n",
    "dfc = pd.read_csv(\"chunhui/Output/HNSC/S_Dci_clu.csv\", index_col=0, header=0)\n",
    "df_col = list(dfc.columns)\n",
    "\n",
    "# kfc = pd.read_csv(\"chunhui/Output/HNSC/S_Dcai.csv\", index_col=0, header=0)\n",
    "nm_l = [ele for ele in kfc.index if \"-11A\" in ele]\n",
    "abm_l = [ele for ele in kfc.index if \"-01A\" in ele]\n",
    "S_Dr = kfc\n",
    "\n",
    "sl = [df_col[0], \"USP31\", \"ITGAX\", \"BRDT\", \"CCT5\", df_col[-1]]\n",
    "sb_l = []\n",
    "for i in range(len(sl)-1):\n",
    "    sb = dfc.iloc[:, df_col.index(sl[i]): df_col.index(sl[i+1])]\n",
    "    if i == (len(sl)-1)-1:\n",
    "        sb = dfc.iloc[:, df_col.index(sl[i]): df_col.index(sl[i+1]) + 1]\n",
    "    sb_l.append(sb)\n",
    "    print(len(sb))\n",
    "    \n",
    "for i in range(len(sb_l)):\n",
    "    \n",
    "    sb = sb_l[i]\n",
    "    sb.to_csv(\"chunhui/Output/HNSC/S_D_HNSC_%s.csv\" % i, index=True, header=True)\n",
    "\n",
    "    S_Drn = S_Dr.loc[nm_l, sb.columns & kfc.columns]\n",
    "    print(S_Drn.shape)\n",
    "    S_Drn.to_csv(\"chunhui/Output/HNSC/S_DDrn_HNSC_%s.csv\" % i, index=True, header=True)\n",
    "    S_Dran = S_Dr.loc[abm_l, sb.columns & kfc.columns]\n",
    "    S_Dran.to_csv(\"chunhui/Output/HNSC/S_DDran_HNSC_%s.csv\" % i, index=True, header=True)\n",
    "    S_Dra = pd.concat([S_Drn, S_Dran], 0)\n",
    "    S_Dra.to_csv(\"chunhui/Output/HNSC/S_DDra_HNSC_%s.csv\" % i, index=True, header=True)"
   ]
  },
  {
   "cell_type": "markdown",
   "metadata": {},
   "source": [
    "## Label Heatmap"
   ]
  },
  {
   "cell_type": "code",
   "execution_count": 147,
   "metadata": {},
   "outputs": [],
   "source": [
    "sub = pd.read_csv(\"EM/Input/tcga_subtype.csv\", index_col=0).loc[S_A.index]\n",
    "\n",
    "sub[\"index\"] = sub.index\n",
    "sub[\"subtype\"] = sub[\"X_primary_disease\"]\n",
    "df = S_D"
   ]
  },
  {
   "cell_type": "code",
   "execution_count": 126,
   "metadata": {},
   "outputs": [],
   "source": [
    "# set label bar\n",
    "# df = S_Ai.loc[S_Dci.index, set(driver_l) & set(S_Pci.columns)]\n",
    "# df = pd.concat([df, hpv], 1)\n",
    "# df = 0 * S_Ai  + S_Mi\n",
    "# df = df.fillna(0)\n",
    "# df = S_Ai + 2 * df\n",
    "# df = df.loc[S_Dci.index, set(S_Ai.columns) & set(driver_l)]\n",
    "\n",
    "df = S_Pci.loc[S_Dci.index]\n",
    "fen_l = S_Dci_f\n",
    "\n",
    "\n",
    "a_l = []\n",
    "s_l = []\n",
    "\n",
    "idx_l = list(df.index)\n",
    "id_l = [idx_l.index(ele) for ele in fen_l]\n",
    "id_l.insert(0, 0)\n",
    "id_l.insert(len(id_l), df.shape[0])\n",
    "\n",
    "for i in range(len(id_l)-1):\n",
    "    ele_ls = idx_l[id_l[i]: id_l[i+1]]\n",
    "    a_l.extend(ele_ls)\n",
    "    s_l.extend([\"subgroup\" + str(i)]*len(ele_ls))\n",
    "\n",
    "sub = pd.DataFrame([a_l, s_l], index=[\"index\", \"subtype\"]).T\n",
    "sub.index = sub[\"index\"]"
   ]
  },
  {
   "cell_type": "code",
   "execution_count": 148,
   "metadata": {},
   "outputs": [],
   "source": [
    "sub = sub.drop_duplicates(subset=None, keep='first', inplace=False)\n",
    "dfi = pd.concat([df, sub[\"subtype\"]], 1)"
   ]
  },
  {
   "cell_type": "code",
   "execution_count": 64,
   "metadata": {
    "collapsed": true,
    "jupyter": {
     "outputs_hidden": true
    }
   },
   "outputs": [
    {
     "ename": "FileNotFoundError",
     "evalue": "[Errno 2] File PORT/7.2.csv does not exist: 'PORT/7.2.csv'",
     "output_type": "error",
     "traceback": [
      "\u001b[1;31m---------------------------------------------------------------------------\u001b[0m",
      "\u001b[1;31mFileNotFoundError\u001b[0m                         Traceback (most recent call last)",
      "\u001b[1;32m<ipython-input-64-f943af20aeb6>\u001b[0m in \u001b[0;36m<module>\u001b[1;34m\u001b[0m\n\u001b[0;32m      1\u001b[0m \u001b[1;31m# HNSC paper\u001b[0m\u001b[1;33m\u001b[0m\u001b[1;33m\u001b[0m\u001b[1;33m\u001b[0m\u001b[0m\n\u001b[1;32m----> 2\u001b[1;33m \u001b[0msubtype\u001b[0m \u001b[1;33m=\u001b[0m \u001b[0mpd\u001b[0m\u001b[1;33m.\u001b[0m\u001b[0mread_csv\u001b[0m\u001b[1;33m(\u001b[0m\u001b[1;34m\"PORT/7.2.csv\"\u001b[0m\u001b[1;33m,\u001b[0m \u001b[0mindex_col\u001b[0m\u001b[1;33m=\u001b[0m\u001b[1;36m0\u001b[0m\u001b[1;33m,\u001b[0m \u001b[0mheader\u001b[0m\u001b[1;33m=\u001b[0m\u001b[1;36m0\u001b[0m\u001b[1;33m)\u001b[0m\u001b[1;33m\u001b[0m\u001b[1;33m\u001b[0m\u001b[0m\n\u001b[0m\u001b[0;32m      3\u001b[0m \u001b[0msubtype\u001b[0m\u001b[1;33m.\u001b[0m\u001b[0mindex\u001b[0m \u001b[1;33m=\u001b[0m \u001b[1;33m[\u001b[0m\u001b[0mele\u001b[0m\u001b[1;33m.\u001b[0m\u001b[0mreplace\u001b[0m\u001b[1;33m(\u001b[0m\u001b[1;34m\".\"\u001b[0m\u001b[1;33m,\u001b[0m \u001b[1;34m\"-\"\u001b[0m\u001b[1;33m)\u001b[0m \u001b[1;32mfor\u001b[0m \u001b[0mele\u001b[0m \u001b[1;32min\u001b[0m \u001b[0msubtype\u001b[0m\u001b[1;33m.\u001b[0m\u001b[0mindex\u001b[0m\u001b[1;33m]\u001b[0m\u001b[1;33m\u001b[0m\u001b[1;33m\u001b[0m\u001b[0m\n\u001b[0;32m      4\u001b[0m \u001b[0msubtype\u001b[0m \u001b[1;33m=\u001b[0m \u001b[0msubtype\u001b[0m\u001b[1;33m.\u001b[0m\u001b[0mloc\u001b[0m\u001b[1;33m[\u001b[0m\u001b[0msubtype\u001b[0m\u001b[1;33m.\u001b[0m\u001b[0mindex\u001b[0m \u001b[1;33m&\u001b[0m \u001b[0mS_Dci\u001b[0m\u001b[1;33m.\u001b[0m\u001b[0mindex\u001b[0m\u001b[1;33m]\u001b[0m\u001b[1;33m\u001b[0m\u001b[1;33m\u001b[0m\u001b[0m\n\u001b[0;32m      5\u001b[0m \u001b[0mS_Dp\u001b[0m \u001b[1;33m=\u001b[0m \u001b[0mS_Dc\u001b[0m\u001b[1;33m.\u001b[0m\u001b[0mloc\u001b[0m\u001b[1;33m[\u001b[0m\u001b[0msubtype\u001b[0m\u001b[1;33m.\u001b[0m\u001b[0mindex\u001b[0m \u001b[1;33m&\u001b[0m \u001b[0mS_D\u001b[0m\u001b[1;33m.\u001b[0m\u001b[0mindex\u001b[0m\u001b[1;33m,\u001b[0m \u001b[0mS_Dc\u001b[0m\u001b[1;33m.\u001b[0m\u001b[0mcolumns\u001b[0m \u001b[1;33m&\u001b[0m \u001b[0mset\u001b[0m\u001b[1;33m(\u001b[0m\u001b[0mpaper_l\u001b[0m\u001b[1;33m)\u001b[0m\u001b[1;33m]\u001b[0m\u001b[1;33m\u001b[0m\u001b[1;33m\u001b[0m\u001b[0m\n",
      "\u001b[1;32mC:\\ProgramData\\Anaconda3\\lib\\site-packages\\pandas\\io\\parsers.py\u001b[0m in \u001b[0;36mparser_f\u001b[1;34m(filepath_or_buffer, sep, delimiter, header, names, index_col, usecols, squeeze, prefix, mangle_dupe_cols, dtype, engine, converters, true_values, false_values, skipinitialspace, skiprows, skipfooter, nrows, na_values, keep_default_na, na_filter, verbose, skip_blank_lines, parse_dates, infer_datetime_format, keep_date_col, date_parser, dayfirst, cache_dates, iterator, chunksize, compression, thousands, decimal, lineterminator, quotechar, quoting, doublequote, escapechar, comment, encoding, dialect, error_bad_lines, warn_bad_lines, delim_whitespace, low_memory, memory_map, float_precision)\u001b[0m\n\u001b[0;32m    674\u001b[0m         )\n\u001b[0;32m    675\u001b[0m \u001b[1;33m\u001b[0m\u001b[0m\n\u001b[1;32m--> 676\u001b[1;33m         \u001b[1;32mreturn\u001b[0m \u001b[0m_read\u001b[0m\u001b[1;33m(\u001b[0m\u001b[0mfilepath_or_buffer\u001b[0m\u001b[1;33m,\u001b[0m \u001b[0mkwds\u001b[0m\u001b[1;33m)\u001b[0m\u001b[1;33m\u001b[0m\u001b[1;33m\u001b[0m\u001b[0m\n\u001b[0m\u001b[0;32m    677\u001b[0m \u001b[1;33m\u001b[0m\u001b[0m\n\u001b[0;32m    678\u001b[0m     \u001b[0mparser_f\u001b[0m\u001b[1;33m.\u001b[0m\u001b[0m__name__\u001b[0m \u001b[1;33m=\u001b[0m \u001b[0mname\u001b[0m\u001b[1;33m\u001b[0m\u001b[1;33m\u001b[0m\u001b[0m\n",
      "\u001b[1;32mC:\\ProgramData\\Anaconda3\\lib\\site-packages\\pandas\\io\\parsers.py\u001b[0m in \u001b[0;36m_read\u001b[1;34m(filepath_or_buffer, kwds)\u001b[0m\n\u001b[0;32m    446\u001b[0m \u001b[1;33m\u001b[0m\u001b[0m\n\u001b[0;32m    447\u001b[0m     \u001b[1;31m# Create the parser.\u001b[0m\u001b[1;33m\u001b[0m\u001b[1;33m\u001b[0m\u001b[1;33m\u001b[0m\u001b[0m\n\u001b[1;32m--> 448\u001b[1;33m     \u001b[0mparser\u001b[0m \u001b[1;33m=\u001b[0m \u001b[0mTextFileReader\u001b[0m\u001b[1;33m(\u001b[0m\u001b[0mfp_or_buf\u001b[0m\u001b[1;33m,\u001b[0m \u001b[1;33m**\u001b[0m\u001b[0mkwds\u001b[0m\u001b[1;33m)\u001b[0m\u001b[1;33m\u001b[0m\u001b[1;33m\u001b[0m\u001b[0m\n\u001b[0m\u001b[0;32m    449\u001b[0m \u001b[1;33m\u001b[0m\u001b[0m\n\u001b[0;32m    450\u001b[0m     \u001b[1;32mif\u001b[0m \u001b[0mchunksize\u001b[0m \u001b[1;32mor\u001b[0m \u001b[0miterator\u001b[0m\u001b[1;33m:\u001b[0m\u001b[1;33m\u001b[0m\u001b[1;33m\u001b[0m\u001b[0m\n",
      "\u001b[1;32mC:\\ProgramData\\Anaconda3\\lib\\site-packages\\pandas\\io\\parsers.py\u001b[0m in \u001b[0;36m__init__\u001b[1;34m(self, f, engine, **kwds)\u001b[0m\n\u001b[0;32m    878\u001b[0m             \u001b[0mself\u001b[0m\u001b[1;33m.\u001b[0m\u001b[0moptions\u001b[0m\u001b[1;33m[\u001b[0m\u001b[1;34m\"has_index_names\"\u001b[0m\u001b[1;33m]\u001b[0m \u001b[1;33m=\u001b[0m \u001b[0mkwds\u001b[0m\u001b[1;33m[\u001b[0m\u001b[1;34m\"has_index_names\"\u001b[0m\u001b[1;33m]\u001b[0m\u001b[1;33m\u001b[0m\u001b[1;33m\u001b[0m\u001b[0m\n\u001b[0;32m    879\u001b[0m \u001b[1;33m\u001b[0m\u001b[0m\n\u001b[1;32m--> 880\u001b[1;33m         \u001b[0mself\u001b[0m\u001b[1;33m.\u001b[0m\u001b[0m_make_engine\u001b[0m\u001b[1;33m(\u001b[0m\u001b[0mself\u001b[0m\u001b[1;33m.\u001b[0m\u001b[0mengine\u001b[0m\u001b[1;33m)\u001b[0m\u001b[1;33m\u001b[0m\u001b[1;33m\u001b[0m\u001b[0m\n\u001b[0m\u001b[0;32m    881\u001b[0m \u001b[1;33m\u001b[0m\u001b[0m\n\u001b[0;32m    882\u001b[0m     \u001b[1;32mdef\u001b[0m \u001b[0mclose\u001b[0m\u001b[1;33m(\u001b[0m\u001b[0mself\u001b[0m\u001b[1;33m)\u001b[0m\u001b[1;33m:\u001b[0m\u001b[1;33m\u001b[0m\u001b[1;33m\u001b[0m\u001b[0m\n",
      "\u001b[1;32mC:\\ProgramData\\Anaconda3\\lib\\site-packages\\pandas\\io\\parsers.py\u001b[0m in \u001b[0;36m_make_engine\u001b[1;34m(self, engine)\u001b[0m\n\u001b[0;32m   1112\u001b[0m     \u001b[1;32mdef\u001b[0m \u001b[0m_make_engine\u001b[0m\u001b[1;33m(\u001b[0m\u001b[0mself\u001b[0m\u001b[1;33m,\u001b[0m \u001b[0mengine\u001b[0m\u001b[1;33m=\u001b[0m\u001b[1;34m\"c\"\u001b[0m\u001b[1;33m)\u001b[0m\u001b[1;33m:\u001b[0m\u001b[1;33m\u001b[0m\u001b[1;33m\u001b[0m\u001b[0m\n\u001b[0;32m   1113\u001b[0m         \u001b[1;32mif\u001b[0m \u001b[0mengine\u001b[0m \u001b[1;33m==\u001b[0m \u001b[1;34m\"c\"\u001b[0m\u001b[1;33m:\u001b[0m\u001b[1;33m\u001b[0m\u001b[1;33m\u001b[0m\u001b[0m\n\u001b[1;32m-> 1114\u001b[1;33m             \u001b[0mself\u001b[0m\u001b[1;33m.\u001b[0m\u001b[0m_engine\u001b[0m \u001b[1;33m=\u001b[0m \u001b[0mCParserWrapper\u001b[0m\u001b[1;33m(\u001b[0m\u001b[0mself\u001b[0m\u001b[1;33m.\u001b[0m\u001b[0mf\u001b[0m\u001b[1;33m,\u001b[0m \u001b[1;33m**\u001b[0m\u001b[0mself\u001b[0m\u001b[1;33m.\u001b[0m\u001b[0moptions\u001b[0m\u001b[1;33m)\u001b[0m\u001b[1;33m\u001b[0m\u001b[1;33m\u001b[0m\u001b[0m\n\u001b[0m\u001b[0;32m   1115\u001b[0m         \u001b[1;32melse\u001b[0m\u001b[1;33m:\u001b[0m\u001b[1;33m\u001b[0m\u001b[1;33m\u001b[0m\u001b[0m\n\u001b[0;32m   1116\u001b[0m             \u001b[1;32mif\u001b[0m \u001b[0mengine\u001b[0m \u001b[1;33m==\u001b[0m \u001b[1;34m\"python\"\u001b[0m\u001b[1;33m:\u001b[0m\u001b[1;33m\u001b[0m\u001b[1;33m\u001b[0m\u001b[0m\n",
      "\u001b[1;32mC:\\ProgramData\\Anaconda3\\lib\\site-packages\\pandas\\io\\parsers.py\u001b[0m in \u001b[0;36m__init__\u001b[1;34m(self, src, **kwds)\u001b[0m\n\u001b[0;32m   1889\u001b[0m         \u001b[0mkwds\u001b[0m\u001b[1;33m[\u001b[0m\u001b[1;34m\"usecols\"\u001b[0m\u001b[1;33m]\u001b[0m \u001b[1;33m=\u001b[0m \u001b[0mself\u001b[0m\u001b[1;33m.\u001b[0m\u001b[0musecols\u001b[0m\u001b[1;33m\u001b[0m\u001b[1;33m\u001b[0m\u001b[0m\n\u001b[0;32m   1890\u001b[0m \u001b[1;33m\u001b[0m\u001b[0m\n\u001b[1;32m-> 1891\u001b[1;33m         \u001b[0mself\u001b[0m\u001b[1;33m.\u001b[0m\u001b[0m_reader\u001b[0m \u001b[1;33m=\u001b[0m \u001b[0mparsers\u001b[0m\u001b[1;33m.\u001b[0m\u001b[0mTextReader\u001b[0m\u001b[1;33m(\u001b[0m\u001b[0msrc\u001b[0m\u001b[1;33m,\u001b[0m \u001b[1;33m**\u001b[0m\u001b[0mkwds\u001b[0m\u001b[1;33m)\u001b[0m\u001b[1;33m\u001b[0m\u001b[1;33m\u001b[0m\u001b[0m\n\u001b[0m\u001b[0;32m   1892\u001b[0m         \u001b[0mself\u001b[0m\u001b[1;33m.\u001b[0m\u001b[0munnamed_cols\u001b[0m \u001b[1;33m=\u001b[0m \u001b[0mself\u001b[0m\u001b[1;33m.\u001b[0m\u001b[0m_reader\u001b[0m\u001b[1;33m.\u001b[0m\u001b[0munnamed_cols\u001b[0m\u001b[1;33m\u001b[0m\u001b[1;33m\u001b[0m\u001b[0m\n\u001b[0;32m   1893\u001b[0m \u001b[1;33m\u001b[0m\u001b[0m\n",
      "\u001b[1;32mpandas\\_libs\\parsers.pyx\u001b[0m in \u001b[0;36mpandas._libs.parsers.TextReader.__cinit__\u001b[1;34m()\u001b[0m\n",
      "\u001b[1;32mpandas\\_libs\\parsers.pyx\u001b[0m in \u001b[0;36mpandas._libs.parsers.TextReader._setup_parser_source\u001b[1;34m()\u001b[0m\n",
      "\u001b[1;31mFileNotFoundError\u001b[0m: [Errno 2] File PORT/7.2.csv does not exist: 'PORT/7.2.csv'"
     ]
    }
   ],
   "source": [
    "# HNSC paper\n",
    "subtype = pd.read_csv(\"PORT/7.2.csv\", index_col=0, header=0)\n",
    "subtype.index = [ele.replace(\".\", \"-\") for ele in subtype.index]\n",
    "subtype = subtype.loc[subtype.index & S_Dci.index]\n",
    "S_Dp = S_Dc.loc[subtype.index & S_D.index, S_Dc.columns & set(paper_l)]\n",
    "\n",
    "a = np.unique(subtype[\"RNA\"])\n",
    "b = []\n",
    "for ele in a:\n",
    "    subi = subtype[subtype[\"RNA\"] == ele]\n",
    "    b.extend(subi.index)\n",
    "sub = subtype.loc[b]\n",
    "\n",
    "df = S_Dp.loc[sub.index]\n",
    "sub[\"subtype\"] = sub[\"RNA\"]\n",
    "dfi = pd.concat([df, sub[\"subtype\"]], 1)"
   ]
  },
  {
   "cell_type": "code",
   "execution_count": 150,
   "metadata": {},
   "outputs": [
    {
     "name": "stderr",
     "output_type": "stream",
     "text": [
      "C:\\ProgramData\\Anaconda3\\lib\\site-packages\\ipykernel_launcher.py:57: MatplotlibDeprecationWarning: Unrecognized location 'lower reight'. Falling back on 'best'; valid locations are\n",
      "\tbest\n",
      "\tupper right\n",
      "\tupper left\n",
      "\tlower left\n",
      "\tlower right\n",
      "\tright\n",
      "\tcenter left\n",
      "\tcenter right\n",
      "\tlower center\n",
      "\tupper center\n",
      "\tcenter\n",
      "This will raise an exception in 3.3.\n"
     ]
    },
    {
     "ename": "MemoryError",
     "evalue": "Unable to allocate 3.84 GiB for an array with shape (5097, 10120, 10) and data type float64",
     "output_type": "error",
     "traceback": [
      "\u001b[1;31m---------------------------------------------------------------------------\u001b[0m",
      "\u001b[1;31mMemoryError\u001b[0m                               Traceback (most recent call last)",
      "\u001b[1;32mC:\\ProgramData\\Anaconda3\\lib\\site-packages\\IPython\\core\\formatters.py\u001b[0m in \u001b[0;36m__call__\u001b[1;34m(self, obj)\u001b[0m\n\u001b[0;32m    339\u001b[0m                 \u001b[1;32mpass\u001b[0m\u001b[1;33m\u001b[0m\u001b[1;33m\u001b[0m\u001b[0m\n\u001b[0;32m    340\u001b[0m             \u001b[1;32melse\u001b[0m\u001b[1;33m:\u001b[0m\u001b[1;33m\u001b[0m\u001b[1;33m\u001b[0m\u001b[0m\n\u001b[1;32m--> 341\u001b[1;33m                 \u001b[1;32mreturn\u001b[0m \u001b[0mprinter\u001b[0m\u001b[1;33m(\u001b[0m\u001b[0mobj\u001b[0m\u001b[1;33m)\u001b[0m\u001b[1;33m\u001b[0m\u001b[1;33m\u001b[0m\u001b[0m\n\u001b[0m\u001b[0;32m    342\u001b[0m             \u001b[1;31m# Finally look for special method names\u001b[0m\u001b[1;33m\u001b[0m\u001b[1;33m\u001b[0m\u001b[1;33m\u001b[0m\u001b[0m\n\u001b[0;32m    343\u001b[0m             \u001b[0mmethod\u001b[0m \u001b[1;33m=\u001b[0m \u001b[0mget_real_method\u001b[0m\u001b[1;33m(\u001b[0m\u001b[0mobj\u001b[0m\u001b[1;33m,\u001b[0m \u001b[0mself\u001b[0m\u001b[1;33m.\u001b[0m\u001b[0mprint_method\u001b[0m\u001b[1;33m)\u001b[0m\u001b[1;33m\u001b[0m\u001b[1;33m\u001b[0m\u001b[0m\n",
      "\u001b[1;32mC:\\ProgramData\\Anaconda3\\lib\\site-packages\\IPython\\core\\pylabtools.py\u001b[0m in \u001b[0;36m<lambda>\u001b[1;34m(fig)\u001b[0m\n\u001b[0;32m    246\u001b[0m \u001b[1;33m\u001b[0m\u001b[0m\n\u001b[0;32m    247\u001b[0m     \u001b[1;32mif\u001b[0m \u001b[1;34m'png'\u001b[0m \u001b[1;32min\u001b[0m \u001b[0mformats\u001b[0m\u001b[1;33m:\u001b[0m\u001b[1;33m\u001b[0m\u001b[1;33m\u001b[0m\u001b[0m\n\u001b[1;32m--> 248\u001b[1;33m         \u001b[0mpng_formatter\u001b[0m\u001b[1;33m.\u001b[0m\u001b[0mfor_type\u001b[0m\u001b[1;33m(\u001b[0m\u001b[0mFigure\u001b[0m\u001b[1;33m,\u001b[0m \u001b[1;32mlambda\u001b[0m \u001b[0mfig\u001b[0m\u001b[1;33m:\u001b[0m \u001b[0mprint_figure\u001b[0m\u001b[1;33m(\u001b[0m\u001b[0mfig\u001b[0m\u001b[1;33m,\u001b[0m \u001b[1;34m'png'\u001b[0m\u001b[1;33m,\u001b[0m \u001b[1;33m**\u001b[0m\u001b[0mkwargs\u001b[0m\u001b[1;33m)\u001b[0m\u001b[1;33m)\u001b[0m\u001b[1;33m\u001b[0m\u001b[1;33m\u001b[0m\u001b[0m\n\u001b[0m\u001b[0;32m    249\u001b[0m     \u001b[1;32mif\u001b[0m \u001b[1;34m'retina'\u001b[0m \u001b[1;32min\u001b[0m \u001b[0mformats\u001b[0m \u001b[1;32mor\u001b[0m \u001b[1;34m'png2x'\u001b[0m \u001b[1;32min\u001b[0m \u001b[0mformats\u001b[0m\u001b[1;33m:\u001b[0m\u001b[1;33m\u001b[0m\u001b[1;33m\u001b[0m\u001b[0m\n\u001b[0;32m    250\u001b[0m         \u001b[0mpng_formatter\u001b[0m\u001b[1;33m.\u001b[0m\u001b[0mfor_type\u001b[0m\u001b[1;33m(\u001b[0m\u001b[0mFigure\u001b[0m\u001b[1;33m,\u001b[0m \u001b[1;32mlambda\u001b[0m \u001b[0mfig\u001b[0m\u001b[1;33m:\u001b[0m \u001b[0mretina_figure\u001b[0m\u001b[1;33m(\u001b[0m\u001b[0mfig\u001b[0m\u001b[1;33m,\u001b[0m \u001b[1;33m**\u001b[0m\u001b[0mkwargs\u001b[0m\u001b[1;33m)\u001b[0m\u001b[1;33m)\u001b[0m\u001b[1;33m\u001b[0m\u001b[1;33m\u001b[0m\u001b[0m\n",
      "\u001b[1;32mC:\\ProgramData\\Anaconda3\\lib\\site-packages\\IPython\\core\\pylabtools.py\u001b[0m in \u001b[0;36mprint_figure\u001b[1;34m(fig, fmt, bbox_inches, **kwargs)\u001b[0m\n\u001b[0;32m    130\u001b[0m         \u001b[0mFigureCanvasBase\u001b[0m\u001b[1;33m(\u001b[0m\u001b[0mfig\u001b[0m\u001b[1;33m)\u001b[0m\u001b[1;33m\u001b[0m\u001b[1;33m\u001b[0m\u001b[0m\n\u001b[0;32m    131\u001b[0m \u001b[1;33m\u001b[0m\u001b[0m\n\u001b[1;32m--> 132\u001b[1;33m     \u001b[0mfig\u001b[0m\u001b[1;33m.\u001b[0m\u001b[0mcanvas\u001b[0m\u001b[1;33m.\u001b[0m\u001b[0mprint_figure\u001b[0m\u001b[1;33m(\u001b[0m\u001b[0mbytes_io\u001b[0m\u001b[1;33m,\u001b[0m \u001b[1;33m**\u001b[0m\u001b[0mkw\u001b[0m\u001b[1;33m)\u001b[0m\u001b[1;33m\u001b[0m\u001b[1;33m\u001b[0m\u001b[0m\n\u001b[0m\u001b[0;32m    133\u001b[0m     \u001b[0mdata\u001b[0m \u001b[1;33m=\u001b[0m \u001b[0mbytes_io\u001b[0m\u001b[1;33m.\u001b[0m\u001b[0mgetvalue\u001b[0m\u001b[1;33m(\u001b[0m\u001b[1;33m)\u001b[0m\u001b[1;33m\u001b[0m\u001b[1;33m\u001b[0m\u001b[0m\n\u001b[0;32m    134\u001b[0m     \u001b[1;32mif\u001b[0m \u001b[0mfmt\u001b[0m \u001b[1;33m==\u001b[0m \u001b[1;34m'svg'\u001b[0m\u001b[1;33m:\u001b[0m\u001b[1;33m\u001b[0m\u001b[1;33m\u001b[0m\u001b[0m\n",
      "\u001b[1;32mC:\\ProgramData\\Anaconda3\\lib\\site-packages\\matplotlib\\backend_bases.py\u001b[0m in \u001b[0;36mprint_figure\u001b[1;34m(self, filename, dpi, facecolor, edgecolor, orientation, format, bbox_inches, **kwargs)\u001b[0m\n\u001b[0;32m   2063\u001b[0m                         \u001b[0morientation\u001b[0m\u001b[1;33m=\u001b[0m\u001b[0morientation\u001b[0m\u001b[1;33m,\u001b[0m\u001b[1;33m\u001b[0m\u001b[1;33m\u001b[0m\u001b[0m\n\u001b[0;32m   2064\u001b[0m                         \u001b[0mdryrun\u001b[0m\u001b[1;33m=\u001b[0m\u001b[1;32mTrue\u001b[0m\u001b[1;33m,\u001b[0m\u001b[1;33m\u001b[0m\u001b[1;33m\u001b[0m\u001b[0m\n\u001b[1;32m-> 2065\u001b[1;33m                         **kwargs)\n\u001b[0m\u001b[0;32m   2066\u001b[0m                     \u001b[0mrenderer\u001b[0m \u001b[1;33m=\u001b[0m \u001b[0mself\u001b[0m\u001b[1;33m.\u001b[0m\u001b[0mfigure\u001b[0m\u001b[1;33m.\u001b[0m\u001b[0m_cachedRenderer\u001b[0m\u001b[1;33m\u001b[0m\u001b[1;33m\u001b[0m\u001b[0m\n\u001b[0;32m   2067\u001b[0m                     \u001b[0mbbox_artists\u001b[0m \u001b[1;33m=\u001b[0m \u001b[0mkwargs\u001b[0m\u001b[1;33m.\u001b[0m\u001b[0mpop\u001b[0m\u001b[1;33m(\u001b[0m\u001b[1;34m\"bbox_extra_artists\"\u001b[0m\u001b[1;33m,\u001b[0m \u001b[1;32mNone\u001b[0m\u001b[1;33m)\u001b[0m\u001b[1;33m\u001b[0m\u001b[1;33m\u001b[0m\u001b[0m\n",
      "\u001b[1;32mC:\\ProgramData\\Anaconda3\\lib\\site-packages\\matplotlib\\backends\\backend_agg.py\u001b[0m in \u001b[0;36mprint_png\u001b[1;34m(self, filename_or_obj, metadata, pil_kwargs, *args, **kwargs)\u001b[0m\n\u001b[0;32m    525\u001b[0m \u001b[1;33m\u001b[0m\u001b[0m\n\u001b[0;32m    526\u001b[0m         \u001b[1;32melse\u001b[0m\u001b[1;33m:\u001b[0m\u001b[1;33m\u001b[0m\u001b[1;33m\u001b[0m\u001b[0m\n\u001b[1;32m--> 527\u001b[1;33m             \u001b[0mFigureCanvasAgg\u001b[0m\u001b[1;33m.\u001b[0m\u001b[0mdraw\u001b[0m\u001b[1;33m(\u001b[0m\u001b[0mself\u001b[0m\u001b[1;33m)\u001b[0m\u001b[1;33m\u001b[0m\u001b[1;33m\u001b[0m\u001b[0m\n\u001b[0m\u001b[0;32m    528\u001b[0m             \u001b[0mrenderer\u001b[0m \u001b[1;33m=\u001b[0m \u001b[0mself\u001b[0m\u001b[1;33m.\u001b[0m\u001b[0mget_renderer\u001b[0m\u001b[1;33m(\u001b[0m\u001b[1;33m)\u001b[0m\u001b[1;33m\u001b[0m\u001b[1;33m\u001b[0m\u001b[0m\n\u001b[0;32m    529\u001b[0m             \u001b[1;32mwith\u001b[0m \u001b[0mcbook\u001b[0m\u001b[1;33m.\u001b[0m\u001b[0m_setattr_cm\u001b[0m\u001b[1;33m(\u001b[0m\u001b[0mrenderer\u001b[0m\u001b[1;33m,\u001b[0m \u001b[0mdpi\u001b[0m\u001b[1;33m=\u001b[0m\u001b[0mself\u001b[0m\u001b[1;33m.\u001b[0m\u001b[0mfigure\u001b[0m\u001b[1;33m.\u001b[0m\u001b[0mdpi\u001b[0m\u001b[1;33m)\u001b[0m\u001b[1;33m,\u001b[0m\u001b[0;31m \u001b[0m\u001b[0;31m\\\u001b[0m\u001b[1;33m\u001b[0m\u001b[1;33m\u001b[0m\u001b[0m\n",
      "\u001b[1;32mC:\\ProgramData\\Anaconda3\\lib\\site-packages\\matplotlib\\backends\\backend_agg.py\u001b[0m in \u001b[0;36mdraw\u001b[1;34m(self)\u001b[0m\n\u001b[0;32m    386\u001b[0m         \u001b[0mself\u001b[0m\u001b[1;33m.\u001b[0m\u001b[0mrenderer\u001b[0m \u001b[1;33m=\u001b[0m \u001b[0mself\u001b[0m\u001b[1;33m.\u001b[0m\u001b[0mget_renderer\u001b[0m\u001b[1;33m(\u001b[0m\u001b[0mcleared\u001b[0m\u001b[1;33m=\u001b[0m\u001b[1;32mTrue\u001b[0m\u001b[1;33m)\u001b[0m\u001b[1;33m\u001b[0m\u001b[1;33m\u001b[0m\u001b[0m\n\u001b[0;32m    387\u001b[0m         \u001b[1;32mwith\u001b[0m \u001b[0mRendererAgg\u001b[0m\u001b[1;33m.\u001b[0m\u001b[0mlock\u001b[0m\u001b[1;33m:\u001b[0m\u001b[1;33m\u001b[0m\u001b[1;33m\u001b[0m\u001b[0m\n\u001b[1;32m--> 388\u001b[1;33m             \u001b[0mself\u001b[0m\u001b[1;33m.\u001b[0m\u001b[0mfigure\u001b[0m\u001b[1;33m.\u001b[0m\u001b[0mdraw\u001b[0m\u001b[1;33m(\u001b[0m\u001b[0mself\u001b[0m\u001b[1;33m.\u001b[0m\u001b[0mrenderer\u001b[0m\u001b[1;33m)\u001b[0m\u001b[1;33m\u001b[0m\u001b[1;33m\u001b[0m\u001b[0m\n\u001b[0m\u001b[0;32m    389\u001b[0m             \u001b[1;31m# A GUI class may be need to update a window using this draw, so\u001b[0m\u001b[1;33m\u001b[0m\u001b[1;33m\u001b[0m\u001b[1;33m\u001b[0m\u001b[0m\n\u001b[0;32m    390\u001b[0m             \u001b[1;31m# don't forget to call the superclass.\u001b[0m\u001b[1;33m\u001b[0m\u001b[1;33m\u001b[0m\u001b[1;33m\u001b[0m\u001b[0m\n",
      "\u001b[1;32mC:\\ProgramData\\Anaconda3\\lib\\site-packages\\matplotlib\\artist.py\u001b[0m in \u001b[0;36mdraw_wrapper\u001b[1;34m(artist, renderer, *args, **kwargs)\u001b[0m\n\u001b[0;32m     36\u001b[0m                 \u001b[0mrenderer\u001b[0m\u001b[1;33m.\u001b[0m\u001b[0mstart_filter\u001b[0m\u001b[1;33m(\u001b[0m\u001b[1;33m)\u001b[0m\u001b[1;33m\u001b[0m\u001b[1;33m\u001b[0m\u001b[0m\n\u001b[0;32m     37\u001b[0m \u001b[1;33m\u001b[0m\u001b[0m\n\u001b[1;32m---> 38\u001b[1;33m             \u001b[1;32mreturn\u001b[0m \u001b[0mdraw\u001b[0m\u001b[1;33m(\u001b[0m\u001b[0martist\u001b[0m\u001b[1;33m,\u001b[0m \u001b[0mrenderer\u001b[0m\u001b[1;33m,\u001b[0m \u001b[1;33m*\u001b[0m\u001b[0margs\u001b[0m\u001b[1;33m,\u001b[0m \u001b[1;33m**\u001b[0m\u001b[0mkwargs\u001b[0m\u001b[1;33m)\u001b[0m\u001b[1;33m\u001b[0m\u001b[1;33m\u001b[0m\u001b[0m\n\u001b[0m\u001b[0;32m     39\u001b[0m         \u001b[1;32mfinally\u001b[0m\u001b[1;33m:\u001b[0m\u001b[1;33m\u001b[0m\u001b[1;33m\u001b[0m\u001b[0m\n\u001b[0;32m     40\u001b[0m             \u001b[1;32mif\u001b[0m \u001b[0martist\u001b[0m\u001b[1;33m.\u001b[0m\u001b[0mget_agg_filter\u001b[0m\u001b[1;33m(\u001b[0m\u001b[1;33m)\u001b[0m \u001b[1;32mis\u001b[0m \u001b[1;32mnot\u001b[0m \u001b[1;32mNone\u001b[0m\u001b[1;33m:\u001b[0m\u001b[1;33m\u001b[0m\u001b[1;33m\u001b[0m\u001b[0m\n",
      "\u001b[1;32mC:\\ProgramData\\Anaconda3\\lib\\site-packages\\matplotlib\\figure.py\u001b[0m in \u001b[0;36mdraw\u001b[1;34m(self, renderer)\u001b[0m\n\u001b[0;32m   1707\u001b[0m             \u001b[0mself\u001b[0m\u001b[1;33m.\u001b[0m\u001b[0mpatch\u001b[0m\u001b[1;33m.\u001b[0m\u001b[0mdraw\u001b[0m\u001b[1;33m(\u001b[0m\u001b[0mrenderer\u001b[0m\u001b[1;33m)\u001b[0m\u001b[1;33m\u001b[0m\u001b[1;33m\u001b[0m\u001b[0m\n\u001b[0;32m   1708\u001b[0m             mimage._draw_list_compositing_images(\n\u001b[1;32m-> 1709\u001b[1;33m                 renderer, self, artists, self.suppressComposite)\n\u001b[0m\u001b[0;32m   1710\u001b[0m \u001b[1;33m\u001b[0m\u001b[0m\n\u001b[0;32m   1711\u001b[0m             \u001b[0mrenderer\u001b[0m\u001b[1;33m.\u001b[0m\u001b[0mclose_group\u001b[0m\u001b[1;33m(\u001b[0m\u001b[1;34m'figure'\u001b[0m\u001b[1;33m)\u001b[0m\u001b[1;33m\u001b[0m\u001b[1;33m\u001b[0m\u001b[0m\n",
      "\u001b[1;32mC:\\ProgramData\\Anaconda3\\lib\\site-packages\\matplotlib\\image.py\u001b[0m in \u001b[0;36m_draw_list_compositing_images\u001b[1;34m(renderer, parent, artists, suppress_composite)\u001b[0m\n\u001b[0;32m    133\u001b[0m     \u001b[1;32mif\u001b[0m \u001b[0mnot_composite\u001b[0m \u001b[1;32mor\u001b[0m \u001b[1;32mnot\u001b[0m \u001b[0mhas_images\u001b[0m\u001b[1;33m:\u001b[0m\u001b[1;33m\u001b[0m\u001b[1;33m\u001b[0m\u001b[0m\n\u001b[0;32m    134\u001b[0m         \u001b[1;32mfor\u001b[0m \u001b[0ma\u001b[0m \u001b[1;32min\u001b[0m \u001b[0martists\u001b[0m\u001b[1;33m:\u001b[0m\u001b[1;33m\u001b[0m\u001b[1;33m\u001b[0m\u001b[0m\n\u001b[1;32m--> 135\u001b[1;33m             \u001b[0ma\u001b[0m\u001b[1;33m.\u001b[0m\u001b[0mdraw\u001b[0m\u001b[1;33m(\u001b[0m\u001b[0mrenderer\u001b[0m\u001b[1;33m)\u001b[0m\u001b[1;33m\u001b[0m\u001b[1;33m\u001b[0m\u001b[0m\n\u001b[0m\u001b[0;32m    136\u001b[0m     \u001b[1;32melse\u001b[0m\u001b[1;33m:\u001b[0m\u001b[1;33m\u001b[0m\u001b[1;33m\u001b[0m\u001b[0m\n\u001b[0;32m    137\u001b[0m         \u001b[1;31m# Composite any adjacent images together\u001b[0m\u001b[1;33m\u001b[0m\u001b[1;33m\u001b[0m\u001b[1;33m\u001b[0m\u001b[0m\n",
      "\u001b[1;32mC:\\ProgramData\\Anaconda3\\lib\\site-packages\\matplotlib\\artist.py\u001b[0m in \u001b[0;36mdraw_wrapper\u001b[1;34m(artist, renderer, *args, **kwargs)\u001b[0m\n\u001b[0;32m     36\u001b[0m                 \u001b[0mrenderer\u001b[0m\u001b[1;33m.\u001b[0m\u001b[0mstart_filter\u001b[0m\u001b[1;33m(\u001b[0m\u001b[1;33m)\u001b[0m\u001b[1;33m\u001b[0m\u001b[1;33m\u001b[0m\u001b[0m\n\u001b[0;32m     37\u001b[0m \u001b[1;33m\u001b[0m\u001b[0m\n\u001b[1;32m---> 38\u001b[1;33m             \u001b[1;32mreturn\u001b[0m \u001b[0mdraw\u001b[0m\u001b[1;33m(\u001b[0m\u001b[0martist\u001b[0m\u001b[1;33m,\u001b[0m \u001b[0mrenderer\u001b[0m\u001b[1;33m,\u001b[0m \u001b[1;33m*\u001b[0m\u001b[0margs\u001b[0m\u001b[1;33m,\u001b[0m \u001b[1;33m**\u001b[0m\u001b[0mkwargs\u001b[0m\u001b[1;33m)\u001b[0m\u001b[1;33m\u001b[0m\u001b[1;33m\u001b[0m\u001b[0m\n\u001b[0m\u001b[0;32m     39\u001b[0m         \u001b[1;32mfinally\u001b[0m\u001b[1;33m:\u001b[0m\u001b[1;33m\u001b[0m\u001b[1;33m\u001b[0m\u001b[0m\n\u001b[0;32m     40\u001b[0m             \u001b[1;32mif\u001b[0m \u001b[0martist\u001b[0m\u001b[1;33m.\u001b[0m\u001b[0mget_agg_filter\u001b[0m\u001b[1;33m(\u001b[0m\u001b[1;33m)\u001b[0m \u001b[1;32mis\u001b[0m \u001b[1;32mnot\u001b[0m \u001b[1;32mNone\u001b[0m\u001b[1;33m:\u001b[0m\u001b[1;33m\u001b[0m\u001b[1;33m\u001b[0m\u001b[0m\n",
      "\u001b[1;32mC:\\ProgramData\\Anaconda3\\lib\\site-packages\\matplotlib\\axes\\_base.py\u001b[0m in \u001b[0;36mdraw\u001b[1;34m(self, renderer, inframe)\u001b[0m\n\u001b[0;32m   2645\u001b[0m             \u001b[0mrenderer\u001b[0m\u001b[1;33m.\u001b[0m\u001b[0mstop_rasterizing\u001b[0m\u001b[1;33m(\u001b[0m\u001b[1;33m)\u001b[0m\u001b[1;33m\u001b[0m\u001b[1;33m\u001b[0m\u001b[0m\n\u001b[0;32m   2646\u001b[0m \u001b[1;33m\u001b[0m\u001b[0m\n\u001b[1;32m-> 2647\u001b[1;33m         \u001b[0mmimage\u001b[0m\u001b[1;33m.\u001b[0m\u001b[0m_draw_list_compositing_images\u001b[0m\u001b[1;33m(\u001b[0m\u001b[0mrenderer\u001b[0m\u001b[1;33m,\u001b[0m \u001b[0mself\u001b[0m\u001b[1;33m,\u001b[0m \u001b[0martists\u001b[0m\u001b[1;33m)\u001b[0m\u001b[1;33m\u001b[0m\u001b[1;33m\u001b[0m\u001b[0m\n\u001b[0m\u001b[0;32m   2648\u001b[0m \u001b[1;33m\u001b[0m\u001b[0m\n\u001b[0;32m   2649\u001b[0m         \u001b[0mrenderer\u001b[0m\u001b[1;33m.\u001b[0m\u001b[0mclose_group\u001b[0m\u001b[1;33m(\u001b[0m\u001b[1;34m'axes'\u001b[0m\u001b[1;33m)\u001b[0m\u001b[1;33m\u001b[0m\u001b[1;33m\u001b[0m\u001b[0m\n",
      "\u001b[1;32mC:\\ProgramData\\Anaconda3\\lib\\site-packages\\matplotlib\\image.py\u001b[0m in \u001b[0;36m_draw_list_compositing_images\u001b[1;34m(renderer, parent, artists, suppress_composite)\u001b[0m\n\u001b[0;32m    133\u001b[0m     \u001b[1;32mif\u001b[0m \u001b[0mnot_composite\u001b[0m \u001b[1;32mor\u001b[0m \u001b[1;32mnot\u001b[0m \u001b[0mhas_images\u001b[0m\u001b[1;33m:\u001b[0m\u001b[1;33m\u001b[0m\u001b[1;33m\u001b[0m\u001b[0m\n\u001b[0;32m    134\u001b[0m         \u001b[1;32mfor\u001b[0m \u001b[0ma\u001b[0m \u001b[1;32min\u001b[0m \u001b[0martists\u001b[0m\u001b[1;33m:\u001b[0m\u001b[1;33m\u001b[0m\u001b[1;33m\u001b[0m\u001b[0m\n\u001b[1;32m--> 135\u001b[1;33m             \u001b[0ma\u001b[0m\u001b[1;33m.\u001b[0m\u001b[0mdraw\u001b[0m\u001b[1;33m(\u001b[0m\u001b[0mrenderer\u001b[0m\u001b[1;33m)\u001b[0m\u001b[1;33m\u001b[0m\u001b[1;33m\u001b[0m\u001b[0m\n\u001b[0m\u001b[0;32m    136\u001b[0m     \u001b[1;32melse\u001b[0m\u001b[1;33m:\u001b[0m\u001b[1;33m\u001b[0m\u001b[1;33m\u001b[0m\u001b[0m\n\u001b[0;32m    137\u001b[0m         \u001b[1;31m# Composite any adjacent images together\u001b[0m\u001b[1;33m\u001b[0m\u001b[1;33m\u001b[0m\u001b[1;33m\u001b[0m\u001b[0m\n",
      "\u001b[1;32mC:\\ProgramData\\Anaconda3\\lib\\site-packages\\matplotlib\\artist.py\u001b[0m in \u001b[0;36mdraw_wrapper\u001b[1;34m(artist, renderer, *args, **kwargs)\u001b[0m\n\u001b[0;32m     36\u001b[0m                 \u001b[0mrenderer\u001b[0m\u001b[1;33m.\u001b[0m\u001b[0mstart_filter\u001b[0m\u001b[1;33m(\u001b[0m\u001b[1;33m)\u001b[0m\u001b[1;33m\u001b[0m\u001b[1;33m\u001b[0m\u001b[0m\n\u001b[0;32m     37\u001b[0m \u001b[1;33m\u001b[0m\u001b[0m\n\u001b[1;32m---> 38\u001b[1;33m             \u001b[1;32mreturn\u001b[0m \u001b[0mdraw\u001b[0m\u001b[1;33m(\u001b[0m\u001b[0martist\u001b[0m\u001b[1;33m,\u001b[0m \u001b[0mrenderer\u001b[0m\u001b[1;33m,\u001b[0m \u001b[1;33m*\u001b[0m\u001b[0margs\u001b[0m\u001b[1;33m,\u001b[0m \u001b[1;33m**\u001b[0m\u001b[0mkwargs\u001b[0m\u001b[1;33m)\u001b[0m\u001b[1;33m\u001b[0m\u001b[1;33m\u001b[0m\u001b[0m\n\u001b[0m\u001b[0;32m     39\u001b[0m         \u001b[1;32mfinally\u001b[0m\u001b[1;33m:\u001b[0m\u001b[1;33m\u001b[0m\u001b[1;33m\u001b[0m\u001b[0m\n\u001b[0;32m     40\u001b[0m             \u001b[1;32mif\u001b[0m \u001b[0martist\u001b[0m\u001b[1;33m.\u001b[0m\u001b[0mget_agg_filter\u001b[0m\u001b[1;33m(\u001b[0m\u001b[1;33m)\u001b[0m \u001b[1;32mis\u001b[0m \u001b[1;32mnot\u001b[0m \u001b[1;32mNone\u001b[0m\u001b[1;33m:\u001b[0m\u001b[1;33m\u001b[0m\u001b[1;33m\u001b[0m\u001b[0m\n",
      "\u001b[1;32mC:\\ProgramData\\Anaconda3\\lib\\site-packages\\matplotlib\\legend.py\u001b[0m in \u001b[0;36mdraw\u001b[1;34m(self, renderer)\u001b[0m\n\u001b[0;32m    656\u001b[0m         \u001b[1;31m# update the location and size of the legend. This needs to\u001b[0m\u001b[1;33m\u001b[0m\u001b[1;33m\u001b[0m\u001b[1;33m\u001b[0m\u001b[0m\n\u001b[0;32m    657\u001b[0m         \u001b[1;31m# be done in any case to clip the figure right.\u001b[0m\u001b[1;33m\u001b[0m\u001b[1;33m\u001b[0m\u001b[1;33m\u001b[0m\u001b[0m\n\u001b[1;32m--> 658\u001b[1;33m         \u001b[0mbbox\u001b[0m \u001b[1;33m=\u001b[0m \u001b[0mself\u001b[0m\u001b[1;33m.\u001b[0m\u001b[0m_legend_box\u001b[0m\u001b[1;33m.\u001b[0m\u001b[0mget_window_extent\u001b[0m\u001b[1;33m(\u001b[0m\u001b[0mrenderer\u001b[0m\u001b[1;33m)\u001b[0m\u001b[1;33m\u001b[0m\u001b[1;33m\u001b[0m\u001b[0m\n\u001b[0m\u001b[0;32m    659\u001b[0m         self.legendPatch.set_bounds(bbox.x0, bbox.y0,\n\u001b[0;32m    660\u001b[0m                                     bbox.width, bbox.height)\n",
      "\u001b[1;32mC:\\ProgramData\\Anaconda3\\lib\\site-packages\\matplotlib\\offsetbox.py\u001b[0m in \u001b[0;36mget_window_extent\u001b[1;34m(self, renderer)\u001b[0m\n\u001b[0;32m    290\u001b[0m         \u001b[1;34m\"\"\"Return the bounding box (`.Bbox`) in display space.\"\"\"\u001b[0m\u001b[1;33m\u001b[0m\u001b[1;33m\u001b[0m\u001b[0m\n\u001b[0;32m    291\u001b[0m         \u001b[0mw\u001b[0m\u001b[1;33m,\u001b[0m \u001b[0mh\u001b[0m\u001b[1;33m,\u001b[0m \u001b[0mxd\u001b[0m\u001b[1;33m,\u001b[0m \u001b[0myd\u001b[0m\u001b[1;33m,\u001b[0m \u001b[0moffsets\u001b[0m \u001b[1;33m=\u001b[0m \u001b[0mself\u001b[0m\u001b[1;33m.\u001b[0m\u001b[0mget_extent_offsets\u001b[0m\u001b[1;33m(\u001b[0m\u001b[0mrenderer\u001b[0m\u001b[1;33m)\u001b[0m\u001b[1;33m\u001b[0m\u001b[1;33m\u001b[0m\u001b[0m\n\u001b[1;32m--> 292\u001b[1;33m         \u001b[0mpx\u001b[0m\u001b[1;33m,\u001b[0m \u001b[0mpy\u001b[0m \u001b[1;33m=\u001b[0m \u001b[0mself\u001b[0m\u001b[1;33m.\u001b[0m\u001b[0mget_offset\u001b[0m\u001b[1;33m(\u001b[0m\u001b[0mw\u001b[0m\u001b[1;33m,\u001b[0m \u001b[0mh\u001b[0m\u001b[1;33m,\u001b[0m \u001b[0mxd\u001b[0m\u001b[1;33m,\u001b[0m \u001b[0myd\u001b[0m\u001b[1;33m,\u001b[0m \u001b[0mrenderer\u001b[0m\u001b[1;33m)\u001b[0m\u001b[1;33m\u001b[0m\u001b[1;33m\u001b[0m\u001b[0m\n\u001b[0m\u001b[0;32m    293\u001b[0m         \u001b[1;32mreturn\u001b[0m \u001b[0mmtransforms\u001b[0m\u001b[1;33m.\u001b[0m\u001b[0mBbox\u001b[0m\u001b[1;33m.\u001b[0m\u001b[0mfrom_bounds\u001b[0m\u001b[1;33m(\u001b[0m\u001b[0mpx\u001b[0m \u001b[1;33m-\u001b[0m \u001b[0mxd\u001b[0m\u001b[1;33m,\u001b[0m \u001b[0mpy\u001b[0m \u001b[1;33m-\u001b[0m \u001b[0myd\u001b[0m\u001b[1;33m,\u001b[0m \u001b[0mw\u001b[0m\u001b[1;33m,\u001b[0m \u001b[0mh\u001b[0m\u001b[1;33m)\u001b[0m\u001b[1;33m\u001b[0m\u001b[1;33m\u001b[0m\u001b[0m\n\u001b[0;32m    294\u001b[0m \u001b[1;33m\u001b[0m\u001b[0m\n",
      "\u001b[1;32mC:\\ProgramData\\Anaconda3\\lib\\site-packages\\matplotlib\\offsetbox.py\u001b[0m in \u001b[0;36mget_offset\u001b[1;34m(self, width, height, xdescent, ydescent, renderer)\u001b[0m\n\u001b[0;32m    230\u001b[0m         \"\"\"\n\u001b[0;32m    231\u001b[0m         return (self._offset(width, height, xdescent, ydescent, renderer)\n\u001b[1;32m--> 232\u001b[1;33m                 \u001b[1;32mif\u001b[0m \u001b[0mcallable\u001b[0m\u001b[1;33m(\u001b[0m\u001b[0mself\u001b[0m\u001b[1;33m.\u001b[0m\u001b[0m_offset\u001b[0m\u001b[1;33m)\u001b[0m\u001b[1;33m\u001b[0m\u001b[1;33m\u001b[0m\u001b[0m\n\u001b[0m\u001b[0;32m    233\u001b[0m                 else self._offset)\n\u001b[0;32m    234\u001b[0m \u001b[1;33m\u001b[0m\u001b[0m\n",
      "\u001b[1;32mC:\\ProgramData\\Anaconda3\\lib\\site-packages\\matplotlib\\legend.py\u001b[0m in \u001b[0;36m_findoffset\u001b[1;34m(self, width, height, xdescent, ydescent, renderer)\u001b[0m\n\u001b[0;32m    625\u001b[0m \u001b[1;33m\u001b[0m\u001b[0m\n\u001b[0;32m    626\u001b[0m         \u001b[1;32mif\u001b[0m \u001b[0mself\u001b[0m\u001b[1;33m.\u001b[0m\u001b[0m_loc\u001b[0m \u001b[1;33m==\u001b[0m \u001b[1;36m0\u001b[0m\u001b[1;33m:\u001b[0m  \u001b[1;31m# \"best\".\u001b[0m\u001b[1;33m\u001b[0m\u001b[1;33m\u001b[0m\u001b[0m\n\u001b[1;32m--> 627\u001b[1;33m             \u001b[0mx\u001b[0m\u001b[1;33m,\u001b[0m \u001b[0my\u001b[0m \u001b[1;33m=\u001b[0m \u001b[0mself\u001b[0m\u001b[1;33m.\u001b[0m\u001b[0m_find_best_position\u001b[0m\u001b[1;33m(\u001b[0m\u001b[0mwidth\u001b[0m\u001b[1;33m,\u001b[0m \u001b[0mheight\u001b[0m\u001b[1;33m,\u001b[0m \u001b[0mrenderer\u001b[0m\u001b[1;33m)\u001b[0m\u001b[1;33m\u001b[0m\u001b[1;33m\u001b[0m\u001b[0m\n\u001b[0m\u001b[0;32m    628\u001b[0m         \u001b[1;32melif\u001b[0m \u001b[0mself\u001b[0m\u001b[1;33m.\u001b[0m\u001b[0m_loc\u001b[0m \u001b[1;32min\u001b[0m \u001b[0mLegend\u001b[0m\u001b[1;33m.\u001b[0m\u001b[0mcodes\u001b[0m\u001b[1;33m.\u001b[0m\u001b[0mvalues\u001b[0m\u001b[1;33m(\u001b[0m\u001b[1;33m)\u001b[0m\u001b[1;33m:\u001b[0m  \u001b[1;31m# Fixed location.\u001b[0m\u001b[1;33m\u001b[0m\u001b[1;33m\u001b[0m\u001b[0m\n\u001b[0;32m    629\u001b[0m             \u001b[0mbbox\u001b[0m \u001b[1;33m=\u001b[0m \u001b[0mBbox\u001b[0m\u001b[1;33m.\u001b[0m\u001b[0mfrom_bounds\u001b[0m\u001b[1;33m(\u001b[0m\u001b[1;36m0\u001b[0m\u001b[1;33m,\u001b[0m \u001b[1;36m0\u001b[0m\u001b[1;33m,\u001b[0m \u001b[0mwidth\u001b[0m\u001b[1;33m,\u001b[0m \u001b[0mheight\u001b[0m\u001b[1;33m)\u001b[0m\u001b[1;33m\u001b[0m\u001b[1;33m\u001b[0m\u001b[0m\n",
      "\u001b[1;32mC:\\ProgramData\\Anaconda3\\lib\\site-packages\\matplotlib\\legend.py\u001b[0m in \u001b[0;36m_find_best_position\u001b[1;34m(self, width, height, renderer, consider)\u001b[0m\n\u001b[0;32m   1124\u001b[0m         \u001b[1;32massert\u001b[0m \u001b[0mself\u001b[0m\u001b[1;33m.\u001b[0m\u001b[0misaxes\u001b[0m\u001b[1;33m\u001b[0m\u001b[1;33m\u001b[0m\u001b[0m\n\u001b[0;32m   1125\u001b[0m \u001b[1;33m\u001b[0m\u001b[0m\n\u001b[1;32m-> 1126\u001b[1;33m         \u001b[0mverts\u001b[0m\u001b[1;33m,\u001b[0m \u001b[0mbboxes\u001b[0m\u001b[1;33m,\u001b[0m \u001b[0mlines\u001b[0m\u001b[1;33m,\u001b[0m \u001b[0moffsets\u001b[0m \u001b[1;33m=\u001b[0m \u001b[0mself\u001b[0m\u001b[1;33m.\u001b[0m\u001b[0m_auto_legend_data\u001b[0m\u001b[1;33m(\u001b[0m\u001b[1;33m)\u001b[0m\u001b[1;33m\u001b[0m\u001b[1;33m\u001b[0m\u001b[0m\n\u001b[0m\u001b[0;32m   1127\u001b[0m         \u001b[1;32mif\u001b[0m \u001b[0mself\u001b[0m\u001b[1;33m.\u001b[0m\u001b[0m_loc_used_default\u001b[0m \u001b[1;32mand\u001b[0m \u001b[0mverts\u001b[0m\u001b[1;33m.\u001b[0m\u001b[0mshape\u001b[0m\u001b[1;33m[\u001b[0m\u001b[1;36m0\u001b[0m\u001b[1;33m]\u001b[0m \u001b[1;33m>\u001b[0m \u001b[1;36m200000\u001b[0m\u001b[1;33m:\u001b[0m\u001b[1;33m\u001b[0m\u001b[1;33m\u001b[0m\u001b[0m\n\u001b[0;32m   1128\u001b[0m             \u001b[1;31m# this size results in a 3+ second render time on a good machine\u001b[0m\u001b[1;33m\u001b[0m\u001b[1;33m\u001b[0m\u001b[1;33m\u001b[0m\u001b[0m\n",
      "\u001b[1;32mC:\\ProgramData\\Anaconda3\\lib\\site-packages\\matplotlib\\legend.py\u001b[0m in \u001b[0;36m_auto_legend_data\u001b[1;34m(self)\u001b[0m\n\u001b[0;32m    924\u001b[0m \u001b[1;33m\u001b[0m\u001b[0m\n\u001b[0;32m    925\u001b[0m         \u001b[1;32mfor\u001b[0m \u001b[0mhandle\u001b[0m \u001b[1;32min\u001b[0m \u001b[0max\u001b[0m\u001b[1;33m.\u001b[0m\u001b[0mcollections\u001b[0m\u001b[1;33m:\u001b[0m\u001b[1;33m\u001b[0m\u001b[1;33m\u001b[0m\u001b[0m\n\u001b[1;32m--> 926\u001b[1;33m             \u001b[0mtransform\u001b[0m\u001b[1;33m,\u001b[0m \u001b[0mtransOffset\u001b[0m\u001b[1;33m,\u001b[0m \u001b[0mhoffsets\u001b[0m\u001b[1;33m,\u001b[0m \u001b[0mpaths\u001b[0m \u001b[1;33m=\u001b[0m \u001b[0mhandle\u001b[0m\u001b[1;33m.\u001b[0m\u001b[0m_prepare_points\u001b[0m\u001b[1;33m(\u001b[0m\u001b[1;33m)\u001b[0m\u001b[1;33m\u001b[0m\u001b[1;33m\u001b[0m\u001b[0m\n\u001b[0m\u001b[0;32m    927\u001b[0m \u001b[1;33m\u001b[0m\u001b[0m\n\u001b[0;32m    928\u001b[0m             \u001b[1;32mif\u001b[0m \u001b[0mlen\u001b[0m\u001b[1;33m(\u001b[0m\u001b[0mhoffsets\u001b[0m\u001b[1;33m)\u001b[0m\u001b[1;33m:\u001b[0m\u001b[1;33m\u001b[0m\u001b[1;33m\u001b[0m\u001b[0m\n",
      "\u001b[1;32mC:\\ProgramData\\Anaconda3\\lib\\site-packages\\matplotlib\\collections.py\u001b[0m in \u001b[0;36m_prepare_points\u001b[1;34m(self)\u001b[0m\n\u001b[0;32m    216\u001b[0m         \u001b[0mtransOffset\u001b[0m \u001b[1;33m=\u001b[0m \u001b[0mself\u001b[0m\u001b[1;33m.\u001b[0m\u001b[0mget_offset_transform\u001b[0m\u001b[1;33m(\u001b[0m\u001b[1;33m)\u001b[0m\u001b[1;33m\u001b[0m\u001b[1;33m\u001b[0m\u001b[0m\n\u001b[0;32m    217\u001b[0m         \u001b[0moffsets\u001b[0m \u001b[1;33m=\u001b[0m \u001b[0mself\u001b[0m\u001b[1;33m.\u001b[0m\u001b[0m_offsets\u001b[0m\u001b[1;33m\u001b[0m\u001b[1;33m\u001b[0m\u001b[0m\n\u001b[1;32m--> 218\u001b[1;33m         \u001b[0mpaths\u001b[0m \u001b[1;33m=\u001b[0m \u001b[0mself\u001b[0m\u001b[1;33m.\u001b[0m\u001b[0mget_paths\u001b[0m\u001b[1;33m(\u001b[0m\u001b[1;33m)\u001b[0m\u001b[1;33m\u001b[0m\u001b[1;33m\u001b[0m\u001b[0m\n\u001b[0m\u001b[0;32m    219\u001b[0m \u001b[1;33m\u001b[0m\u001b[0m\n\u001b[0;32m    220\u001b[0m         \u001b[1;32mif\u001b[0m \u001b[0mself\u001b[0m\u001b[1;33m.\u001b[0m\u001b[0mhave_units\u001b[0m\u001b[1;33m(\u001b[0m\u001b[1;33m)\u001b[0m\u001b[1;33m:\u001b[0m\u001b[1;33m\u001b[0m\u001b[1;33m\u001b[0m\u001b[0m\n",
      "\u001b[1;32mC:\\ProgramData\\Anaconda3\\lib\\site-packages\\matplotlib\\collections.py\u001b[0m in \u001b[0;36mget_paths\u001b[1;34m(self)\u001b[0m\n\u001b[0;32m   1928\u001b[0m     \u001b[1;32mdef\u001b[0m \u001b[0mget_paths\u001b[0m\u001b[1;33m(\u001b[0m\u001b[0mself\u001b[0m\u001b[1;33m)\u001b[0m\u001b[1;33m:\u001b[0m\u001b[1;33m\u001b[0m\u001b[1;33m\u001b[0m\u001b[0m\n\u001b[0;32m   1929\u001b[0m         \u001b[1;32mif\u001b[0m \u001b[0mself\u001b[0m\u001b[1;33m.\u001b[0m\u001b[0m_paths\u001b[0m \u001b[1;32mis\u001b[0m \u001b[1;32mNone\u001b[0m\u001b[1;33m:\u001b[0m\u001b[1;33m\u001b[0m\u001b[1;33m\u001b[0m\u001b[0m\n\u001b[1;32m-> 1930\u001b[1;33m             \u001b[0mself\u001b[0m\u001b[1;33m.\u001b[0m\u001b[0mset_paths\u001b[0m\u001b[1;33m(\u001b[0m\u001b[1;33m)\u001b[0m\u001b[1;33m\u001b[0m\u001b[1;33m\u001b[0m\u001b[0m\n\u001b[0m\u001b[0;32m   1931\u001b[0m         \u001b[1;32mreturn\u001b[0m \u001b[0mself\u001b[0m\u001b[1;33m.\u001b[0m\u001b[0m_paths\u001b[0m\u001b[1;33m\u001b[0m\u001b[1;33m\u001b[0m\u001b[0m\n\u001b[0;32m   1932\u001b[0m \u001b[1;33m\u001b[0m\u001b[0m\n",
      "\u001b[1;32mC:\\ProgramData\\Anaconda3\\lib\\site-packages\\matplotlib\\collections.py\u001b[0m in \u001b[0;36mset_paths\u001b[1;34m(self)\u001b[0m\n\u001b[0;32m   1933\u001b[0m     \u001b[1;32mdef\u001b[0m \u001b[0mset_paths\u001b[0m\u001b[1;33m(\u001b[0m\u001b[0mself\u001b[0m\u001b[1;33m)\u001b[0m\u001b[1;33m:\u001b[0m\u001b[1;33m\u001b[0m\u001b[1;33m\u001b[0m\u001b[0m\n\u001b[0;32m   1934\u001b[0m         self._paths = self.convert_mesh_to_paths(\n\u001b[1;32m-> 1935\u001b[1;33m             self._meshWidth, self._meshHeight, self._coordinates)\n\u001b[0m\u001b[0;32m   1936\u001b[0m         \u001b[0mself\u001b[0m\u001b[1;33m.\u001b[0m\u001b[0mstale\u001b[0m \u001b[1;33m=\u001b[0m \u001b[1;32mTrue\u001b[0m\u001b[1;33m\u001b[0m\u001b[1;33m\u001b[0m\u001b[0m\n\u001b[0;32m   1937\u001b[0m \u001b[1;33m\u001b[0m\u001b[0m\n",
      "\u001b[1;32mC:\\ProgramData\\Anaconda3\\lib\\site-packages\\matplotlib\\collections.py\u001b[0m in \u001b[0;36mconvert_mesh_to_paths\u001b[1;34m(meshWidth, meshHeight, coordinates)\u001b[0m\n\u001b[0;32m   1957\u001b[0m                     \u001b[0mc\u001b[0m\u001b[1;33m[\u001b[0m\u001b[1;36m1\u001b[0m\u001b[1;33m:\u001b[0m\u001b[1;33m,\u001b[0m \u001b[1;33m:\u001b[0m\u001b[1;33m-\u001b[0m\u001b[1;36m1\u001b[0m\u001b[1;33m]\u001b[0m\u001b[1;33m,\u001b[0m\u001b[1;33m\u001b[0m\u001b[1;33m\u001b[0m\u001b[0m\n\u001b[0;32m   1958\u001b[0m                     \u001b[0mc\u001b[0m\u001b[1;33m[\u001b[0m\u001b[1;33m:\u001b[0m\u001b[1;33m-\u001b[0m\u001b[1;36m1\u001b[0m\u001b[1;33m,\u001b[0m \u001b[1;33m:\u001b[0m\u001b[1;33m-\u001b[0m\u001b[1;36m1\u001b[0m\u001b[1;33m]\u001b[0m\u001b[1;33m\u001b[0m\u001b[1;33m\u001b[0m\u001b[0m\n\u001b[1;32m-> 1959\u001b[1;33m                 ), axis=2)\n\u001b[0m\u001b[0;32m   1960\u001b[0m         \u001b[0mpoints\u001b[0m \u001b[1;33m=\u001b[0m \u001b[0mpoints\u001b[0m\u001b[1;33m.\u001b[0m\u001b[0mreshape\u001b[0m\u001b[1;33m(\u001b[0m\u001b[1;33m(\u001b[0m\u001b[0mmeshWidth\u001b[0m \u001b[1;33m*\u001b[0m \u001b[0mmeshHeight\u001b[0m\u001b[1;33m,\u001b[0m \u001b[1;36m5\u001b[0m\u001b[1;33m,\u001b[0m \u001b[1;36m2\u001b[0m\u001b[1;33m)\u001b[0m\u001b[1;33m)\u001b[0m\u001b[1;33m\u001b[0m\u001b[1;33m\u001b[0m\u001b[0m\n\u001b[0;32m   1961\u001b[0m         \u001b[1;32mreturn\u001b[0m \u001b[1;33m[\u001b[0m\u001b[0mmpath\u001b[0m\u001b[1;33m.\u001b[0m\u001b[0mPath\u001b[0m\u001b[1;33m(\u001b[0m\u001b[0mx\u001b[0m\u001b[1;33m)\u001b[0m \u001b[1;32mfor\u001b[0m \u001b[0mx\u001b[0m \u001b[1;32min\u001b[0m \u001b[0mpoints\u001b[0m\u001b[1;33m]\u001b[0m\u001b[1;33m\u001b[0m\u001b[1;33m\u001b[0m\u001b[0m\n",
      "\u001b[1;32m<__array_function__ internals>\u001b[0m in \u001b[0;36mconcatenate\u001b[1;34m(*args, **kwargs)\u001b[0m\n",
      "\u001b[1;31mMemoryError\u001b[0m: Unable to allocate 3.84 GiB for an array with shape (5097, 10120, 10) and data type float64"
     ]
    },
    {
     "data": {
      "text/plain": [
       "<Figure size 720x720 with 5 Axes>"
      ]
     },
     "metadata": {
      "needs_background": "light"
     },
     "output_type": "display_data"
    }
   ],
   "source": [
    "# Plot step\n",
    "df = dfi\n",
    "\n",
    "# set color panel\n",
    "df_labels = dfi[\"subtype\"]\n",
    "df_pal = sns.cubehelix_palette(df_labels.unique().size, light=.9, dark=.1, reverse=True, start=1, rot=-2)\n",
    "# df_pal = [sns.color_palette()[0], sns.color_palette()[3], sns.color_palette()[2], sns.color_palette()[-1],]\n",
    "df_lut = dict(zip(df_labels.unique(), df_pal))\n",
    "df_colors = df_labels.map(df_lut)\n",
    "\n",
    "\n",
    "# df_labels_2 = df[\"path:\" + sga]\n",
    "# df_pal_2 = sns.cubehelix_palette(df_labels_2.unique().size, light=.9, dark=.1, reverse=True, start=1, rot=-2)\n",
    "# df_lut_2 = dict(zip(df_labels_2.unique(), df_pal_2))\n",
    "# df_lut_2[0] = \"white\"\n",
    "# df_lut_2[1] = \"red\"\n",
    "# df_lut_2[-1] = \"blue\"\n",
    "# df_colors_2 = df_labels_2.map(df_lut_2)\n",
    "\n",
    "# df_labels_3 = df[\"deg:\" + sga]\n",
    "# df_colors_3 = df_labels_3.map(df_lut_2)\n",
    "\n",
    "# plot step\n",
    "g = sns.clustermap(\n",
    "    df.iloc[:, 0:-1], figsize=(10, 10),\n",
    "    # Turn off the clustering\n",
    "    row_cluster=True, col_cluster=True,\n",
    "    yticklabels=False, xticklabels=False,\n",
    "    # Add colored class labels using data frame created from node and network colors\n",
    "    row_colors = [df_colors],\n",
    "    # Make the plot look better when many rows/cols\n",
    "    center=0, cmap=\"vlag\")\n",
    "\n",
    "\n",
    "ax0 = g.ax_heatmap\n",
    "ax0.set_xlabel(\"Gene\")\n",
    "ax0.set_ylabel(\"Sample\")\n",
    "\n",
    "# gene_l = [\"TP53\",\"CDKN2A\",\"CDKN2B\",\"RB1\", \"NOTCH1\", \"NSD1\", \"NFE2L2\",\n",
    "#           \"KEAP1\", \"FBXW7\", \"EP300\", \"EGFR\", \"PIK3CA\", \"PTEN\", \"CASP8\", \"FAT1\", \"HRAS\"]\n",
    "# b = list(S_Pci.iloc[:, g.dendrogram_col.reordered_ind].columns)\n",
    "# c = set(b) & set(gene_l)\n",
    "# d = [b.index(ele) for ele in c]\n",
    "# ax0.set_xticks(d)\n",
    "# ax0.set_xticklabels(c, rotation=90, fontsize=8)\n",
    "\n",
    "ax3 = g.cax\n",
    "ax3.set_title(\"Gene State\", fontsize=9)\n",
    "ax3.set_position([0.1, 0.3, 0.015, 0.06])\n",
    "# ax3.get_tightbbox(fig.canvas.get_renderer())\n",
    "\n",
    "for label in df_labels.unique():\n",
    "    ax0.bar(0, 0, color=df_lut[label], label=label, linewidth=0)\n",
    "# ax1.legend(title=\"path: %s States\" % sga, loc=\"lower left\", ncol=1, bbox_transform=plt.gcf().transFigure, bbox_to_anchor=(1.0, 0.4))\n",
    "ax0.legend(\n",
    "    title=\"Subtype\", loc=\"lower reight\", ncol=1, \n",
    "    bbox_transform=plt.gcf().transFigure, bbox_to_anchor=(0.01, 0.4))\n",
    "\n",
    "ax1 = g.ax_row_dendrogram\n",
    "ax1.set_visible(False)\n",
    "\n",
    "ax2 = g.ax_col_dendrogram\n",
    "ax2.set_visible(False)\n",
    "\n",
    "# ax2 = g.ax_row_colors\n",
    "# for label in df_labels_2.unique():\n",
    "#     ax2.bar(0, 0, color=df_lut_2[label], label=label, linewidth=0)\n",
    "# legend2 = ax2.legend(title=\"%s state\" % sga, loc=\"lower left\", ncol=1, bbox_transform=plt.gcf().transFigure, bbox_to_anchor=(1.0, 0.2))\n",
    "# ax2.set_xticklabels([\"TCGA\",\"DEG\"])\n",
    "# ax2.set_xticks([0.5,1.5])\n",
    "\n",
    "plt.show()"
   ]
  },
  {
   "cell_type": "code",
   "execution_count": 152,
   "metadata": {},
   "outputs": [
    {
     "data": {
      "text/plain": [
       "0.20263914754086187"
      ]
     },
     "execution_count": 152,
     "metadata": {},
     "output_type": "execute_result"
    }
   ],
   "source": [
    "np.mean(np.mean(S_Ad))"
   ]
  },
  {
   "cell_type": "markdown",
   "metadata": {},
   "source": [
    "## TCGA predict pathway Label"
   ]
  },
  {
   "cell_type": "code",
   "execution_count": null,
   "metadata": {},
   "outputs": [],
   "source": [
    "para = pd.read_table(\"Pre/Input/TCGA_BRCA/BRCA_merge_merged_reals.txt\", sep=\"\\t\", index_col=0)\n",
    "# para = pd.read_table(\"Pre/Input/TCGA_BRCA/BRCA_PanCan33_ssGSEA_1387GeneSets_NonZero_sample_level_Z.txt\", sep=\"\\t\", index_col=0)"
   ]
  },
  {
   "cell_type": "code",
   "execution_count": null,
   "metadata": {},
   "outputs": [],
   "source": [
    "p53 = node[\"P53\"] + [\"P53\"]\n",
    "p53_l = [ele for ele in para.index if any(x in ele.upper() for x in p53)]\n",
    "\n",
    "pi3k = node[\"PI3K\"] + [\"PI3K\", \"SUI\"]\n",
    "pi3k_l = [ele for ele in para.index if any(x in ele.upper() for x in pi3k)]\n",
    "\n",
    "rtk = node[\"RTK\"]\n",
    "rtk_l = [ele for ele in para.index if any(x in ele.upper() for x in rtk)]"
   ]
  },
  {
   "cell_type": "code",
   "execution_count": null,
   "metadata": {},
   "outputs": [],
   "source": [
    "para_d = para.loc[pi3k_l]\n",
    "para_d = para_d.loc[para_d.index[np.mean(abs(para_d), 1)>0.1]]\n",
    "\n",
    "sns.clustermap(para_d, center=0, cmap=\"vlag\", xticklabels=False)"
   ]
  },
  {
   "cell_type": "markdown",
   "metadata": {},
   "source": [
    "## Bicluster"
   ]
  },
  {
   "cell_type": "code",
   "execution_count": 17,
   "metadata": {
    "collapsed": true,
    "jupyter": {
     "outputs_hidden": true
    }
   },
   "outputs": [
    {
     "ename": "NameError",
     "evalue": "name 'A_D' is not defined",
     "output_type": "error",
     "traceback": [
      "\u001b[1;31m---------------------------------------------------------------------------\u001b[0m",
      "\u001b[1;31mNameError\u001b[0m                                 Traceback (most recent call last)",
      "\u001b[1;32m<ipython-input-17-ec0a4034ea65>\u001b[0m in \u001b[0;36m<module>\u001b[1;34m\u001b[0m\n\u001b[0;32m      2\u001b[0m \u001b[0mS_Ai\u001b[0m \u001b[1;33m=\u001b[0m \u001b[0mpd\u001b[0m\u001b[1;33m.\u001b[0m\u001b[0mread_csv\u001b[0m\u001b[1;33m(\u001b[0m\u001b[1;34m\"EM/Input/S_Asb/S_A_BRCA.csv\"\u001b[0m\u001b[1;33m,\u001b[0m \u001b[0mindex_col\u001b[0m\u001b[1;33m=\u001b[0m\u001b[1;36m0\u001b[0m\u001b[1;33m,\u001b[0m \u001b[0mheader\u001b[0m\u001b[1;33m=\u001b[0m\u001b[1;36m0\u001b[0m\u001b[1;33m)\u001b[0m\u001b[1;33m\u001b[0m\u001b[1;33m\u001b[0m\u001b[0m\n\u001b[0;32m      3\u001b[0m \u001b[0msga\u001b[0m \u001b[1;33m=\u001b[0m \u001b[1;34m\"PIK3CA\"\u001b[0m\u001b[1;33m\u001b[0m\u001b[1;33m\u001b[0m\u001b[0m\n\u001b[1;32m----> 4\u001b[1;33m \u001b[0mA_Di\u001b[0m \u001b[1;33m=\u001b[0m \u001b[0mA_D\u001b[0m\u001b[1;33m[\u001b[0m\u001b[0mA_D\u001b[0m\u001b[1;33m.\u001b[0m\u001b[0mcolumns\u001b[0m\u001b[1;33m[\u001b[0m\u001b[0mnp\u001b[0m\u001b[1;33m.\u001b[0m\u001b[0msum\u001b[0m\u001b[1;33m(\u001b[0m\u001b[0mA_D\u001b[0m\u001b[1;33m.\u001b[0m\u001b[0mloc\u001b[0m\u001b[1;33m[\u001b[0m\u001b[1;33m[\u001b[0m\u001b[0msga\u001b[0m\u001b[1;33m]\u001b[0m\u001b[1;33m,\u001b[0m \u001b[1;33m:\u001b[0m\u001b[1;33m]\u001b[0m\u001b[1;33m)\u001b[0m \u001b[1;33m>\u001b[0m \u001b[1;36m0\u001b[0m\u001b[1;33m]\u001b[0m\u001b[1;33m]\u001b[0m\u001b[1;33m\u001b[0m\u001b[1;33m\u001b[0m\u001b[0m\n\u001b[0m\u001b[0;32m      5\u001b[0m \u001b[0mdf\u001b[0m \u001b[1;33m=\u001b[0m \u001b[0mS_D\u001b[0m\u001b[1;33m.\u001b[0m\u001b[0mloc\u001b[0m\u001b[1;33m[\u001b[0m\u001b[0mS_P\u001b[0m\u001b[1;33m.\u001b[0m\u001b[0mindex\u001b[0m\u001b[1;33m,\u001b[0m \u001b[0mA_Di\u001b[0m\u001b[1;33m.\u001b[0m\u001b[0mcolumns\u001b[0m\u001b[1;33m]\u001b[0m\u001b[1;33m\u001b[0m\u001b[1;33m\u001b[0m\u001b[0m\n",
      "\u001b[1;31mNameError\u001b[0m: name 'A_D' is not defined"
     ]
    }
   ],
   "source": [
    "S_P = pd.read_csv(\"EM/Output/S_Ao_sb1/S_P_BRCA.csv\", index_col=0, header=0)\n",
    "S_Ai = pd.read_csv(\"EM/Input/S_Asb/S_A_BRCA.csv\", index_col=0, header=0)\n",
    "sga = \"PIK3CA\"\n",
    "A_Di = A_D[A_D.columns[np.sum(A_D.loc[[sga], :]) > 0]]\n",
    "df = S_D.loc[S_P.index, A_Di.columns]"
   ]
  },
  {
   "cell_type": "code",
   "execution_count": 18,
   "metadata": {
    "collapsed": true,
    "jupyter": {
     "outputs_hidden": true
    }
   },
   "outputs": [
    {
     "ename": "TypeError",
     "evalue": "'>' not supported between instances of 'str' and 'int'",
     "output_type": "error",
     "traceback": [
      "\u001b[1;31m---------------------------------------------------------------------------\u001b[0m",
      "\u001b[1;31mTypeError\u001b[0m                                 Traceback (most recent call last)",
      "\u001b[1;32m<ipython-input-18-e220111e3fc3>\u001b[0m in \u001b[0;36m<module>\u001b[1;34m\u001b[0m\n\u001b[1;32m----> 1\u001b[1;33m \u001b[0mdfs\u001b[0m \u001b[1;33m=\u001b[0m \u001b[0mdf\u001b[0m\u001b[1;33m[\u001b[0m\u001b[0mdf\u001b[0m\u001b[1;33m.\u001b[0m\u001b[0mcolumns\u001b[0m\u001b[1;33m[\u001b[0m\u001b[0mnp\u001b[0m\u001b[1;33m.\u001b[0m\u001b[0msum\u001b[0m\u001b[1;33m(\u001b[0m\u001b[0mdf\u001b[0m\u001b[1;33m)\u001b[0m\u001b[1;33m>\u001b[0m\u001b[1;36m0\u001b[0m\u001b[1;33m]\u001b[0m\u001b[1;33m]\u001b[0m\u001b[1;33m\u001b[0m\u001b[1;33m\u001b[0m\u001b[0m\n\u001b[0m\u001b[0;32m      2\u001b[0m \u001b[0mdfs\u001b[0m \u001b[1;33m=\u001b[0m \u001b[0mdfs\u001b[0m\u001b[1;33m.\u001b[0m\u001b[0mloc\u001b[0m\u001b[1;33m[\u001b[0m\u001b[0mdfs\u001b[0m\u001b[1;33m.\u001b[0m\u001b[0mindex\u001b[0m\u001b[1;33m[\u001b[0m\u001b[0mnp\u001b[0m\u001b[1;33m.\u001b[0m\u001b[0msum\u001b[0m\u001b[1;33m(\u001b[0m\u001b[0mdfs\u001b[0m\u001b[1;33m,\u001b[0m \u001b[1;36m1\u001b[0m\u001b[1;33m)\u001b[0m\u001b[1;33m>\u001b[0m\u001b[1;36m0\u001b[0m\u001b[1;33m]\u001b[0m\u001b[1;33m]\u001b[0m\u001b[1;33m\u001b[0m\u001b[1;33m\u001b[0m\u001b[0m\n\u001b[0;32m      3\u001b[0m \u001b[1;33m\u001b[0m\u001b[0m\n\u001b[0;32m      4\u001b[0m \u001b[1;31m# bicluster\u001b[0m\u001b[1;33m\u001b[0m\u001b[1;33m\u001b[0m\u001b[1;33m\u001b[0m\u001b[0m\n\u001b[0;32m      5\u001b[0m \u001b[0mdata\u001b[0m \u001b[1;33m=\u001b[0m \u001b[0mdfs\u001b[0m\u001b[1;33m\u001b[0m\u001b[1;33m\u001b[0m\u001b[0m\n",
      "\u001b[1;32mC:\\ProgramData\\Anaconda3\\lib\\site-packages\\pandas\\core\\ops\\common.py\u001b[0m in \u001b[0;36mnew_method\u001b[1;34m(self, other)\u001b[0m\n\u001b[0;32m     62\u001b[0m         \u001b[0mother\u001b[0m \u001b[1;33m=\u001b[0m \u001b[0mitem_from_zerodim\u001b[0m\u001b[1;33m(\u001b[0m\u001b[0mother\u001b[0m\u001b[1;33m)\u001b[0m\u001b[1;33m\u001b[0m\u001b[1;33m\u001b[0m\u001b[0m\n\u001b[0;32m     63\u001b[0m \u001b[1;33m\u001b[0m\u001b[0m\n\u001b[1;32m---> 64\u001b[1;33m         \u001b[1;32mreturn\u001b[0m \u001b[0mmethod\u001b[0m\u001b[1;33m(\u001b[0m\u001b[0mself\u001b[0m\u001b[1;33m,\u001b[0m \u001b[0mother\u001b[0m\u001b[1;33m)\u001b[0m\u001b[1;33m\u001b[0m\u001b[1;33m\u001b[0m\u001b[0m\n\u001b[0m\u001b[0;32m     65\u001b[0m \u001b[1;33m\u001b[0m\u001b[0m\n\u001b[0;32m     66\u001b[0m     \u001b[1;32mreturn\u001b[0m \u001b[0mnew_method\u001b[0m\u001b[1;33m\u001b[0m\u001b[1;33m\u001b[0m\u001b[0m\n",
      "\u001b[1;32mC:\\ProgramData\\Anaconda3\\lib\\site-packages\\pandas\\core\\ops\\__init__.py\u001b[0m in \u001b[0;36mwrapper\u001b[1;34m(self, other)\u001b[0m\n\u001b[0;32m    524\u001b[0m         \u001b[0mrvalues\u001b[0m \u001b[1;33m=\u001b[0m \u001b[0mextract_array\u001b[0m\u001b[1;33m(\u001b[0m\u001b[0mother\u001b[0m\u001b[1;33m,\u001b[0m \u001b[0mextract_numpy\u001b[0m\u001b[1;33m=\u001b[0m\u001b[1;32mTrue\u001b[0m\u001b[1;33m)\u001b[0m\u001b[1;33m\u001b[0m\u001b[1;33m\u001b[0m\u001b[0m\n\u001b[0;32m    525\u001b[0m \u001b[1;33m\u001b[0m\u001b[0m\n\u001b[1;32m--> 526\u001b[1;33m         \u001b[0mres_values\u001b[0m \u001b[1;33m=\u001b[0m \u001b[0mcomparison_op\u001b[0m\u001b[1;33m(\u001b[0m\u001b[0mlvalues\u001b[0m\u001b[1;33m,\u001b[0m \u001b[0mrvalues\u001b[0m\u001b[1;33m,\u001b[0m \u001b[0mop\u001b[0m\u001b[1;33m)\u001b[0m\u001b[1;33m\u001b[0m\u001b[1;33m\u001b[0m\u001b[0m\n\u001b[0m\u001b[0;32m    527\u001b[0m \u001b[1;33m\u001b[0m\u001b[0m\n\u001b[0;32m    528\u001b[0m         \u001b[1;32mreturn\u001b[0m \u001b[0m_construct_result\u001b[0m\u001b[1;33m(\u001b[0m\u001b[0mself\u001b[0m\u001b[1;33m,\u001b[0m \u001b[0mres_values\u001b[0m\u001b[1;33m,\u001b[0m \u001b[0mindex\u001b[0m\u001b[1;33m=\u001b[0m\u001b[0mself\u001b[0m\u001b[1;33m.\u001b[0m\u001b[0mindex\u001b[0m\u001b[1;33m,\u001b[0m \u001b[0mname\u001b[0m\u001b[1;33m=\u001b[0m\u001b[0mres_name\u001b[0m\u001b[1;33m)\u001b[0m\u001b[1;33m\u001b[0m\u001b[1;33m\u001b[0m\u001b[0m\n",
      "\u001b[1;32mC:\\ProgramData\\Anaconda3\\lib\\site-packages\\pandas\\core\\ops\\array_ops.py\u001b[0m in \u001b[0;36mcomparison_op\u001b[1;34m(left, right, op)\u001b[0m\n\u001b[0;32m    245\u001b[0m \u001b[1;33m\u001b[0m\u001b[0m\n\u001b[0;32m    246\u001b[0m     \u001b[1;32melif\u001b[0m \u001b[0mis_object_dtype\u001b[0m\u001b[1;33m(\u001b[0m\u001b[0mlvalues\u001b[0m\u001b[1;33m.\u001b[0m\u001b[0mdtype\u001b[0m\u001b[1;33m)\u001b[0m\u001b[1;33m:\u001b[0m\u001b[1;33m\u001b[0m\u001b[1;33m\u001b[0m\u001b[0m\n\u001b[1;32m--> 247\u001b[1;33m         \u001b[0mres_values\u001b[0m \u001b[1;33m=\u001b[0m \u001b[0mcomp_method_OBJECT_ARRAY\u001b[0m\u001b[1;33m(\u001b[0m\u001b[0mop\u001b[0m\u001b[1;33m,\u001b[0m \u001b[0mlvalues\u001b[0m\u001b[1;33m,\u001b[0m \u001b[0mrvalues\u001b[0m\u001b[1;33m)\u001b[0m\u001b[1;33m\u001b[0m\u001b[1;33m\u001b[0m\u001b[0m\n\u001b[0m\u001b[0;32m    248\u001b[0m \u001b[1;33m\u001b[0m\u001b[0m\n\u001b[0;32m    249\u001b[0m     \u001b[1;32melse\u001b[0m\u001b[1;33m:\u001b[0m\u001b[1;33m\u001b[0m\u001b[1;33m\u001b[0m\u001b[0m\n",
      "\u001b[1;32mC:\\ProgramData\\Anaconda3\\lib\\site-packages\\pandas\\core\\ops\\array_ops.py\u001b[0m in \u001b[0;36mcomp_method_OBJECT_ARRAY\u001b[1;34m(op, x, y)\u001b[0m\n\u001b[0;32m     55\u001b[0m         \u001b[0mresult\u001b[0m \u001b[1;33m=\u001b[0m \u001b[0mlibops\u001b[0m\u001b[1;33m.\u001b[0m\u001b[0mvec_compare\u001b[0m\u001b[1;33m(\u001b[0m\u001b[0mx\u001b[0m\u001b[1;33m.\u001b[0m\u001b[0mravel\u001b[0m\u001b[1;33m(\u001b[0m\u001b[1;33m)\u001b[0m\u001b[1;33m,\u001b[0m \u001b[0my\u001b[0m\u001b[1;33m,\u001b[0m \u001b[0mop\u001b[0m\u001b[1;33m)\u001b[0m\u001b[1;33m\u001b[0m\u001b[1;33m\u001b[0m\u001b[0m\n\u001b[0;32m     56\u001b[0m     \u001b[1;32melse\u001b[0m\u001b[1;33m:\u001b[0m\u001b[1;33m\u001b[0m\u001b[1;33m\u001b[0m\u001b[0m\n\u001b[1;32m---> 57\u001b[1;33m         \u001b[0mresult\u001b[0m \u001b[1;33m=\u001b[0m \u001b[0mlibops\u001b[0m\u001b[1;33m.\u001b[0m\u001b[0mscalar_compare\u001b[0m\u001b[1;33m(\u001b[0m\u001b[0mx\u001b[0m\u001b[1;33m.\u001b[0m\u001b[0mravel\u001b[0m\u001b[1;33m(\u001b[0m\u001b[1;33m)\u001b[0m\u001b[1;33m,\u001b[0m \u001b[0my\u001b[0m\u001b[1;33m,\u001b[0m \u001b[0mop\u001b[0m\u001b[1;33m)\u001b[0m\u001b[1;33m\u001b[0m\u001b[1;33m\u001b[0m\u001b[0m\n\u001b[0m\u001b[0;32m     58\u001b[0m     \u001b[1;32mreturn\u001b[0m \u001b[0mresult\u001b[0m\u001b[1;33m.\u001b[0m\u001b[0mreshape\u001b[0m\u001b[1;33m(\u001b[0m\u001b[0mx\u001b[0m\u001b[1;33m.\u001b[0m\u001b[0mshape\u001b[0m\u001b[1;33m)\u001b[0m\u001b[1;33m\u001b[0m\u001b[1;33m\u001b[0m\u001b[0m\n\u001b[0;32m     59\u001b[0m \u001b[1;33m\u001b[0m\u001b[0m\n",
      "\u001b[1;32mpandas\\_libs\\ops.pyx\u001b[0m in \u001b[0;36mpandas._libs.ops.scalar_compare\u001b[1;34m()\u001b[0m\n",
      "\u001b[1;31mTypeError\u001b[0m: '>' not supported between instances of 'str' and 'int'"
     ]
    }
   ],
   "source": [
    "dfs = df[df.columns[np.sum(df)>0]]\n",
    "dfs = dfs.loc[dfs.index[np.sum(dfs, 1)>0]]\n",
    "\n",
    "# bicluster\n",
    "data = dfs\n",
    "n = 10\n",
    "model = SpectralBiclustering(n_clusters=n, random_state=0)\n",
    "model.fit(data)\n",
    "fit_data = data.iloc[list(np.argsort(model.row_labels_)),list(np.argsort(model.column_labels_))]\n",
    "\n",
    "# print elements in each cluster\n",
    "for i in range(n):\n",
    "    sga_l = list(data.index[list(model.get_indices(i)[0])])\n",
    "    # S_Ai = S_P[sga_l]\n",
    "    # S_Ai.to_csv(\"EM/Output/BI/S_P%s\" % i, index=True, header=True)\n",
    "    print(list(data.index[list(model.get_indices(i)[0])]))\n",
    "\n",
    "# This just makes some sample 2D data and a corresponding vmap dict with labels for the values in the data\n",
    "fig = plt.figure(figsize=(10, 10))\n",
    "ax1 = fig.add_subplot()\n",
    "\n",
    "sns.heatmap(fit_data, center=0, cmap=\"vlag\", cbar_kws={\"shrink\": 0.1, \"aspect\":2}, ax=ax1)"
   ]
  },
  {
   "cell_type": "markdown",
   "metadata": {},
   "source": [
    "## Z score test compare differnece "
   ]
  },
  {
   "cell_type": "code",
   "execution_count": null,
   "metadata": {},
   "outputs": [],
   "source": [
    "sga = \"PIK3CA\"\n",
    "rep_l = S_P.index[S_P[\"PIK3CA\"] == 1]\n",
    "nrep_l =  S_P.index[S_P[\"PIK3CA\"] == 0]\n",
    "\n",
    "rep_exp = S_P.loc[rep_l]\n",
    "nrep_exp = S_P.loc[nrep_l]\n",
    "\n",
    "stats_l = []\n",
    "de_l = []\n",
    "for deg in rep_exp.columns:\n",
    "    rsv1 = rep_exp[deg]\n",
    "    rsv2 = nrep_exp[deg]\n",
    "    p = stats.ttest_ind(rsv1,rsv2)\n",
    "    stats_l.append(p)\n",
    "    if p[1]<0.01:\n",
    "        de_l.append(deg)\n",
    "\n",
    "df = pd.concat([rep_exp[de_l], nrep_exp[de_l]], 0)\n",
    "sns.clustermap(df, row_cluster=False, center=0, cmap=\"vlag\",)"
   ]
  },
  {
   "cell_type": "markdown",
   "metadata": {},
   "source": [
    "## t-sne"
   ]
  },
  {
   "cell_type": "code",
   "execution_count": null,
   "metadata": {},
   "outputs": [],
   "source": [
    "A_Dc = A_D[A_D.columns[np.sum(A_D.loc[[\"PIK3CA\"],:])>0]]\n",
    "# sns.clustermap(S_Dc.loc[S_Ai.index, S_Dc.columns & A_Dc.columns])\n",
    "S_Ai = pd.read_csv(\"EM/Output/S_Ao_sb1/S_P_BRCA.csv\", index_col=0, header=0)\n",
    "\n",
    "from sklearn.manifold import TSNE\n",
    "X = S_D.loc[S_Ai.index, S_D.columns & A_Dc.columns]\n",
    "X_embedded = TSNE(n_components=2).fit_transform(X)\n",
    "sns.scatterplot(data=X_embedded)"
   ]
  }
 ],
 "metadata": {
  "kernelspec": {
   "display_name": "Python 3",
   "language": "python",
   "name": "python3"
  },
  "language_info": {
   "codemirror_mode": {
    "name": "ipython",
    "version": 3
   },
   "file_extension": ".py",
   "mimetype": "text/x-python",
   "name": "python",
   "nbconvert_exporter": "python",
   "pygments_lexer": "ipython3",
   "version": "3.7.6"
  },
  "toc": {
   "base_numbering": 1,
   "nav_menu": {},
   "number_sections": true,
   "sideBar": true,
   "skip_h1_title": false,
   "title_cell": "Table of Contents",
   "title_sidebar": "Contents",
   "toc_cell": false,
   "toc_position": {},
   "toc_section_display": true,
   "toc_window_display": false
  },
  "toc-autonumbering": true,
  "toc-showmarkdowntxt": false,
  "toc-showtags": false,
  "varInspector": {
   "cols": {
    "lenName": 16,
    "lenType": 16,
    "lenVar": 40
   },
   "kernels_config": {
    "python": {
     "delete_cmd_postfix": "",
     "delete_cmd_prefix": "del ",
     "library": "var_list.py",
     "varRefreshCmd": "print(var_dic_list())"
    },
    "r": {
     "delete_cmd_postfix": ") ",
     "delete_cmd_prefix": "rm(",
     "library": "var_list.r",
     "varRefreshCmd": "cat(var_dic_list()) "
    }
   },
   "types_to_exclude": [
    "module",
    "function",
    "builtin_function_or_method",
    "instance",
    "_Feature"
   ],
   "window_display": false
  }
 },
 "nbformat": 4,
 "nbformat_minor": 4
}
