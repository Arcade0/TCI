{
 "cells": [
  {
   "cell_type": "code",
   "execution_count": 2,
   "source": [
    "import numpy as np\n",
    "import pandas as pd\n",
    "import random\n",
    "import os"
   ],
   "outputs": [],
   "metadata": {}
  },
  {
   "cell_type": "code",
   "execution_count": 3,
   "source": [
    "def mk_dir(file_path):\n",
    "\n",
    "    folder = os.path.exists(file_path)\n",
    "    if not folder:\n",
    "        os.makedirs(file_path)\n",
    "\n",
    "\n",
    "def create_random(input_name, output_name, cut):\n",
    "\n",
    "    df = pd.read_csv(input_name, header=0, index_col=0)\n",
    "\n",
    "    rand_df = np.random.rand(df.shape[0], df.shape[1])\n",
    "    rand_df[rand_df > cut] = 1\n",
    "    rand_df[rand_df <= cut] = 0\n",
    "    rand_df = pd.DataFrame(rand_df, index=df.index, columns=df.columns)\n",
    "\n",
    "    rand_df.to_csv(output_name, index=True, header=True)\n",
    "\n",
    "\n",
    "def create_portion_random(input_name,\n",
    "                          out_put,\n",
    "                          fil_name,\n",
    "                          re,\n",
    "                          source,\n",
    "                          partial=1):\n",
    "\n",
    "    mk_dir(out_put)\n",
    "    df = pd.read_csv(input_name, header=0, index_col=0)\n",
    "\n",
    "    n_ele_l = []\n",
    "    nn_ele_l = []\n",
    "    for i in range(df.shape[0]):\n",
    "        print(i)\n",
    "        n_ele_l.append(\n",
    "            [idx for idx in range(df.shape[1]) if df.iloc[i, idx] == 0])\n",
    "        nn_ele_l.append(\n",
    "            [idx for idx in range(df.shape[1]) if df.iloc[i, idx] == 1])\n",
    "\n",
    "    for j in range(re):\n",
    "        r_m = np.zeros((0, df.shape[1]))\n",
    "        for i in range(df.shape[0]):\n",
    "            if source == 'in':\n",
    "                rn_ele_l = random.sample(nn_ele_l[i],\n",
    "                                         int(len(nn_ele_l[i]) * partial))\n",
    "            if source == 'out':\n",
    "                if len((nn_ele_l[i]) * partial) > len(n_ele_l[i]):\n",
    "                    rn_ele_l = random.sample(range(df.shape[1]),\n",
    "                                             int(len(nn_ele_l[i]) * partial))\n",
    "                else:\n",
    "                    rn_ele_l = random.sample(n_ele_l[i],\n",
    "                                             int(len(nn_ele_l[i]) * partial))\n",
    "\n",
    "            if source == 'all':\n",
    "                rn_ele_l = random.sample(range(df.shape[1]),\n",
    "                                         int(len(nn_ele_l[i]) * partial))\n",
    "            m_i = np.zeros((1, df.shape[1]))\n",
    "            m_i[0, rn_ele_l] = 1\n",
    "            r_m = np.vstack((r_m, m_i))\n",
    "\n",
    "        r_df = pd.DataFrame(r_m, index=df.index, columns=df.columns)\n",
    "        out_put_j = out_put + '/' + fil_name + '_' + str(j) + '.csv'\n",
    "        r_df.to_csv(out_put_j, index=True, header=True)"
   ],
   "outputs": [],
   "metadata": {
    "code_folding": [
     0,
     6,
     17
    ]
   }
  },
  {
   "cell_type": "code",
   "execution_count": 7,
   "source": [
    " create_portion_random('chunhui/Input/HNSC/A_D.csv', 'chunhui/Input/HNSC/AD', \"AD\", 3, 'out', 1)"
   ],
   "outputs": [
    {
     "output_type": "stream",
     "name": "stdout",
     "text": [
      "0\n",
      "1\n",
      "2\n",
      "3\n",
      "4\n",
      "5\n",
      "6\n",
      "7\n",
      "8\n",
      "9\n",
      "10\n",
      "11\n",
      "12\n",
      "13\n",
      "14\n",
      "15\n",
      "16\n",
      "17\n",
      "18\n",
      "19\n",
      "20\n",
      "21\n",
      "22\n",
      "23\n",
      "24\n",
      "25\n",
      "26\n",
      "27\n",
      "28\n",
      "29\n",
      "30\n",
      "31\n",
      "32\n",
      "33\n",
      "34\n",
      "35\n",
      "36\n",
      "37\n",
      "38\n",
      "39\n",
      "40\n",
      "41\n",
      "42\n",
      "43\n",
      "44\n",
      "45\n",
      "46\n",
      "47\n",
      "48\n",
      "49\n",
      "50\n",
      "51\n",
      "52\n",
      "53\n",
      "54\n",
      "55\n",
      "56\n",
      "57\n",
      "58\n",
      "59\n",
      "60\n",
      "61\n",
      "62\n",
      "63\n"
     ]
    }
   ],
   "metadata": {}
  },
  {
   "cell_type": "code",
   "execution_count": null,
   "source": [],
   "outputs": [],
   "metadata": {}
  }
 ],
 "metadata": {
  "kernelspec": {
   "display_name": "Python 3",
   "language": "python",
   "name": "python3"
  },
  "language_info": {
   "codemirror_mode": {
    "name": "ipython",
    "version": 3
   },
   "file_extension": ".py",
   "mimetype": "text/x-python",
   "name": "python",
   "nbconvert_exporter": "python",
   "pygments_lexer": "ipython3",
   "version": "3.7.7"
  },
  "varInspector": {
   "cols": {
    "lenName": 16,
    "lenType": 16,
    "lenVar": 40
   },
   "kernels_config": {
    "python": {
     "delete_cmd_postfix": "",
     "delete_cmd_prefix": "del ",
     "library": "var_list.py",
     "varRefreshCmd": "print(var_dic_list())"
    },
    "r": {
     "delete_cmd_postfix": ") ",
     "delete_cmd_prefix": "rm(",
     "library": "var_list.r",
     "varRefreshCmd": "cat(var_dic_list()) "
    }
   },
   "types_to_exclude": [
    "module",
    "function",
    "builtin_function_or_method",
    "instance",
    "_Feature"
   ],
   "window_display": false
  }
 },
 "nbformat": 4,
 "nbformat_minor": 4
}