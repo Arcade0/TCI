{
 "cells": [
  {
   "cell_type": "markdown",
   "source": [
    "## Import"
   ],
   "metadata": {
    "Collapsed": "false"
   }
  },
  {
   "cell_type": "code",
   "execution_count": 1,
   "source": [
    "import pandas as pd\n",
    "import numpy as np\n",
    "from copy import deepcopy\n",
    "import seaborn as sns\n",
    "import sklearn\n",
    "# from node import node\n",
    "from scipy import stats\n",
    "import json\n",
    "import matplotlib\n",
    "from matplotlib import pyplot as plt\n",
    "import seaborn as sns"
   ],
   "outputs": [],
   "metadata": {
    "Collapsed": "false",
    "ExecuteTime": {
     "end_time": "2020-02-05T16:20:06.153812Z",
     "start_time": "2020-02-05T16:20:06.150245Z"
    }
   }
  },
  {
   "cell_type": "markdown",
   "source": [
    "## Reading"
   ],
   "metadata": {
    "Collapsed": "false"
   }
  },
  {
   "cell_type": "code",
   "execution_count": 2,
   "source": [
    "S_A = pd.read_csv(\"../TCI/../TCI/EM/Input/S_A.csv\", index_col=0, header=0)\n",
    "S_D = pd.read_csv(\"../TCI/../TCI/EM/Input/S_D.csv\", index_col=0, header=0)\n",
    "A_Dt = pd.read_csv(\"../TCI/../TCI/EM/Input/A_Do.csv\", index_col=0, header=0)"
   ],
   "outputs": [],
   "metadata": {
    "Collapsed": "false",
    "ExecuteTime": {
     "end_time": "2020-02-05T16:29:54.364179Z",
     "start_time": "2020-02-05T16:28:03.519841Z"
    }
   }
  },
  {
   "cell_type": "code",
   "execution_count": 4,
   "source": [
    "A_Dt = pd.read_csv(\"../TCI/EM/Input/A_Df/A_Df5.csv\", index_col=0, header=0)\n",
    "S_At = pd.read_csv(\"../TCI/EM/Output/A_Df/S_Af5_0.csv\", index_col=0, header=0)\n",
    "with open(\"../TCI/EM/Output/A_Df/S_Af5_0_lh.txt\", \"r\") as outfile:\n",
    "    lht = json.load(outfile)\n",
    "S_At_10 = pd.read_csv(\"../TCI/EM/Output/A_Df/S_Af5_0_10.csv\",\n",
    "                      index_col=0,\n",
    "                      header=0)\n",
    "\n",
    "A_Dt_rd_l = []\n",
    "S_At_rd_l = []\n",
    "S_At_rd_10_l = []\n",
    "lht_rd_l = []\n",
    "for i in range(1):\n",
    "    A_Dt_rd = pd.read_csv(\"../TCI/EM/Input/A_Df_rd/A_Df5_rd_%i\" % i + \".csv\",\n",
    "                          index_col=0,\n",
    "                          header=0)\n",
    "    A_Dt_rd_l.append(A_Dt_rd)\n",
    "    S_At_rd = pd.read_csv(\"../TCI/EM/Output/A_Df_rd/S_Af5_rd_%i\" % i + \".csv\",\n",
    "                          index_col=0,\n",
    "                          header=0)\n",
    "    S_At_rd_l.append(S_At_rd)\n",
    "    S_At_rd_10 = pd.read_csv(\"../TCI/EM/Output/A_Df_rd/S_Af5_rd_10_%i\" % i +\n",
    "                             \".csv\",\n",
    "                             index_col=0,\n",
    "                             header=0)\n",
    "    S_At_rd_10_l.append(S_At_rd_10)\n",
    "    with open(\"../TCI/EM/Output/A_Df_rd/S_Af5_rd_lh_%i\" % i + \".txt\",\n",
    "              \"r\") as outfile:\n",
    "        S_At_rd_lh = json.load(outfile)\n",
    "        lht_rd_l.append(S_At_rd_lh)"
   ],
   "outputs": [],
   "metadata": {
    "Collapsed": "false",
    "ExecuteTime": {
     "end_time": "2020-02-06T06:04:42.625109Z",
     "start_time": "2020-02-06T06:04:35.660252Z"
    }
   }
  },
  {
   "cell_type": "code",
   "execution_count": 13,
   "source": [
    "A_Dt = pd.read_csv(\"../TCI/EM/Input/A_Do.csv\", index_col=0, header=0)\r\n",
    "S_At = pd.read_csv(\"../TCI/EM/Output/A_Do/S_Ao.csv\", index_col=0, header=0)\r\n",
    "S_At_10 = pd.read_csv(\"../TCI/EM/Output/A_Do/S_Ao_10.csv\",\r\n",
    "                      index_col=0,\r\n",
    "                      header=0)\r\n",
    "\r\n",
    "A_Dt_rd_l = []\r\n",
    "S_At_rd_l = []\r\n",
    "S_At_rd_10_l = []\r\n",
    "lht_rd_l = []\r\n",
    "for i in range(3):\r\n",
    "    A_Dt_rd = pd.read_csv(\"../TCI/EM/Input/A_Do_rd/A_Do_rd_%i\" % i + \".csv\",\r\n",
    "                          index_col=0,\r\n",
    "                          header=0)\r\n",
    "    A_Dt_rd_l.append(A_Dt_rd)\r\n",
    "    S_At_rd = pd.read_csv(\"../TCI/EM/Output/A_Do_rd/S_Ao_rd_%i\" % i + \".csv\",\r\n",
    "                          index_col=0,\r\n",
    "                          header=0)\r\n",
    "    S_At_rd_l.append(S_At_rd)\r\n",
    "    S_At_rd_10 = pd.read_csv(\"../TCI/EM/Output/A_Do_rd/S_Ao_rd_10_%i\" % i +\r\n",
    "                             \".csv\",\r\n",
    "                             index_col=0,\r\n",
    "                             header=0)\r\n",
    "    S_At_rd_10_l.append(S_At_rd_10)\r\n",
    "    with open(\"../TCI/EM/Output/A_Do_rd/S_Ao_rd_lh_%i\" % i + \".txt\",\r\n",
    "              \"r\") as outfile:\r\n",
    "        S_At_rd_lh = json.load(outfile)\r\n",
    "        lht_rd_l.append(S_At_rd_lh)"
   ],
   "outputs": [],
   "metadata": {
    "Collapsed": "false"
   }
  },
  {
   "cell_type": "markdown",
   "source": [
    "## fold change"
   ],
   "metadata": {
    "Collapsed": "false"
   }
  },
  {
   "cell_type": "code",
   "execution_count": 5,
   "source": [
    "fc_t = [np.sum(ele) / np.sum(S_A[A_Dt.index]) for ele in S_At_rd_l]\r\n",
    "fc_df = pd.DataFrame(fc_t,\r\n",
    "                     index=['RD' + '_%i' % i for i in range(len(S_At_rd_l))]).T\r\n",
    "fc_df.loc[:, 'TCI'] = np.sum(S_At) / np.sum(S_A[A_Dt.index])\r\n",
    "ax = sns.boxplot(data=fc_df)\r\n",
    "ax.set_title('Fold Change between Prediction and mutation')\r\n",
    "ax.set_ylabel('Fold Change(Prediction/Mutation))')\r\n",
    "ax.set_xlabel('SGA-DEG relationship')"
   ],
   "outputs": [
    {
     "output_type": "execute_result",
     "data": {
      "text/plain": [
       "Text(0.5, 0, 'SGA-DEG relationship')"
      ]
     },
     "metadata": {},
     "execution_count": 5
    },
    {
     "output_type": "display_data",
     "data": {
      "image/png": "[encoded data removed]",
      "text/plain": [
       "<Figure size 432x288 with 1 Axes>"
      ]
     },
     "metadata": {
      "needs_background": "light"
     }
    }
   ],
   "metadata": {
    "Collapsed": "false",
    "ExecuteTime": {
     "end_time": "2020-02-06T06:05:06.059271Z",
     "start_time": "2020-02-06T06:05:05.261808Z"
    }
   }
  },
  {
   "cell_type": "markdown",
   "source": [
    "## likelihood"
   ],
   "metadata": {
    "Collapsed": "false"
   }
  },
  {
   "cell_type": "code",
   "execution_count": 23,
   "source": [
    "lh_t = [[ele[-1] / 5 for ele in ele_l] for ele_l in lht_rd_l]\r\n",
    "lh_df = pd.DataFrame(lh_t,\r\n",
    "                     index=['RD' + '_%i' % i for i in range(len(S_At_rd_l))],\r\n",
    "                     columns=A_Dt.index).T\r\n",
    "lh_df.loc[:, 'TCI1'] = [ele[-1] / 5 for ele in lht]\r\n",
    "ax = sns.boxplot(data=lh_df)\r\n",
    "ax.set_title('Log-Likelihood diffrence between diffrent SGA-DEG relationship')\r\n",
    "ax.set_ylabel('Log-Likelihood of SGA')\r\n",
    "ax.set_xlabel('SGA-DEG relationship')"
   ],
   "outputs": [
    {
     "output_type": "execute_result",
     "data": {
      "text/plain": [
       "Text(0.5, 0, 'SGA-DEG relationship')"
      ]
     },
     "metadata": {},
     "execution_count": 23
    },
    {
     "output_type": "display_data",
     "data": {
      "image/png": "[encoded data removed]",
      "text/plain": [
       "<Figure size 432x288 with 1 Axes>"
      ]
     },
     "metadata": {
      "needs_background": "light"
     }
    }
   ],
   "metadata": {
    "Collapsed": "false",
    "ExecuteTime": {
     "end_time": "2020-02-06T05:59:23.204431Z",
     "start_time": "2020-02-06T05:59:22.851059Z"
    }
   }
  },
  {
   "cell_type": "markdown",
   "source": [
    "## 10 fold em recall"
   ],
   "metadata": {
    "Collapsed": "false"
   }
  },
  {
   "cell_type": "code",
   "execution_count": 4,
   "source": [
    "from sklearn.metrics import recall_score\r\n",
    "from sklearn.metrics import precision_score\r\n",
    "from sklearn.metrics import f1_score"
   ],
   "outputs": [],
   "metadata": {
    "Collapsed": "false",
    "ExecuteTime": {
     "end_time": "2020-02-06T05:12:42.999403Z",
     "start_time": "2020-02-06T05:12:30.714227Z"
    }
   }
  },
  {
   "cell_type": "code",
   "execution_count": 5,
   "source": [
    "# HNSC\r\n",
    "S_A = pd.read_csv(\"chunhui/Input/HNSC/SGAmatrix.HNSC.csv\",\r\n",
    "                  header=0,\r\n",
    "                  index_col=0)\r\n",
    "S_A.index = [ele[0:12] for ele in S_A.index]\r\n",
    "\r\n",
    "S_D = pd.read_csv(\"chunhui/Input/HNSC/DEGmatrix.HNSC.csv\",\r\n",
    "                  header=0,\r\n",
    "                  index_col=0)\r\n",
    "S_D.index = [ele[0:12] for ele in S_D.index]\r\n",
    "\r\n",
    "A_D = pd.read_csv(\"chunhui/Input/HNSC/DriverDEGmatrix.HNSC.csv\",\r\n",
    "                  header=0,\r\n",
    "                  index_col=0)\r\n",
    "A_D[A_D > 0] = 1\r\n",
    "A_D.to_csv(\"chunhui/Input/HNSC/A_D.csv\", index=True, header=True)"
   ],
   "outputs": [],
   "metadata": {
    "Collapsed": "false"
   }
  },
  {
   "cell_type": "code",
   "execution_count": 6,
   "source": [
    "S_Ai = pd.read_csv(\"chunhui/Input/HNSC/SGA/SGA_0.csv\", header=0, index_col=0)"
   ],
   "outputs": [],
   "metadata": {
    "Collapsed": "false"
   }
  },
  {
   "cell_type": "code",
   "execution_count": 7,
   "source": [
    "S_P = pd.read_csv(\"chunhui/Output/HNSC/S_P10.csv\", header=0, index_col=0)\r\n",
    "\r\n",
    "S_Pa_l = []\r\n",
    "S_Pd_l = []\r\n",
    "S_Pad_l = []\r\n",
    "for i in range(3):\r\n",
    "    S_Pa = pd.read_csv(\"chunhui/Input/HNSC/SGA/S_P10_%i.csv\" % i,\r\n",
    "                       header=0,\r\n",
    "                       index_col=0)\r\n",
    "    S_Pa_l.append(S_Pa)\r\n",
    "    S_Pd = pd.read_csv(\"chunhui/Input/HNSC/DEG/S_P10_%i.csv\" % i,\r\n",
    "                       header=0,\r\n",
    "                       index_col=0)\r\n",
    "    S_Pd_l.append(S_Pd)\r\n",
    "    S_Pad = pd.read_csv(\"chunhui/Input/HNSC/AD/S_P10_%i.csv\" % i,\r\n",
    "                        header=0,\r\n",
    "                        index_col=0)\r\n",
    "    S_Pad_l.append(S_Pad)"
   ],
   "outputs": [],
   "metadata": {
    "Collapsed": "false"
   }
  },
  {
   "cell_type": "code",
   "execution_count": 9,
   "source": [
    "l_l = S_Pad_l\r\n",
    "ridx = [\"random SGA-DEG\" + '%i' % i for i in range(len(l_l))]\r\n",
    "\r\n",
    "recall_l = [[\r\n",
    "    sklearn.metrics.recall_score(S_A[i], (ele[i] > 0.5)) for i in S_A.columns\r\n",
    "] for ele in l_l]\r\n",
    "recall_df = pd.DataFrame(recall_l, index=ridx).T\r\n",
    "recall_df.loc[:, 'TCI'] = [\r\n",
    "    sklearn.metrics.recall_score(S_A[i], (S_P[i] > 0.5)) for i in S_A.columns\r\n",
    "]\r\n",
    "\r\n",
    "plt.figure(figsize=(3, 3))\r\n",
    "plt.xticks(rotation=45)\r\n",
    "ax = sns.boxplot(data=recall_df.iloc[:, [1, 3]], width=0.4, color='blue')\r\n",
    "# ax.set_title('Mutation Recall after 10-fold EM')\r\n",
    "ax.set_ylabel('Mutation Recall')\r\n",
    "# ax.set_xlabel('SGA-DEG relationship')\r\n",
    "plt.savefig(\"HNSC_plot/SGADEG_Muation_Recall.png\", dpi=600)"
   ],
   "outputs": [
    {
     "output_type": "display_data",
     "data": {
      "image/png": "[encoded data removed]",
      "text/plain": [
       "<Figure size 216x216 with 1 Axes>"
      ]
     },
     "metadata": {
      "needs_background": "light"
     }
    }
   ],
   "metadata": {
    "Collapsed": "false",
    "ExecuteTime": {
     "end_time": "2020-02-06T05:59:55.206857Z",
     "start_time": "2020-02-06T05:59:43.937463Z"
    }
   }
  },
  {
   "cell_type": "code",
   "execution_count": 22,
   "source": [
    "plt.figure(figsize=(3, 4))\r\n",
    "# plt.xticks(rotation=45)\r\n",
    "a = deepcopy(recall_df.iloc[:, [1, 3]])\r\n",
    "a.columns = [\"random Set\", \"TCI\"]\r\n",
    "a[\"melt\"] = 1\r\n",
    "b = pd.melt(a, id_vars=[\"melt\"])\r\n",
    "g = sns.violinplot(x=\"variable\",\r\n",
    "                   y=\"value\",\r\n",
    "                   data=b,\r\n",
    "                   cut=0,\r\n",
    "                   palette=sns.color_palette(\"Set2\", 2))\r\n",
    "# g.set_ylim([0,1])\r\n",
    "g.set_xlabel(None)\r\n",
    "g.set_ylabel(\"Mutation Recall\")\r\n",
    "plt.savefig(\"HNSC_plot/SGADEG_Muation_Recall.png\", dpi=600)"
   ],
   "outputs": [
    {
     "output_type": "display_data",
     "data": {
      "image/png": "[encoded data removed]",
      "text/plain": [
       "<Figure size 216x288 with 1 Axes>"
      ]
     },
     "metadata": {
      "needs_background": "light"
     }
    }
   ],
   "metadata": {
    "Collapsed": "false"
   }
  },
  {
   "cell_type": "code",
   "execution_count": 11,
   "source": [
    "stats.f_oneway(recall_df.iloc[:, 1], recall_df.iloc[:, 3])\r\n"
   ],
   "outputs": [
    {
     "output_type": "execute_result",
     "data": {
      "text/plain": [
       "F_onewayResult(statistic=7.720769967551824, pvalue=0.006294737746823769)"
      ]
     },
     "metadata": {},
     "execution_count": 11
    }
   ],
   "metadata": {
    "Collapsed": "false"
   }
  },
  {
   "cell_type": "code",
   "execution_count": 11,
   "source": [
    "precision_l = [[\r\n",
    "    sklearn.metrics.precision_score(S_A[i], (ele[i] > 0.5))\r\n",
    "    for i in S_A.columns\r\n",
    "] for ele in l_l]\r\n",
    "precision_df = pd.DataFrame(\r\n",
    "    precision_l,\r\n",
    "    index=['Random Structure' + ' %i' % i for i in range(len(l_l))]).T\r\n",
    "precision_df.loc[:, 'TCI'] = [\r\n",
    "    sklearn.metrics.precision_score(S_A[i], (S_P[i] > 0.5))\r\n",
    "    for i in S_A.columns\r\n",
    "]\r\n",
    "print(\r\n",
    "    stats.ttest_ind(a=precision_df[\"TCI\"],\r\n",
    "                    b=precision_df[\"Random Structure 0\"],\r\n",
    "                    equal_var=False))\r\n",
    "\r\n",
    "f = plt.figure(figsize=(3, 3))\r\n",
    "plt.xticks(rotation=45)\r\n",
    "ax = sns.boxplot(data=precision_df.iloc[:, [1, 3]], width=0.4, color='blue')\r\n",
    "# ax.set_title('Mutation Recall after 10-fold EM')\r\n",
    "ax.set_ylabel('Mutation Precision')\r\n",
    "# ax.set_xlabel('SGA-DEG relationship')\r\n",
    "plt.savefig(\"HNSC_plot/Muation_Precision.png\", dpi=600)\r\n",
    "f.tight_layout()"
   ],
   "outputs": [
    {
     "output_type": "stream",
     "name": "stderr",
     "text": [
      "C:\\Users\\xinzh\\anaconda3\\lib\\site-packages\\sklearn\\metrics\\_classification.py:1221: UndefinedMetricWarning: Precision is ill-defined and being set to 0.0 due to no predicted samples. Use `zero_division` parameter to control this behavior.\n",
      "  _warn_prf(average, modifier, msg_start, len(result))\n"
     ]
    },
    {
     "output_type": "stream",
     "name": "stdout",
     "text": [
      "Ttest_indResult(statistic=1.096693345723086, pvalue=0.27487202646092357)\n"
     ]
    },
    {
     "output_type": "display_data",
     "data": {
      "image/png": "[encoded data removed]",
      "text/plain": [
       "<Figure size 216x216 with 1 Axes>"
      ]
     },
     "metadata": {
      "needs_background": "light"
     }
    }
   ],
   "metadata": {
    "Collapsed": "false",
    "ExecuteTime": {
     "end_time": "2020-02-06T06:00:23.215519Z",
     "start_time": "2020-02-06T06:00:15.408365Z"
    }
   }
  },
  {
   "cell_type": "code",
   "execution_count": 25,
   "source": [
    "plt.figure(figsize=(3, 4))\r\n",
    "# plt.xticks(rotation=45)\r\n",
    "a = deepcopy(precision_df.iloc[:, [1, 3]])\r\n",
    "a.columns = [\"random Set\", \"TCI\"]\r\n",
    "\r\n",
    "a[\"melt\"] = 1\r\n",
    "b = pd.melt(a, id_vars=[\"melt\"])\r\n",
    "g = sns.violinplot(x=\"variable\",\r\n",
    "                   y=\"value\",\r\n",
    "                   data=b,\r\n",
    "                   cut=0,\r\n",
    "                   palette=sns.color_palette(\"Set2\", 2))\r\n",
    "# g.set_ylim([0,1])\r\n",
    "g.set_xlabel(None)\r\n",
    "g.set_ylabel(\"Mutation Precision\")\r\n",
    "g.set_yslim(0, 1)\r\n",
    "plt.savefig(\"HNSC_plot/Muation_Precision.png\", dpi=600)"
   ],
   "outputs": [
    {
     "output_type": "error",
     "ename": "AttributeError",
     "evalue": "'AxesSubplot' object has no attribute 'set_yslim'",
     "traceback": [
      "\u001b[1;31m---------------------------------------------------------------------------\u001b[0m",
      "\u001b[1;31mAttributeError\u001b[0m                            Traceback (most recent call last)",
      "\u001b[1;32m<ipython-input-25-901f66f34a7c>\u001b[0m in \u001b[0;36m<module>\u001b[1;34m\u001b[0m\n\u001b[0;32m     10\u001b[0m \u001b[0mg\u001b[0m\u001b[1;33m.\u001b[0m\u001b[0mset_xlabel\u001b[0m\u001b[1;33m(\u001b[0m\u001b[1;32mNone\u001b[0m\u001b[1;33m)\u001b[0m\u001b[1;33m\u001b[0m\u001b[1;33m\u001b[0m\u001b[0m\n\u001b[0;32m     11\u001b[0m \u001b[0mg\u001b[0m\u001b[1;33m.\u001b[0m\u001b[0mset_ylabel\u001b[0m\u001b[1;33m(\u001b[0m\u001b[1;34m\"Mutation Precision\"\u001b[0m\u001b[1;33m)\u001b[0m\u001b[1;33m\u001b[0m\u001b[1;33m\u001b[0m\u001b[0m\n\u001b[1;32m---> 12\u001b[1;33m \u001b[0mg\u001b[0m\u001b[1;33m.\u001b[0m\u001b[0mset_yslim\u001b[0m\u001b[1;33m(\u001b[0m\u001b[1;36m0\u001b[0m\u001b[1;33m,\u001b[0m\u001b[1;36m1\u001b[0m\u001b[1;33m)\u001b[0m\u001b[1;33m\u001b[0m\u001b[1;33m\u001b[0m\u001b[0m\n\u001b[0m\u001b[0;32m     13\u001b[0m \u001b[0mplt\u001b[0m\u001b[1;33m.\u001b[0m\u001b[0msavefig\u001b[0m\u001b[1;33m(\u001b[0m\u001b[1;34m\"HNSC_plot/Muation_Precision.png\"\u001b[0m\u001b[1;33m,\u001b[0m \u001b[0mdpi\u001b[0m\u001b[1;33m=\u001b[0m\u001b[1;36m600\u001b[0m\u001b[1;33m)\u001b[0m\u001b[1;33m\u001b[0m\u001b[1;33m\u001b[0m\u001b[0m\n",
      "\u001b[1;31mAttributeError\u001b[0m: 'AxesSubplot' object has no attribute 'set_yslim'"
     ]
    },
    {
     "output_type": "display_data",
     "data": {
      "image/png": "[encoded data removed]",
      "text/plain": [
       "<Figure size 216x288 with 1 Axes>"
      ]
     },
     "metadata": {
      "needs_background": "light"
     }
    }
   ],
   "metadata": {
    "Collapsed": "false"
   }
  },
  {
   "cell_type": "markdown",
   "source": [
    "## Roboust F1"
   ],
   "metadata": {
    "Collapsed": "false"
   }
  },
  {
   "cell_type": "code",
   "execution_count": 18,
   "source": [
    "edge = pd.read_csv(\"../TCI/EM/Input/paper_edge.csv\", index_col=None, header=0)\r\n",
    "S_Arob = deepcopy(S_A[S_A.columns])\r\n",
    "node_l = []\r\n",
    "for i in edge.index:\r\n",
    "    for idx in S_Arob.index:\r\n",
    "        if edge.loc[i, \"Source\"] in S_Arob.columns:\r\n",
    "            node_l.append(edge.loc[i, \"Source\"])\r\n",
    "            if S_Arob.loc[idx, edge.loc[i, \"Source\"]] == 1:\r\n",
    "                if edge.loc[i, \"Target\"] in S_Arob.columns:\r\n",
    "                    node_l.append(edge.loc[i, \"Target\"])\r\n",
    "                    S_Arob.loc[idx, edge.loc[i, \"Target\"]] == 1\r\n",
    "node_l = list(set(node_l))"
   ],
   "outputs": [],
   "metadata": {
    "Collapsed": "false",
    "ExecuteTime": {
     "end_time": "2020-02-06T05:16:20.474334Z",
     "start_time": "2020-02-06T05:15:35.275600Z"
    }
   }
  },
  {
   "cell_type": "code",
   "execution_count": 20,
   "source": [
    "f1_l = [[\r\n",
    "    sklearn.metrics.f1_score(S_Arob[i], (ele[i] > 0.5), zero_division='warn')\r\n",
    "    for i in node_l\r\n",
    "] for ele in S_At_rd_l]\r\n",
    "f1_df = pd.DataFrame(\r\n",
    "    f1_l,\r\n",
    "    index=['Random Structure' + ' %i' % i for i in range(len(S_At_rd_l))]).T\r\n",
    "f1_df.loc[:, 'TCI'] = [\r\n",
    "    sklearn.metrics.f1_score(S_Arob[i], (S_At[i] > 0.5)) for i in node_l\r\n",
    "]\r\n",
    "print(\r\n",
    "    stats.ttest_ind(a=f1_df[\"TCI\"],\r\n",
    "                    b=f1_df[\"Random Structure 0\"],\r\n",
    "                    equal_var=False))\r\n",
    "ax = sns.boxplot(data=f1_df)\r\n",
    "# ax.set_title('Roboust Test')\r\n",
    "ax.set_ylabel('Roboust f1')\r\n",
    "# ax.set_xlabel('SGA-DEG relationship')"
   ],
   "outputs": [
    {
     "output_type": "stream",
     "name": "stdout",
     "text": [
      "Ttest_indResult(statistic=1.9318281547671843, pvalue=0.05627721577495029)\n"
     ]
    },
    {
     "output_type": "execute_result",
     "data": {
      "text/plain": [
       "Text(0, 0.5, 'Roboust f1')"
      ]
     },
     "metadata": {},
     "execution_count": 20
    },
    {
     "output_type": "display_data",
     "data": {
      "image/png": "[encoded data removed]",
      "text/plain": [
       "<Figure size 432x288 with 1 Axes>"
      ]
     },
     "metadata": {
      "needs_background": "light"
     }
    }
   ],
   "metadata": {
    "Collapsed": "false",
    "ExecuteTime": {
     "end_time": "2020-02-06T06:00:41.240228Z",
     "start_time": "2020-02-06T06:00:40.602529Z"
    }
   }
  },
  {
   "cell_type": "markdown",
   "source": [
    "## DEG states"
   ],
   "metadata": {
    "Collapsed": "false"
   }
  },
  {
   "cell_type": "code",
   "execution_count": null,
   "source": [
    "from sklearn.model_selection import KFold\r\n",
    "\r\n",
    "S_Dor_l = []\r\n",
    "for i in range(3):\r\n",
    "    S_Aor = pd.read_csv(\"../TCI/EM/Output/S_Ator_%i\" % i + \".csv\",\r\n",
    "                        index_col=0,\r\n",
    "                        header=0)\r\n",
    "    A_Dr = pd.read_csv('../TCI/EM/Input/A_D_trd/A_D_trd_%i' % i + '.csv',\r\n",
    "                       header=0,\r\n",
    "                       index_col=0)\r\n",
    "    S_Dor = antiEM(S_Aor, S_D[A_Dr.columns], A_Dr)\r\n",
    "    S_Dor_l.append(pd.DataFrame(S_Dor, index=S_D.index, columns=S_D.columns))"
   ],
   "outputs": [],
   "metadata": {
    "Collapsed": "false"
   }
  },
  {
   "cell_type": "code",
   "execution_count": null,
   "source": [
    "S_Do = antiEM(S_Ao, S_D[A_Dna.columns], A_Dna)"
   ],
   "outputs": [],
   "metadata": {
    "Collapsed": "false"
   }
  },
  {
   "cell_type": "code",
   "execution_count": null,
   "source": [
    "from sklearn.metrics import f1_score\r\n",
    "\r\n",
    "f1_l = [[\r\n",
    "    sklearn.metrics.f1_score(S_D[ele], S_Dor[ele] > 0.5)\r\n",
    "    for ele in A_Dna.columns\r\n",
    "] for S_Dor in S_Dor_l]\r\n",
    "f1_df = pd.DataFrame(f1_l,\r\n",
    "                     index=['RD' + '_%i' % i for i in range(len(S_Dor_l))]).T\r\n",
    "f1_df.loc[:, 'TCI'] = [\r\n",
    "    sklearn.metrics.f1_score(S_D[ele], (S_Do[ele] > 0.5))\r\n",
    "    for ele in A_Dna.columns\r\n",
    "]\r\n",
    "\r\n",
    "ax = sns.boxplot(data=f1_df)\r\n",
    "ax.set_title('DEG Prediction')\r\n",
    "ax.set_ylabel('f1')\r\n",
    "ax.set_xlabel('SGA-DEG relationship')"
   ],
   "outputs": [],
   "metadata": {
    "Collapsed": "false"
   }
  },
  {
   "cell_type": "markdown",
   "source": [
    "## GMM"
   ],
   "metadata": {
    "Collapsed": "false"
   }
  },
  {
   "cell_type": "code",
   "execution_count": null,
   "source": [
    "GDSCexp = pd.read_csv('DrugNormal/Input/GDSC expression.csv',\r\n",
    "                      header=0,\r\n",
    "                      index_col=0)\r\n",
    "TCGAexp = pd.read_csv('DrugNormal/Input/TCGA expression.csv',\r\n",
    "                      header=0,\r\n",
    "                      index_col=0)\r\n",
    "trep = pd.read_csv(\"DrugNormal/Input/GDSC drug response.csv\",\r\n",
    "                   header=0,\r\n",
    "                   index_col=0)\r\n",
    "S_Dc = pd.read_csv(\"DrugNormal/Output/nGDSCexp.csv\", header=0, index_col=0)\r\n",
    "S_Ac = pd.read_csv(\"DrugNormal/Output/nGDSCmut.csv\", header=0, index_col=0)\r\n",
    "\r\n",
    "GDSC_tissue_type = pd.read_csv(\r\n",
    "    \"DrugNormal/Input/GDSC tissue type annotation.csv\", header=0, index_col=0)\r\n",
    "TCGA_tissue_type = pd.read_csv(\"DrugNormal/Input/tcga_Subtype.csv\",\r\n",
    "                               header=0,\r\n",
    "                               index_col=0)\r\n",
    "A_Do = pd.read_csv(\"../TCI/EM/Input/A_Do.csv\", header=0, index_col=0)\r\n",
    "\r\n",
    "paper_deg = [\r\n",
    "    \"FLJ22662\", \"AREG\", \"CORO1C\", \"AVEN\", \"DUSP3\", \"DJ473B4\", \"PHLDA2\", \"RBM7\",\r\n",
    "    \"OSMR\", \"GCLC\", \"COL4A3BP\", \"ARFIP2\", \"C10orf9\", \"NIP30\", \"KIAA0776\",\r\n",
    "    \"SLC35F2\", \"GAMLG\", \"NOC4\", \"PDZK1\", \"DIS3\", \"CGI-48\", \"CPSF6\", \"KIF3C\",\r\n",
    "    \"CD9\", \"LRRC8\", \"SNF1LK\", \"CRA\", \"EGR2\", \"KRT13\", \"BCAT1\", \"SDCCAG3\",\r\n",
    "    \"PIGK\", \"MRPS9\", \"ASPM\", \"ACBD3\", \"ZNF325\", \"LOC285513\", \"TSSC1\", \"XAB1\",\r\n",
    "    \"HNLF\", \"EIF4EBP2\", \"MGC23280\", \"SSA2\", \"PRKACA\", \"FEZ2\", \"SRRM1\",\r\n",
    "    \"PDGFRL\", \"SNX13\", \"KIAA0258\", \"TOM7\"\r\n",
    "]\r\n",
    "\r\n",
    "nsl = [\r\n",
    "    1287381, 905949, 906791, 906805, 687777, 724859, 905970, 1503369, 1503370,\r\n",
    "    1247873, 1240145, 1290908, 1240146, 905972, 907786, 753592, 724866,\r\n",
    "    1298347, 687794, 753600, 1298348, 908472, 687798, 687799, 687800, 910900,\r\n",
    "    908473, 687802, 722058, 908475, 1298350, 724868, 908463, 687807, 1240185,\r\n",
    "    924244, 908476, 724873, 1240187, 722045, 687812, 724834, 722046, 687816,\r\n",
    "    724874, 905942, 687819, 687820, 687821, 1240190, 905967, 908465, 908460,\r\n",
    "    905944, 722066, 910399, 753608, 1240202, 1298537, 910931, 909721, 724878,\r\n",
    "    713869, 753554, 753556, 1240142, 1240143, 753569, 1298223, 687787, 1298226,\r\n",
    "    1240183, 687815, 905941, 908443, 1298538, 909728, 724879\r\n",
    "]\r\n",
    "\r\n",
    "# Plot\r\n",
    "\r\n",
    "trep = pd.read_csv(\"DrugNormal/Input/GDSC drug response.csv\",\r\n",
    "                   header=0,\r\n",
    "                   index_col=0)\r\n",
    "hnsc = tissue_type.loc[tissue_type[\"TCGA Label\"] == \"HNSC\", :][\"COSMIC ID\"]\r\n",
    "rep = trep.loc[hnsc, :]\r\n",
    "np.sum(rep[\"1010\"])\r\n",
    "\r\n",
    "sga = \"EGFR\"\r\n",
    "dg = \"1010\"\r\n",
    "deg_l = set([ele for ele in A_Do if A_Do.loc[sga, ele] == 1]) & set(\r\n",
    "    GDSCexp.columns)\r\n",
    "rep_l = [idx for idx in rep.index if rep.loc[idx, dg] == 1]\r\n",
    "nrep_l = [idx for idx in rep.index if rep.loc[idx, dg] == 0]\r\n",
    "rep_exp = GDSCexp.loc[rep_l, :]\r\n",
    "nrep_exp = GDSCexp.loc[nrep_l, :]\r\n",
    "\r\n",
    "stats_l = []\r\n",
    "de_l = []\r\n",
    "for deg in rep_exp.columns:\r\n",
    "    # for deg in deg_l:\r\n",
    "    rsv1 = rep_exp[deg]\r\n",
    "    rsv2 = nrep_exp[deg]\r\n",
    "    p = stats.ttest_ind(rsv1, rsv2)\r\n",
    "    stats_l.append(p)\r\n",
    "    if p[1] < 0.01:\r\n",
    "        de_l.append(deg)\r\n",
    "de_l = set(de_l) & set(S_Dc.columns)\r\n",
    "\r\n",
    "sns.clustermap(pd.concat([S_Dc.loc[rep_l, deg_l], S_Dc.loc[nrep_l, deg_l]],\r\n",
    "                         0).T,\r\n",
    "               col_cluster=False)\r\n",
    "\r\n",
    "X = pd.concat([rep_exp[de_l], nrep_exp[de_l]], 0)\r\n",
    "\r\n",
    "from sklearn import mixture\r\n",
    "import matplotlib.pyplot as plt\r\n",
    "\r\n",
    "gmm = mixture.GaussianMixture(n_components=2,\r\n",
    "                              covariance_type='full',\r\n",
    "                              weights_init=[0.999, 0.001]).fit(X)\r\n",
    "prediction = gmm.predict(X)\r\n",
    "print(prediction)\r\n",
    "plt.scatter(X.iloc[:, 0], X.iloc[:, 1], c=prediction, s=10, cmap='viridis')\r\n",
    "\r\n",
    "sns.clustermap(GDSCexp[[\r\n",
    "    \"CDK4\", \"RB1\", \"E2F3\", \"TP53\", \"CCND1\", \"CDKN2A\", \"CDKN2B\", \"MDM4\"\r\n",
    "]])\r\n",
    "\r\n",
    "sns.clustermap(GDSCexp[[\r\n",
    "    \"CDK4\", \"RB1\", \"E2F3\", \"TP53\", \"CCND1\", \"CDKN2A\", \"CDKN2B\", \"MDM4\"\r\n",
    "]])\r\n",
    "\r\n",
    "# TCGA\r\n",
    "\r\n",
    "idx = TCGA_tissue_type.loc[TCGA_tissue_type[\"X_primary_disease_id\"] ==\r\n",
    "                           4, :].index\r\n",
    "st_exp = TCGAexp.loc[idx & TCGAexp.index, :]\r\n",
    "\r\n",
    "sga_l = []\r\n",
    "for sga in A_Do.index:\r\n",
    "    deg_l = [deg for deg in A_Do.columns if A_Do.loc[sga, deg] == 1]\r\n",
    "    deg_l = set(TCGAexp.columns) & set(deg_l)\r\n",
    "    sga_exp = st_exp[deg_l].values\r\n",
    "    gmm = mixture.GaussianMixture(n_components=2,\r\n",
    "                                  covariance_type='full',\r\n",
    "                                  weights_init=[0.1, 0.9]).fit(sga_exp)\r\n",
    "    prediction = gmm.predict(sga_exp)\r\n",
    "    sga_l.append(prediction)\r\n",
    "st_act = pd.DataFrame(sga_l, index=A_Do.index, columns=st_exp.index).T\r\n",
    "\r\n",
    "sns.clustermap(st_act[[\r\n",
    "    \"CDK4\", \"RB1\", \"E2F3\", \"TP53\", \"CCND1\", \"CDKN1A\", \"CDKN2A\", \"CDKN2B\"\r\n",
    "]])\r\n",
    "\r\n",
    "sns.clustermap(\r\n",
    "    TCGAexp.loc[:,\r\n",
    "                [\"CDK4\", \"RB1\", \"E2F3\", \"TP53\", \"CCND1\", \"CDKN2A\", \"CDKN2B\"]])\r\n",
    "\r\n",
    "S_Aoo = pd.read_csv(\"../TCI/EM/Output/S_Aoo.csv\", index_col=0, header=0)\r\n",
    "S_Ao4 = pd.read_csv(\"../TCI/EM/Output/A_Di/S_Ad_4.csv\", index_col=0, header=0)\r\n",
    "\r\n",
    "sns.clustermap(\r\n",
    "    S_Aoo.\r\n",
    "    loc[:,\r\n",
    "        [\"CDK4\", \"RB1\", \"E2F3\", \"TP53\", \"CCND1\", \"CDKN1A\", \"CDKN2A\", \"CDKN2B\"]]\r\n",
    ")\r\n",
    "\r\n",
    "a = TCGAexp[[\"CDK4\", \"RB1\", \"E2F3\", \"TP53\", \"CCND1\", \"CDKN2A\", \"CDKN2B\"]].T\r\n",
    "a.to_csv(\"arcne_matrix_tp53.txt\", index=True, header=True)\r\n",
    "\r\n",
    "np.savetxt('arcne_lis_tp53.txt', a.index, fmt='%s')  # use exponential notation\r\n"
   ],
   "outputs": [],
   "metadata": {
    "Collapsed": "false"
   }
  }
 ],
 "metadata": {
  "kernelspec": {
   "display_name": "Python 3",
   "language": "python",
   "name": "python3"
  },
  "language_info": {
   "codemirror_mode": {
    "name": "ipython",
    "version": 3
   },
   "file_extension": ".py",
   "mimetype": "text/x-python",
   "name": "python",
   "nbconvert_exporter": "python",
   "pygments_lexer": "ipython3",
   "version": "3.8.8"
  },
  "toc": {
   "base_numbering": 1,
   "nav_menu": {},
   "number_sections": true,
   "sideBar": true,
   "skip_h1_title": false,
   "title_cell": "Table of Contents",
   "title_sidebar": "Contents",
   "toc_cell": false,
   "toc_position": {},
   "toc_section_display": true,
   "toc_window_display": false
  },
  "varInspector": {
   "cols": {
    "lenName": 16,
    "lenType": 16,
    "lenVar": 40
   },
   "kernels_config": {
    "python": {
     "delete_cmd_postfix": "",
     "delete_cmd_prefix": "del ",
     "library": "var_list.py",
     "varRefreshCmd": "print(var_dic_list())"
    },
    "r": {
     "delete_cmd_postfix": ") ",
     "delete_cmd_prefix": "rm(",
     "library": "var_list.r",
     "varRefreshCmd": "cat(var_dic_list()) "
    }
   },
   "types_to_exclude": [
    "module",
    "function",
    "builtin_function_or_method",
    "instance",
    "_Feature"
   ],
   "window_display": false
  }
 },
 "nbformat": 4,
 "nbformat_minor": 4
}