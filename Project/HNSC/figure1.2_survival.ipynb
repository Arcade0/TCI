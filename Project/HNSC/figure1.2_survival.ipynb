{
 "cells": [
  {
   "cell_type": "markdown",
   "source": [
    "# Overall Survival"
   ],
   "metadata": {}
  },
  {
   "cell_type": "code",
   "execution_count": 1,
   "source": [
    "install.packages(\"survival\")\n",
    "install.packages(\"survminer\")"
   ],
   "outputs": [
    {
     "output_type": "stream",
     "name": "stderr",
     "text": [
      "将程序包安装入'C:/Users/xinzhuo/Documents/R/win-library/4.1'\n",
      "(因为'lib'没有被指定)\n",
      "\n"
     ]
    },
    {
     "output_type": "stream",
     "name": "stdout",
     "text": [
      "package 'survival' successfully unpacked and MD5 sums checked\n",
      "\n",
      "The downloaded binary packages are in\n",
      "\tC:\\Users\\xinzhuo\\AppData\\Local\\Temp\\RtmpIjAwvd\\downloaded_packages\n"
     ]
    },
    {
     "output_type": "stream",
     "name": "stderr",
     "text": [
      "将程序包安装入'C:/Users/xinzhuo/Documents/R/win-library/4.1'\n",
      "(因为'lib'没有被指定)\n",
      "\n"
     ]
    },
    {
     "output_type": "stream",
     "name": "stdout",
     "text": [
      "package 'survminer' successfully unpacked and MD5 sums checked\n",
      "\n",
      "The downloaded binary packages are in\n",
      "\tC:\\Users\\xinzhuo\\AppData\\Local\\Temp\\RtmpIjAwvd\\downloaded_packages\n"
     ]
    }
   ],
   "metadata": {
    "tags": []
   }
  },
  {
   "cell_type": "code",
   "execution_count": 1,
   "source": [
    "library(ggplot2)\n",
    "library(\"survival\")\n",
    "library(\"survminer\")"
   ],
   "outputs": [
    {
     "output_type": "stream",
     "name": "stderr",
     "text": [
      "载入需要的程辑包：ggpubr\n",
      "\n"
     ]
    }
   ],
   "metadata": {
    "tags": []
   }
  },
  {
   "cell_type": "code",
   "execution_count": 2,
   "source": [
    "windowsFonts(Times=windowsFont(\"TT Times New Roman\"))"
   ],
   "outputs": [],
   "metadata": {}
  },
  {
   "cell_type": "code",
   "execution_count": 24,
   "source": [
    "# Survival curves with global p-valuea\n",
    "lis = c(\"S_Ai\", \"S_At\", \"S_Dci\", \"S_Dct\", \"S_Pci\")\n",
    "# lis = c(\"S_Ai\")\n",
    "\n",
    "# lis = c(\"oov\")\n",
    "\n",
    "for (s in lis){\n",
    "    \n",
    "    print(s)\n",
    "    data = read.csv(paste(\"chunhui/Output/HNSC/\", s, \"_HNSC_Sur.csv\", sep=\"\"), row.names = 1, as.is = TRUE)\n",
    "#     data = read.csv(\"chunhui/Output/HNSC/nature_surv.csv\", row.names = 1, as.is = TRUE)\n",
    "    \n",
    "#     data[data[\"Days\"]>2500, \"Events\"] = 0\n",
    "    \n",
    "    labn = c()\n",
    "    labs = c(unique(data$Groups))\n",
    "#     labs = c('Atypical','Basal','Classical','Mesenchymal')\n",
    "    for (i in (1:length(labs))){\n",
    "        n = dim(data[which(data$Groups == labs[i]),])[1]\n",
    "#         labn = c(labn, paste(labs[i], \"(n=\", as.character(n), \")\", sep=\"\"))\n",
    "        labn = c(labn, paste(labs[i]))\n",
    "    }\n",
    "    \n",
    "    fit <- survfit(Surv(Days, Events) ~ Groups, data = data)\n",
    "    p = ggsurvplot(\n",
    "        fit, data = data,\n",
    "        \n",
    "        \n",
    "        ggtheme = theme_classic2(base_family = \"Times\"),\n",
    "        palette = c('#66c2a5', '#fc8d62', '#8da0cb', '#e78ac3'), \n",
    "        \n",
    "        xlim = c(0,2500), \n",
    "        break.x.by = c(500),\n",
    "        xlab=\"Time(days)\",\n",
    "        ylab=\"Survival\",\n",
    " \n",
    "        font.x = c(8, \"bold\"),\n",
    "        font.y = c(8, \"bold\"),\n",
    "        font.tickslab = c(6, \"bold\"),\n",
    "        font.main = c(8, \"bold\"),\n",
    "        font.caption = c(6, \"bold\"), \n",
    "        font.legend = c(6, \"bold\"),\n",
    "        censor.size = 1,\n",
    "        size = 0.5,\n",
    "        \n",
    "        legend = \"none\",\n",
    "#         legend = \"right\",\n",
    "#         legend.title = \"Subtype\", \n",
    "#         legend.labs = labn, # 顺序不一致，先屏蔽掉看一下顺序\n",
    "   \n",
    "        pval = TRUE,\n",
    "        pval.size = 2,\n",
    "        \n",
    "        risk.table = TRUE,\n",
    "        tables.theme = theme_cleantable(),\n",
    "        risk.table.height = 0.4,\n",
    "        risk.table.fontsize = 2,\n",
    "        tables.col = \"strata\", \n",
    "        tables.y.text = FALSE\n",
    "    )\n",
    "\n",
    "    # Customize risk table title using ggplot verbs\n",
    "    p$table <- p$table +\n",
    "      theme(plot.title = element_text(size = 8 , face = \"bold\", hjust = -0.6))\n",
    "#             axis.text.y = element_blank(), # 不显示y轴的元素\n",
    "#             axis.ticks.y = element_blank())\n",
    "\n",
    "#     print(p)\n",
    "#     ggsave( \n",
    "#         plot = print(p), \n",
    "#         filename = paste(\"HNSC_plot/\",s ,\"_surv.png\", sep=\"\"),\n",
    "# #         filename = paste(\"HNSC_plot/\",\"nature_surv.png\", sep=\"\"),\n",
    "#         width = 3, height = 1.38, units=\"in\")\n",
    "    \n",
    "    png(paste(\"HNSC_plot/\",s ,\"_surv_test.png\", sep=\"\"), width = 4.5, height = 5.3,, units = \"cm\", res = 300)\n",
    "    print(p, newpage = FALSE)\n",
    "    dev.off()\n",
    "    \n",
    "}"
   ],
   "outputs": [
    {
     "output_type": "stream",
     "name": "stdout",
     "text": [
      "[1] \"S_Ai\"\n",
      "[1] \"S_At\"\n",
      "[1] \"S_Dci\"\n",
      "[1] \"S_Dct\"\n",
      "[1] \"S_Pci\"\n"
     ]
    }
   ],
   "metadata": {}
  },
  {
   "cell_type": "code",
   "execution_count": 7,
   "source": [
    "# Survival curves with global p-valuea\n",
    "lis = c(\"S_Ai\", \"S_At\", \"S_Dci\", \"S_Dct\", \"S_Pci\")\n",
    "lis = c(\"S_Ai\")\n",
    "# lis = c(\"oov\")\n",
    "\n",
    "for (s in lis){\n",
    "    \n",
    "    print(s)\n",
    "    data = read.csv(paste(\"chunhui/Output/HNSC/\", s, \"_HNSC_Sur.csv\", sep=\"\"), row.names = 1, as.is = TRUE)\n",
    "    data[data[\"Days\"]>2500, \"Events\"] = 0\n",
    "    \n",
    "    labn = c()\n",
    "    labs = c(unique(data$Groups))\n",
    "#     labs = c('Atypical','Basal','Classical','Mesenchymal')\n",
    "    for (i in (1:length(labs))){\n",
    "        n = dim(data[which(data$Groups == labs[i]),])[1]\n",
    "        labn = c(labn, paste(labs[i], \"(n=\", as.character(n), \")\", sep=\"\"))\n",
    "    }\n",
    "    \n",
    "    fit <- survfit(Surv(Days, Events) ~ Groups, data = data)\n",
    "    p = ggsurvplot(\n",
    "        fit, data = data,\n",
    "        legend.title = \"Subtype\", \n",
    "        legend.labs = labn,\n",
    "        legend = \"right\",\n",
    "        pval = TRUE, \n",
    "        palette = c('#66c2a5', '#fc8d62', '#8da0cb', '#e78ac3'), \n",
    "        xlim = c(0,2500), \n",
    "        break.x.by = c(500),\n",
    "        xlab=\"Time(days)\")\n",
    "    \n",
    "    ggsave(\n",
    "        plot = print(p), \n",
    "        filename = paste(s ,\"_surv.png\", sep=\"\"),\n",
    "#         filename = paste(\"HNSC_plot/\",\"nature_surv.png\", sep=\"\"),\n",
    "        width = 4, height = 8，units=\"in\")\n",
    "}"
   ],
   "outputs": [
    {
     "output_type": "stream",
     "name": "stdout",
     "text": [
      "[1] \"S_Ai\"\n"
     ]
    }
   ],
   "metadata": {}
  },
  {
   "cell_type": "code",
   "execution_count": 3,
   "source": [
    "version"
   ],
   "outputs": [
    {
     "output_type": "display_data",
     "data": {
      "text/plain": [
       "               _                           \n",
       "platform       x86_64-w64-mingw32          \n",
       "arch           x86_64                      \n",
       "os             mingw32                     \n",
       "system         x86_64, mingw32             \n",
       "status                                     \n",
       "major          3                           \n",
       "minor          6.1                         \n",
       "year           2019                        \n",
       "month          07                          \n",
       "day            05                          \n",
       "svn rev        76782                       \n",
       "language       R                           \n",
       "version.string R version 3.6.1 (2019-07-05)\n",
       "nickname       Action of the Toes          "
      ]
     },
     "metadata": {}
    }
   ],
   "metadata": {}
  },
  {
   "cell_type": "markdown",
   "source": [
    "# Expression Subgroup"
   ],
   "metadata": {}
  },
  {
   "cell_type": "code",
   "execution_count": 2,
   "source": [
    "# cox - regression single factor\n",
    "hnsc = read.csv(\"chunhui/Output/HNSC/S_Pci_HNSC_cox.csv\", row.names=1)\n",
    "hnsc[hnsc[\"Days\"]>2000, \"Events\"] = 0\n",
    "S_Pci = read.csv(\"chunhui/Output/HNSC/S_Pci_clu.csv\", row.names=1)\n",
    "\n",
    "x = \"Surv(Days, Groups) ~ \"\n",
    "for (ele in colnames(S_Pci)){\n",
    "    x = paste(x, ele, sep=\" + \")\n",
    "    }\n",
    "z = as.formula(x)\n",
    "\n",
    "res.cox <- coxph(z, data = hnsc)\n",
    "print(summary(res.cox))\n",
    "\n",
    "# coe = res.cox$coefficients\n",
    "# data.frame(sort(coe))\n",
    "# mean(abs(coe))"
   ],
   "outputs": [
    {
     "output_type": "error",
     "ename": "ERROR",
     "evalue": "Error in coxph(z, data = hnsc): an id statement is required for multi-state models\n",
     "traceback": [
      "Error in coxph(z, data = hnsc): an id statement is required for multi-state models\nTraceback:\n",
      "1. coxph(z, data = hnsc)",
      "2. stop(\"an id statement is required for multi-state models\")"
     ]
    }
   ],
   "metadata": {}
  },
  {
   "cell_type": "markdown",
   "source": [
    "# Gene Subgroup"
   ],
   "metadata": {}
  },
  {
   "cell_type": "code",
   "execution_count": 4,
   "source": [
    "# plot survival\n",
    "# var_l = c(\"SEC61G\", \"FADD\", \"CSMD1\", \"NIM1\", \"FLG\", \"RYR2\", \"C5orf55\", \"CSMD3\", \"KDM6A\",\"RPL39P5\", \"SI\", \"ERLIN2\")\n",
    "var_l = c(\"SEC61G\", \"FADD\", \"CSMD1\", \"NIM1\", \"RYR2\", \"C5orf55\", \"RPL39P5\")\n",
    "\n",
    "for (ele in var_l){\n",
    "    \n",
    "    x = paste(\"Surv(Days, Events) ~\", ele, sep=\" \")\n",
    "    z = as.formula(x)\n",
    "    fit <- do.call(survfit,list(formula=z, data=hnsc))\n",
    "    print(ggsurvplot(fit, data = hnsc,\n",
    "               legend.title = \"Subtype\",\n",
    "               legend.labs = levels(hnsc[ele]),\n",
    "               legend = \"right\",\n",
    "               pval = TRUE, palette = \"lancet\", xlim = c(0,2000)))\n",
    "}"
   ],
   "outputs": [
    {
     "output_type": "display_data",
     "data": {
      "image/png": "[encoded data removed]",
      "text/plain": [
       "plot without title"
      ]
     },
     "metadata": {
      "image/png": {
       "height": 420,
       "width": 420
      }
     }
    },
    {
     "output_type": "display_data",
     "data": {
      "image/png": "[encoded data removed]",
      "text/plain": [
       "plot without title"
      ]
     },
     "metadata": {
      "image/png": {
       "height": 420,
       "width": 420
      }
     }
    },
    {
     "output_type": "display_data",
     "data": {
      "image/png": "[encoded data removed]",
      "text/plain": [
       "plot without title"
      ]
     },
     "metadata": {
      "image/png": {
       "height": 420,
       "width": 420
      }
     }
    },
    {
     "output_type": "display_data",
     "data": {
      "image/png": "[encoded data removed]",
      "text/plain": [
       "plot without title"
      ]
     },
     "metadata": {
      "image/png": {
       "height": 420,
       "width": 420
      }
     }
    },
    {
     "output_type": "display_data",
     "data": {
      "image/png": "[encoded data removed]",
      "text/plain": [
       "plot without title"
      ]
     },
     "metadata": {
      "image/png": {
       "height": 420,
       "width": 420
      }
     }
    },
    {
     "output_type": "display_data",
     "data": {
      "image/png": "[encoded data removed]",
      "text/plain": [
       "plot without title"
      ]
     },
     "metadata": {
      "image/png": {
       "height": 420,
       "width": 420
      }
     }
    },
    {
     "output_type": "display_data",
     "data": {
      "image/png": "[encoded data removed]",
      "text/plain": [
       "plot without title"
      ]
     },
     "metadata": {
      "image/png": {
       "height": 420,
       "width": 420
      }
     }
    }
   ],
   "metadata": {
    "collapsed": true,
    "jupyter": {
     "outputs_hidden": true
    }
   }
  },
  {
   "cell_type": "markdown",
   "source": [
    "# Cox Regression"
   ],
   "metadata": {}
  },
  {
   "cell_type": "code",
   "execution_count": null,
   "source": [
    "# install.packages(\"My.stepwise\")\n",
    "# install.packages(\"glmnet\")\n",
    "library(My.stepwise)\n",
    "# Not run:\n",
    "# The data 'lung' is available in the 'survival' package.\n",
    "# End(Not run)\n",
    "\n",
    "my.data <- na.omit(hnsc)\n",
    "\n",
    "my.variable.list <- colnames(S_Pci)\n",
    "My.stepwise.coxph(\n",
    "    Time = \"Days\", Status = \"Events\", variable.list = my.variable.list, data = my.data, sle = 0.25, sls = 0.25)\n",
    "\n",
    "library(glmnet)\n",
    "load(\"VignetteExample.rdata\")\n",
    "cv.fit <- cv.glmnet(\n",
    "    patient.data$x, Surv(patient.data$time, patient.data$status), \n",
    "    family=\"cox\", maxit = 1000)\n",
    "plot(cv.fit)\n",
    "\n",
    "cv.fit$lambda.min\n",
    "Coefficients <- coef(fit, s = cv.fit$lambda.min)\n",
    "Active.Index <- which(Coefficients != 0)\n",
    "Active.Coefficients <- Coefficients[Active.Index]\n",
    "Active.Index\n",
    "Active.Coefficients\n",
    "load.Rdata(\"Pre_TCIinfo/Input/sigdriversNtarDEGs.p=0.05.DEGrate=0.2.RData\")"
   ],
   "outputs": [],
   "metadata": {}
  }
 ],
 "metadata": {
  "kernelspec": {
   "display_name": "R",
   "language": "R",
   "name": "ir"
  },
  "language_info": {
   "codemirror_mode": "r",
   "file_extension": ".r",
   "mimetype": "text/x-r-source",
   "name": "R",
   "pygments_lexer": "r",
   "version": "4.1.0"
  }
 },
 "nbformat": 4,
 "nbformat_minor": 4
}