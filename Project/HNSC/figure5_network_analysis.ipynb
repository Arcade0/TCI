{
 "cells": [
  {
   "cell_type": "markdown",
   "source": [
    "# Import pack"
   ],
   "metadata": {}
  },
  {
   "cell_type": "code",
   "execution_count": 1,
   "source": [
    "import pandas as pd\n",
    "import numpy as np\n",
    "import os\n",
    "import matplotlib.pyplot as plt\n",
    "import networkx as nx"
   ],
   "outputs": [],
   "metadata": {
    "ExecuteTime": {
     "end_time": "2020-02-13T17:46:41.866604Z",
     "start_time": "2020-02-13T17:46:41.861669Z"
    }
   }
  },
  {
   "cell_type": "markdown",
   "source": [
    "# Single File"
   ],
   "metadata": {}
  },
  {
   "cell_type": "code",
   "execution_count": 94,
   "source": [
    "deg_l = []\n",
    "\n",
    "for line in open(\"Pathway/BI/fges_1587047010324.txt\", 'r'):\n",
    "\n",
    "    if \"--> sga:\" in line:\n",
    "        b = line.split(\" \")\n",
    "        b[3] = b[3].rstrip()\n",
    "        edge_l.append(b)\n",
    "\n",
    "    if \"--- sga:\" in line:\n",
    "        b = line.split(\" \")\n",
    "        b[3] = b[3].rstrip()\n",
    "        edge_l.append(b)\n",
    "\n",
    "pd.DataFrame(edge_l)[[2, 3, 4]].to_csv(\"HNSC_S_Pi_0.csv\")\n"
   ],
   "outputs": [],
   "metadata": {
    "ExecuteTime": {
     "end_time": "2020-02-13T18:25:23.612994Z",
     "start_time": "2020-02-13T18:25:23.322785Z"
    },
    "code_folding": []
   }
  },
  {
   "cell_type": "markdown",
   "source": [
    "# Multiple File"
   ],
   "metadata": {}
  },
  {
   "cell_type": "code",
   "execution_count": 9,
   "source": [
    "fi_l = os.listdir(\"Pathway/BI\")\r\n",
    "fi_l = [ele for ele in fi_l if 'fges' in ele]\r\n",
    "\r\n",
    "for ele in fi_l:\r\n",
    "    with open(\"Pathway/BI/\" + ele, 'r') as f:\r\n",
    "        a = f.readlines()\r\n",
    "\r\n",
    "    edge_l = []\r\n",
    "    for ele in a:\r\n",
    "        if \"file:\" in ele:\r\n",
    "            ele = ele.replace(\"\\n\", \"\")\r\n",
    "            print(ele)\r\n",
    "            file_name = ele.split(\":\")[1]\r\n",
    "\r\n",
    "    for ele in a:\r\n",
    "        if \"sga:\" in ele:\r\n",
    "            if \"--> sga:\" in ele:\r\n",
    "                if \"INSERT\" not in ele:\r\n",
    "                    if 'Directing' not in ele:\r\n",
    "                        a = ele.split(\" \")[1:3]\r\n",
    "                        a.append(ele.split(\" \")[3].replace(\"\\n\", \"\"))\r\n",
    "                        edge_l.append(a)\r\n",
    "\r\n",
    "    pd.DataFrame(edge_l).to_csv(\"Pathway/BI/Net_%s\" % file_name, index=False)"
   ],
   "outputs": [
    {
     "output_type": "stream",
     "name": "stdout",
     "text": [
      "file: S_Pci_HNSC_4.csv\n",
      "file: S_P_BRCA_2.csv\n",
      "file: S_Pci_HNSC_2.csv\n",
      "file: S_Pci_HNSC_5.csv\n",
      "file: S_Pci_LUAD_3.csv\n",
      "file: S_Pi_HNSC_2.csv\n",
      "file: S_P_HNSC_2.csv\n",
      "file: S_Pci_HNSC_4.csv\n",
      "file: S_Pi_LUAD_2.csv\n",
      "file: S_Pi_HNSC_1.csv\n",
      "file: S_Pci_HNSC_1.csv\n",
      "file: S_P_HNSC_0.csv\n",
      "file: S_Pci_HNSC_2.csv\n",
      "file: S_Pci_HNSC_0.csv\n",
      "file: S_Pci_HNSC_1.csv\n",
      "file: S_Pci_HNSC_3.csv\n",
      "file: S_Pi_LUAD_1.csv\n",
      "file: S_Pci_LUAD_2.csv\n",
      "file: S_P_BRCA_0.csv\n",
      "file: S_P_HNSC_0.csv\n",
      "file: S_Pci_clu.csv\n",
      "file: S_Pci_HNSC_3.csv\n",
      "file: S_Pci_HNSC_5.csv\n",
      "file: S_Pci_HNSC_7.csv\n",
      "file: S_Pci_HNSC_6.csv\n",
      "file: S_P_HNSC_3.csv\n",
      "file: S_Pi_LUAD_0.csv\n",
      "file: S_Pci_HNSC_0.csv\n",
      "file: S_Pci_HNSC_7.csv\n",
      "file: S_Pci_HNSC_6.csv\n",
      "file: S_Pi_LUAD_3.csv\n",
      "file: S_Pci_LUAD_0.csv\n",
      "file: S_Pci_LUAD_1.csv\n",
      "file: S_Pi_HNSC_0.csv\n",
      "file: S_P_BRCA_1.csv\n",
      "file: S_P_HNSC_1.csv\n"
     ]
    }
   ],
   "metadata": {
    "collapsed": true,
    "jupyter": {
     "outputs_hidden": true
    }
   }
  },
  {
   "cell_type": "markdown",
   "source": [
    "# Compare with Database"
   ],
   "metadata": {}
  },
  {
   "cell_type": "code",
   "execution_count": null,
   "source": [
    "ret = pd.read_table(\"Pathway/Right/FI/FIsInGene_020720_with_annotations.txt\",\r\n",
    "                    sep=\"\\t\",\r\n",
    "                    engine='python')\r\n",
    "\r\n",
    "stri = pd.read_csv(\"Pathway/Right/PP/String Network default edge.csv\",\r\n",
    "                   index_col=0,\r\n",
    "                   header=0)\r\n",
    "\r\n",
    "pp_l = []\r\n",
    "for ele in stri[\"name\"]:\r\n",
    "    pp_l.append(ele.split(\" (pp) \"))\r\n",
    "pp_df = pd.DataFrame(pp_l, columns=[\"Gene1\", \"Gene2\"])"
   ],
   "outputs": [],
   "metadata": {}
  },
  {
   "cell_type": "code",
   "execution_count": 3,
   "source": [
    "# Reactome\r\n",
    "for i in range(len(edge_l)):\r\n",
    "    if edge_l[i][0].replace(\"sga:\", \"\") in list(ret[\"Gene1\"]):\r\n",
    "        if edge_l[i][2].replace(\"sga:\", \"\") in list(\r\n",
    "                ret.loc[ret[\"Gene1\"] == edge_l[i][0].replace(\"sga:\", \"\"),\r\n",
    "                        \"Gene2\"]):\r\n",
    "            print(edge_l[i])\r\n",
    "\r\n",
    "# pp\r\n",
    "for i in range(len(edge_l)):\r\n",
    "    if edge_l[i][0].replace(\"sga:\", \"\") in list(ret[\"Gene1\"]):\r\n",
    "        if edge_l[i][2].replace(\"sga:\", \"\") in list(\r\n",
    "                pp_df.loc[ret[\"Gene1\"] == edge_l[i][0].replace(\"sga:\", \"\"),\r\n",
    "                          \"Gene2\"]):\r\n",
    "            print(edge_l[i])"
   ],
   "outputs": [
    {
     "output_type": "stream",
     "name": "stdout",
     "text": [
      "['fges_1586437136029.txt', 'fges_1587645574741.txt', 'fges_1587046978110.txt', 'fges_1586388595699.txt', 'fges_1587046973699.txt', 'fges_1587636433647.txt', 'fges_1586388052554.txt', 'fges_1587636023628.txt', 'fges_1587623031319.txt', 'fges_1586436622804.txt', 'fges_1587041820732.txt', 'fges_1586398400431.txt', 'fges_1587635817892.txt', 'fges_1587047010324.txt', 'fges_1587047131690.txt', 'fges_1587648771820.txt', 'fges_1586442053022.txt', 'fges_1587622570361.txt', 'fges_1587622646896.txt', 'fges_1586436632285.txt', 'fges_1587047232143.txt', 'fges_1586388384702.txt']\n",
      "file: S_P_BRCA_2.csv\n"
     ]
    },
    {
     "output_type": "error",
     "ename": "NameError",
     "evalue": "name 'ret' is not defined",
     "traceback": [
      "\u001b[0;31m---------------------------------------------------------------------------\u001b[0m",
      "\u001b[0;31mNameError\u001b[0m                                 Traceback (most recent call last)",
      "\u001b[0;32m<ipython-input-3-6f7dcdc8e956>\u001b[0m in \u001b[0;36m<module>\u001b[0;34m\u001b[0m\n\u001b[1;32m     28\u001b[0m     \u001b[0;31m# Reactome\u001b[0m\u001b[0;34m\u001b[0m\u001b[0;34m\u001b[0m\u001b[0;34m\u001b[0m\u001b[0m\n\u001b[1;32m     29\u001b[0m     \u001b[0;32mfor\u001b[0m \u001b[0mi\u001b[0m \u001b[0;32min\u001b[0m \u001b[0mrange\u001b[0m\u001b[0;34m(\u001b[0m\u001b[0mlen\u001b[0m\u001b[0;34m(\u001b[0m\u001b[0medge_l\u001b[0m\u001b[0;34m)\u001b[0m\u001b[0;34m)\u001b[0m\u001b[0;34m:\u001b[0m\u001b[0;34m\u001b[0m\u001b[0;34m\u001b[0m\u001b[0m\n\u001b[0;32m---> 30\u001b[0;31m         \u001b[0;32mif\u001b[0m \u001b[0medge_l\u001b[0m\u001b[0;34m[\u001b[0m\u001b[0mi\u001b[0m\u001b[0;34m]\u001b[0m\u001b[0;34m[\u001b[0m\u001b[0;36m0\u001b[0m\u001b[0;34m]\u001b[0m\u001b[0;34m.\u001b[0m\u001b[0mreplace\u001b[0m\u001b[0;34m(\u001b[0m\u001b[0;34m\"sga:\"\u001b[0m\u001b[0;34m,\u001b[0m \u001b[0;34m\"\"\u001b[0m\u001b[0;34m)\u001b[0m \u001b[0;32min\u001b[0m \u001b[0mlist\u001b[0m\u001b[0;34m(\u001b[0m\u001b[0mret\u001b[0m\u001b[0;34m[\u001b[0m\u001b[0;34m\"Gene1\"\u001b[0m\u001b[0;34m]\u001b[0m\u001b[0;34m)\u001b[0m\u001b[0;34m:\u001b[0m\u001b[0;34m\u001b[0m\u001b[0;34m\u001b[0m\u001b[0m\n\u001b[0m\u001b[1;32m     31\u001b[0m             \u001b[0;32mif\u001b[0m \u001b[0medge_l\u001b[0m\u001b[0;34m[\u001b[0m\u001b[0mi\u001b[0m\u001b[0;34m]\u001b[0m\u001b[0;34m[\u001b[0m\u001b[0;36m2\u001b[0m\u001b[0;34m]\u001b[0m\u001b[0;34m.\u001b[0m\u001b[0mreplace\u001b[0m\u001b[0;34m(\u001b[0m\u001b[0;34m\"sga:\"\u001b[0m\u001b[0;34m,\u001b[0m \u001b[0;34m\"\"\u001b[0m\u001b[0;34m)\u001b[0m \u001b[0;32min\u001b[0m \u001b[0mlist\u001b[0m\u001b[0;34m(\u001b[0m\u001b[0mret\u001b[0m\u001b[0;34m.\u001b[0m\u001b[0mloc\u001b[0m\u001b[0;34m[\u001b[0m\u001b[0mret\u001b[0m\u001b[0;34m[\u001b[0m\u001b[0;34m\"Gene1\"\u001b[0m\u001b[0;34m]\u001b[0m\u001b[0;34m==\u001b[0m\u001b[0medge_l\u001b[0m\u001b[0;34m[\u001b[0m\u001b[0mi\u001b[0m\u001b[0;34m]\u001b[0m\u001b[0;34m[\u001b[0m\u001b[0;36m0\u001b[0m\u001b[0;34m]\u001b[0m\u001b[0;34m.\u001b[0m\u001b[0mreplace\u001b[0m\u001b[0;34m(\u001b[0m\u001b[0;34m\"sga:\"\u001b[0m\u001b[0;34m,\u001b[0m \u001b[0;34m\"\"\u001b[0m\u001b[0;34m)\u001b[0m\u001b[0;34m,\u001b[0m \u001b[0;34m\"Gene2\"\u001b[0m\u001b[0;34m]\u001b[0m\u001b[0;34m)\u001b[0m\u001b[0;34m:\u001b[0m\u001b[0;34m\u001b[0m\u001b[0;34m\u001b[0m\u001b[0m\n\u001b[1;32m     32\u001b[0m                 \u001b[0mprint\u001b[0m\u001b[0;34m(\u001b[0m\u001b[0medge_l\u001b[0m\u001b[0;34m[\u001b[0m\u001b[0mi\u001b[0m\u001b[0;34m]\u001b[0m\u001b[0;34m)\u001b[0m\u001b[0;34m\u001b[0m\u001b[0;34m\u001b[0m\u001b[0m\n",
      "\u001b[0;31mNameError\u001b[0m: name 'ret' is not defined"
     ]
    }
   ],
   "metadata": {}
  }
 ],
 "metadata": {
  "kernelspec": {
   "display_name": "Python 3",
   "language": "python",
   "name": "python3"
  },
  "language_info": {
   "codemirror_mode": {
    "name": "ipython",
    "version": 3
   },
   "file_extension": ".py",
   "mimetype": "text/x-python",
   "name": "python",
   "nbconvert_exporter": "python",
   "pygments_lexer": "ipython3",
   "version": "3.8.8"
  },
  "toc": {
   "base_numbering": 1,
   "nav_menu": {},
   "number_sections": true,
   "sideBar": true,
   "skip_h1_title": false,
   "title_cell": "Table of Contents",
   "title_sidebar": "Contents",
   "toc_cell": false,
   "toc_position": {},
   "toc_section_display": true,
   "toc_window_display": false
  },
  "toc-autonumbering": true,
  "varInspector": {
   "cols": {
    "lenName": 16,
    "lenType": 16,
    "lenVar": 40
   },
   "kernels_config": {
    "python": {
     "delete_cmd_postfix": "",
     "delete_cmd_prefix": "del ",
     "library": "var_list.py",
     "varRefreshCmd": "print(var_dic_list())"
    },
    "r": {
     "delete_cmd_postfix": ") ",
     "delete_cmd_prefix": "rm(",
     "library": "var_list.r",
     "varRefreshCmd": "cat(var_dic_list()) "
    }
   },
   "types_to_exclude": [
    "module",
    "function",
    "builtin_function_or_method",
    "instance",
    "_Feature"
   ],
   "window_display": false
  }
 },
 "nbformat": 4,
 "nbformat_minor": 4
}