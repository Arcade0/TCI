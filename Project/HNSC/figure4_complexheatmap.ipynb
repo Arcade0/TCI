{
 "cells": [
  {
   "cell_type": "code",
   "execution_count": 1,
   "source": [
    "library(extrafont)\n",
    "library(grid)\n",
    "library(pheatmap)\n",
    "library(ComplexHeatmap)\n",
    "library(circlize)\n",
    "library(reshape2)\n",
    "library(RColorBrewer)"
   ],
   "outputs": [
    {
     "output_type": "stream",
     "name": "stderr",
     "text": [
      "Warning message:\n",
      "\"package 'extrafont' was built under R version 3.6.2\"\n",
      "Registering fonts with R\n",
      "\n",
      "Warning message:\n",
      "\"package 'pheatmap' was built under R version 3.6.3\"\n",
      "========================================\n",
      "ComplexHeatmap version 2.2.0\n",
      "Bioconductor page: http://bioconductor.org/packages/ComplexHeatmap/\n",
      "Github page: https://github.com/jokergoo/ComplexHeatmap\n",
      "Documentation: http://jokergoo.github.io/ComplexHeatmap-reference\n",
      "\n",
      "If you use it in published research, please cite:\n",
      "Gu, Z. Complex heatmaps reveal patterns and correlations in multidimensional \n",
      "  genomic data. Bioinformatics 2016.\n",
      "========================================\n",
      "\n",
      "\n",
      "Warning message:\n",
      "\"package 'circlize' was built under R version 3.6.3\"\n",
      "========================================\n",
      "circlize version 0.4.11\n",
      "CRAN page: https://cran.r-project.org/package=circlize\n",
      "Github page: https://github.com/jokergoo/circlize\n",
      "Documentation: https://jokergoo.github.io/circlize_book/book/\n",
      "\n",
      "If you use it in published research, please cite:\n",
      "Gu, Z. circlize implements and enhances circular visualization\n",
      "  in R. Bioinformatics 2014.\n",
      "\n",
      "This message can be suppressed by:\n",
      "  suppressPackageStartupMessages(library(circlize))\n",
      "========================================\n",
      "\n",
      "\n",
      "Warning message:\n",
      "\"package 'reshape2' was built under R version 3.6.3\"\n"
     ]
    }
   ],
   "metadata": {
    "collapsed": true,
    "jupyter": {
     "outputs_hidden": true
    }
   }
  },
  {
   "cell_type": "code",
   "execution_count": 12,
   "source": [
    "windowsFonts(Times=windowsFont(\"TT Times New Roman\"))"
   ],
   "outputs": [],
   "metadata": {}
  },
  {
   "cell_type": "code",
   "execution_count": 45,
   "source": [
    "data0 = read.csv(\"chunhui/Output/HNSC/S_Dci_clu.csv\", row.names=1)\n",
    "df0 = read.csv('chunhui/Output/HNSC/clinical_rf.csv', row.names=1)\n",
    "\n",
    "data1 = t(data.matrix(data0, rownames.force = NA))\n",
    "test = data1[1:100, 1:100]\n",
    "\n",
    "df1 = df0[c('Subtype',\n",
    "'Stage',\n",
    "'Gender',\n",
    "'Tobacco',\n",
    "'Alcohol',\n",
    "'PI',\n",
    "'Histology',\n",
    "'sga.TP53',\n",
    "'sga.NOTCH1',\n",
    "'sga.NSD1',\n",
    "'HPV')]\n",
    "\n",
    "pat = c('1'='red', '0'='#f0f0f4')\n",
    "ha = HeatmapAnnotation(\n",
    "    df = df1,\n",
    "    col = list(\n",
    "        Subtype = c(\"DEG_type_0\"='#66c2a5', \"DEG_type_1\"='#fc8d62', \"DEG_type_2\"='#8da0cb', \"DEG_type_3\"='#e78ac3'),\n",
    "        Stage = c('Stage I'='#d7dfc0', 'Stage II'='#aecfa2', 'Stage III'='#82bc92', \n",
    "                             'Stage IVA'='#5fa38e', 'Stage IVB'='#4a848b', 'Stage IVC'='#3f5f7f', 'none'='black'),\n",
    "        Gender = c('MALE'='#3778bf', 'FEMALE'='#feb308'),\n",
    "        Tobacco = c('1.0'='#edd1cb', '2.0'='#cf91a3', '3.0'='#9a5b88', '4.0'='#52315f', '5.0'='#574266','none'='black'),\n",
    "        Alcohol = c('NO'='#f0f0f4', 'YES'='brown', 'none'='black'),\n",
    "        PI = c('NO'='#f0f0f4', 'YES'='brown', 'none'='black'),\n",
    "        Histology = c('Basal'='#12711c', \n",
    "                              'Basaloid'='#592f0d',\n",
    "                              'SCV'='#3c3c3c'),\n",
    "        sga.TP53 = pat,\n",
    "        sga.NOTCH1 = pat,\n",
    "        sga.NSD1 = pat,\n",
    "        HPV = c( '1'='red', '0'='#f0f0f4', 'none'='black')),\n",
    "        simple_anno_size = unit(0.2, \"in\"),\n",
    "        annotation_name_side = \"left\",\n",
    "        annotation_name_gp= gpar(fontsize=10, family=\"Times\"),\n",
    "        annotation_legend_param = list(fontsize=10, family=\"Times\", title_gp=gpar(fontsize=10, fontface=\"bold\"))      \n",
    ")"
   ],
   "outputs": [],
   "metadata": {}
  },
  {
   "cell_type": "code",
   "execution_count": 46,
   "source": [
    "png(file=\"filename_2.png\", width = 2400, height = 2500, units = \"px\", res = 300)\n",
    "g = Heatmap(data1, \n",
    "        name = \"DEG value\", \n",
    "        bottom_annotation = ha,\n",
    "        show_row_names=F,\n",
    "        show_column_names=F,\n",
    "        cluster_rows = F,\n",
    "        cluster_columns = F,\n",
    "#        width=unit(20, \"cm\"), height=unit(20, \"cm\"),\n",
    "       heatmap_width=unit(6, \"in\"), heatmap_height=unit(6, \"in\")\n",
    "           )\n",
    "# draw(g ,annotation_legend_side = \"bottom\", padding = unit(c(40, 40, 40, 40), \"cm\"))\n",
    "\n",
    "draw(g ,annotation_legend_side = \"bottom\")\n",
    "dev.off()"
   ],
   "outputs": [
    {
     "output_type": "stream",
     "name": "stderr",
     "text": [
      "Warning message in matrix(1:(nrow * ncol), nrow = nrow, ncol = ncol, byrow = by_row):\n",
      "\"data length exceeds size of matrix\"\n"
     ]
    },
    {
     "output_type": "error",
     "ename": "ERROR",
     "evalue": "Error in labels_mat[, i]: subscript out of bounds\n",
     "traceback": [
      "Error in labels_mat[, i]: subscript out of bounds\nTraceback:\n",
      "1. draw(g, annotation_legend_side = \"bottom\")",
      "2. draw(g, annotation_legend_side = \"bottom\")",
      "3. .local(object, ...)",
      "4. draw(ht_list, ...)",
      "5. draw(ht_list, ...)",
      "6. .local(object, ...)",
      "7. make_layout(object, row_title = row_title, row_title_side = row_title_side, \n .     row_title_gp = row_title_gp, column_title = column_title, \n .     column_title_side = column_title_side, column_title_gp = column_title_gp, \n .     heatmap_legend_side = heatmap_legend_side, merge_legends = merge_legends, \n .     show_heatmap_legend = show_heatmap_legend, heatmap_legend_list = heatmap_legend_list, \n .     annotation_legend_side = annotation_legend_side, show_annotation_legend = show_annotation_legend, \n .     annotation_legend_list = annotation_legend_list, ht_gap = ht_gap, \n .     main_heatmap = main_heatmap, padding = padding, auto_adjust = auto_adjust, \n .     row_dend_side = row_dend_side, row_sub_title_side = row_sub_title_side, \n .     column_dend_side = column_dend_side, column_sub_title_side = column_sub_title_side, \n .     row_gap = row_gap, cluster_rows = cluster_rows, cluster_row_slices = cluster_row_slices, \n .     clustering_distance_rows = clustering_distance_rows, clustering_method_rows = clustering_method_rows, \n .     row_dend_width = row_dend_width, show_row_dend = show_row_dend, \n .     row_dend_reorder = row_dend_reorder, row_dend_gp = row_dend_gp, \n .     row_order = row_order, row_km = row_km, row_km_repeats = row_km_repeats, \n .     row_split = row_split, height = height, heatmap_height = heatmap_height, \n .     column_gap = column_gap, cluster_columns = cluster_columns, \n .     cluster_column_slices = cluster_column_slices, clustering_distance_columns = clustering_distance_columns, \n .     clustering_method_columns = clustering_method_columns, column_dend_width = column_dend_width, \n .     show_column_dend = show_column_dend, column_dend_reorder = column_dend_reorder, \n .     column_dend_gp = column_dend_gp, column_order = column_order, \n .     column_km = column_km, column_km_repeats = column_km_repeats, \n .     column_split = column_split, width = width, heatmap_width = heatmap_width)",
      "8. make_layout(object, row_title = row_title, row_title_side = row_title_side, \n .     row_title_gp = row_title_gp, column_title = column_title, \n .     column_title_side = column_title_side, column_title_gp = column_title_gp, \n .     heatmap_legend_side = heatmap_legend_side, merge_legends = merge_legends, \n .     show_heatmap_legend = show_heatmap_legend, heatmap_legend_list = heatmap_legend_list, \n .     annotation_legend_side = annotation_legend_side, show_annotation_legend = show_annotation_legend, \n .     annotation_legend_list = annotation_legend_list, ht_gap = ht_gap, \n .     main_heatmap = main_heatmap, padding = padding, auto_adjust = auto_adjust, \n .     row_dend_side = row_dend_side, row_sub_title_side = row_sub_title_side, \n .     column_dend_side = column_dend_side, column_sub_title_side = column_sub_title_side, \n .     row_gap = row_gap, cluster_rows = cluster_rows, cluster_row_slices = cluster_row_slices, \n .     clustering_distance_rows = clustering_distance_rows, clustering_method_rows = clustering_method_rows, \n .     row_dend_width = row_dend_width, show_row_dend = show_row_dend, \n .     row_dend_reorder = row_dend_reorder, row_dend_gp = row_dend_gp, \n .     row_order = row_order, row_km = row_km, row_km_repeats = row_km_repeats, \n .     row_split = row_split, height = height, heatmap_height = heatmap_height, \n .     column_gap = column_gap, cluster_columns = cluster_columns, \n .     cluster_column_slices = cluster_column_slices, clustering_distance_columns = clustering_distance_columns, \n .     clustering_method_columns = clustering_method_columns, column_dend_width = column_dend_width, \n .     show_column_dend = show_column_dend, column_dend_reorder = column_dend_reorder, \n .     column_dend_gp = column_dend_gp, column_order = column_order, \n .     column_km = column_km, column_km_repeats = column_km_repeats, \n .     column_split = column_split, width = width, heatmap_width = heatmap_width)",
      "9. .local(object, ...)",
      "10. annotation_legend_size(object, legend_list = annotation_legend_list, \n  .     max_width = calc_legends_max_width(object))",
      "11. annotation_legend_size(object, legend_list = annotation_legend_list, \n  .     max_width = calc_legends_max_width(object))",
      "12. .local(object, ...)",
      "13. draw_legend(ColorMappingList, ColorMappingParamList, side = side, \n  .     plot = FALSE, legend_list = legend_list, padding = padding, \n  .     ...)",
      "14. lapply(seq_along(ColorMappingList2), function(i) color_mapping_legend(ColorMappingList2[[i]], \n  .     param = ColorMappingParamList2[[i]], plot = FALSE, ...))",
      "15. FUN(X[[i]], ...)",
      "16. color_mapping_legend(ColorMappingList2[[i]], param = ColorMappingParamList2[[i]], \n  .     plot = FALSE, ...)",
      "17. color_mapping_legend(ColorMappingList2[[i]], param = ColorMappingParamList2[[i]], \n  .     plot = FALSE, ...)",
      "18. .local(object, ...)",
      "19. Legend(at = at, labels = labels, title = title, title_gp = title_gp, \n  .     grid_height = grid_height, grid_width = grid_width, border = border, \n  .     labels_gp = labels_gp, direction = legend_direction, nrow = nrow, \n  .     ncol = ncol, legend_gp = gpar(fill = map_to_colors(object, \n  .         at)), title_position = title_position, by_row = by_row)",
      "20. discrete_legend_body(at = at, labels = labels, nrow = nrow, ncol = ncol, \n  .     grid_height = grid_height, grid_width = grid_width, gap = gap, \n  .     labels_gp = labels_gp, border = border, background = background, \n  .     type = type, legend_gp = legend_gp, pch = pch, size = size, \n  .     by_row = by_row)",
      "21. do.call(\"unit.c\", lapply(labels_mat[, i], function(x) {\n  .     g = grobWidth(textGrob(x, gp = labels_gp))\n  .     if (i < ncol) {\n  .         g = g + gap\n  .     }\n  .     g\n  . }))",
      "22. lapply(labels_mat[, i], function(x) {\n  .     g = grobWidth(textGrob(x, gp = labels_gp))\n  .     if (i < ncol) {\n  .         g = g + gap\n  .     }\n  .     g\n  . })"
     ]
    }
   ],
   "metadata": {}
  },
  {
   "cell_type": "code",
   "execution_count": null,
   "source": [],
   "outputs": [],
   "metadata": {}
  }
 ],
 "metadata": {
  "kernelspec": {
   "display_name": "Python 3",
   "language": "python",
   "name": "python3"
  },
  "language_info": {
   "codemirror_mode": {
    "name": "ipython",
    "version": 3
   },
   "file_extension": ".py",
   "mimetype": "text/x-python",
   "name": "python",
   "nbconvert_exporter": "python",
   "pygments_lexer": "ipython3",
   "version": "3.8.8"
  }
 },
 "nbformat": 4,
 "nbformat_minor": 4
}