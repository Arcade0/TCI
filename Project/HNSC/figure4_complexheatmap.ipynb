{
 "cells": [
  {
   "cell_type": "code",
   "execution_count": 1,
   "metadata": {
    "collapsed": true,
    "jupyter": {
     "outputs_hidden": true
    }
   },
   "outputs": [
    {
     "name": "stderr",
     "output_type": "stream",
     "text": [
      "Warning message:\n",
      "\"package 'extrafont' was built under R version 3.6.2\"\n",
      "Registering fonts with R\n",
      "\n",
      "Warning message:\n",
      "\"package 'pheatmap' was built under R version 3.6.3\"\n",
      "========================================\n",
      "ComplexHeatmap version 2.2.0\n",
      "Bioconductor page: http://bioconductor.org/packages/ComplexHeatmap/\n",
      "Github page: https://github.com/jokergoo/ComplexHeatmap\n",
      "Documentation: http://jokergoo.github.io/ComplexHeatmap-reference\n",
      "\n",
      "If you use it in published research, please cite:\n",
      "Gu, Z. Complex heatmaps reveal patterns and correlations in multidimensional \n",
      "  genomic data. Bioinformatics 2016.\n",
      "========================================\n",
      "\n",
      "\n",
      "Warning message:\n",
      "\"package 'circlize' was built under R version 3.6.3\"\n",
      "========================================\n",
      "circlize version 0.4.11\n",
      "CRAN page: https://cran.r-project.org/package=circlize\n",
      "Github page: https://github.com/jokergoo/circlize\n",
      "Documentation: https://jokergoo.github.io/circlize_book/book/\n",
      "\n",
      "If you use it in published research, please cite:\n",
      "Gu, Z. circlize implements and enhances circular visualization\n",
      "  in R. Bioinformatics 2014.\n",
      "\n",
      "This message can be suppressed by:\n",
      "  suppressPackageStartupMessages(library(circlize))\n",
      "========================================\n",
      "\n",
      "\n",
      "Warning message:\n",
      "\"package 'reshape2' was built under R version 3.6.3\"\n"
     ]
    }
   ],
   "source": [
    "library(extrafont)\n",
    "library(grid)\n",
    "library(pheatmap)\n",
    "library(ComplexHeatmap)\n",
    "library(circlize)\n",
    "library(reshape2)\n",
    "library(RColorBrewer)"
   ]
  },
  {
   "cell_type": "code",
   "execution_count": 2,
   "metadata": {},
   "outputs": [],
   "source": [
    "data0 = read.csv(\"chunhui/Output/HNSC/S_Dci_clu.csv\", row.names=1)\n",
    "df0 = read.csv('chunhui/Output/HNSC/clinical_rf.csv', row.names=1)"
   ]
  },
  {
   "cell_type": "code",
   "execution_count": 3,
   "metadata": {},
   "outputs": [],
   "source": [
    "data1 = t(data.matrix(data0, rownames.force = NA))\n",
    "test = data1\n",
    "\n",
    "df1 = df0[c('DEG_subtype_',\n",
    "'pathologic_stage',\n",
    "'gender',\n",
    "'tobacco_smoking_history',\n",
    "'alcohol_history_documented',\n",
    "'perineural_invasion_present',\n",
    "'histological_type',\n",
    "'sga.TP53',\n",
    "'sga.NOTCH1',\n",
    "'sga.NSD1',\n",
    "'HPV')]"
   ]
  },
  {
   "cell_type": "code",
   "execution_count": 4,
   "metadata": {},
   "outputs": [],
   "source": [
    "ha = HeatmapAnnotation(\n",
    "    df = df1,\n",
    "    col = list(\n",
    "        DEG_type_ = c(\"DEG_type_0\"='#66c2a5', \"DEG_type_1\"='#fc8d62', \"DEG_type_2\"='#8da0cb', \"DEG_type_3\"='#e78ac3'),\n",
    "        pathologic_stage = c('1'='#d7dfc0', '2'='#aecfa2', '3'='#82bc92', \n",
    "                             '4'='#5fa38e', '5'='#4a848b', '6'='#3f5f7f', 'none'='black'),\n",
    "        gender = c('MALE'='#3778bf', 'FEMALE'='#feb308'),\n",
    "        tobacco_smoking_history = c('1.0'='#edd1cb', '2.0'='#cf91a3', '3.0'='#9a5b88', '4.0'='#52315f', 'none'='black'),\n",
    "        alcohol_history_documented = c('NO'='white', 'YES'='brown', 'none'='black'),\n",
    "        perineural_invasion_present = c('NO'='white', 'YES'='brown', 'none'='black'),\n",
    "        histological_type = c('Head & Neck Squamous Cell Carcinoma'='#12711c', \n",
    "                              'Head & Neck Squamous Cell Carcinoma Basaloid Type'='#592f0d',\n",
    "                              'Head & Neck Squamous Cell Carcinoma, Spindle Cell Variant'='#3c3c3c'),\n",
    "        sga.TP53 = c('1'='red', '0'='white'),\n",
    "        sga.NOTCH1 = c('1'='red', '0'='white'),\n",
    "        sga.NSD1 = c('1'='red', '0'='white'),\n",
    "        HPV = c( '1'='red', '0'='white', 'none'='black')),\n",
    "    annotation_name_side = \"left\"\n",
    "    \n",
    ")"
   ]
  },
  {
   "cell_type": "code",
   "execution_count": 5,
   "metadata": {},
   "outputs": [
    {
     "name": "stderr",
     "output_type": "stream",
     "text": [
      "IOPub data rate exceeded.\n",
      "The notebook server will temporarily stop sending output\n",
      "to the client in order to avoid crashing it.\n",
      "To change this limit, set the config variable\n",
      "`--NotebookApp.iopub_data_rate_limit`.\n",
      "\n",
      "Current values:\n",
      "NotebookApp.iopub_data_rate_limit=1000000.0 (bytes/sec)\n",
      "NotebookApp.rate_limit_window=3.0 (secs)\n",
      "\n"
     ]
    },
    {
     "data": {
      "text/html": [
       "<strong>png:</strong> 2"
      ],
      "text/latex": [
       "\\textbf{png:} 2"
      ],
      "text/markdown": [
       "**png:** 2"
      ],
      "text/plain": [
       "png \n",
       "  2 "
      ]
     },
     "metadata": {},
     "output_type": "display_data"
    }
   ],
   "source": [
    "jpeg(file=\"filename.jpg\", width = 2000, height = 1500, units = \"px\")\n",
    "Heatmap(data1, \n",
    "        name = \"DEG value\", \n",
    "        bottom_annotation = ha,\n",
    "       show_row_names=F,\n",
    "       show_column_names=F,\n",
    "       width=unit(30, \"cm\"), height=unit(30, \"cm\"),\n",
    "#        heatmap_width=unit(5, \"cm\"), heatmap_height=unit(10, \"cm\"), \n",
    ")\n",
    "\n",
    "dev.off()"
   ]
  }
 ],
 "metadata": {
  "kernelspec": {
   "display_name": "R",
   "language": "R",
   "name": "ir"
  },
  "language_info": {
   "codemirror_mode": "r",
   "file_extension": ".r",
   "mimetype": "text/x-r-source",
   "name": "R",
   "pygments_lexer": "r",
   "version": "3.6.1"
  }
 },
 "nbformat": 4,
 "nbformat_minor": 4
}
