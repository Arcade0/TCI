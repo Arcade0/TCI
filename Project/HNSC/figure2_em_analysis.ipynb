{
 "cells": [
  {
   "cell_type": "markdown",
   "metadata": {
    "Collapsed": "false"
   },
   "source": [
    "## Import"
   ]
  },
  {
   "cell_type": "code",
   "execution_count": 2,
   "metadata": {
    "Collapsed": "false",
    "ExecuteTime": {
     "end_time": "2020-02-05T16:20:06.153812Z",
     "start_time": "2020-02-05T16:20:06.150245Z"
    }
   },
   "outputs": [],
   "source": [
    "import pandas as pd\n",
    "import numpy as np\n",
    "from copy import deepcopy\n",
    "import seaborn as sns\n",
    "import sklearn\n",
    "# from node import node\n",
    "from scipy import stats\n",
    "import json\n",
    "import matplotlib \n",
    "from matplotlib import pyplot as plt\n",
    "import seaborn as sns"
   ]
  },
  {
   "cell_type": "markdown",
   "metadata": {
    "Collapsed": "false"
   },
   "source": [
    "## Reading"
   ]
  },
  {
   "cell_type": "code",
   "execution_count": 4,
   "metadata": {
    "Collapsed": "false",
    "ExecuteTime": {
     "end_time": "2020-02-05T16:29:54.364179Z",
     "start_time": "2020-02-05T16:28:03.519841Z"
    }
   },
   "outputs": [],
   "source": [
    "S_A = pd.read_csv(\"../TCI/../TCI/EM/Input/S_A.csv\", index_col=0, header=0)\n",
    "S_D = pd.read_csv(\"../TCI/../TCI/EM/Input/S_D.csv\", index_col=0, header=0)"
   ]
  },
  {
   "cell_type": "code",
   "execution_count": 5,
   "metadata": {
    "Collapsed": "false"
   },
   "outputs": [],
   "source": [
    "A_Dt = pd.read_csv(\"../TCI/../TCI/EM/Input/A_Do.csv\", index_col=0, header=0)"
   ]
  },
  {
   "cell_type": "code",
   "execution_count": 4,
   "metadata": {
    "Collapsed": "false",
    "ExecuteTime": {
     "end_time": "2020-02-06T06:04:42.625109Z",
     "start_time": "2020-02-06T06:04:35.660252Z"
    }
   },
   "outputs": [],
   "source": [
    "A_Dt = pd.read_csv(\"../TCI/EM/Input/A_Df/A_Df5.csv\", index_col=0, header=0)\n",
    "S_At =  pd.read_csv(\"../TCI/EM/Output/A_Df/S_Af5_0.csv\", index_col=0, header=0)\n",
    "with open(\"../TCI/EM/Output/A_Df/S_Af5_0_lh.txt\", \"r\") as outfile:\n",
    "    lht = json.load(outfile)\n",
    "S_At_10 =  pd.read_csv(\"../TCI/EM/Output/A_Df/S_Af5_0_10.csv\", index_col=0, header=0)\n",
    "\n",
    "A_Dt_rd_l = []\n",
    "S_At_rd_l = []\n",
    "S_At_rd_10_l = []\n",
    "lht_rd_l = []\n",
    "for i in range(1):\n",
    "    A_Dt_rd = pd.read_csv(\"../TCI/EM/Input/A_Df_rd/A_Df5_rd_%i\"%i+\".csv\", index_col=0, header=0)\n",
    "    A_Dt_rd_l.append(A_Dt_rd)\n",
    "    S_At_rd = pd.read_csv(\"../TCI/EM/Output/A_Df_rd/S_Af5_rd_%i\"%i+\".csv\", index_col=0, header=0)\n",
    "    S_At_rd_l.append(S_At_rd)\n",
    "    S_At_rd_10 = pd.read_csv(\"../TCI/EM/Output/A_Df_rd/S_Af5_rd_10_%i\"%i+\".csv\", index_col=0, header=0)\n",
    "    S_At_rd_10_l.append(S_At_rd_10)\n",
    "    with open(\"../TCI/EM/Output/A_Df_rd/S_Af5_rd_lh_%i\"%i+\".txt\", \"r\") as outfile:\n",
    "        S_At_rd_lh = json.load(outfile)\n",
    "        lht_rd_l.append(S_At_rd_lh)"
   ]
  },
  {
   "cell_type": "code",
   "execution_count": 4,
   "metadata": {
    "Collapsed": "false"
   },
   "outputs": [],
   "source": [
    "A_Dt = pd.read_csv(\"../TCI/EM/Input/A_Do.csv\", index_col=0, header=0)\n",
    "S_At =  pd.read_csv(\"../TCI/EM/Output/A_Do/S_Ao.csv\", index_col=0, header=0)\n",
    "S_At_10 =  pd.read_csv(\"../TCI/EM/Output/A_Do/S_Ao_10.csv\", index_col=0, header=0)\n",
    "\n",
    "A_Dt_rd_l = []\n",
    "S_At_rd_l = []\n",
    "S_At_rd_10_l = []\n",
    "lht_rd_l = []\n",
    "for i in range(3):\n",
    "    A_Dt_rd = pd.read_csv(\"../TCI/EM/Input/A_Do_rd/A_Do_rd_%i\"%i+\".csv\", index_col=0, header=0)\n",
    "    A_Dt_rd_l.append(A_Dt_rd)\n",
    "    S_At_rd = pd.read_csv(\"../TCI/EM/Output/A_Do_rd/S_Ao_rd_%i\"%i+\".csv\", index_col=0, header=0)\n",
    "    S_At_rd_l.append(S_At_rd)\n",
    "    S_At_rd_10 = pd.read_csv(\"../TCI/EM/Output/A_Do_rd/S_Ao_rd_10_%i\"%i+\".csv\", index_col=0, header=0)\n",
    "    S_At_rd_10_l.append(S_At_rd_10)\n",
    "    with open(\"../TCI/EM/Output/A_Do_rd/S_Ao_rd_lh_%i\"%i+\".txt\", \"r\") as outfile:\n",
    "        S_At_rd_lh = json.load(outfile)\n",
    "        lht_rd_l.append(S_At_rd_lh)"
   ]
  },
  {
   "cell_type": "markdown",
   "metadata": {
    "Collapsed": "false"
   },
   "source": [
    "## Heatmap"
   ]
  },
  {
   "cell_type": "code",
   "execution_count": null,
   "metadata": {
    "Collapsed": "false",
    "ExecuteTime": {
     "end_time": "2020-02-06T04:45:14.677850Z",
     "start_time": "2020-02-06T04:45:14.675065Z"
    }
   },
   "outputs": [],
   "source": [
    "import matplotlib.pyplot as plt\n",
    "import pandas\n",
    "import seaborn.apionly as sns\n",
    "from matplotlib.colors import LinearSegmentedColormap"
   ]
  },
  {
   "cell_type": "code",
   "execution_count": null,
   "metadata": {
    "Collapsed": "false",
    "ExecuteTime": {
     "end_time": "2020-02-06T05:30:48.630973Z",
     "start_time": "2020-02-06T05:30:14.126342Z"
    }
   },
   "outputs": [],
   "source": [
    "S_Atd =  S_At> 0.5\n",
    "f = sns.clustermap(S_Atd)\n",
    "\n",
    "S_Atm[S_Atm>1] = 2\n",
    "S_Atm = S_Atm.iloc[f.dendrogram_row.reordered_ind, f.dendrogram_col.reordered_ind]"
   ]
  },
  {
   "cell_type": "code",
   "execution_count": null,
   "metadata": {
    "Collapsed": "false",
    "ExecuteTime": {
     "end_time": "2020-02-06T05:31:21.212449Z",
     "start_time": "2020-02-06T05:31:10.273644Z"
    }
   },
   "outputs": [],
   "source": [
    "sns.set(font_scale=0.8)\n",
    "# For only three colors, it's easier to choose them yourself.\n",
    "# If you still really want to generate a colormap with cubehelix_palette instead,\n",
    "# add a cbar_kws={\"boundaries\": linspace(-1, 1, 4)} to the heatmap invocation\n",
    "# to have it generate a discrete colorbar instead of a continous one.\n",
    "myColors = ('whitesmoke', 'red', 'royalblue')\n",
    "cmap = LinearSegmentedColormap.from_list('Custom', myColors, len(myColors))\n",
    "\n",
    "# Plot\n",
    "ax = sns.heatmap(S_Atm, cmap=cmap, cbar_kws={\"shrink\": .2})\n",
    "\n",
    "# X - Y axis labels and ticks\n",
    "ax.set_title('EM result Cluster')\n",
    "ax.set_ylabel('Sample ID')\n",
    "ax.set_xlabel('SGAs')\n",
    "ax.set_yticks([])\n",
    "ax.set_xticks([])\n",
    "\n",
    "# Manually specify colorbar labelling after it's been generated\n",
    "colorbar = ax.collections[0].colorbar\n",
    "colorbar.set_ticks([0.33, 1, 1.66])\n",
    "colorbar.set_ticklabels(['Normal', 'Protein State Change', 'Mutation'])"
   ]
  },
  {
   "cell_type": "markdown",
   "metadata": {
    "Collapsed": "false"
   },
   "source": [
    "## fold change"
   ]
  },
  {
   "cell_type": "code",
   "execution_count": 5,
   "metadata": {
    "Collapsed": "false",
    "ExecuteTime": {
     "end_time": "2020-02-06T06:05:06.059271Z",
     "start_time": "2020-02-06T06:05:05.261808Z"
    }
   },
   "outputs": [
    {
     "data": {
      "text/plain": [
       "Text(0.5, 0, 'SGA-DEG relationship')"
      ]
     },
     "execution_count": 5,
     "metadata": {},
     "output_type": "execute_result"
    },
    {
     "data": {
      "image/png": "[encoded data removed]",
      "text/plain": [
       "<Figure size 432x288 with 1 Axes>"
      ]
     },
     "metadata": {
      "needs_background": "light"
     },
     "output_type": "display_data"
    }
   ],
   "source": [
    "fc_t = [np.sum(ele)/np.sum(S_A[A_Dt.index]) for ele in S_At_rd_l]\n",
    "fc_df = pd.DataFrame(fc_t, index=['RD'+'_%i'%i for i in range(len(S_At_rd_l))]).T\n",
    "fc_df.loc[:,'TCI'] = np.sum(S_At)/np.sum(S_A[A_Dt.index])\n",
    "ax = sns.boxplot(data=fc_df)\n",
    "ax.set_title('Fold Change between Prediction and mutation')\n",
    "ax.set_ylabel('Fold Change(Prediction/Mutation))')\n",
    "ax.set_xlabel('SGA-DEG relationship')"
   ]
  },
  {
   "cell_type": "markdown",
   "metadata": {
    "Collapsed": "false"
   },
   "source": [
    "## likelihood"
   ]
  },
  {
   "cell_type": "code",
   "execution_count": 23,
   "metadata": {
    "Collapsed": "false",
    "ExecuteTime": {
     "end_time": "2020-02-06T05:59:23.204431Z",
     "start_time": "2020-02-06T05:59:22.851059Z"
    }
   },
   "outputs": [
    {
     "data": {
      "text/plain": [
       "Text(0.5, 0, 'SGA-DEG relationship')"
      ]
     },
     "execution_count": 23,
     "metadata": {},
     "output_type": "execute_result"
    },
    {
     "data": {
      "image/png": "[encoded data removed]",
      "text/plain": [
       "<Figure size 432x288 with 1 Axes>"
      ]
     },
     "metadata": {
      "needs_background": "light"
     },
     "output_type": "display_data"
    }
   ],
   "source": [
    "lh_t = [[ele[-1]/5 for ele in ele_l] for ele_l in lht_rd_l] \n",
    "lh_df = pd.DataFrame(lh_t, index=['RD'+'_%i'%i for i in range(len(S_At_rd_l))], columns=A_Dt.index).T\n",
    "lh_df.loc[:,'TCI1'] = [ele[-1]/5 for ele in lht]\n",
    "ax = sns.boxplot(data=lh_df)\n",
    "ax.set_title('Log-Likelihood diffrence between diffrent SGA-DEG relationship')\n",
    "ax.set_ylabel('Log-Likelihood of SGA')\n",
    "ax.set_xlabel('SGA-DEG relationship')"
   ]
  },
  {
   "cell_type": "markdown",
   "metadata": {
    "Collapsed": "false"
   },
   "source": [
    "## 10 fold em recall"
   ]
  },
  {
   "cell_type": "code",
   "execution_count": 6,
   "metadata": {
    "Collapsed": "false",
    "ExecuteTime": {
     "end_time": "2020-02-06T05:12:42.999403Z",
     "start_time": "2020-02-06T05:12:30.714227Z"
    }
   },
   "outputs": [],
   "source": [
    "from sklearn.metrics import recall_score\n",
    "from sklearn.metrics import precision_score\n",
    "from sklearn.metrics import f1_score"
   ]
  },
  {
   "cell_type": "code",
   "execution_count": 7,
   "metadata": {
    "Collapsed": "false"
   },
   "outputs": [],
   "source": [
    "# HNSC\n",
    "S_A = pd.read_csv(\"chunhui/Input/HNSC/SGAmatrix.HNSC.csv\", header=0, index_col=0)\n",
    "S_A.index = [ele[0:12] for ele in S_A.index]\n",
    "\n",
    "S_D = pd.read_csv(\"chunhui/Input/HNSC/DEGmatrix.HNSC.csv\", header=0, index_col=0)\n",
    "S_D.index = [ele[0:12] for ele in S_D.index]\n",
    "\n",
    "A_D = pd.read_csv(\"chunhui/Input/HNSC/DriverDEGmatrix.HNSC.csv\", header=0, index_col=0)\n",
    "A_D[A_D>0] = 1\n",
    "A_D.to_csv(\"chunhui/Input/HNSC/A_D.csv\", index=True, header=True)"
   ]
  },
  {
   "cell_type": "code",
   "execution_count": 8,
   "metadata": {
    "Collapsed": "false"
   },
   "outputs": [],
   "source": [
    "S_Ai = pd.read_csv(\"chunhui/Input/HNSC/SGA/SGA_0.csv\", header=0, index_col=0)"
   ]
  },
  {
   "cell_type": "code",
   "execution_count": 9,
   "metadata": {
    "Collapsed": "false"
   },
   "outputs": [],
   "source": [
    "S_P = pd.read_csv(\"chunhui/Output/HNSC/S_P10.csv\", header=0, index_col=0)\n",
    "\n",
    "S_Pa_l = []\n",
    "S_Pd_l = []\n",
    "S_Pad_l = []\n",
    "for i in range(3):\n",
    "    S_Pa = pd.read_csv(\"chunhui/Input/HNSC/SGA/S_P10_%i.csv\" % i, header=0, index_col=0)\n",
    "    S_Pa_l.append(S_Pa)\n",
    "    S_Pa_m = [np.mean(S_Pa_l)]\n",
    "    S_Pd = pd.read_csv(\"chunhui/Input/HNSC/DEG/S_P10_%i.csv\" % i, header=0, index_col=0)\n",
    "    S_Pd_l.append(S_Pd)\n",
    "    S_Pd_m = np.mean(S_Pd_l,1 )\n",
    "    S_Pad = pd.read_csv(\"chunhui/Input/HNSC/AD/S_P10_%i.csv\" % i, header=0, index_col=0)\n",
    "    S_Pad_l.append(S_Pad)\n",
    "    S_Pad_m = [np.mean(S_Pad_l)]\n"
   ]
  },
  {
   "cell_type": "code",
   "execution_count": 53,
   "metadata": {
    "Collapsed": "false",
    "ExecuteTime": {
     "end_time": "2020-02-06T05:59:55.206857Z",
     "start_time": "2020-02-06T05:59:43.937463Z"
    }
   },
   "outputs": [
    {
     "data": {
      "text/plain": [
       "Text(0, 0.5, 'Mutation Recall')"
      ]
     },
     "execution_count": 53,
     "metadata": {},
     "output_type": "execute_result"
    },
    {
     "data": {
      "image/png": "[encoded data removed]",
      "text/plain": [
       "<Figure size 360x288 with 1 Axes>"
      ]
     },
     "metadata": {
      "needs_background": "light"
     },
     "output_type": "display_data"
    }
   ],
   "source": [
    "l_l = S_Pad_l\n",
    "ridx = [\"random SGA-DEG\"+'%i'%i for i in range(len(l_l))]\n",
    "\n",
    "recall_l = [[sklearn.metrics.recall_score(S_A[i], (ele[i]>0.5)) for i in S_A.columns] for ele in l_l]\n",
    "recall_df = pd.DataFrame(recall_l, index= ridx ).T\n",
    "recall_df.loc[:,'TCI'] = [sklearn.metrics.recall_score(S_A[i], (S_P[i]>0.5)) for i in S_A.columns] \n",
    "\n",
    "plt.figure(figsize=(5,4))\n",
    "plt.xticks(rotation=45)\n",
    "ax = sns.boxplot(data=recall_df,width=0.4,)\n",
    "# ax.set_title('Mutation Recall after 10-fold EM')\n",
    "ax.set_ylabel('Mutation Recall')\n",
    "# ax.set_xlabel('SGA-DEG relationship')"
   ]
  },
  {
   "cell_type": "code",
   "execution_count": 55,
   "metadata": {
    "Collapsed": "false"
   },
   "outputs": [
    {
     "data": {
      "image/png": "[encoded data removed]",
      "text/plain": [
       "<Figure size 360x288 with 1 Axes>"
      ]
     },
     "metadata": {
      "needs_background": "light"
     },
     "output_type": "display_data"
    }
   ],
   "source": [
    "plt.figure(figsize=(5,4))\n",
    "plt.xticks(rotation=45)\n",
    "a = deepcopy(recall_df)\n",
    "a[\"melt\"] = 1\n",
    "b = pd.melt(a,id_vars=[\"melt\"])\n",
    "g = sns.violinplot(x=\"variable\", y=\"value\", data=b, cut=0)\n",
    "# g.set_ylim([0,1])\n",
    "g.set_xlabel(None)\n",
    "g.set_ylabel(\"Mutation Recall\")\n",
    "plt.savefig(\"HNSC_plot/SGADEG_Muation_Recall.png\", dpi=600)"
   ]
  },
  {
   "cell_type": "code",
   "execution_count": 11,
   "metadata": {
    "Collapsed": "false"
   },
   "outputs": [
    {
     "data": {
      "text/plain": [
       "F_onewayResult(statistic=7.720769967551824, pvalue=0.006294737746823769)"
      ]
     },
     "execution_count": 11,
     "metadata": {},
     "output_type": "execute_result"
    }
   ],
   "source": [
    "stats.f_oneway(recall_df.iloc[:,1], recall_df.iloc[:,3])"
   ]
  },
  {
   "cell_type": "code",
   "execution_count": 42,
   "metadata": {
    "Collapsed": "false",
    "ExecuteTime": {
     "end_time": "2020-02-06T06:00:23.215519Z",
     "start_time": "2020-02-06T06:00:15.408365Z"
    },
    "collapsed": true,
    "jupyter": {
     "outputs_hidden": true
    }
   },
   "outputs": [
    {
     "name": "stderr",
     "output_type": "stream",
     "text": [
      "/Users/xinzhuo/anaconda3/lib/python3.7/site-packages/sklearn/metrics/_classification.py:1272: UndefinedMetricWarning: Precision is ill-defined and being set to 0.0 due to no predicted samples. Use `zero_division` parameter to control this behavior.\n",
      "  _warn_prf(average, modifier, msg_start, len(result))\n",
      "/Users/xinzhuo/anaconda3/lib/python3.7/site-packages/sklearn/metrics/_classification.py:1272: UndefinedMetricWarning: Precision is ill-defined and being set to 0.0 due to no predicted samples. Use `zero_division` parameter to control this behavior.\n",
      "  _warn_prf(average, modifier, msg_start, len(result))\n",
      "/Users/xinzhuo/anaconda3/lib/python3.7/site-packages/sklearn/metrics/_classification.py:1272: UndefinedMetricWarning: Precision is ill-defined and being set to 0.0 due to no predicted samples. Use `zero_division` parameter to control this behavior.\n",
      "  _warn_prf(average, modifier, msg_start, len(result))\n",
      "/Users/xinzhuo/anaconda3/lib/python3.7/site-packages/sklearn/metrics/_classification.py:1272: UndefinedMetricWarning: Precision is ill-defined and being set to 0.0 due to no predicted samples. Use `zero_division` parameter to control this behavior.\n",
      "  _warn_prf(average, modifier, msg_start, len(result))\n",
      "/Users/xinzhuo/anaconda3/lib/python3.7/site-packages/sklearn/metrics/_classification.py:1272: UndefinedMetricWarning: Precision is ill-defined and being set to 0.0 due to no predicted samples. Use `zero_division` parameter to control this behavior.\n",
      "  _warn_prf(average, modifier, msg_start, len(result))\n",
      "/Users/xinzhuo/anaconda3/lib/python3.7/site-packages/sklearn/metrics/_classification.py:1272: UndefinedMetricWarning: Precision is ill-defined and being set to 0.0 due to no predicted samples. Use `zero_division` parameter to control this behavior.\n",
      "  _warn_prf(average, modifier, msg_start, len(result))\n",
      "/Users/xinzhuo/anaconda3/lib/python3.7/site-packages/sklearn/metrics/_classification.py:1272: UndefinedMetricWarning: Precision is ill-defined and being set to 0.0 due to no predicted samples. Use `zero_division` parameter to control this behavior.\n",
      "  _warn_prf(average, modifier, msg_start, len(result))\n",
      "/Users/xinzhuo/anaconda3/lib/python3.7/site-packages/sklearn/metrics/_classification.py:1272: UndefinedMetricWarning: Precision is ill-defined and being set to 0.0 due to no predicted samples. Use `zero_division` parameter to control this behavior.\n",
      "  _warn_prf(average, modifier, msg_start, len(result))\n",
      "/Users/xinzhuo/anaconda3/lib/python3.7/site-packages/sklearn/metrics/_classification.py:1272: UndefinedMetricWarning: Precision is ill-defined and being set to 0.0 due to no predicted samples. Use `zero_division` parameter to control this behavior.\n",
      "  _warn_prf(average, modifier, msg_start, len(result))\n",
      "/Users/xinzhuo/anaconda3/lib/python3.7/site-packages/sklearn/metrics/_classification.py:1272: UndefinedMetricWarning: Precision is ill-defined and being set to 0.0 due to no predicted samples. Use `zero_division` parameter to control this behavior.\n",
      "  _warn_prf(average, modifier, msg_start, len(result))\n",
      "/Users/xinzhuo/anaconda3/lib/python3.7/site-packages/sklearn/metrics/_classification.py:1272: UndefinedMetricWarning: Precision is ill-defined and being set to 0.0 due to no predicted samples. Use `zero_division` parameter to control this behavior.\n",
      "  _warn_prf(average, modifier, msg_start, len(result))\n",
      "/Users/xinzhuo/anaconda3/lib/python3.7/site-packages/sklearn/metrics/_classification.py:1272: UndefinedMetricWarning: Precision is ill-defined and being set to 0.0 due to no predicted samples. Use `zero_division` parameter to control this behavior.\n",
      "  _warn_prf(average, modifier, msg_start, len(result))\n",
      "/Users/xinzhuo/anaconda3/lib/python3.7/site-packages/sklearn/metrics/_classification.py:1272: UndefinedMetricWarning: Precision is ill-defined and being set to 0.0 due to no predicted samples. Use `zero_division` parameter to control this behavior.\n",
      "  _warn_prf(average, modifier, msg_start, len(result))\n",
      "/Users/xinzhuo/anaconda3/lib/python3.7/site-packages/sklearn/metrics/_classification.py:1272: UndefinedMetricWarning: Precision is ill-defined and being set to 0.0 due to no predicted samples. Use `zero_division` parameter to control this behavior.\n",
      "  _warn_prf(average, modifier, msg_start, len(result))\n",
      "/Users/xinzhuo/anaconda3/lib/python3.7/site-packages/sklearn/metrics/_classification.py:1272: UndefinedMetricWarning: Precision is ill-defined and being set to 0.0 due to no predicted samples. Use `zero_division` parameter to control this behavior.\n",
      "  _warn_prf(average, modifier, msg_start, len(result))\n",
      "/Users/xinzhuo/anaconda3/lib/python3.7/site-packages/sklearn/metrics/_classification.py:1272: UndefinedMetricWarning: Precision is ill-defined and being set to 0.0 due to no predicted samples. Use `zero_division` parameter to control this behavior.\n",
      "  _warn_prf(average, modifier, msg_start, len(result))\n",
      "/Users/xinzhuo/anaconda3/lib/python3.7/site-packages/sklearn/metrics/_classification.py:1272: UndefinedMetricWarning: Precision is ill-defined and being set to 0.0 due to no predicted samples. Use `zero_division` parameter to control this behavior.\n",
      "  _warn_prf(average, modifier, msg_start, len(result))\n",
      "/Users/xinzhuo/anaconda3/lib/python3.7/site-packages/sklearn/metrics/_classification.py:1272: UndefinedMetricWarning: Precision is ill-defined and being set to 0.0 due to no predicted samples. Use `zero_division` parameter to control this behavior.\n",
      "  _warn_prf(average, modifier, msg_start, len(result))\n",
      "/Users/xinzhuo/anaconda3/lib/python3.7/site-packages/sklearn/metrics/_classification.py:1272: UndefinedMetricWarning: Precision is ill-defined and being set to 0.0 due to no predicted samples. Use `zero_division` parameter to control this behavior.\n",
      "  _warn_prf(average, modifier, msg_start, len(result))\n",
      "/Users/xinzhuo/anaconda3/lib/python3.7/site-packages/sklearn/metrics/_classification.py:1272: UndefinedMetricWarning: Precision is ill-defined and being set to 0.0 due to no predicted samples. Use `zero_division` parameter to control this behavior.\n",
      "  _warn_prf(average, modifier, msg_start, len(result))\n",
      "/Users/xinzhuo/anaconda3/lib/python3.7/site-packages/sklearn/metrics/_classification.py:1272: UndefinedMetricWarning: Precision is ill-defined and being set to 0.0 due to no predicted samples. Use `zero_division` parameter to control this behavior.\n",
      "  _warn_prf(average, modifier, msg_start, len(result))\n",
      "/Users/xinzhuo/anaconda3/lib/python3.7/site-packages/sklearn/metrics/_classification.py:1272: UndefinedMetricWarning: Precision is ill-defined and being set to 0.0 due to no predicted samples. Use `zero_division` parameter to control this behavior.\n",
      "  _warn_prf(average, modifier, msg_start, len(result))\n",
      "/Users/xinzhuo/anaconda3/lib/python3.7/site-packages/sklearn/metrics/_classification.py:1272: UndefinedMetricWarning: Precision is ill-defined and being set to 0.0 due to no predicted samples. Use `zero_division` parameter to control this behavior.\n",
      "  _warn_prf(average, modifier, msg_start, len(result))\n",
      "/Users/xinzhuo/anaconda3/lib/python3.7/site-packages/sklearn/metrics/_classification.py:1272: UndefinedMetricWarning: Precision is ill-defined and being set to 0.0 due to no predicted samples. Use `zero_division` parameter to control this behavior.\n",
      "  _warn_prf(average, modifier, msg_start, len(result))\n",
      "/Users/xinzhuo/anaconda3/lib/python3.7/site-packages/sklearn/metrics/_classification.py:1272: UndefinedMetricWarning: Precision is ill-defined and being set to 0.0 due to no predicted samples. Use `zero_division` parameter to control this behavior.\n",
      "  _warn_prf(average, modifier, msg_start, len(result))\n",
      "/Users/xinzhuo/anaconda3/lib/python3.7/site-packages/sklearn/metrics/_classification.py:1272: UndefinedMetricWarning: Precision is ill-defined and being set to 0.0 due to no predicted samples. Use `zero_division` parameter to control this behavior.\n",
      "  _warn_prf(average, modifier, msg_start, len(result))\n",
      "/Users/xinzhuo/anaconda3/lib/python3.7/site-packages/sklearn/metrics/_classification.py:1272: UndefinedMetricWarning: Precision is ill-defined and being set to 0.0 due to no predicted samples. Use `zero_division` parameter to control this behavior.\n",
      "  _warn_prf(average, modifier, msg_start, len(result))\n",
      "/Users/xinzhuo/anaconda3/lib/python3.7/site-packages/sklearn/metrics/_classification.py:1272: UndefinedMetricWarning: Precision is ill-defined and being set to 0.0 due to no predicted samples. Use `zero_division` parameter to control this behavior.\n",
      "  _warn_prf(average, modifier, msg_start, len(result))\n",
      "/Users/xinzhuo/anaconda3/lib/python3.7/site-packages/sklearn/metrics/_classification.py:1272: UndefinedMetricWarning: Precision is ill-defined and being set to 0.0 due to no predicted samples. Use `zero_division` parameter to control this behavior.\n",
      "  _warn_prf(average, modifier, msg_start, len(result))\n",
      "/Users/xinzhuo/anaconda3/lib/python3.7/site-packages/sklearn/metrics/_classification.py:1272: UndefinedMetricWarning: Precision is ill-defined and being set to 0.0 due to no predicted samples. Use `zero_division` parameter to control this behavior.\n",
      "  _warn_prf(average, modifier, msg_start, len(result))\n",
      "/Users/xinzhuo/anaconda3/lib/python3.7/site-packages/sklearn/metrics/_classification.py:1272: UndefinedMetricWarning: Precision is ill-defined and being set to 0.0 due to no predicted samples. Use `zero_division` parameter to control this behavior.\n",
      "  _warn_prf(average, modifier, msg_start, len(result))\n",
      "/Users/xinzhuo/anaconda3/lib/python3.7/site-packages/sklearn/metrics/_classification.py:1272: UndefinedMetricWarning: Precision is ill-defined and being set to 0.0 due to no predicted samples. Use `zero_division` parameter to control this behavior.\n",
      "  _warn_prf(average, modifier, msg_start, len(result))\n",
      "/Users/xinzhuo/anaconda3/lib/python3.7/site-packages/sklearn/metrics/_classification.py:1272: UndefinedMetricWarning: Precision is ill-defined and being set to 0.0 due to no predicted samples. Use `zero_division` parameter to control this behavior.\n",
      "  _warn_prf(average, modifier, msg_start, len(result))\n",
      "/Users/xinzhuo/anaconda3/lib/python3.7/site-packages/sklearn/metrics/_classification.py:1272: UndefinedMetricWarning: Precision is ill-defined and being set to 0.0 due to no predicted samples. Use `zero_division` parameter to control this behavior.\n",
      "  _warn_prf(average, modifier, msg_start, len(result))\n",
      "/Users/xinzhuo/anaconda3/lib/python3.7/site-packages/sklearn/metrics/_classification.py:1272: UndefinedMetricWarning: Precision is ill-defined and being set to 0.0 due to no predicted samples. Use `zero_division` parameter to control this behavior.\n",
      "  _warn_prf(average, modifier, msg_start, len(result))\n",
      "/Users/xinzhuo/anaconda3/lib/python3.7/site-packages/sklearn/metrics/_classification.py:1272: UndefinedMetricWarning: Precision is ill-defined and being set to 0.0 due to no predicted samples. Use `zero_division` parameter to control this behavior.\n",
      "  _warn_prf(average, modifier, msg_start, len(result))\n",
      "/Users/xinzhuo/anaconda3/lib/python3.7/site-packages/sklearn/metrics/_classification.py:1272: UndefinedMetricWarning: Precision is ill-defined and being set to 0.0 due to no predicted samples. Use `zero_division` parameter to control this behavior.\n",
      "  _warn_prf(average, modifier, msg_start, len(result))\n",
      "/Users/xinzhuo/anaconda3/lib/python3.7/site-packages/sklearn/metrics/_classification.py:1272: UndefinedMetricWarning: Precision is ill-defined and being set to 0.0 due to no predicted samples. Use `zero_division` parameter to control this behavior.\n",
      "  _warn_prf(average, modifier, msg_start, len(result))\n",
      "/Users/xinzhuo/anaconda3/lib/python3.7/site-packages/sklearn/metrics/_classification.py:1272: UndefinedMetricWarning: Precision is ill-defined and being set to 0.0 due to no predicted samples. Use `zero_division` parameter to control this behavior.\n",
      "  _warn_prf(average, modifier, msg_start, len(result))\n",
      "/Users/xinzhuo/anaconda3/lib/python3.7/site-packages/sklearn/metrics/_classification.py:1272: UndefinedMetricWarning: Precision is ill-defined and being set to 0.0 due to no predicted samples. Use `zero_division` parameter to control this behavior.\n",
      "  _warn_prf(average, modifier, msg_start, len(result))\n",
      "/Users/xinzhuo/anaconda3/lib/python3.7/site-packages/sklearn/metrics/_classification.py:1272: UndefinedMetricWarning: Precision is ill-defined and being set to 0.0 due to no predicted samples. Use `zero_division` parameter to control this behavior.\n",
      "  _warn_prf(average, modifier, msg_start, len(result))\n",
      "/Users/xinzhuo/anaconda3/lib/python3.7/site-packages/sklearn/metrics/_classification.py:1272: UndefinedMetricWarning: Precision is ill-defined and being set to 0.0 due to no predicted samples. Use `zero_division` parameter to control this behavior.\n",
      "  _warn_prf(average, modifier, msg_start, len(result))\n",
      "/Users/xinzhuo/anaconda3/lib/python3.7/site-packages/sklearn/metrics/_classification.py:1272: UndefinedMetricWarning: Precision is ill-defined and being set to 0.0 due to no predicted samples. Use `zero_division` parameter to control this behavior.\n",
      "  _warn_prf(average, modifier, msg_start, len(result))\n",
      "/Users/xinzhuo/anaconda3/lib/python3.7/site-packages/sklearn/metrics/_classification.py:1272: UndefinedMetricWarning: Precision is ill-defined and being set to 0.0 due to no predicted samples. Use `zero_division` parameter to control this behavior.\n",
      "  _warn_prf(average, modifier, msg_start, len(result))\n",
      "/Users/xinzhuo/anaconda3/lib/python3.7/site-packages/sklearn/metrics/_classification.py:1272: UndefinedMetricWarning: Precision is ill-defined and being set to 0.0 due to no predicted samples. Use `zero_division` parameter to control this behavior.\n",
      "  _warn_prf(average, modifier, msg_start, len(result))\n",
      "/Users/xinzhuo/anaconda3/lib/python3.7/site-packages/sklearn/metrics/_classification.py:1272: UndefinedMetricWarning: Precision is ill-defined and being set to 0.0 due to no predicted samples. Use `zero_division` parameter to control this behavior.\n",
      "  _warn_prf(average, modifier, msg_start, len(result))\n",
      "/Users/xinzhuo/anaconda3/lib/python3.7/site-packages/sklearn/metrics/_classification.py:1272: UndefinedMetricWarning: Precision is ill-defined and being set to 0.0 due to no predicted samples. Use `zero_division` parameter to control this behavior.\n",
      "  _warn_prf(average, modifier, msg_start, len(result))\n",
      "/Users/xinzhuo/anaconda3/lib/python3.7/site-packages/sklearn/metrics/_classification.py:1272: UndefinedMetricWarning: Precision is ill-defined and being set to 0.0 due to no predicted samples. Use `zero_division` parameter to control this behavior.\n",
      "  _warn_prf(average, modifier, msg_start, len(result))\n",
      "/Users/xinzhuo/anaconda3/lib/python3.7/site-packages/sklearn/metrics/_classification.py:1272: UndefinedMetricWarning: Precision is ill-defined and being set to 0.0 due to no predicted samples. Use `zero_division` parameter to control this behavior.\n",
      "  _warn_prf(average, modifier, msg_start, len(result))\n",
      "/Users/xinzhuo/anaconda3/lib/python3.7/site-packages/sklearn/metrics/_classification.py:1272: UndefinedMetricWarning: Precision is ill-defined and being set to 0.0 due to no predicted samples. Use `zero_division` parameter to control this behavior.\n",
      "  _warn_prf(average, modifier, msg_start, len(result))\n",
      "/Users/xinzhuo/anaconda3/lib/python3.7/site-packages/sklearn/metrics/_classification.py:1272: UndefinedMetricWarning: Precision is ill-defined and being set to 0.0 due to no predicted samples. Use `zero_division` parameter to control this behavior.\n",
      "  _warn_prf(average, modifier, msg_start, len(result))\n",
      "/Users/xinzhuo/anaconda3/lib/python3.7/site-packages/sklearn/metrics/_classification.py:1272: UndefinedMetricWarning: Precision is ill-defined and being set to 0.0 due to no predicted samples. Use `zero_division` parameter to control this behavior.\n",
      "  _warn_prf(average, modifier, msg_start, len(result))\n",
      "/Users/xinzhuo/anaconda3/lib/python3.7/site-packages/sklearn/metrics/_classification.py:1272: UndefinedMetricWarning: Precision is ill-defined and being set to 0.0 due to no predicted samples. Use `zero_division` parameter to control this behavior.\n",
      "  _warn_prf(average, modifier, msg_start, len(result))\n",
      "/Users/xinzhuo/anaconda3/lib/python3.7/site-packages/sklearn/metrics/_classification.py:1272: UndefinedMetricWarning: Precision is ill-defined and being set to 0.0 due to no predicted samples. Use `zero_division` parameter to control this behavior.\n",
      "  _warn_prf(average, modifier, msg_start, len(result))\n",
      "/Users/xinzhuo/anaconda3/lib/python3.7/site-packages/sklearn/metrics/_classification.py:1272: UndefinedMetricWarning: Precision is ill-defined and being set to 0.0 due to no predicted samples. Use `zero_division` parameter to control this behavior.\n",
      "  _warn_prf(average, modifier, msg_start, len(result))\n",
      "/Users/xinzhuo/anaconda3/lib/python3.7/site-packages/sklearn/metrics/_classification.py:1272: UndefinedMetricWarning: Precision is ill-defined and being set to 0.0 due to no predicted samples. Use `zero_division` parameter to control this behavior.\n",
      "  _warn_prf(average, modifier, msg_start, len(result))\n",
      "/Users/xinzhuo/anaconda3/lib/python3.7/site-packages/sklearn/metrics/_classification.py:1272: UndefinedMetricWarning: Precision is ill-defined and being set to 0.0 due to no predicted samples. Use `zero_division` parameter to control this behavior.\n",
      "  _warn_prf(average, modifier, msg_start, len(result))\n"
     ]
    },
    {
     "name": "stdout",
     "output_type": "stream",
     "text": [
      "Ttest_indResult(statistic=1.096693345723086, pvalue=0.27487202646092357)\n"
     ]
    },
    {
     "name": "stderr",
     "output_type": "stream",
     "text": [
      "/Users/xinzhuo/anaconda3/lib/python3.7/site-packages/sklearn/metrics/_classification.py:1272: UndefinedMetricWarning: Precision is ill-defined and being set to 0.0 due to no predicted samples. Use `zero_division` parameter to control this behavior.\n",
      "  _warn_prf(average, modifier, msg_start, len(result))\n",
      "/Users/xinzhuo/anaconda3/lib/python3.7/site-packages/sklearn/metrics/_classification.py:1272: UndefinedMetricWarning: Precision is ill-defined and being set to 0.0 due to no predicted samples. Use `zero_division` parameter to control this behavior.\n",
      "  _warn_prf(average, modifier, msg_start, len(result))\n",
      "/Users/xinzhuo/anaconda3/lib/python3.7/site-packages/sklearn/metrics/_classification.py:1272: UndefinedMetricWarning: Precision is ill-defined and being set to 0.0 due to no predicted samples. Use `zero_division` parameter to control this behavior.\n",
      "  _warn_prf(average, modifier, msg_start, len(result))\n"
     ]
    },
    {
     "data": {
      "text/plain": [
       "Text(0, 0.5, 'Mutation Precision')"
      ]
     },
     "execution_count": 42,
     "metadata": {},
     "output_type": "execute_result"
    },
    {
     "data": {
      "image/png": "[encoded data removed]",
      "text/plain": [
       "<Figure size 360x288 with 1 Axes>"
      ]
     },
     "metadata": {
      "needs_background": "light"
     },
     "output_type": "display_data"
    }
   ],
   "source": [
    "precision_l = [[sklearn.metrics.precision_score(S_A[i], (ele[i]>0.5)) for i in S_A.columns] for ele in l_l]\n",
    "precision_df = pd.DataFrame(precision_l, index=['Random Structure'+' %i'%i for i in range(len(l_l))]).T\n",
    "precision_df.loc[:,'TCI'] = [sklearn.metrics.precision_score(S_A[i], (S_P[i]>0.5)) for i in S_A.columns] \n",
    "print(stats.ttest_ind(a=precision_df[\"TCI\"],b=precision_df[\"Random Structure 0\"],equal_var=False))\n",
    "\n",
    "plt.figure(figsize=(5,4))\n",
    "plt.xticks(rotation=45)\n",
    "ax = sns.boxplot(data=precision_df, width=0.4,)\n",
    "# ax.set_title('Mutation Recall after 10-fold EM')\n",
    "ax.set_ylabel('Mutation Precision')\n",
    "# ax.set_xlabel('SGA-DEG relationship')"
   ]
  },
  {
   "cell_type": "code",
   "execution_count": 46,
   "metadata": {
    "Collapsed": "false"
   },
   "outputs": [
    {
     "data": {
      "image/png": "[encoded data removed]",
      "text/plain": [
       "<Figure size 360x288 with 1 Axes>"
      ]
     },
     "metadata": {
      "needs_background": "light"
     },
     "output_type": "display_data"
    }
   ],
   "source": [
    "plt.figure(figsize=(5,4))\n",
    "plt.xticks(rotation=45)\n",
    "a = deepcopy(precision_df)\n",
    "a[\"melt\"] = 1\n",
    "b = pd.melt(a,id_vars=[\"melt\"])\n",
    "g = sns.violinplot(x=\"variable\", y=\"value\", data=b, cut=0)\n",
    "# g.set_ylim([0,1])\n",
    "g.set_xlabel(None)\n",
    "g.set_ylabel(\"Mutation Precision\")\n",
    "plt.savefig(\"HNSC_plot/Muation_Precision.png\", dpi=600)"
   ]
  },
  {
   "cell_type": "markdown",
   "metadata": {
    "Collapsed": "false"
   },
   "source": [
    "## Roboust F1"
   ]
  },
  {
   "cell_type": "code",
   "execution_count": 18,
   "metadata": {
    "Collapsed": "false",
    "ExecuteTime": {
     "end_time": "2020-02-06T05:16:20.474334Z",
     "start_time": "2020-02-06T05:15:35.275600Z"
    }
   },
   "outputs": [],
   "source": [
    "edge = pd.read_csv(\"../TCI/EM/Input/paper_edge.csv\", index_col=None, header=0)\n",
    "S_Arob = deepcopy(S_A[S_A.columns])\n",
    "node_l = []\n",
    "for i in edge.index:\n",
    "    for idx in S_Arob.index:\n",
    "        if edge.loc[i, \"Source\"] in S_Arob.columns:\n",
    "            node_l.append(edge.loc[i, \"Source\"])\n",
    "            if S_Arob.loc[idx, edge.loc[i, \"Source\"]] == 1:\n",
    "                if edge.loc[i, \"Target\"] in S_Arob.columns:\n",
    "                    node_l.append(edge.loc[i, \"Target\"])\n",
    "                    S_Arob.loc[idx, edge.loc[i, \"Target\"]] == 1\n",
    "node_l = list(set(node_l))"
   ]
  },
  {
   "cell_type": "code",
   "execution_count": 20,
   "metadata": {
    "Collapsed": "false",
    "ExecuteTime": {
     "end_time": "2020-02-06T06:00:41.240228Z",
     "start_time": "2020-02-06T06:00:40.602529Z"
    }
   },
   "outputs": [
    {
     "name": "stdout",
     "output_type": "stream",
     "text": [
      "Ttest_indResult(statistic=1.9318281547671843, pvalue=0.05627721577495029)\n"
     ]
    },
    {
     "data": {
      "text/plain": [
       "Text(0, 0.5, 'Roboust f1')"
      ]
     },
     "execution_count": 20,
     "metadata": {},
     "output_type": "execute_result"
    },
    {
     "data": {
      "image/png": "[encoded data removed]",
      "text/plain": [
       "<Figure size 432x288 with 1 Axes>"
      ]
     },
     "metadata": {
      "needs_background": "light"
     },
     "output_type": "display_data"
    }
   ],
   "source": [
    "f1_l = [[sklearn.metrics.f1_score(S_Arob[i], (ele[i]>0.5), zero_division='warn') for i in node_l] for ele in S_At_rd_l]\n",
    "f1_df = pd.DataFrame(f1_l, index=['Random Structure'+' %i'%i for i in range(len(S_At_rd_l))]).T\n",
    "f1_df.loc[:,'TCI'] = [sklearn.metrics.f1_score(S_Arob[i], (S_At[i]>0.5)) for i in node_l] \n",
    "print(stats.ttest_ind(a=f1_df[\"TCI\"],b=f1_df[\"Random Structure 0\"],equal_var=False))\n",
    "ax = sns.boxplot(data=f1_df)\n",
    "# ax.set_title('Roboust Test')\n",
    "ax.set_ylabel('Roboust f1')\n",
    "# ax.set_xlabel('SGA-DEG relationship')"
   ]
  },
  {
   "cell_type": "code",
   "execution_count": 21,
   "metadata": {
    "Collapsed": "false"
   },
   "outputs": [
    {
     "data": {
      "text/plain": [
       "Random Structure 0    0.118798\n",
       "Random Structure 1    0.122836\n",
       "Random Structure 2    0.122709\n",
       "TCI                   0.156258\n",
       "dtype: float64"
      ]
     },
     "execution_count": 21,
     "metadata": {},
     "output_type": "execute_result"
    }
   ],
   "source": [
    "np.mean(f1_df)"
   ]
  },
  {
   "cell_type": "markdown",
   "metadata": {
    "Collapsed": "false"
   },
   "source": [
    "## DEG states"
   ]
  },
  {
   "cell_type": "code",
   "execution_count": null,
   "metadata": {
    "Collapsed": "false"
   },
   "outputs": [],
   "source": [
    "from sklearn.model_selection import KFold\n",
    "S_Dor_l = []\n",
    "for i in range(3):\n",
    "    S_Aor = pd.read_csv(\"../TCI/EM/Output/S_Ator_%i\"%i+\".csv\", index_col=0, header=0)\n",
    "    A_Dr = pd.read_csv('../TCI/EM/Input/A_D_trd/A_D_trd_%i'%i+'.csv', header=0, index_col=0)\n",
    "    S_Dor = antiEM(S_Aor, S_D[A_Dr.columns], A_Dr)\n",
    "    S_Dor_l.append(pd.DataFrame(S_Dor, index=S_D.index, columns=S_D.columns))"
   ]
  },
  {
   "cell_type": "code",
   "execution_count": null,
   "metadata": {
    "Collapsed": "false"
   },
   "outputs": [],
   "source": [
    "S_Do = antiEM(S_Ao, S_D[A_Dna.columns], A_Dna)"
   ]
  },
  {
   "cell_type": "code",
   "execution_count": null,
   "metadata": {
    "Collapsed": "false"
   },
   "outputs": [],
   "source": [
    "from sklearn.metrics import f1_score\n",
    "f1_l = [[sklearn.metrics.f1_score(S_D[ele], S_Dor[ele]>0.5) for ele in A_Dna.columns] for S_Dor in S_Dor_l]\n",
    "f1_df = pd.DataFrame(f1_l, index=['RD'+'_%i'%i for i in range(len(S_Dor_l))]).T\n",
    "f1_df.loc[:,'TCI'] = [sklearn.metrics.f1_score(S_D[ele], (S_Do[ele]>0.5)) for ele in A_Dna.columns] \n",
    "\n",
    "ax = sns.boxplot(data=f1_df)\n",
    "ax.set_title('DEG Prediction')\n",
    "ax.set_ylabel('f1')\n",
    "ax.set_xlabel('SGA-DEG relationship')"
   ]
  },
  {
   "cell_type": "markdown",
   "metadata": {
    "Collapsed": "false"
   },
   "source": [
    "## GMM"
   ]
  },
  {
   "cell_type": "code",
   "execution_count": null,
   "metadata": {
    "Collapsed": "false"
   },
   "outputs": [],
   "source": [
    "GDSCexp = pd.read_csv('DrugNormal/Input/GDSC expression.csv', header=0, index_col=0)\n",
    "TCGAexp = pd.read_csv('DrugNormal/Input/TCGA expression.csv', header=0, index_col=0)\n",
    "trep = pd.read_csv(\"DrugNormal/Input/GDSC drug response.csv\", header=0, index_col=0)\n",
    "S_Dc = pd.read_csv(\"DrugNormal/Output/nGDSCexp.csv\", header=0, index_col=0)\n",
    "S_Ac =pd.read_csv(\"DrugNormal/Output/nGDSCmut.csv\", header=0, index_col=0)\n",
    "\n",
    "GDSC_tissue_type = pd.read_csv(\"DrugNormal/Input/GDSC tissue type annotation.csv\", header=0, index_col=0)\n",
    "TCGA_tissue_type = pd.read_csv(\"DrugNormal/Input/tcga_Subtype.csv\", header=0, index_col=0)\n",
    "A_Do = pd.read_csv(\"../TCI/EM/Input/A_Do.csv\", header=0, index_col=0)\n",
    "\n",
    "paper_deg = [\"FLJ22662\", \"AREG\", \"CORO1C\", \"AVEN\", \"DUSP3\", \"DJ473B4\", \"PHLDA2\", \"RBM7\", \"OSMR\", \n",
    " \"GCLC\", \"COL4A3BP\", \"ARFIP2\", \"C10orf9\", \"NIP30\", \"KIAA0776\", \"SLC35F2\", \"GAMLG\", \n",
    " \"NOC4\", \"PDZK1\", \"DIS3\", \"CGI-48\", \"CPSF6\", \"KIF3C\", \"CD9\", \"LRRC8\", \"SNF1LK\", \n",
    " \"CRA\", \"EGR2\", \"KRT13\", \"BCAT1\", \"SDCCAG3\", \"PIGK\", \"MRPS9\", \"ASPM\", \"ACBD3\", \n",
    " \"ZNF325\", \"LOC285513\", \"TSSC1\", \"XAB1\", \"HNLF\", \"EIF4EBP2\", \"MGC23280\", \"SSA2\", \n",
    " \"PRKACA\", \"FEZ2\", \"SRRM1\", \"PDGFRL\", \"SNX13\", \"KIAA0258\", \"TOM7\"]\n",
    "\n",
    "nsl = [1287381,905949,906791,906805,687777,724859,905970,1503369,1503370,\n",
    "1247873,1240145,1290908,1240146,905972,907786,753592,724866,1298347,\n",
    "687794,753600,1298348,908472,687798,687799,687800,910900,908473,687802,\n",
    "722058,908475,1298350,724868,908463,687807,1240185,924244,908476,724873,\n",
    "1240187,722045,687812,724834,722046,687816,724874,905942,687819,687820,\n",
    "687821,1240190,905967,908465,908460,905944,722066,910399,753608,1240202,\n",
    "1298537,910931,909721,724878,713869,753554,753556,1240142,1240143,753569,\n",
    "1298223,687787,1298226,1240183,687815,905941,908443,1298538,909728,724879]\n",
    "\n",
    "# Plot\n",
    "\n",
    "trep = pd.read_csv(\"DrugNormal/Input/GDSC drug response.csv\", header=0, index_col=0)\n",
    "hnsc = tissue_type.loc[tissue_type[\"TCGA Label\"] == \"HNSC\", :][\"COSMIC ID\"]\n",
    "rep = trep.loc[hnsc,:]\n",
    "np.sum(rep[\"1010\"])\n",
    "\n",
    "sga = \"EGFR\"\n",
    "dg = \"1010\"\n",
    "deg_l = set([ele for ele in A_Do if A_Do.loc[sga, ele]==1]) & set(GDSCexp.columns)\n",
    "rep_l = [idx for idx in rep.index if rep.loc[idx, dg]==1]\n",
    "nrep_l =  [idx for idx in rep.index if rep.loc[idx, dg]==0]\n",
    "rep_exp = GDSCexp.loc[rep_l, :]\n",
    "nrep_exp = GDSCexp.loc[nrep_l, :]\n",
    "\n",
    "stats_l = []\n",
    "de_l = []\n",
    "for deg in rep_exp.columns:\n",
    "# for deg in deg_l:\n",
    "    rsv1 = rep_exp[deg]\n",
    "    rsv2 = nrep_exp[deg]\n",
    "    p = stats.ttest_ind(rsv1,rsv2)\n",
    "    stats_l.append(p)\n",
    "    if p[1]<0.01:\n",
    "        de_l.append(deg)\n",
    "de_l = set(de_l) & set(S_Dc.columns)\n",
    "\n",
    "sns.clustermap(pd.concat([S_Dc.loc[rep_l, deg_l], S_Dc.loc[nrep_l, deg_l]], 0).T, col_cluster=False)\n",
    "\n",
    "X  = pd.concat([rep_exp[de_l], nrep_exp[de_l]], 0)\n",
    "\n",
    "from sklearn import mixture\n",
    "import matplotlib.pyplot as plt\n",
    "gmm = mixture.GaussianMixture(n_components=2, covariance_type='full', \n",
    "                              weights_init=[0.999, 0.001]).fit(X)\n",
    "prediction = gmm.predict(X)\n",
    "print(prediction)\n",
    "plt.scatter(X.iloc[:,0], X.iloc[:, 1], c=prediction, s=10, cmap='viridis')\n",
    "\n",
    "sns.clustermap(GDSCexp[[\"CDK4\", \"RB1\",\"E2F3\", \"TP53\",\"CCND1\", \"CDKN2A\", \"CDKN2B\",\"MDM4\"]])\n",
    "\n",
    "sns.clustermap(GDSCexp[[\"CDK4\", \"RB1\",\"E2F3\", \"TP53\",\"CCND1\", \"CDKN2A\", \"CDKN2B\",\"MDM4\"]])\n",
    "\n",
    "# TCGA\n",
    "\n",
    "idx = TCGA_tissue_type.loc[TCGA_tissue_type[\"X_primary_disease_id\"] == 4,:].index\n",
    "st_exp = TCGAexp.loc[idx & TCGAexp.index, :]\n",
    "\n",
    "sga_l = []\n",
    "for sga in A_Do.index:\n",
    "    deg_l = [deg for deg in A_Do.columns if A_Do.loc[sga, deg]==1]\n",
    "    deg_l = set(TCGAexp.columns) & set(deg_l)\n",
    "    sga_exp = st_exp[deg_l].values\n",
    "    gmm = mixture.GaussianMixture(n_components=2, covariance_type='full', weights_init=[0.1, 0.9]).fit(sga_exp)\n",
    "    prediction = gmm.predict(sga_exp)\n",
    "    sga_l.append(prediction)\n",
    "st_act  =  pd.DataFrame(sga_l, index=A_Do.index, columns=st_exp.index).T\n",
    "\n",
    "sns.clustermap(st_act[[\"CDK4\", \"RB1\",\"E2F3\", \"TP53\",\"CCND1\", \"CDKN1A\", \"CDKN2A\", \"CDKN2B\"]])\n",
    "\n",
    "sns.clustermap(TCGAexp.loc[:, [\"CDK4\", \"RB1\",\"E2F3\", \"TP53\",\"CCND1\", \"CDKN2A\", \"CDKN2B\"]])\n",
    "\n",
    "S_Aoo = pd.read_csv(\"../TCI/EM/Output/S_Aoo.csv\", index_col=0, header=0)\n",
    "S_Ao4 = pd.read_csv(\"../TCI/EM/Output/A_Di/S_Ad_4.csv\", index_col=0, header=0)\n",
    "\n",
    "sns.clustermap(S_Aoo.loc[:, [\"CDK4\", \"RB1\",\"E2F3\", \"TP53\",\"CCND1\", \"CDKN1A\", \"CDKN2A\", \"CDKN2B\"]])\n",
    "\n",
    "a  = TCGAexp[[\"CDK4\", \"RB1\",\"E2F3\", \"TP53\",\"CCND1\", \"CDKN2A\", \"CDKN2B\"]].T\n",
    "a.to_csv(\"arcne_matrix_tp53.txt\", index=True, header=True)\n",
    "\n",
    "np.savetxt('arcne_lis_tp53.txt',a.index, fmt='%s')   # use exponential notation"
   ]
  }
 ],
 "metadata": {
  "kernelspec": {
   "display_name": "Python 3",
   "language": "python",
   "name": "python3"
  },
  "language_info": {
   "codemirror_mode": {
    "name": "ipython",
    "version": 3
   },
   "file_extension": ".py",
   "mimetype": "text/x-python",
   "name": "python",
   "nbconvert_exporter": "python",
   "pygments_lexer": "ipython3",
   "version": "3.8.3"
  },
  "toc": {
   "base_numbering": 1,
   "nav_menu": {},
   "number_sections": true,
   "sideBar": true,
   "skip_h1_title": false,
   "title_cell": "Table of Contents",
   "title_sidebar": "Contents",
   "toc_cell": false,
   "toc_position": {},
   "toc_section_display": true,
   "toc_window_display": false
  },
  "varInspector": {
   "cols": {
    "lenName": 16,
    "lenType": 16,
    "lenVar": 40
   },
   "kernels_config": {
    "python": {
     "delete_cmd_postfix": "",
     "delete_cmd_prefix": "del ",
     "library": "var_list.py",
     "varRefreshCmd": "print(var_dic_list())"
    },
    "r": {
     "delete_cmd_postfix": ") ",
     "delete_cmd_prefix": "rm(",
     "library": "var_list.r",
     "varRefreshCmd": "cat(var_dic_list()) "
    }
   },
   "types_to_exclude": [
    "module",
    "function",
    "builtin_function_or_method",
    "instance",
    "_Feature"
   ],
   "window_display": false
  }
 },
 "nbformat": 4,
 "nbformat_minor": 4
}
