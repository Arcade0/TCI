{
 "cells": [
  {
   "cell_type": "code",
   "execution_count": 3,
   "source": [
    "import numpy as np\r\n",
    "import pandas as pd\r\n",
    "import os\r\n",
    "import seaborn as sns\r\n",
    "import matplotlib as mpl\r\n",
    "from matplotlib import pyplot as plt\r\n",
    "# from node import node\r\n",
    "from copy import deepcopy"
   ],
   "outputs": [],
   "metadata": {
    "Collapsed": "false"
   }
  },
  {
   "cell_type": "markdown",
   "source": [
    "# TDI"
   ],
   "metadata": {
    "Collapsed": "false"
   }
  },
  {
   "cell_type": "code",
   "execution_count": null,
   "source": [
    "# save TDI information\r\n",
    "A_Di = pd.read_csv(\"chunhui/Input/HNSC/DriverDEGmatrix.HNSC.csv\",\r\n",
    "                   index_col=0,\r\n",
    "                   header=0)\r\n",
    "d = {}\r\n",
    "for i in A_Di.index:\r\n",
    "    deg_l = [j for j in A_Di.columns if A_Di.loc[i, j] == 1]\r\n",
    "    d.update({i: deg_l})\r\n",
    "\r\n",
    "import json\r\n",
    "with open('data.json', 'w') as outfile:\r\n",
    "    json.dump(d, outfile, indent=4)\r\n",
    "\r\n",
    "S_Mi = pd.read_csv(\"chunhui/Input/HNSC/S_Mi.csv\", index_col=0, header=0)\r\n",
    "S_Mi.index = [ele[0:12] for ele in S_Mi.index]"
   ],
   "outputs": [],
   "metadata": {
    "Collapsed": "false"
   }
  },
  {
   "cell_type": "markdown",
   "source": [
    "# Mutation and CNV"
   ],
   "metadata": {
    "Collapsed": "false"
   }
  },
  {
   "cell_type": "code",
   "execution_count": 5,
   "source": [
    "# Mutation transform\r\n",
    "S_A = pd.read_csv(\"../TCI/EM/Input/S_A.csv\", index_col=0, header=0)\r\n",
    "S_Ai = pd.read_csv(\"chunhui/Input/HNSC/SGAmatrix.HNSC.csv\",\r\n",
    "                   index_col=0,\r\n",
    "                   header=0)\r\n",
    "A_Di = pd.read_csv(\"chunhui/Input/HNSC/DriverDEGmatrix.HNSC.csv\",\r\n",
    "                   index_col=0,\r\n",
    "                   header=0)\r\n",
    "S_M = pd.read_csv(\"chunhui/Input/HNSC/TCGA/HNSC_mc3_gene_level.txt\",\r\n",
    "                  sep='\\t',\r\n",
    "                  index_col=0).T\r\n",
    "S_C = pd.read_csv(\"chunhui/Input/HNSC/TCGA/TCGA-HNSC.gistic.tsv\",\r\n",
    "                  sep='\\t',\r\n",
    "                  index_col=0).T\r\n"
   ],
   "outputs": [],
   "metadata": {
    "Collapsed": "false"
   }
  },
  {
   "cell_type": "code",
   "execution_count": null,
   "source": [
    "# transfer gene symble\r\n",
    "import mygene\r\n",
    "\r\n",
    "mg = mygene.MyGeneInfo()\r\n",
    "ens = [ele[0:15] for ele in S_C.columns]\r\n",
    "S_C.columns = ens\r\n",
    "S_C.to_csv(\"chunhui/Input/HNSC/TCGA/cnv.csv\", index=True, header=True)\r\n",
    "geneinfo = mg.querymany(ens, scopes='ensembl.gene')\r\n",
    "\r\n",
    "em_l = []\r\n",
    "deg_l = []\r\n",
    "for ele in geneinfo:\r\n",
    "    if ele[\"query\"] not in em_l:\r\n",
    "        em_l.append(ele[\"query\"])\r\n",
    "        if \"notfound\" not in ele.keys():\r\n",
    "            deg_l.append(ele['symbol'])\r\n",
    "        else:\r\n",
    "            deg_l.append(ele['query'])\r\n",
    "\r\n",
    "S_C.columns = deg_l"
   ],
   "outputs": [],
   "metadata": {
    "Collapsed": "false",
    "collapsed": true,
    "jupyter": {
     "outputs_hidden": true
    }
   }
  },
  {
   "cell_type": "code",
   "execution_count": 9,
   "source": [
    "S_C.to_csv(\"chunhui/Input/HNSC/TCGA/cnv_symbol.csv\", index=True, header=True)"
   ],
   "outputs": [],
   "metadata": {
    "Collapsed": "false"
   }
  },
  {
   "cell_type": "markdown",
   "source": [
    "# Expression"
   ],
   "metadata": {
    "Collapsed": "false"
   }
  },
  {
   "cell_type": "code",
   "execution_count": null,
   "source": [
    "# read expression data\r\n",
    "S_Dcai = pd.read_csv(\"chunhui/Input/HNSC/TCGA-HNSC.htseq_fpkm-uq.tsv\",\r\n",
    "                     sep='\\t',\r\n",
    "                     index_col=0).T\r\n",
    "\r\n",
    "# transfer gene symble\r\n",
    "import mygene\r\n",
    "\r\n",
    "mg = mygene.MyGeneInfo()\r\n",
    "\r\n",
    "ens = [ele[0:15] for ele in S_Dcai.columns]\r\n",
    "geneinfo = mg.querymany(ens, scopes='ensembl.gene')\r\n",
    "\r\n",
    "em_l = []\r\n",
    "deg_l = []\r\n",
    "for ele in geneinfo:\r\n",
    "    if ele[\"query\"] not in em_l:\r\n",
    "        em_l.append(ele[\"query\"])\r\n",
    "        if \"notfound\" not in ele.keys():\r\n",
    "            deg_l.append(ele['symbol'])\r\n",
    "        else:\r\n",
    "            deg_l.append(ele['query'])\r\n",
    "S_Dcai.columns = deg_l\r\n",
    "S_Dcai.to_csv(\"chunhui/Output/HNSC/S_Dcai.csv\", header=True, index=True)"
   ],
   "outputs": [],
   "metadata": {
    "Collapsed": "false"
   }
  },
  {
   "cell_type": "code",
   "execution_count": null,
   "source": [
    "# PAM 50 subtype\n",
    "dfs = sur_dfs\n",
    "\n",
    "fig = plt.figure(figsize=(10, 10))\n",
    "ax1 = fig.add_subplot(211)\n",
    "ax2 = fig.add_subplot(212)\n",
    "\n",
    "km = KaplanMeierFitter()\n",
    "\n",
    "for i in range(1, 6):\n",
    "    df_m = dfs.loc[set(BRCA_sub.index[BRCA_sub[\"number\"] == i])\n",
    "                   & set(dfs.index)]\n",
    "    i = str(i)\n",
    "    locals()[\"T_\" + i] = df_m['%s.time' % par]  # /365\n",
    "    locals()[\"E_\" + i] = df_m[par]\n",
    "    km.fit(locals()[\"T_\" + i],\n",
    "           event_observed=locals()[\"E_\" + i],\n",
    "           label=sb_l[int(i)])\n",
    "    km.survival_function_.plot(ax=ax1)\n",
    "    km.plot(ax=ax2)\n",
    "\n",
    "ax1.set_title(\"PRO Subgroup\")\n",
    "ax1.set_xlabel(None)\n",
    "ax1.set_xlim(0, 2000)\n",
    "\n",
    "for i in range(1, 6):\n",
    "    for j in range(1, 6):\n",
    "        if j > i:\n",
    "            lr = logrank_test(locals()[\"T_%s\" % i],\n",
    "                              locals()[\"T_%s\" % j],\n",
    "                              locals()[\"E_%s\" % i],\n",
    "                              locals()[\"E_%s\" % j],\n",
    "                              alpha=.99)\n",
    "            print(\"p_value of %s and %s: \" % (sb_l[int(i)], sb_l[int(j)]) +\n",
    "                  str(lr.p_value))\n"
   ],
   "outputs": [],
   "metadata": {
    "Collapsed": "false"
   }
  }
 ],
 "metadata": {
  "kernelspec": {
   "name": "python3",
   "display_name": "Python 3.8.8 64-bit ('base': conda)"
  },
  "language_info": {
   "codemirror_mode": {
    "name": "ipython",
    "version": 3
   },
   "file_extension": ".py",
   "mimetype": "text/x-python",
   "name": "python",
   "nbconvert_exporter": "python",
   "pygments_lexer": "ipython3",
   "version": "3.8.8"
  },
  "interpreter": {
   "hash": "214392d51fb2c1897b3bd3ad6aaa927e6326499bab7564d3ffedfb7cce17d6fb"
  }
 },
 "nbformat": 4,
 "nbformat_minor": 4
}