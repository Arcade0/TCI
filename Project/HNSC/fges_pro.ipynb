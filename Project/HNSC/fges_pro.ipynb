{
 "cells": [
  {
   "cell_type": "code",
   "execution_count": 6,
   "metadata": {},
   "outputs": [],
   "source": [
    "#####split data#####\n",
    "#install.packages(\"devtools\")\n",
    "#devtools::install_github(\"stephenturner/annotables\")\n",
    "library(annotables)\n",
    "library(plyr)"
   ]
  },
  {
   "cell_type": "code",
   "execution_count": 7,
   "metadata": {},
   "outputs": [],
   "source": [
    "adjustdir = function(data){\n",
    "  levels(data[,1]) = union(levels(data[,1]),levels(data[,2]))\n",
    "  levels(data[,2]) = levels(data[,1])\n",
    "  for (i in (1:dim(data)[1])){\n",
    "    if (data[i,4] == '<-'){\n",
    "      a = data[i,1]\n",
    "      data[i,1] = data[i,2]\n",
    "      data[i,2] = a\n",
    "      data[i,4] = '->'\n",
    "    }\n",
    "    if (data[i,4] == '|-'){\n",
    "      b = data[i,1]\n",
    "      data[i,1] = data[i,2]\n",
    "      data[i,2] = b\n",
    "      data[i,4] = '-|'\n",
    "      \n",
    "    }\n",
    "  }\n",
    "  datag = data[,1:2]\n",
    "  colnames(datag) = c('gene0','gene1')\n",
    "  return(datag)\n",
    "}\n",
    "\n",
    "addid = function(data){\n",
    "  ID = grch38\n",
    "  data = data[,1:2]\n",
    "  colnames(data) = c('symbol','gene1')\n",
    "  dataID1 = merge(ID[,2:3], data)\n",
    "  colnames(dataID1) = c('gene0','ID0', 'symbol')\n",
    "  dataID2 = merge(ID[,2:3],dataID1)\n",
    "  dataID2 = dataID2[,c(2,4)]\n",
    "  colnames(dataID2) = c('ID0','ID1')\n",
    "  return(dataID2)\n",
    "}\n",
    "\n",
    "splitnormdata = function(data){\n",
    "  gene0 = as.character(data$name)\n",
    "  gene1 = as.character(data$name)\n",
    "  for (i in (1:dim(data)[1])){\n",
    "    gene0[i] = substring(gene0[i], 1, regexpr('(pp)', gene0[i])-3)\n",
    "    gene1[i] = substring(gene1[i], regexpr('(pp)', gene1[i])+4,nchar(gene1[i]))\n",
    "  }\n",
    "  \n",
    "  gene0 = data.frame(gene0)\n",
    "  gene1 = data.frame(gene1)\n",
    "  Et = cbind(gene0, gene1)\n",
    "  data = Et\n",
    "  return(data)\n",
    "}\n",
    "\n",
    "\n",
    "sta = function(datag, normedgeg){\n",
    "  dataco = datag[datag[,1]%in%intersect(normedgeg[,1],datag[,1]),]\n",
    "  datacoo = dataco[dataco[,2]%in%intersect(normedgeg[,2],datag[,2]),]\n",
    "  normedgegco = normedgeg[normedgeg[,1]%in%intersect(normedgeg[,1],union(datag[,1], datag[,2])),]\n",
    "  normedgegcoo = normedgegco[normedgegco[,2]%in%intersect(normedgeg[,2],union(datag[,1],datag[,2])),]\n",
    "  edges = dim(datacoo)[1]\n",
    "  rightedges = dim(normedgegcoo)[1]\n",
    "  node = max(length(unique(datacoo[,1])),length(unique(datacoo[,2])))\n",
    "  mean = mean(count(datacoo[,2])[,2])\n",
    "  max = max(count(datacoo[,2])[,2])\n",
    "  varify = merge(datacoo[,1:2], normedgegcoo)\n",
    "  right = dim(varify)[1]\n",
    "  precision = right/edges\n",
    "  recall = right/rightedges\n",
    "  result = list(node,edges,rightedges , mean, max, right, precision, recall, varify, normedgegcoo)\n",
    "  return(result)\n",
    "}"
   ]
  },
  {
   "cell_type": "code",
   "execution_count": 9,
   "metadata": {},
   "outputs": [],
   "source": [
    "#####pp interaction#####\n",
    "normedge = read.csv('Right/PP/String Network default edge.csv')\n",
    "normedge = normedge[normedge$score>0.5,]\n",
    "normedgeg = splitnormdata(normedge)\n",
    "normedgen = addid(normedgeg)"
   ]
  },
  {
   "cell_type": "code",
   "execution_count": 2,
   "metadata": {
    "collapsed": true
   },
   "outputs": [
    {
     "ename": "ERROR",
     "evalue": "Error in scan(file = file, what = what, sep = sep, quote = quote, dec = dec, : line 1 did not have 4 elements\n",
     "output_type": "error",
     "traceback": [
      "Error in scan(file = file, what = what, sep = sep, quote = quote, dec = dec, : line 1 did not have 4 elements\nTraceback:\n",
      "1. read.table(\"RB1Edge1.txt\", header = F, skip = 1)",
      "2. scan(file = file, what = what, sep = sep, quote = quote, dec = dec, \n .     nmax = nrows, skip = 0, na.strings = na.strings, quiet = TRUE, \n .     fill = fill, strip.white = strip.white, blank.lines.skip = blank.lines.skip, \n .     multi.line = FALSE, comment.char = comment.char, allowEscapes = allowEscapes, \n .     flush = flush, encoding = encoding, skipNul = skipNul)"
     ]
    }
   ],
   "source": [
    "data = read.table('RB1Edge1.txt',header=F, skip=1)\n",
    "datag = data[,c(2,4)]\n",
    "colnames(datag) = c('gene0','gene1')\n",
    "#write.table(datag, 'S_AD.csv', sep=',',col.names=F, row.names=F)\n",
    "datan = addid(datag)\n",
    "varify = sta(datag, normedgeg)"
   ]
  },
  {
   "cell_type": "code",
   "execution_count": 16,
   "metadata": {},
   "outputs": [],
   "source": [
    "data = read.table('S_AD1.txt',header=F, skip=4)\n",
    "datag = data[,c(2,4)]\n",
    "colnames(datag) = c('gene0','gene1')\n",
    "datagn = datag[-grep('deg:',datag$gene1),]\n",
    "for (i in 1:dim(datagn)[1]){\n",
    "    a = as.character(datagn[i,1])\n",
    "    b = substring(a, 5,nchar(a))\n",
    "    levels(datagn[,1]) = c(levels(datagn[,1]),b)\n",
    "    datagn[i,1] = as.factor(b)\n",
    "    c = as.character(datagn[i,2])\n",
    "    d = substring(c, 5,nchar(c))\n",
    "    levels(datagn[,2]) = c(levels(datagn[,2]),d)\n",
    "    datagn[i,2] = as.factor(d)\n",
    "}\n",
    "varify = sta(datagn, normedgeg)\n",
    "#write.csv(datagn,'RB11AD.csv', quote=F, row.names=F)"
   ]
  },
  {
   "cell_type": "code",
   "execution_count": 11,
   "metadata": {
    "collapsed": true
   },
   "outputs": [
    {
     "ename": "ERROR",
     "evalue": "Error in is.data.frame(x): object 'varify' not found\n",
     "output_type": "error",
     "traceback": [
      "Error in is.data.frame(x): object 'varify' not found\nTraceback:\n",
      "1. write.csv(varify[9], \"Subgene1v.csv\", quote = F, row.names = F)",
      "2. eval.parent(Call)",
      "3. eval(expr, p)",
      "4. eval(expr, p)",
      "5. write.table(varify[9], \"Subgene1v.csv\", quote = F, row.names = F, \n .     col.names = TRUE, sep = \",\", dec = \".\", qmethod = \"double\")",
      "6. is.data.frame(x)"
     ]
    }
   ],
   "source": [
    "write.csv(varify[9],'Subgene1v.csv',quote=F, row.names=F)"
   ]
  },
  {
   "cell_type": "code",
   "execution_count": null,
   "metadata": {},
   "outputs": [],
   "source": [
    "##################################################################################################################"
   ]
  },
  {
   "cell_type": "code",
   "execution_count": null,
   "metadata": {},
   "outputs": [],
   "source": [
    "#####function impact#####\n",
    "normedge = read.table(file.choose(),sep = '\\t', header = 1)\n",
    "normedgeg = adjustdir(normedge)"
   ]
  },
  {
   "cell_type": "code",
   "execution_count": null,
   "metadata": {},
   "outputs": [],
   "source": [
    "data = read.csv(file.choose())\n",
    "datag = data[,c(2,4)]\n",
    "colnames(datag) = c('gene0','gene1')\n",
    "varify = sta(datag, normedgeg)\n",
    "write.csv(varify,'varify.csv',quote=F, row.names = F)"
   ]
  },
  {
   "cell_type": "code",
   "execution_count": null,
   "metadata": {},
   "outputs": [],
   "source": []
  }
 ],
 "metadata": {
  "kernelspec": {
   "display_name": "R",
   "language": "R",
   "name": "ir"
  },
  "language_info": {
   "codemirror_mode": "r",
   "file_extension": ".r",
   "mimetype": "text/x-r-source",
   "name": "R",
   "pygments_lexer": "r",
   "version": "3.5.1"
  }
 },
 "nbformat": 4,
 "nbformat_minor": 2
}
