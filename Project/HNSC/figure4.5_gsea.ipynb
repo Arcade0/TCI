{
 "cells": [
  {
   "cell_type": "code",
   "execution_count": null,
   "metadata": {},
   "outputs": [],
   "source": [
    "install.packages(\"fcros\")\n",
    "library(fcros)"
   ]
  },
  {
   "cell_type": "code",
   "execution_count": null,
   "metadata": {},
   "outputs": [],
   "source": [
    "type = \"BRCA_\"\n",
    "for (i in 0:7){\n",
    "    fdata = read.csv(paste(\"chunhui/S_DDra_\", type, i, \".csv\", sep=\"\"), row.names=1)\n",
    "    ndata = read.csv(paste(\"chunhui/S_DDrn_\", type, i, \".csv\", sep=\"\"), row.names=1)\n",
    "    bndata = read.csv(paste(\"chunhui/S_DDran_\", type, i, \".csv\", sep=\"\"), row.names=1)\n",
    "\n",
    "    cont = colnames(t(ndata))\n",
    "    test = colnames(t(bndata))\n",
    "    log2.opt = 0\n",
    "    trim.opt = 0.25\n",
    "    af = fcros(t(fdata), cont, test, log2.opt, trim.opt)\n",
    "    \n",
    "    afd = af\n",
    "    afd$ri[afd$ri<0.5] = afd$ri[afd$ri<0.5] - 1\n",
    "    fcrosWrite(afd, file = paste(\"chunhui/gseaD_\", type, i, \".csv\", sep=\"\"),thr=1) \n",
    "    a = read.csv(paste(\"chunhui/gseaD_\", type, i, \".csv\", sep=\"\"), sep=\"\\t\")\n",
    "    write.table(a[1:2], paste(\"chunhui/ri2D_\", type, i, \".rnk\", sep=\"\"), row.names=FALSE, sep=\"\\t\", quote=FALSE)\n",
    "}"
   ]
  },
  {
   "cell_type": "code",
   "execution_count": null,
   "metadata": {},
   "outputs": [],
   "source": []
  }
 ],
 "metadata": {
  "kernelspec": {
   "display_name": "R",
   "language": "R",
   "name": "ir"
  },
  "language_info": {
   "codemirror_mode": "r",
   "file_extension": ".r",
   "mimetype": "text/x-r-source",
   "name": "R",
   "pygments_lexer": "r",
   "version": "3.6.1"
  }
 },
 "nbformat": 4,
 "nbformat_minor": 4
}
