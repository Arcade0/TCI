{
 "cells": [
  {
   "cell_type": "code",
   "execution_count": null,
   "metadata": {},
   "outputs": [],
   "source": [
    "install.packages('pheatmap')\n",
    "install.packages('circlize')\n",
    "install.packages('reshape2')\n",
    "install.packages('RColorBrewer')\n",
    "\n",
    "if (!requireNamespace(\"BiocManager\", quietly = TRUE))\n",
    "    install.packages(\"BiocManager\")\n",
    "BiocManager::install(\"ComplexHeatmap\", version = \"3.8\")"
   ]
  },
  {
   "cell_type": "code",
   "execution_count": null,
   "metadata": {},
   "outputs": [],
   "source": [
    "library(grid)\n",
    "library(pheatmap)\n",
    "library(ComplexHeatmap)\n",
    "library(circlize)\n",
    "library(reshape2)\n",
    "library(RColorBrewer)"
   ]
  },
  {
   "cell_type": "code",
   "execution_count": null,
   "metadata": {
    "code_folding": []
   },
   "outputs": [],
   "source": [
    "bic_hm = function(df, famous_driver=1,color_l = c('#F5F4F4','#4DAF4A'), breaks = c(0,1), save_c=0, save_path){\n",
    "    if (famous_driver==1){\n",
    "        df  = df[,c('PTEN','PIK3CA','RB1','CCNE1','TP53','ATM','KRAS','NF1',\n",
    "                    'SMARCA4','CREBBP','ARID1A','FBXW7','PIK3R1','FAT1','APC',\n",
    "                    'MTOR','SETD2','EGFR','VHL','CDK4','NOTCH1','BRAF','E2F3')]\n",
    "    }\n",
    "    dfn = apply(df, 2, as.numeric)\n",
    "    rownames(dfn) = rownames(df)\n",
    "    lis = pheatmap(dfn, color = color_l, legend_breaks = breaks)\n",
    "    rdf = dfn[lis$tree_row$order, lis$tree_col$order]\n",
    "    if (save_c==1){\n",
    "        write.csv(rdf, save_path, quote=F, row.names=T)\n",
    "    }\n",
    "    return(rdf)\n",
    "}"
   ]
  },
  {
   "cell_type": "code",
   "execution_count": null,
   "metadata": {
    "code_folding": []
   },
   "outputs": [],
   "source": [
    "cp_hm = function(df0, df1, \n",
    "                 Subtype_c=1, Subtype, Subtype_n, \n",
    "                 color_ro1=c(1,2,3), color_r1=c('#F5F4F4','#E81409','#09EF24'), color_ro2=c(1,5),color_r2=c('#D5E80D','#0FB8E2'), \n",
    "                 chr_c=1, chr, color_ro3=c(1,5), color_r3=c('#D5E80D', '#0FB8E2'), \n",
    "                 figure_t='Sample-SGA heatmap', col_t='SGA', row_t='Sample',legend_l=c('0', 'Prediced','Original','Col'), \n",
    "                 font_size=9, col_bar_height = unit(10,'mm'), row_bar_name = 'Cancer Type',  row_bar_width = unit(10, \"mm\")\n",
    "                ){\n",
    "\n",
    "    df0 = df0[rownames(df1), colnames(df1)]\n",
    "    df0[is.na(df0)] = 0\n",
    "    df = df1 + 2*df0\n",
    "    dfn = apply(df, 2, as.numeric)\n",
    "    rownames(dfn) = rownames(df1)\n",
    "    \n",
    "    getPalette = colorRampPalette(brewer.pal(9, \"Set1\"))\n",
    "    color_l1 = getPalette(max(dfn)+1)\n",
    "    color_l1[color_ro1] = color_r1\n",
    "    \n",
    "    if (Subtype_c == 1){\n",
    "        \n",
    "        Subtype = unique(Subtype)\n",
    "        rownames(Subtype) = Subtype$sample\n",
    "        stn = data.frame(Subtype[rownames(df),3])\n",
    "        colnames(stn) = 'Cancer Type'\n",
    "\n",
    "        color_l2 = getPalette(length(Subtypenu[,2])) \n",
    "        color_l2[color_ro2] =  color_r2\n",
    "        if (chr_c == 1){\n",
    "\n",
    "            chrn = data.frame(chr[colnames(df),1])\n",
    "            colnames(chrn) = 'Chromsome'\n",
    "\n",
    "            color_l3 = getPalette(length(unique(chrn$Chromsome))) \n",
    "            color_l3[color_ro3] = color_r3\n",
    "            names(color_l3) = sort(unique(chrn$Chromsome))\n",
    "\n",
    "            ha = HeatmapAnnotation(chrn, col = list(Chromsome = color_l3), height = col_bar_height)\n",
    "            Heatmap(dfn, name = figure_t, row_title = row_t, column_title = col_t, column_names_gp = gpar(fontsize = font_size), \n",
    "                    col = color_l1, heatmap_legend_param = list(at = min(dfn):max(dfn), labels = legend_l), \n",
    "                    show_row_names = F, show_column_names = T, top_annotation = ha, cluster_columns = F, cluster_rows = F) +\n",
    "            Heatmap(stn, name = row_bar_name, col = color_l2, heatmap_legend_param = list(at = Subtypenu[,2], labels =as.character(Subtypenu[,1])), \n",
    "                    width = row_bar_width)\n",
    "        }\n",
    "    } \n",
    "    else{\n",
    "        if (chr_c == 1){\n",
    "            chrn = data.frame(chr[colnames(df),1])\n",
    "            colnames(chrn) = 'Chromsome'\n",
    "\n",
    "            color_l3 = getPalette(length(unique(chrn$Chromsome))) \n",
    "            color_l3[color_ro3] = color_r3\n",
    "            names(color_l3) = sort(unique(chrn$Chromsome))\n",
    "\n",
    "            ha = HeatmapAnnotation(chrn, col = list(Chromsome = color_l3), height = col_bar_height)\n",
    "            Heatmap(dfn, name = figure_t, row_title = row_t, column_title = col_t, column_names_gp = gpar(fontsize = font_size), \n",
    "                    col = color_l1, heatmap_legend_param = list(at = min(dfn):max(dfn), labels = legend_l), \n",
    "                    show_row_names = F, show_column_names = T, top_annotation = ha, cluster_columns = F, cluster_rows = F)\n",
    "        }\n",
    "    }\n",
    "}"
   ]
  },
  {
   "cell_type": "code",
   "execution_count": null,
   "metadata": {},
   "outputs": [],
   "source": [
    "sub_hm = function(df0, df, Subtype, Subtypenu, save_name, save_path, famous_driver=0, hei, wid){\n",
    "\n",
    "    if (famous_driver==1){\n",
    "        df  = df[,c('PTEN','PIK3CA','RB1','CCNE1','TP53','ATM','KRAS','NF1',\n",
    "                    'SMARCA4','CREBBP','ARID1A','FBXW7','PIK3R1','FAT1','APC'\n",
    "                    ,'MTOR','SETD2','EGFR','VHL','CDK4','NOTCH1','BRAF','E2F3')]\n",
    "    }\n",
    "    \n",
    "    Subtype = unique(Subtype)\n",
    "    rownames(Subtype) = Subtype$sample\n",
    "    \n",
    "    for (i in Subtypenu[,'X_primary_disease_id']){\n",
    "        df_i = df[rownames(df)%in%rownames(Subtype[Subtype[,'X_primary_disease_id']==i,]),]\n",
    "        file_name = paste(save_path, save_name, i, 'csv', sep =c('/', '_', '.'))\n",
    "        rdf_i = bic_hm(dfi, file_name)   \n",
    "        \n",
    "        pdf(filename=file_name, height = hei, width = wid )\n",
    "        cp_hm(df0,rdf_i,chr)\n",
    "        dev.off()\n",
    "    }\n",
    "} "
   ]
  },
  {
   "cell_type": "code",
   "execution_count": null,
   "metadata": {},
   "outputs": [],
   "source": [
    "onco_print = function(df1, df0, Subtype){\n",
    "\n",
    "    Subtype = unique(Subtype)\n",
    "    rownames(Subtype) = Subtype$sample\n",
    "\n",
    "    famous_driver=0\n",
    "    if (famous_driver==1){\n",
    "        df1 = df1[,c('PTEN','PIK3CA','RB1','CCNE1','TP53','ATM','KRAS','NF1',\n",
    "                    'SMARCA4','CREBBP','ARID1A','FBXW7','PIK3R1','FAT1','APC'\n",
    "                    ,'MTOR','SETD2','EGFR','VHL','CDK4','NOTCH1','BRAF','E2F3')]\n",
    "    }\n",
    "\n",
    "    for (i in Subtypenu[,'X_primary_disease_id']){\n",
    "        df1_i = df1[rownames(df1)%in%rownames(Subtype[Subtype[,'X_primary_disease_id']==i,]),]\n",
    "        df0_i = df0[rownames(df1_i), colnames(df1_i)]\n",
    "        df0_i[is.na(df0_i)] = 0\n",
    "        \n",
    "        dfm1_i = apply(df1_i, 2, as.numeric)*i\n",
    "        rownames(dfm1_i) = rownames(df1_i)\n",
    "        \n",
    "        dfm0_i = apply(df0_i, 2, as.numeric)*i\n",
    "        rownames(dfm0_i) = rownames(df1_i)\n",
    "        }\n",
    "        mat_list = list(Protein_Activation=t(dfm1_i), Mutation=t(dfm0_i))    \n",
    "        col = c(Protein_Activation = \"red\", Mutation = \"green\")\n",
    "        \n",
    "        oncoPrint(mat_list,alter_fun = list(\n",
    "            Protein_Activation = function(x, y, w, h) grid.rect(x, y, w, h, gp = gpar(fill = col['Protein_Activation'], col = NA)),\n",
    "            Mutation = function(x, y, w, h) grid.rect(x, y, w, 0.5*h, gp = gpar(fill = col['Mutation'], col = NA))), col = col)\n",
    "\n",
    "\n",
    "    pdf(file='onco_print.pdf', height = 4, width = 10)   \n",
    "    onco_print(df1, df0, Subtype)\n",
    "    dev.off()\n",
    "}"
   ]
  },
  {
   "cell_type": "code",
   "execution_count": null,
   "metadata": {
    "code_folding": []
   },
   "outputs": [],
   "source": [
    "####total####\n",
    "df0 =read.csv('Pre/TotalPre/S_Am.csv', row.names = 1) \n",
    "df1 = read.csv('S_Are/Total/Input/S_Are.csv', row.names = 1) \n",
    "Subtype = read.csv('Pre/TotalPre/Subtype.csv') \n",
    "Subtypenu = read.csv('Pre/TotalPre/Subtypenumbers.csv') \n",
    "chr = read.csv('Pre/TotalPre/Chromosome.csv', row.names = 1)"
   ]
  },
  {
   "cell_type": "code",
   "execution_count": null,
   "metadata": {
    "code_folding": []
   },
   "outputs": [],
   "source": [
    "df1[df1>0.85] = 1\n",
    "df1[df1<=0.85] = 0\n",
    "df1 = bic_hm(df1)\n",
    "\n",
    "#pdf(file='S_Are1a0.pdf', width=8, height=5)\n",
    "cp_hm(df0=df0, df1=df1, Subtype=Subtype, Subtype_n=Subtypenu, chr=chr)\n",
    "#dev.off()"
   ]
  },
  {
   "cell_type": "code",
   "execution_count": null,
   "metadata": {},
   "outputs": [],
   "source": [
    "cp_hm(df0=df0, df1=df1, Subtype=Subtype, Subtype_n=Subtypenu, chr=chr)"
   ]
  },
  {
   "cell_type": "code",
   "execution_count": null,
   "metadata": {},
   "outputs": [],
   "source": [
    "####total subtype####\n",
    "df0 =read.csv('Pre/TotalPre/S_Am.csv', row.names=1) \n",
    "df1 = read.csv('Pre/TotalPre/S_Am.csv', row.names=1) "
   ]
  },
  {
   "cell_type": "code",
   "execution_count": null,
   "metadata": {},
   "outputs": [],
   "source": [
    "Subtype = read.csv('Pre/TotalPre/Subtype.csv') \n",
    "Subtypenu = read.csv('Pre/TotalPre/Subtypenumbers.csv') \n",
    "chr = read.csv('Pre/TotalPre/Chromosome.csv', row.names=1)"
   ]
  },
  {
   "cell_type": "code",
   "execution_count": null,
   "metadata": {},
   "outputs": [],
   "source": [
    "picktype(data1, 'subtype0',Subtype)\n",
    "bclust('subtype0')\n",
    "saveplott(data0,'subtype0', chr, 8000,5000)"
   ]
  },
  {
   "cell_type": "code",
   "execution_count": null,
   "metadata": {},
   "outputs": [],
   "source": [
    "####subEM####\n",
    "df0 =read.csv('PreTotalPre/S_Am.csv', row.names = 1)  \n",
    "chr = read.csv('Pre/Totalpre/Chromosomes.csv', row.names = 1)\n",
    "\n",
    "bclust('Allgene/Input/data1')\n",
    "saveplott(data0,'Allgene/Input/data1', chr, 8000,5000)"
   ]
  }
 ],
 "metadata": {
  "kernelspec": {
   "display_name": "R",
   "language": "R",
   "name": "ir"
  },
  "language_info": {
   "codemirror_mode": "r",
   "file_extension": ".r",
   "mimetype": "text/x-r-source",
   "name": "R",
   "pygments_lexer": "r",
   "version": "3.5.1"
  }
 },
 "nbformat": 4,
 "nbformat_minor": 2
}
