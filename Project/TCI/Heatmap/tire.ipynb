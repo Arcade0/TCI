{
 "cells": [
  {
   "cell_type": "code",
   "execution_count": null,
   "metadata": {},
   "outputs": [],
   "source": [
    "library(pheatmap)"
   ]
  },
  {
   "cell_type": "code",
   "execution_count": null,
   "metadata": {},
   "outputs": [],
   "source": [
    "S_Am = read.csv('Input/S_Am.csv', row.names=1)\n",
    "S_Ad = read.csv('Input/S_Atf.csv', row.names=1)\n",
    "S_Dm = read.csv('Input/S_Dm.csv', row.names=1)\n",
    "A_D = read.csv('Input/A_D.csv', row.names=1)"
   ]
  },
  {
   "cell_type": "code",
   "execution_count": null,
   "metadata": {},
   "outputs": [],
   "source": [
    "S_Ad[S_Ad>0.85] = 1\n",
    "S_Ad[S_Ad<=0.85] = 0\n",
    "S_Adm = S_Ad + 2*S_Am"
   ]
  },
  {
   "cell_type": "code",
   "execution_count": null,
   "metadata": {},
   "outputs": [],
   "source": [
    "RB1list = c('RB1', 'CDK4', 'CCND1', 'TP53', 'CDKN1A', 'CDKN2A', 'CDKN2B', 'E2F3')\n",
    "EGFRlist = c('EGFR', 'KRAS', 'NRAS', 'AKT1', 'PIK3CA', 'PIK3R1', 'RAF1', 'BRAF')\n",
    "for (i in 1:length(RB1list)){\n",
    "    assign(paste('S_Am', RB1list[i], sep='_'), S_Am[S_Am[RB1list[i]]==1,RB1list])\n",
    "    #pheatmap(get(paste('S_Am', RB1list[i], sep='_')))\n",
    "}\n",
    "\n",
    "for (i in 1:length(RB1list)){\n",
    "    assign(paste('S_Ad', RB1list[i], sep='_'), S_Ad[S_Ad[RB1list[i]]==1,RB1list])\n",
    "    #pheatmap(get(paste('S_Ad', RB1list[i], sep='_')))  \n",
    "}"
   ]
  },
  {
   "cell_type": "code",
   "execution_count": null,
   "metadata": {},
   "outputs": [],
   "source": [
    "for (i in 1:length(RB1list)){\n",
    "    name = paste('S_Adm', RB1list[i], sep='_')\n",
    "    namem = paste(name, 'm', sep='_')\n",
    "    value = S_Adm[S_Adm[RB1list[i]]>=2,RB1list]\n",
    "    valuea = value\n",
    "    valuea[valuea>1] = 1\n",
    "    valuem = colSums(valuea)/dim(valuea)[1]\n",
    "    assign(name, value)\n",
    "    assign(namem, valuem)\n",
    "    print(get(namem))\n",
    "}\n"
   ]
  },
  {
   "cell_type": "code",
   "execution_count": null,
   "metadata": {},
   "outputs": [],
   "source": [
    "for (i in 1:length(RB1list)){\n",
    "    assign(paste('S_Adm', EGFRlist[i], sep='_'), S_Adm[S_Adm[EGFRlist[i]]>=2,EGFRlist])\n",
    "    pheatmap(get(paste('S_Adm', EGFRlist[i], sep='_')))  \n",
    "}"
   ]
  }
 ],
 "metadata": {
  "kernelspec": {
   "display_name": "R",
   "language": "R",
   "name": "ir"
  },
  "language_info": {
   "codemirror_mode": "r",
   "file_extension": ".r",
   "mimetype": "text/x-r-source",
   "name": "R",
   "pygments_lexer": "r",
   "version": "3.6.1"
  }
 },
 "nbformat": 4,
 "nbformat_minor": 4
}
