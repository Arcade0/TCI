{
 "cells": [
  {
   "cell_type": "code",
   "execution_count": null,
   "metadata": {},
   "outputs": [],
   "source": [
    "####pick tumor type information####\n",
    "St = read.csv('Total/Input/St.csv',row.names=1)\n",
    "\n",
    "Sname= as.character(St[,1])\n",
    "for (i in (1:12804)){\n",
    "  Sname[i] = substring(Sname[i], 1,12)\n",
    "}\n",
    "St[,1]= as.factor(Sname)\n",
    "\n",
    "Dt = data.frame(unique(St[,4]))\n",
    "Dt[,2] = rownames(Dt)\n",
    "colnames(Dt)=c('X_primary_disease', 'X_primary_disease_id')\n",
    "StDt = merge(St,Dt,all = F)\n",
    "StDt = StDt[,c(2,4,3,1,5)]\n",
    "SDt = Dt[c(4,7,8,9,11,12,14,15,17,18,19,20,21,22,26,28),]\n",
    "write.csv(StDt,'Total/Output/Subtype.csv',quote=F, row.names = F)\n",
    "write.csv(SDt,'Total/Output/Subtypenumers.csv',quote=F, row.names = F)"
   ]
  },
  {
   "cell_type": "code",
   "execution_count": null,
   "metadata": {
    "scrolled": true
   },
   "outputs": [],
   "source": [
    "####predice BRCA subtype####\n",
    "if (!requireNamespace(\"BiocManager\", quietly = TRUE))\n",
    "install.packages(\"BiocManager\")\n",
    "BiocManager::install(\"genefu\", version = \"3.8\")\n",
    "library(genefu)\n",
    "load('BRCA/Input/gexpr.v20160321.RData')\n",
    "genes.idNsymbol[1:29,1] = genes.idNsymbol[1:29,2] #ajust ?\n",
    "rownames(genes.idNsymbol) = genes.idNsymbol[,1]\n",
    "datab = read.csv('BRCA/Input/S_Atf_11.csv',row.names = 1)\n",
    "dataexp = gexpr.tumors[rownames(datab),]\n",
    "colnames(genes.idNsymbol) = c('probe', 'EntrezGene.ID', 'Gene.Symbol')\n",
    "colnames(dataexp) = genes.idNsymbol[,1]\n",
    "SubtypePredictions<-molecular.subtyping(sbt.model = \"pam50\",data = dataexp,annot = genes.idNsymbol,do.mapping = TRUE)\n",
    "Ssubt = data.frame(SubtypePredictions$subtype)\n",
    "colnames(Ssubt) = 'subtype'\n",
    "Ssubt$sample = rownames(Ssubt)\n",
    "subtn = data.frame(unique(Ssubt$subtype))\n",
    "colnames(subtn) = 'subtype'\n",
    "subtn$number = rownames(subtn)\n",
    "Ssubtn = merge(Ssubt,subtn,all = F )\n",
    "write.csv(Ssubtn, 'BRCA/Output/subtype.csv',quote=F, row.names = F)\n",
    "write.csv(subtn, 'BRCA/Output/subtypenumbers.csv',quote=F, row.names = F)"
   ]
  },
  {
   "cell_type": "code",
   "execution_count": null,
   "metadata": {
    "scrolled": true
   },
   "outputs": [],
   "source": [
    "####Chromosome####\n",
    "library(biomaRt)\n",
    "genelist = colnames(read.csv('Total/Input/S_Am.csv', row.names=1))\n",
    "plant<-useMart(\"ensembl\")\n",
    "listDatasets(plant)\n",
    "mart <- useDataset(\"hsapiens_gene_ensembl\", useMart(\"ensembl\"))\n",
    "listFilters(mart)\n",
    "hg_symbols<- getBM(attributes=c(\"chromosome_name\"), filters= 'name', values = genelist, mart = mart)"
   ]
  },
  {
   "cell_type": "code",
   "execution_count": null,
   "metadata": {
    "scrolled": true
   },
   "outputs": [],
   "source": [
    "#####org.Hs.eg.db####\n",
    "#source(\"https://bioconductor.org/biocLite.R\")\n",
    "#biocLite('org.Hs.eg.db')\n",
    "library(org.Hs.eg.db)\n",
    "keytypes(org.Hs.eg.db)\n",
    "genelist = colnames(read.csv('Total/Input/S_Am.csv', row.names=1))\n",
    "genelistn = sub(\"\\\\.\",'\\\\-',genelist)\n",
    "chr = select(org.Hs.eg.db, keys=genelistn, keytype=\"SYMBOL\",columns='CHR')\n",
    "addlist = chr[is.na(chr[,2]),]\n",
    "chr[237,2] = 11\n",
    "chr[238,2] = 16\n",
    "chr[,2] = sub(\"X\",'23',chr$CHR)\n",
    "chr[,1] = sub(\"\\\\-\",'\\\\.',genelist)\n",
    "write.csv(chr,'Total/Output/Chromosome.csv',row.names = F, quote = F)"
   ]
  }
 ],
 "metadata": {
  "kernelspec": {
   "display_name": "R",
   "language": "R",
   "name": "ir"
  },
  "language_info": {
   "codemirror_mode": "r",
   "file_extension": ".r",
   "mimetype": "text/x-r-source",
   "name": "R",
   "pygments_lexer": "r",
   "version": "3.6.1"
  }
 },
 "nbformat": 4,
 "nbformat_minor": 4
}
