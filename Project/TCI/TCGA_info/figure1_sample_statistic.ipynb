{
 "cells": [
  {
   "cell_type": "markdown",
   "metadata": {},
   "source": [
    "# Figures to show the Sample Information"
   ]
  },
  {
   "cell_type": "markdown",
   "metadata": {},
   "source": [
    "## Import package"
   ]
  },
  {
   "cell_type": "code",
   "execution_count": 2,
   "metadata": {
    "ExecuteTime": {
     "end_time": "2020-02-17T15:39:39.681628Z",
     "start_time": "2020-02-17T15:39:39.454326Z"
    }
   },
   "outputs": [],
   "source": [
    "import pandas as pd\n",
    "import numpy as np\n",
    "import matplotlib.pyplot as plt"
   ]
  },
  {
   "cell_type": "markdown",
   "metadata": {
    "ExecuteTime": {
     "end_time": "2020-02-17T15:41:54.198989Z",
     "start_time": "2020-02-17T15:41:54.196864Z"
    }
   },
   "source": [
    "## Sample statistic"
   ]
  },
  {
   "cell_type": "markdown",
   "metadata": {},
   "source": [
    "### Read data"
   ]
  },
  {
   "cell_type": "code",
   "execution_count": 16,
   "metadata": {
    "ExecuteTime": {
     "end_time": "2020-02-17T15:40:53.618398Z",
     "start_time": "2020-02-17T15:40:53.598382Z"
    }
   },
   "outputs": [
    {
     "name": "stdout",
     "output_type": "stream",
     "text": [
      "                                  X_primary_disease  X_primary_disease_id\n",
      "TCGA-BT-A2LA           bladder urothelial carcinoma                    12\n",
      "TCGA-S5-AA26           bladder urothelial carcinoma                    12\n",
      "TCGA-ZF-A9RM           bladder urothelial carcinoma                    12\n",
      "TCGA-XF-AAMJ           bladder urothelial carcinoma                    12\n",
      "TCGA-CU-A3YL           bladder urothelial carcinoma                    12\n",
      "...                                             ...                   ...\n",
      "TCGA-D1-A17H  uterine corpus endometrioid carcinoma                    21\n",
      "TCGA-A5-A0VQ  uterine corpus endometrioid carcinoma                    21\n",
      "TCGA-AX-A063  uterine corpus endometrioid carcinoma                    21\n",
      "TCGA-AX-A06L  uterine corpus endometrioid carcinoma                    21\n",
      "TCGA-AP-A0LH  uterine corpus endometrioid carcinoma                    21\n",
      "\n",
      "[5097 rows x 2 columns]\n"
     ]
    }
   ],
   "source": [
    "tcga_subtype = pd.read_csv(\"Pre/Input/TCGA_subtype.csv\", index_col=0, header=0)\n",
    "tcga_subtype_code = pd.read_csv(\"Pre/Input/TCGA_subtypecode.csv\", index_col=None, header=0)\n",
    "S_A = pd.read_csv(\"EM/Input/S_A.csv\", index_col=0, header=0)\n",
    "\n",
    "tcga_subtype = tcga_subtype[~tcga_subtype.index.duplicated(keep='first')]\n",
    "tcga_m_df = tcga_subtype.loc[tcga_subtype.index & S_A.index]\n",
    "tcga_new_df = tcga_m_df.merge(tcga_subtype_code)\n",
    "tcga_plt_df = pd.DataFrame(tcga_new_df[\"X_AB\"].value_counts())\n",
    "tcga_plt_df.rename(index={'COADREAD':'COAD/READ'}, inplace=True)"
   ]
  },
  {
   "cell_type": "code",
   "execution_count": 6,
   "metadata": {},
   "outputs": [],
   "source": [
    "gdsc_subtype = pd.read_csv(\"Pre/Input/GDSC subtype.csv\", index_col=0, header=0)\n",
    "gdsc_subtype = gdsc_subtype[~gdsc_subtype.index.duplicated(keep='first')]\n",
    "gdsc_plt_df = pd.DataFrame(gdsc_subtype[\"TCGA Label\"].value_counts())"
   ]
  },
  {
   "cell_type": "markdown",
   "metadata": {},
   "source": [
    "### Save Type"
   ]
  },
  {
   "cell_type": "code",
   "execution_count": 28,
   "metadata": {},
   "outputs": [
    {
     "name": "stdout",
     "output_type": "stream",
     "text": [
      "                        X_primary_disease      X_AB  X_primary_disease_id\n",
      "0                 prostate adenocarcinoma      PRAD                     4\n",
      "1     head & neck squamous cell carcinoma      HNSC                     7\n",
      "2                    esophageal carcinoma      ESCA                     8\n",
      "3                    colon adenocarcinoma  COADREAD                     9\n",
      "4               breast invasive carcinoma      BRCA                    11\n",
      "5            bladder urothelial carcinoma      BLCA                    12\n",
      "6         kidney papillary cell carcinoma      PRCC                    14\n",
      "7             kidney clear cell carcinoma      KIRC                    15\n",
      "8                   rectum adenocarcinoma  COADREAD                    17\n",
      "9       ovarian serous cystadenocarcinoma        OV                    18\n",
      "10                    lung adenocarcinoma      LUAD                    19\n",
      "11         liver hepatocellular carcinoma      LIHC                    20\n",
      "12  uterine corpus endometrioid carcinoma      UCEC                    21\n",
      "13                glioblastoma multiforme       GBM                    22\n",
      "14                 stomach adenocarcinoma      STAD                    26\n",
      "15           lung squamous cell carcinoma      LUSC                    28\n"
     ]
    }
   ],
   "source": [
    "print(tcga_subtype_code)\n",
    "code_l = list(tcga_subtype_code[\"X_primary_disease_id\"])\n",
    "for code in code_l:\n",
    "    idx_l = []\n",
    "    for i in range(tcga_m_df.shape[0]):\n",
    "        if tcga_m_df.iloc[i, 1] == code:\n",
    "            idx_l.append(tcga_m_df.index[i])\n",
    "    S_Ai = S_A.loc[idx_l, :]\n",
    "    S_Ai.to_csv(\"EM/Input/S_Asb/S_A_%s.csv\"%code, index=True, header=True)"
   ]
  },
  {
   "cell_type": "code",
   "execution_count": 29,
   "metadata": {},
   "outputs": [
    {
     "name": "stdout",
     "output_type": "stream",
     "text": [
      "(430, 634)\n"
     ]
    },
    {
     "data": {
      "text/plain": [
       "0"
      ]
     },
     "execution_count": 29,
     "metadata": {},
     "output_type": "execute_result"
    }
   ],
   "source": [
    "S_A9 = pd.read_csv(\"EM/Input/S_Asb/S_A_9.csv\", index_col=0, header=0)\n",
    "S_A17 = pd.read_csv(\"EM/Input/S_Asb/S_A_17.csv\", index_col=0, header=0)\n",
    "S_A17 = pd.concat([S_A9, S_A17], 0)\n",
    "print(S_A17.shape)\n",
    "S_A17.to_csv(\"EM/Input/S_Asb/S_A_17.csv\", index=True, header=True)\n",
    "os.system(\"rm EM/Input/S_Asb/S_A_9.csv\")"
   ]
  },
  {
   "cell_type": "code",
   "execution_count": 30,
   "metadata": {},
   "outputs": [],
   "source": [
    "import os\n",
    "file_l = os.listdir(\"EM/Input/S_Asb/\")\n",
    "for i in range(tcga_subtype_code.shape[0]):\n",
    "    for file in file_l:\n",
    "        os.system(\"mv EM/Input/S_Asb/%s EM/Input/S_Asb/%s\" % (file, file.replace(\"_\" + str(tcga_subtype_code.iloc[i, 2]), \"_\" + tcga_subtype_code.iloc[i, 1])))"
   ]
  },
  {
   "cell_type": "markdown",
   "metadata": {},
   "source": [
    "### Plot"
   ]
  },
  {
   "cell_type": "code",
   "execution_count": 91,
   "metadata": {
    "ExecuteTime": {
     "end_time": "2020-02-17T21:21:15.614932Z",
     "start_time": "2020-02-17T21:21:15.431810Z"
    },
    "collapsed": true,
    "jupyter": {
     "outputs_hidden": true
    }
   },
   "outputs": [
    {
     "name": "stderr",
     "output_type": "stream",
     "text": [
      "/home/zliu/anaconda3/lib/python3.7/site-packages/ipykernel_launcher.py:23: FutureWarning: \n",
      "Passing list-likes to .loc or [] with any missing label will raise\n",
      "KeyError in the future, you can use .reindex() as an alternative.\n",
      "\n",
      "See the documentation here:\n",
      "https://pandas.pydata.org/pandas-docs/stable/user_guide/indexing.html#deprecate-loc-reindex-listlike\n"
     ]
    },
    {
     "data": {
      "image/png": "[encoded data removed]",
      "text/plain": [
       "<Figure size 1200x600 with 2 Axes>"
      ]
     },
     "metadata": {},
     "output_type": "display_data"
    }
   ],
   "source": [
    "# Fixing random state for reproducibility\n",
    "np.random.seed(19680801)\n",
    "plt.rcdefaults()\n",
    "fig, (ax1, ax2) = plt.subplots(1, 2,figsize=(12, 6), tight_layout=True)\n",
    "\n",
    "# Example data\n",
    "y_l = list(tcga_plt_df.index)\n",
    "y_pos = np.arange(len(y_l))\n",
    "x_value = tcga_plt_df[\"X_AB\"]\n",
    "\n",
    "# Plot\n",
    "ax1.barh(y_pos, x_value, align='center')\n",
    "ax1.set_yticks(y_pos)\n",
    "ax1.set_yticklabels(y_l)\n",
    "ax1.invert_yaxis()  # labels read top-to-bottom\n",
    "ax1.set_xlabel(\"Count of each cancer type in TCGA dataset\")\n",
    "ax1.set_ylabel(\"Cancer type\")\n",
    "ax1.set_title(\"(a)\", loc=\"left\")\n",
    "\n",
    "# Example data\n",
    "y_l = list(tcga_plt_df.index)\n",
    "y_pos = np.arange(len(y_l))\n",
    "x_value = gdsc_plt_df.loc[tcga_plt_df.index][\"TCGA Label\"]\n",
    "\n",
    "# Plot\n",
    "ax2.barh(y_pos, x_value, align='center')\n",
    "ax2.set_yticks(y_pos)\n",
    "ax2.set_yticklabels(y_l)\n",
    "ax2.invert_yaxis()  # labels read top-to-bottom\n",
    "ax2.set_xlabel(\"Count of each cancer type in GDSC dataset\")\n",
    "ax2.set_title(\"(b)\", loc=\"left\")\n",
    "\n",
    "\n",
    "plt.show()"
   ]
  }
 ],
 "metadata": {
  "kernelspec": {
   "display_name": "Python 3",
   "language": "python",
   "name": "python3"
  },
  "language_info": {
   "codemirror_mode": {
    "name": "ipython",
    "version": 3
   },
   "file_extension": ".py",
   "mimetype": "text/x-python",
   "name": "python",
   "nbconvert_exporter": "python",
   "pygments_lexer": "ipython3",
   "version": "3.7.6"
  },
  "toc": {
   "base_numbering": 1,
   "nav_menu": {},
   "number_sections": true,
   "sideBar": true,
   "skip_h1_title": false,
   "title_cell": "Table of Contents",
   "title_sidebar": "Contents",
   "toc_cell": false,
   "toc_position": {},
   "toc_section_display": true,
   "toc_window_display": false
  },
  "varInspector": {
   "cols": {
    "lenName": 16,
    "lenType": 16,
    "lenVar": 40
   },
   "kernels_config": {
    "python": {
     "delete_cmd_postfix": "",
     "delete_cmd_prefix": "del ",
     "library": "var_list.py",
     "varRefreshCmd": "print(var_dic_list())"
    },
    "r": {
     "delete_cmd_postfix": ") ",
     "delete_cmd_prefix": "rm(",
     "library": "var_list.r",
     "varRefreshCmd": "cat(var_dic_list()) "
    }
   },
   "types_to_exclude": [
    "module",
    "function",
    "builtin_function_or_method",
    "instance",
    "_Feature"
   ],
   "window_display": false
  }
 },
 "nbformat": 4,
 "nbformat_minor": 4
}
