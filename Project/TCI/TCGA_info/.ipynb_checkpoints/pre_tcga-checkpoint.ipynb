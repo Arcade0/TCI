{
 "cells": [
  {
   "cell_type": "code",
   "execution_count": 2,
   "metadata": {
    "ExecuteTime": {
     "end_time": "2019-11-07T20:45:07.035825Z",
     "start_time": "2019-11-07T20:45:06.872772Z"
    }
   },
   "outputs": [],
   "source": [
    "import pandas as pd \n",
    "import numpy as np "
   ]
  },
  {
   "cell_type": "code",
   "execution_count": 125,
   "metadata": {
    "ExecuteTime": {
     "end_time": "2019-11-11T21:01:00.055066Z",
     "start_time": "2019-11-11T21:00:30.889085Z"
    }
   },
   "outputs": [],
   "source": [
    "subtype = pd.read_csv('EM/Input/Subtype.csv', index_col=0, header=0)\n",
    "S_A = pd.read_csv('EM/Input/S_A.csv', index_col=0, header=0)\n",
    "S_D = pd.read_csv('EM/Input/S_D.csv', index_col=0, header=0)"
   ]
  },
  {
   "cell_type": "code",
   "execution_count": 75,
   "metadata": {
    "ExecuteTime": {
     "end_time": "2019-11-11T16:10:06.042181Z",
     "start_time": "2019-11-11T16:09:55.977809Z"
    }
   },
   "outputs": [],
   "source": [
    "tri = pd.read_csv('EM/Input/Triplets_2.csv', index_col=0, header=0)\n",
    "tri.index = [ele[0:-3] for ele in tri.index]\n",
    "tri = tri.loc[tri['posterior']>0.5,:]"
   ]
  },
  {
   "cell_type": "code",
   "execution_count": 133,
   "metadata": {
    "ExecuteTime": {
     "end_time": "2019-11-11T21:51:44.260948Z",
     "start_time": "2019-11-11T21:45:26.730250Z"
    }
   },
   "outputs": [],
   "source": [
    "tri_idx = list(np.unique(tri.index))\n",
    "for i in [4,7,8,9,11,12,14,15,17,18,19,20,21,22,26,28]:\n",
    "    sub_idx = subtype.loc[subtype['X_primary_disease_id']==i,:].index\n",
    "    sub_tri_idx = [ele for ele in sub_idx if ele in tri_idx]\n",
    "    tr_idx = [ele for ele in sub_tri_idx if ele in S_A.index]\n",
    "\n",
    "    trii = tri.loc[tr_idx,:]\n",
    "    A_Di = pd.pivot_table(trii, values=['posterior'], \n",
    "           index=['cause_gene_name'], columns=['result_gene_name'], aggfunc='mean', fill_value=0)\n",
    "    \n",
    "    A_Di.columns = [ele[1] for ele in A_Di.columns]\n",
    "    sga_l = [ele for ele in A_Di.index if ele in S_A.columns]\n",
    "    deg_l = [ele for ele in A_Di.columns if ele in S_D.columns]\n",
    "\n",
    "    S_Ai = pd.pivot_table(trii, values=['posterior'], \n",
    "           index=trii.index, columns=['cause_gene_name'], aggfunc='mean', fill_value=0)\n",
    "    S_Ai.columns = [ele[1] for ele in S_Ai.columns]\n",
    "    S_Di = pd.pivot_table(trii, values=['posterior'], \n",
    "           index=trii.index, columns=['result_gene_name'], aggfunc='mean', fill_value=0)\n",
    "    S_Di.columns = [ele[1] for ele in S_Di.columns]\n",
    "\n",
    "    a = A_Di.loc[sga_l, deg_l]\n",
    "    d = a.loc[np.sum(a,1)[(np.sum(a, 1)>0)].index, np.sum(a)[(np.sum(a)>0)].index]\n",
    "    d[d>0] = 1\n",
    "    d[d<1] = 0\n",
    "    d.to_csv('EM/Input/A_Di/A_D_%i'%i+'.csv', index=True, header=True)\n",
    "    \n",
    "    S_Ai[S_Ai>0] = 1\n",
    "    S_Ai[S_Ai==0] = 0\n",
    "    S_Di[S_Di>0] = 1\n",
    "    S_Di[S_Di==0] = 0\n",
    "    S_Ai[d.index].to_csv('EM/Input/A_Di/S_A_%i'%i+'.csv', index=True, header=True)\n",
    "    S_Di[d.columns].to_csv('EM/Input/A_Di/S_D_%i'%i+'.csv', index=True, header=True)"
   ]
  }
 ],
 "metadata": {
  "kernelspec": {
   "display_name": "Python 3",
   "language": "python",
   "name": "python3"
  },
  "language_info": {
   "codemirror_mode": {
    "name": "ipython",
    "version": 3
   },
   "file_extension": ".py",
   "mimetype": "text/x-python",
   "name": "python",
   "nbconvert_exporter": "python",
   "pygments_lexer": "ipython3",
   "version": "3.7.7"
  },
  "toc": {
   "base_numbering": 1,
   "nav_menu": {},
   "number_sections": true,
   "sideBar": true,
   "skip_h1_title": false,
   "title_cell": "Table of Contents",
   "title_sidebar": "Contents",
   "toc_cell": false,
   "toc_position": {},
   "toc_section_display": true,
   "toc_window_display": false
  },
  "varInspector": {
   "cols": {
    "lenName": 16,
    "lenType": 16,
    "lenVar": 40
   },
   "kernels_config": {
    "python": {
     "delete_cmd_postfix": "",
     "delete_cmd_prefix": "del ",
     "library": "var_list.py",
     "varRefreshCmd": "print(var_dic_list())"
    },
    "r": {
     "delete_cmd_postfix": ") ",
     "delete_cmd_prefix": "rm(",
     "library": "var_list.r",
     "varRefreshCmd": "cat(var_dic_list()) "
    }
   },
   "types_to_exclude": [
    "module",
    "function",
    "builtin_function_or_method",
    "instance",
    "_Feature"
   ],
   "window_display": false
  }
 },
 "nbformat": 4,
 "nbformat_minor": 4
}
