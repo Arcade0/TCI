{
 "cells": [
  {
   "cell_type": "code",
   "execution_count": 46,
   "metadata": {},
   "outputs": [],
   "source": [
    "import numpy as np\n",
    "import pandas as pd\n",
    "import seaborn as sns\n",
    "import matplotlib.pyplot as plt\n",
    "from scipy import stats\n",
    "# plot to show convergency\n",
    "def plotw(x, y,a,b):\n",
    "    plt.axis([min(x)*0.9, max(x)*1.1,min(y)*0.9,max(y)*1.1])\n",
    "    plt.xlabel(a)\n",
    "    plt.ylabel(b)\n",
    "    plt.plot(x, y)\n",
    "    plt.show()\n",
    "\n",
    "#draw map\n",
    "def histgram(data,title,file_name):\n",
    "    n, bins, patches = plt.hist(x=data, bins='auto', color='#0504aa',alpha=0.7, rwidth=0.85)\n",
    "    plt.grid(axis='y', alpha=0.75)\n",
    "    plt.xlabel('Value')\n",
    "    plt.ylabel('Frequency')\n",
    "    plt.title(title)\n",
    "\n",
    "    maxfreq = n.max()\n",
    "    plt.ylim(ymax=np.ceil(maxfreq / 10) * 10 if maxfreq % 10 else maxfreq + 10)\n",
    "    plt.savefig('SGA')\n",
    "\n",
    "def desityfun0(data):\n",
    "    fig, ax = plt.subplots()\n",
    "    data.plot.kde(ax=ax, legend=False, title='desity function')\n",
    "    data.plot.hist(density=False, legend = False, ax=ax)\n",
    "    ax.set_ylabel('Probability')\n",
    "    ax.grid(axis='y')\n",
    "    ax.set_facecolor('#d8dcd6')\n",
    "    plt.show()\n",
    "    plt.savefig('books_read.png')\n",
    "\n",
    "def desityfun(x, ax0numer,axi1number):\n",
    "    fig,(ax0,ax1) = plt.subplots(nrows=2,figsize=(9,6))\n",
    "    ax0.hist(x,ax0numer,density=1,histtype='bar',facecolor='yellowgreen',alpha=0.75)\n",
    "    ax0.set_title('pdf')\n",
    "    ax1.hist(x,axi1number,densityj=1,histtype='bar',facecolor='pink',alpha=0.75,cumulative=True,rwidth=0.8)\n",
    "    ax1.set_title(\"cdf\")\n",
    "    fig.subplots_adjust(hspace=0.4)\n",
    "    plt.show()\n",
    "\n",
    "def errorcount(S_Amt, S_Atf): #S_Am, S_Atf\n",
    "    cutlist = list()\n",
    "    recalllist = list()\n",
    "    scountlist = list()\n",
    "    acountlist = list()\n",
    "    for i in range(101):\n",
    "        S_Adt = deepcopy(S_Atf)\n",
    "        S_Adt[S_Adt >= (i/100)] = 1\n",
    "        S_Adt[S_Adt < (i/100)] = 0\n",
    "\n",
    "        error = np.sum((S_Adt - S_Amt) ** 2)\n",
    "        errors = np.sum((S_Adt - S_Amt) ** 2, axis=1)\n",
    "        accuracy = 1 - error / S_Amt.shape[0]\n",
    "        accuracys = 1 - errors / S_Amt.shape[1]\n",
    "\n",
    "        h1 = S_Adt + S_Amt\n",
    "        h1[h1 < 1.5] = 0\n",
    "        TP = np.sum(h1)\n",
    "\n",
    "        h2 = S_Adt - S_Amt\n",
    "        h2[h2 < 0.5] = 0\n",
    "        FP = np.sum(h2)\n",
    "\n",
    "        h3 = S_Amt - S_Adt\n",
    "        h3[h3 < 0.5] = 0\n",
    "        FN = np.sum(h3)\n",
    "\n",
    "        e = 1\n",
    "        precision = (TP+e) / (TP + FP + 2*e)\n",
    "        recall = (TP+e) / (TP + FN + 2*e)\n",
    "        F1 = 2 * precision * recall / (precision + recall)\n",
    "\n",
    "        cutlist.append(i / 100)\n",
    "        scountlist.append(np.sum(S_Adt, axis=1))  # for each sample, #SGA\n",
    "        acountlist.append(np.sum(S_Adt, axis=0))  # for each SGA, #sample\n",
    "        recalllist.append(recall)\n",
    "    recall = turn(recalllist, 101, 1)\n",
    "    recall.columns = range(101)\n",
    "    scount = turn(scountlist, 101, 1)\n",
    "    scount.columns = range(101)\n",
    "    acount = turn(acountlist, 101, 1)\n",
    "    acount.columns = range(101)\n",
    "    return cutlist, scount, acount, recall\n",
    "\n",
    "def plotw(cutlist, scount, acount, recall):\n",
    "    recallmean = np.mean(recall,axis=0)\n",
    "    plotw(cutlist, recallmean, 'Cut valve', 'Recall')\n",
    "    acountmean = np.mean(acount,axis=0)\n",
    "    plotw(cutlist, acountmean, 'Cut valve', 'Average Sample count per SGA')\n",
    "    scountmean = np.mean(scount,axis=0)\n",
    "    plotw(cutlist, scountmean, 'Cut valve', 'Average SGA count per Sample')\n",
    "    plotw(scountmean, recallmean, 'Average Sample count per SGA', 'Recall')"
   ]
  },
  {
   "cell_type": "code",
   "execution_count": 55,
   "metadata": {},
   "outputs": [],
   "source": [
    "data0 = pd.read_csv('S_Am/Input/S_Am.csv', header=0, index_col=0)\n",
    "data = np.sum(data0)"
   ]
  },
  {
   "cell_type": "code",
   "execution_count": 37,
   "metadata": {},
   "outputs": [
    {
     "data": {
      "image/png": "[encoded data removed]",
      "text/plain": [
       "<Figure size 432x288 with 1 Axes>"
      ]
     },
     "metadata": {
      "needs_background": "light"
     },
     "output_type": "display_data"
    }
   ],
   "source": [
    "    fig, ax = plt.subplots()\n",
    "    data.plot.kde(ax=ax, legend=False, title='Protein Activation States Statistic')\n",
    "    data.plot.hist(density=False, legend =False, ax=ax)\n",
    "    ax.set_ylabel('Frequence')\n",
    "    ax.set_xlabel('Probability')\n",
    "    ax.grid(axis='y')\n",
    "    ax.set_facecolor('#d8dcd6')\n",
    "    plt.savefig('boo_read.png')"
   ]
  },
  {
   "cell_type": "code",
   "execution_count": 56,
   "metadata": {},
   "outputs": [
    {
     "name": "stderr",
     "output_type": "stream",
     "text": [
      "/anaconda3/lib/python3.7/site-packages/matplotlib/axes/_base.py:3610: MatplotlibDeprecationWarning: \n",
      "The `ymax` argument was deprecated in Matplotlib 3.0 and will be removed in 3.2. Use `top` instead.\n",
      "  alternative='`top`', obj_type='argument')\n"
     ]
    },
    {
     "data": {
      "image/png": "[encoded data removed]",
      "text/plain": [
       "<Figure size 432x288 with 1 Axes>"
      ]
     },
     "metadata": {
      "needs_background": "light"
     },
     "output_type": "display_data"
    }
   ],
   "source": [
    "histgram(data,'SGA distribution','SGA1 count')"
   ]
  },
  {
   "cell_type": "code",
   "execution_count": null,
   "metadata": {},
   "outputs": [],
   "source": []
  }
 ],
 "metadata": {
  "kernelspec": {
   "display_name": "Python 3",
   "language": "python",
   "name": "python3"
  },
  "language_info": {
   "codemirror_mode": {
    "name": "ipython",
    "version": 3
   },
   "file_extension": ".py",
   "mimetype": "text/x-python",
   "name": "python",
   "nbconvert_exporter": "python",
   "pygments_lexer": "ipython3",
   "version": "3.7.7"
  }
 },
 "nbformat": 4,
 "nbformat_minor": 4
}
