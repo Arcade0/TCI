{
 "cells": [
  {
   "cell_type": "markdown",
   "metadata": {},
   "source": [
    "# Import package"
   ]
  },
  {
   "cell_type": "code",
   "execution_count": 51,
   "metadata": {},
   "outputs": [],
   "source": [
    "import pandas as pd\n",
    "import numpy as np\n",
    "import fges_mcmc_py\n",
    "import os\n",
    "from node import node\n",
    "import seaborn as sns"
   ]
  },
  {
   "cell_type": "markdown",
   "metadata": {},
   "source": [
    "# Read Data"
   ]
  },
  {
   "cell_type": "code",
   "execution_count": 33,
   "metadata": {},
   "outputs": [],
   "source": [
    "S_A = pd.read_csv(\"EM/Input/S_Asb/S_A_BRCA.csv\", index_col=0, header=0)\n",
    "A_D = pd.read_csv(\"EM/Input/A_Do.csv\", index_col=0, header=0)\n",
    "S_D = pd.read_csv('EM/Input/S_D.csv', index_col=0, header=0)"
   ]
  },
  {
   "cell_type": "markdown",
   "metadata": {},
   "source": [
    "# Run using MCMC"
   ]
  },
  {
   "cell_type": "code",
   "execution_count": 31,
   "metadata": {},
   "outputs": [],
   "source": [
    "S_A_m, S_AD_m, sga_m, A_D_m = fges_mcmc_py.data_pp(S_A, S_A, S_D.loc[S_A.index,:], A_D, node[\"PI3K\"])\n",
    "A_D_p = deepcopy(A_D_m)\n",
    "A_D_p[\"index\"] = A_D_m.index\n",
    "edge = pd.melt(A_D_m, id_vars=\"index\", value_vars=A_D_m.columns[0:-1]).iloc[:, 0:2]\n",
    "edge.to_csv(\"Edge_test.csv\", index=False, header=False)\n",
    "S_A_m.to_csv(\"S_Ai_test.csv\", index=False, header=True)\n",
    "S_AD_m.to_csv(\"S_AD_test.csv\", index=False, header=True)\n",
    "\n",
    "exe_path = \"./MCMC/inferSGAInNetwork_TDI.exe\"\n",
    "m_path = \" -m \" + \"S_AD_test.csv\"\n",
    "i_path = \" -i \" + \"S_Ai_test.csv\"\n",
    "e_path = \" -e \" + \"Edge_test.csv\"\n",
    "o_path = \" -o \" + \"./ -x 100\"\n",
    "combine = exe_path + m_path + i_path + e_path + o_path\n",
    "os.system(combine)"
   ]
  },
  {
   "cell_type": "code",
   "execution_count": null,
   "metadata": {},
   "outputs": [],
   "source": [
    "S_A_d = S_A_m.loc[np.sum(S_A_m, 1) >= 1,:]\n",
    "sns.clustermap(S_A_d)\n",
    "\n",
    "S_PD_m = pd.read_csv(\"completeMatrix.csv\", index_col=None, header=0)\n",
    "S_P_m = S_PD_m[[ele for ele in S_PD_m.columns if \"sga\" in ele]]\n",
    "S_PD_m.index = S_A_m.index\n",
    "print(S_PD_m.index)\n",
    "\n",
    "sns.clustermap(S_PD_m.loc[S_A_d.index, A_D_m.iloc[:, 0:-1].columns])"
   ]
  },
  {
   "cell_type": "markdown",
   "metadata": {},
   "source": [
    "### FGES "
   ]
  },
  {
   "cell_type": "code",
   "execution_count": 60,
   "metadata": {},
   "outputs": [],
   "source": [
    "S_A_t = S_A[node[\"PI3K\"]]\n",
    "S_D_t = S_D.loc[S_A.index, S_D.columns & node[\"PI3K\"]]\n",
    "S_P_t = pd.read_csv(\"EM/Output/S_Ao_sb1/S_P_BRCA.csv\", index_col=0, header=0)[node[\"PI3K\"]]"
   ]
  },
  {
   "cell_type": "code",
   "execution_count": 61,
   "metadata": {},
   "outputs": [],
   "source": [
    "S_A_t.columns = [\"sga:\" + ele for ele in S_A_t.columns]\n",
    "S_D_t.columns = [\"deg:\" + ele for ele in S_D_t.columns]\n",
    "S_P_t.columns = [\"pro:\" + ele for ele in S_P_t.columns]"
   ]
  },
  {
   "cell_type": "code",
   "execution_count": null,
   "metadata": {},
   "outputs": [],
   "source": [
    "for ele in node[\"PI3K\"]:\n",
    "    "
   ]
  },
  {
   "cell_type": "code",
   "execution_count": 62,
   "metadata": {},
   "outputs": [
    {
     "data": {
      "text/plain": [
       "Index(['sga:PTEN', 'sga:PIK3CA', 'sga:PIK3R1', 'sga:AKT1', 'sga:PPP2R1A',\n",
       "       'sga:MTOR', 'sga:STK11', 'sga:RICTOR'],\n",
       "      dtype='object')"
      ]
     },
     "execution_count": 62,
     "metadata": {},
     "output_type": "execute_result"
    }
   ],
   "source": [
    "knowledge_path = \"Pathway/knowledeg_test.txt\"\n",
    "\n",
    "with open(knowledge_path, \"w\") as f:\n",
    "    f.write(\"/knowledge\\n\" + \"forbiddirect\\n\")\n",
    "\n",
    "with open(knowledge_path, \"a\") as f:\n",
    "    for i in forbid_l:\n",
    "        f.write(i[0] + \" \" + i[1] + \"\\n\")\n",
    "\n",
    "sga_s = \"1* \" + \" \".join([str(sga) for sga in S_A_t.columns])\n",
    "deg_s = \"2* \" + \" \".join([str(deg) for deg in S_D_t.columns])\n",
    "pro_s = \"3 \" + \" \".join([str(pro) for pro in S_P_t.columns])\n",
    "\n",
    "with open(knowledge_path, \"a\") as f:\n",
    "    f.write(\"requiredirect\\n\" + \"addtemporal\\n\" + sga_s + \"\\n\" + deg_s + \"\\n\" + pro_s)\n",
    "    \n",
    "with open(knowledge_path, \"a\") as f:\n",
    "    f.write(\"requiredirect\\n\" + \"addtemporal\\n\" + sga_s + \"\\n\" + deg_s + \"\\n\" + pro_s)"
   ]
  },
  {
   "cell_type": "code",
   "execution_count": null,
   "metadata": {},
   "outputs": [],
   "source": []
  }
 ],
 "metadata": {
  "kernelspec": {
   "display_name": "Python 3",
   "language": "python",
   "name": "python3"
  },
  "language_info": {
   "codemirror_mode": {
    "name": "ipython",
    "version": 3
   },
   "file_extension": ".py",
   "mimetype": "text/x-python",
   "name": "python",
   "nbconvert_exporter": "python",
   "pygments_lexer": "ipython3",
   "version": "3.7.7"
  }
 },
 "nbformat": 4,
 "nbformat_minor": 4
}
