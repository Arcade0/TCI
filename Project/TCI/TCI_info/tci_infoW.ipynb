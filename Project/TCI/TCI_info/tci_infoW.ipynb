{
 "cells": [
  {
   "cell_type": "code",
   "execution_count": 1,
   "metadata": {},
   "outputs": [],
   "source": [
    "####pick S_A, S_D from impute####\n",
    "import pandas as pd\n",
    "import numpy as np\n",
    "from pandas import Series, DataFrame"
   ]
  },
  {
   "cell_type": "code",
   "execution_count": 2,
   "metadata": {},
   "outputs": [],
   "source": [
    "def Tripletfilter(df):\n",
    "    df = df[df['posterior'] > 0.5]\n",
    "    A_D = df[['cause_gene_name','result_gene_name']]\n",
    "    A_Dc = A_D\n",
    "    A_Dc['count'] = 1\n",
    "    A_Dm = A_Dc.pivot_table(index=['cause_gene_name'], columns='result_gene_name', values=['count'], aggfunc=sum)\n",
    "    A_Dm = A_Dm.fillna(0)\n",
    "    A_Dm1 = A_Dm.loc[:, A_Dm.max()>5]\n",
    "    A_Dm2 = A_Dm1.loc[A_Dm1.sum(axis=1) > 50, :]\n",
    "    A_Dmh = A_Dm2\n",
    "    A_Dmh[A_Dmh>1] = 1\n",
    "    A_Dm3 = A_Dm2.loc[A_Dmh.sum(axis=1)>10,:]\n",
    "    A_Dm4 = A_Dm3.loc[:,A_Dmh.sum()>2]\n",
    "    return A_Dm4"
   ]
  },
  {
   "cell_type": "code",
   "execution_count": 29,
   "metadata": {},
   "outputs": [],
   "source": [
    "def data(df, A_Dm4):\n",
    "    S_A = df[['patient_name','cause_gene_name']]\n",
    "    S_Au = S_A.drop_duplicates()\n",
    "    S_Auc = S_Au\n",
    "    S_Auc['count'] = 1\n",
    "    S_Am = S_Auc.pivot_table(index = ['patient_name'], columns = 'cause_gene_name', values = ['count'])\n",
    "    S_Am = S_Am.fillna(0)\n",
    "    return S_Am"
   ]
  },
  {
   "cell_type": "code",
   "execution_count": null,
   "metadata": {},
   "outputs": [],
   "source": [
    "df = pd.read_csv(open('Input/Triplets_2.csv'))\n",
    "A_Dm4 = Tripletfilter(df)\n",
    "S_Am4 = data(df, A_Dm4)"
   ]
  },
  {
   "cell_type": "code",
   "execution_count": 90,
   "metadata": {},
   "outputs": [
    {
     "name": "stderr",
     "output_type": "stream",
     "text": [
      "/home/zliu/anaconda3/lib/python3.7/site-packages/ipykernel_launcher.py:5: SettingWithCopyWarning: \n",
      "A value is trying to be set on a copy of a slice from a DataFrame.\n",
      "Try using .loc[row_indexer,col_indexer] = value instead\n",
      "\n",
      "See the caveats in the documentation: http://pandas.pydata.org/pandas-docs/stable/indexing.html#indexing-view-versus-copy\n",
      "  \"\"\"\n"
     ]
    }
   ],
   "source": [
    "S_Am4 = data(df, A_Dm4)"
   ]
  },
  {
   "cell_type": "code",
   "execution_count": 100,
   "metadata": {},
   "outputs": [],
   "source": [
    "S_Am = pd.read_csv(open('Input/S_Am.csv'), index_col=0, header=0)"
   ]
  },
  {
   "cell_type": "code",
   "execution_count": 25,
   "metadata": {},
   "outputs": [],
   "source": [
    "A_Dm4.to_csv('Output/A_Dw.csv', index = True, header = True)\n",
    "S_Am.to_csv('Output/S_Amw.csv', index = True, header = True)"
   ]
  },
  {
   "cell_type": "code",
   "execution_count": 112,
   "metadata": {
    "scrolled": true
   },
   "outputs": [],
   "source": [
    "a = list(S_Am4.index)\n",
    "for i in range(len(S_Am4.index)):\n",
    "    a[i] = a[i][0:12]\n",
    "    "
   ]
  },
  {
   "cell_type": "code",
   "execution_count": 111,
   "metadata": {},
   "outputs": [],
   "source": [
    "b = list(S_Am4.columns)\n",
    "for i in range(len(S_Am4.columns)):\n",
    "    b[i] = b[i][1]"
   ]
  },
  {
   "cell_type": "code",
   "execution_count": 113,
   "metadata": {},
   "outputs": [],
   "source": [
    "S_Am4.index = a\n",
    "S_Am4.columns = b"
   ]
  },
  {
   "cell_type": "code",
   "execution_count": 115,
   "metadata": {},
   "outputs": [],
   "source": [
    "S_Am4.to_csv('Output/S_Amw.csv', index = True, header = True)"
   ]
  },
  {
   "cell_type": "code",
   "execution_count": null,
   "metadata": {},
   "outputs": [],
   "source": []
  }
 ],
 "metadata": {
  "kernelspec": {
   "display_name": "Python 3",
   "language": "python",
   "name": "python3"
  },
  "language_info": {
   "codemirror_mode": {
    "name": "ipython",
    "version": 3
   },
   "file_extension": ".py",
   "mimetype": "text/x-python",
   "name": "python",
   "nbconvert_exporter": "python",
   "pygments_lexer": "ipython3",
   "version": "3.7.7"
  }
 },
 "nbformat": 4,
 "nbformat_minor": 4
}
