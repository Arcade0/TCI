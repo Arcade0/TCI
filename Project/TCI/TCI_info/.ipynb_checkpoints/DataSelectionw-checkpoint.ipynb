{
 "cells": [
  {
   "cell_type": "code",
   "execution_count": null,
   "metadata": {},
   "outputs": [],
   "source": [
    "####pick S_A, S_D from impute####\n",
    "import pandas as pd\n",
    "import numpy as np\n",
    "from pandas import Series, DataFrame"
   ]
  },
  {
   "cell_type": "code",
   "execution_count": null,
   "metadata": {},
   "outputs": [],
   "source": [
    "def Tripletfilter(df):\n",
    "    df = df[df['posterior'] > 0.5]\n",
    "    A_D = df[['cause_gene_name','result_gene_name']]\n",
    "    A_Dc = A_D\n",
    "    A_Dc['count'] = 1\n",
    "    A_Dm = A_Dc.pivot_table(index=['cause_gene_name'], columns='result_gene_name', values=['count'], aggfunc=sum)\n",
    "    A_Dm = A_Dm.fillna(0)\n",
    "    A_Dm1 = A_Dm.loc[:, A_Dm.max()>5]\n",
    "    A_Dm2 = A_Dm1.loc[A_Dm1.sum(axis=1) > 50, :]\n",
    "    A_Dmh = A_Dm2\n",
    "    A_Dmh[A_Dmh>1] = 1\n",
    "    A_Dm3 = A_Dm2.loc[A_Dmh.sum(axis=1)>10,:]\n",
    "    A_Dm4 = A_Dm3.loc[:,A_Dmh.sum()>2]\n",
    "    return A_Dm4"
   ]
  },
  {
   "cell_type": "code",
   "execution_count": null,
   "metadata": {},
   "outputs": [],
   "source": [
    "def data(df, A_Dm4):\n",
    "\n",
    "    S_A = df[['patient_name','cause_gene_name']]\n",
    "    S_D = df[['patient_name','result_gene_name']]\n",
    "    S_Au = S_A.drop_duplicates()\n",
    "    S_Du = S_D.drop_duplicates()\n",
    "\n",
    "    S_Auc = S_Au\n",
    "    S_Auc['count'] = 1\n",
    "    S_Duc = S_Du\n",
    "    S_Duc['count'] = 1\n",
    "    S_Am = S_Auc.pivot_table(index = ['patient_name'], columns = 'cause_gene_name', values = ['count'])\n",
    "    S_Am = S_Am.fillna(0)\n",
    "    S_Dm = S_Duc.pivot_table(index = ['patient_name'], columns = 'result_gene_name', values = ['count'])\n",
    "    S_Dm = S_Dm.fillna(0)\n",
    "\n",
    "    S_Am.columns = np.array(S_Am.columns.tolist())[:, 1] \n",
    "    S_Am = S_A.loc[:, A_Dm4.index]\n",
    "    S_Dm.columns = np.array(S_Dm.columns.tolist())[:, 1] \n",
    "    A_Dm4.columns = np.array(A_Dm4.columns.tolist())[:, 1] \n",
    "    S_Dm = S_D.loc[:, A_Dm4.columns]\n",
    "    del(df)\n",
    "    return S_Am, S_Dm"
   ]
  },
  {
   "cell_type": "code",
   "execution_count": null,
   "metadata": {},
   "outputs": [],
   "source": [
    "df = pd.read_csv(open('Input/Triplets_2.csv'))\n",
    "A_Dm4 = Tripletfilter(df)\n",
    "S_Am,S_Dm = data(df, A_Dm4)\n",
    "A_D4.to_csv('Output/A_Dw.csv', index = True, header = True)\n",
    "S_Am.to_csv('Output/S_Amw.csv', index = True, header = True)\n",
    "S_Dm.to_csv('Output/S_Dmw.csv', index = True, header = True)\n"
   ]
  }
 ],
 "metadata": {
  "kernelspec": {
   "display_name": "Python 3",
   "language": "python",
   "name": "python3"
  },
  "language_info": {
   "codemirror_mode": {
    "name": "ipython",
    "version": 3
   },
   "file_extension": ".py",
   "mimetype": "text/x-python",
   "name": "python",
   "nbconvert_exporter": "python",
   "pygments_lexer": "ipython3",
   "version": "3.7.2"
  }
 },
 "nbformat": 4,
 "nbformat_minor": 2
}
