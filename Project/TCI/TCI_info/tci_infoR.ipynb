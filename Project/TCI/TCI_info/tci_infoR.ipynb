{
 "cells": [
  {
   "cell_type": "code",
   "execution_count": null,
   "metadata": {},
   "outputs": [],
   "source": [
    "####pick S_A, S_D from impute####\n",
    "Triplet = read.csv('Input/Triplets_2.csv')\n",
    "Triplet0 = Triplet[Triplet[,4]>0.5,]\n",
    "Triplet1 = Triplet0[,2:3] \n",
    "library(plyr)\n",
    "Triplet1_count = count(Triplet1, c('cause_gene_name','result_gene_name'))\n",
    "Triplet1_clean = Triplet1_count[Triplet1_count[,3]>5,] \n",
    "\n",
    "library(reshape2)\n",
    "Triplet_reshape = dcast(Triplet1_clean, cause_gene_name~result_gene_name, mean) \n",
    "rownames(Triplet_reshape) = Triplet_reshape[,1]\n",
    "Triplet_reshape = subset(Triplet_reshape, select = -cause_gene_name)\n",
    "\n",
    "Triplet_numatrix = apply(Triplet_reshape,2, as.numeric) \n",
    "rownames(Triplet_numatrix) = rownames(Triplet_reshape)\n",
    "Triplet_numatrix[is.na(Triplet_numatrix)] = 0\n",
    "\n",
    "Triplet_nurow = Triplet_numatrix[rowSums(Triplet_numatrix)>50,]\n",
    "Triplet_nurowh = Triplet_nurow\n",
    "Triplet_nurowh[Triplet_nurowh !=0] = 1\n",
    "Triplet_nurow1 = Triplet_nurow[rowSums(Triplet_nurowh)>10,]\n",
    "Triplet_nurow2 = Triplet_nurow1[,colSums(Triplet_nurowh)>2]\n",
    "sumrow = rowSums(Triplet_nurow2)\n",
    "Triplet_norm = Triplet_nurow2/sumrow\n",
    "\n",
    "write.csv(f, file = 'Output/Triplet_norm.csv', quote = F, row.names = T)"
   ]
  },
  {
   "cell_type": "code",
   "execution_count": null,
   "metadata": {},
   "outputs": [],
   "source": [
    "###########################################################################################################################"
   ]
  },
  {
   "cell_type": "code",
   "execution_count": 5,
   "metadata": {},
   "outputs": [],
   "source": [
    "####pick A_D matrix from TCI results####\n",
    "load('Input/sigdriversNtarDEGs.p=0.05.DEGrate=0.2.RData')\n",
    "\n",
    "a = sigdrivers.tarDEGs\n",
    "c = list()\n",
    "d = list()\n",
    "for (i in (1:634)){\n",
    "  b = data.frame(a[i])\n",
    "  c = list(rownames(b))\n",
    "  d = c(d,c)\n",
    "}\n",
    "library(plyr)\n",
    "e = ldply(d,data.frame)\n",
    "f = count(e, c('.id','X..i..'))\n",
    "library(reshape2)\n",
    "g = dcast(f, .id~X..i.., mean)\n",
    "rownames(g) = g[,1]\n",
    "g = subset(g,select = - .id)\n",
    "h = apply(h, as.numeric)\n",
    "rownames(h) = rownames(g)\n",
    "h[is.na(h)] = 0\n",
    "write.csv(f, file = 'Output/Driver_DEG.csv', quote = F, row.names = T)"
   ]
  },
  {
   "cell_type": "code",
   "execution_count": null,
   "metadata": {},
   "outputs": [],
   "source": [
    "###########################################################################################################################"
   ]
  },
  {
   "cell_type": "code",
   "execution_count": 2,
   "metadata": {},
   "outputs": [
    {
     "ename": "ERROR",
     "evalue": "Error in `[.data.frame`(S_A, , rownames(A_D)): undefined columns selected\n",
     "output_type": "error",
     "traceback": [
      "Error in `[.data.frame`(S_A, , rownames(A_D)): undefined columns selected\nTraceback:\n",
      "1. S_A[, rownames(A_D)]",
      "2. `[.data.frame`(S_A, , rownames(A_D))",
      "3. stop(\"undefined columns selected\")"
     ]
    }
   ],
   "source": [
    "####pick S_A, S_D from raw data####\n",
    "#S_A = read.csv('Input/PanCancer13tts.SGAmatrix.4TCI.csv', row.names = 1)\n",
    "#S_D = read.csv('Input/PanCancer13tts.DEGmatrix.4TCI.csv', row.names = 1)\n",
    "A_D = read.csv('Output/A_D.csv', row.names = 1)\n",
    "\n",
    "S_Am = S_A[, rownames(A_D)]\n",
    "S_Dm = S_D[, colnames(A_D)]\n",
    "#write.csv(S_Am, file = 'Output/S_Am.csv', quote = F, row.names = T)\n",
    "#write.csv(S_Dm, file = 'Output/S_Dm.csv', quote = F, row.names = T)"
   ]
  },
  {
   "cell_type": "code",
   "execution_count": null,
   "metadata": {},
   "outputs": [],
   "source": []
  }
 ],
 "metadata": {
  "kernelspec": {
   "display_name": "R",
   "language": "R",
   "name": "ir"
  },
  "language_info": {
   "codemirror_mode": "r",
   "file_extension": ".r",
   "mimetype": "text/x-r-source",
   "name": "R",
   "pygments_lexer": "r",
   "version": "3.6.1"
  }
 },
 "nbformat": 4,
 "nbformat_minor": 4
}
