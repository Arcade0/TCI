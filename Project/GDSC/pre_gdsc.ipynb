{
 "cells": [
  {
   "cell_type": "code",
   "execution_count": null,
   "metadata": {
    "ExecuteTime": {
     "end_time": "2020-01-23T17:53:37.230545Z",
     "start_time": "2020-01-23T17:53:36.742772Z"
    }
   },
   "outputs": [],
   "source": [
    "import sys\n",
    "import seaborn as sns\n",
    "import pandas as pd\n",
    "import numpy as np\n",
    "import os\n",
    "import xlrd\n",
    "from copy import deepcopy\n",
    "import scipy.stats"
   ]
  },
  {
   "cell_type": "code",
   "execution_count": null,
   "metadata": {
    "ExecuteTime": {
     "end_time": "2020-01-10T20:44:40.921148Z",
     "start_time": "2020-01-10T20:44:40.902928Z"
    },
    "code_folding": [
     1
    ]
   },
   "outputs": [],
   "source": [
    "# mutation process\n",
    "def pre_mu():\n",
    "\n",
    "    # CNV\n",
    "    pan_cnv = pd.read_csv('DrugNormal/Input/CellLine_CNV_BEMs/PANCAN_CNA_BEM.rdata.txt', header=0, index_col=0, sep='\\t')\n",
    "    pan_cnv.index = [str(ele) for ele in pan_cnv.index]\n",
    "    pan_idx = [ele for ele in pan_cnv.columns if '(' in ele]\n",
    "    npan_cnv = pan_cnv.loc[:, pan_idx]\n",
    "    npan_idx = [ele[ele.index('(')+1:ele.index(')')] for ele in pan_idx]\n",
    "    npan_cnv.columns = npan_idx\n",
    "\n",
    "    # mut\n",
    "    pan_sm = pd.read_csv('DrugNormal/Input/CellLines_CG_BEMs/PANCAN_SEQ_BEM.txt', header=0, index_col=0, sep='\\t').T\n",
    "\n",
    "    for ele in npan_idx:\n",
    "        if ',' in ele:\n",
    "            nele_l = ele.split(',')\n",
    "            if len(nele_l) > 1:\n",
    "                if npan_cnv[[ele]].shape[1]>1:\n",
    "                    da = npan_cnv[ele].iloc[:,[0]]+npan_cnv[ele].iloc[:,[1]]\n",
    "                    da[da>1] = 1\n",
    "                    npan_csv = npan_cnv.drop([ele], axis=1)\n",
    "                    npan_cnv[ele] = da\n",
    "                    for nele in nele_l:\n",
    "                        npan_cnv[nele] = npan_cnv[[ele]].iloc[:,0]\n",
    "                else:\n",
    "                    for nele in nele_l:\n",
    "                        npan_cnv[nele] = npan_cnv[[ele]].iloc[:,0]\n",
    "                    npan_cnv = npan_cnv.drop([ele], axis=1)\n",
    "\n",
    "    pan_mu =pd.concat([pan_sm, npan_cnv.loc[pan_sm.index,:]], axis=1)\n",
    "    for ele in pan_mu.columns:\n",
    "        if list(pan_mu.columns).count(ele)>1:\n",
    "            da = pan_mu[ele].iloc[:,[0]]\n",
    "            for i in range(1,list(pan_mu.columns).count(ele)):\n",
    "                da = da + pan_mu[ele].iloc[:,[i]]\n",
    "            da[da>1] = 1\n",
    "            pan_mu = pan_mu.drop([ele], axis=1)\n",
    "            pan_mu[ele] = da\n",
    "            \n",
    "    gene_l = ['AKT1','AR', 'ATM','BRAF', 'RAF1','PDGFRA', 'KIT', 'KDR','CDK4',\n",
    "          'EGFR', 'ERBB2','FGFR1', 'FGFR3','MDM4', 'TP53','TOP2A','PPM1D','PIK3CA','MTOR']\n",
    "    GDSCmut = pd.read_csv('DrugNormal/Input/GDSC mutation.csv', index_col=0, header=0).T\n",
    "    #cai = [ele for ele in gene_l if ele not in pan_mu.columns]\n",
    "    pan_mu[cai] = GDSCmut[cai]\n",
    "    pan_mu = pan_mu.loc[GDSCmut.index, gene_l]\n",
    "    print(pan_mu)\n",
    "    pan_mu.to_csv('DrugNormal/Input/GDSC sm_cnv.csv', index=True, header=True)"
   ]
  },
  {
   "cell_type": "code",
   "execution_count": null,
   "metadata": {
    "ExecuteTime": {
     "end_time": "2020-01-10T20:44:30.523294Z",
     "start_time": "2020-01-10T20:44:30.510330Z"
    },
    "code_folding": [
     0
    ]
   },
   "outputs": [],
   "source": [
    "def pre_cnv():\n",
    "\n",
    "    pan_cnv = pd.read_excel('DrugNormal/Input/Gene_level_CN.xlsx', sheet_name='Gene_level_CN')\n",
    "\n",
    "    npan_cnv = pan_cnv.iloc[1:, 4:]\n",
    "    npan_cnv.index = pan_cnv.iloc[:,0][1:]\n",
    "    npan_cnv.columns = pan_cnv.iloc[0,:][4:]\n",
    "\n",
    "    x = lambda a:a[0:1]\n",
    "    for col in npan_cnv:\n",
    "        npan_cnv[col] = npan_cnv[col].map(x)\n",
    "\n",
    "    npan_cnv[npan_cnv=='-'] = 100\n",
    "    x = lambda a:int(a)\n",
    "    for col in npan_cnv:\n",
    "            npan_cnv[col] = npan_cnv[col].map(x)\n",
    "\n",
    "    nnpan_cnv = deepcopy(npan_cnv.T)\n",
    "    nnpan_cnv[nnpan_cnv==100] = np.nan\n",
    "    nnpan_cnv[nnpan_cnv==0] = 5\n",
    "    nnpan_cnv[nnpan_cnv<=4] = 0\n",
    "    nnpan_cnv[nnpan_cnv>4] = 1\n",
    "\n",
    "\n",
    "    GDSCmut = pd.read_csv('DrugNormal/Input/GDSC mutation.csv', header=0, index_col=0).T\n",
    "    GDSCmut.index = [int(ele) for ele in GDSCmut.index]\n",
    "    idx = nnpan_cnv.index & GDSCmut.index\n",
    "    col = nnpan_cnv.columns & GDSCmut.columns\n",
    "    nnpan_cnv = nnpan_cnv.loc[idx, col]\n",
    "    nGDSCmut = GDSCmut.loc[idx, col]\n",
    "    pan_mu = nGDSCmut + nnpan_cnv \n",
    "    pan_mu[pan_mu>1] = 1\n",
    "    pan_mu.to_csv('EMva/Input/S_Ac.csv', index=True, header=True)"
   ]
  },
  {
   "cell_type": "code",
   "execution_count": null,
   "metadata": {
    "ExecuteTime": {
     "end_time": "2020-01-10T20:44:30.710405Z",
     "start_time": "2020-01-10T20:44:30.687344Z"
    },
    "code_folding": [
     0
    ]
   },
   "outputs": [],
   "source": [
    "# expression process \n",
    "def dircrete_cellline():"
   ]
  },
  {
   "cell_type": "code",
   "execution_count": null,
   "metadata": {
    "ExecuteTime": {
     "end_time": "2020-01-15T21:27:16.116063Z",
     "start_time": "2020-01-15T21:25:16.178013Z"
    },
    "code_folding": []
   },
   "outputs": [],
   "source": [
    "    S_D = pd.read_csv('Input/PanCancer13tts.DEGmatrix.4TCI.csv', header=0, index_col=0)\n",
    "    TCGAexp = pd.read_csv('Input/TCGA expression.csv', header=0, index_col=0)\n",
    "    GDSCexp = pd.read_csv('Input/GDSC expression.csv', header=0, index_col=0)\n",
    "\n",
    "    tg_sub = pd.read_csv('Pre/TCGA tissue type annotation.csv', header=0, index_col=0)\n",
    "    gd_sub = pd.read_csv(\"Input/GDSC tissue type annotation_rna.csv\", header=0,index_col=0)\n",
    "    sc = pd.read_csv('Input/Subtype Code.csv')\n",
    "    sc.columns.values[0] = 'TCGA Label'\n",
    "    gd_subn = gd_sub.merge(sc)\n",
    "    gd_subn.to_csv('Input/GDSC tissue type annotation_ac.csv', header=True, index=False)"
   ]
  },
  {
   "cell_type": "code",
   "execution_count": null,
   "metadata": {
    "ExecuteTime": {
     "end_time": "2020-01-23T17:54:14.546301Z",
     "start_time": "2020-01-23T17:54:02.415937Z"
    },
    "code_folding": []
   },
   "outputs": [],
   "source": [
    "    GDSCexp = pd.read_csv('Input/GDSC expression.csv', header=0, index_col=0)\n",
    "    A_Dn = pd.read_csv(\"Input/A_Dn.csv\", header=0, index_col=0)\n",
    "    rep = pd.read_csv(\"Input/GDSC drug response.csv\", header=0, index_col=0)\n",
    "    S_Dc = pd.read_csv(\"Output/nGDSCexp.csv\", header=0, index_col=0)\n",
    "    S_Ac =pd.read_csv(\"Output/nGDSCmut.csv\", header=0, index_col=0)"
   ]
  },
  {
   "cell_type": "code",
   "execution_count": null,
   "metadata": {
    "ExecuteTime": {
     "end_time": "2020-01-10T20:44:30.710405Z",
     "start_time": "2020-01-10T20:44:30.687344Z"
    },
    "code_folding": [
     0
    ]
   },
   "outputs": [],
   "source": [
    "#### \n",
    "    nTCGAexp_idx = TCGAexp.index & S_D.index\n",
    "    nTCGAexp_col = TCGAexp.columns & GDSCexp.columns & S_D.columns \n",
    "    \n",
    "    nS_D = S_D.loc[nTCGAexp_idx, nTCGAexp_col]\n",
    "    nTCGAexp = TCGAexp.loc[nTCGAexp_idx, nTCGAexp_col]\n",
    "    nGDSCexp = GDSCexp[nTCGAexp_col]\n",
    "    \n",
    "    tg_subn = tg_sub.loc[tg_sub.index & nTCGAexp.index, :].iloc[:, [1]]\n",
    "    tcga_sam_l = []\n",
    "    coad_l = []\n",
    "    for i in list(np.unique(tg_subn.iloc[:, 0])):\n",
    "        print(len(tcga_sam_l), i)\n",
    "        if i in [9,17]:\n",
    "            coad_l.extend(tg_subn.loc[tg_subn.iloc[:, 0] == i, :].index)\n",
    "        if i in [14]:\n",
    "            print(i)\n",
    "        if i not in [9, 14, 17]:\n",
    "            tcga_sam_l.append(tg_subn.loc[tg_subn.iloc[:, 0] == i, :].index)\n",
    "    tcga_sam_l.append(coad_l)\n",
    "\n",
    "    gd_subn = pd.read_csv('DrugNormal/Input/GDSC tissue type annotation_ac.csv', index_col=0, header=0)\n",
    "    gd_subnn = gd_subn.loc[gd_subn.index & nGDSCexp.index, :].iloc[:, [-1]]\n",
    "    gdsc_sam_l = []\n",
    "    for i in list(np.unique(gd_subnn.iloc[:, 0])):\n",
    "        gdsc_sam_l.append(gd_subnn.loc[gd_subnn.iloc[:, 0] == i, :].index)\n",
    "\n",
    "    method='max'\n",
    "    nnGDSCexp = pd.DataFrame(np.zeros((0, nGDSCexp.shape[1])), columns=nGDSCexp.columns)\n",
    "    nnTCGAexp = pd.DataFrame(np.zeros((0, nTCGAexp.shape[1])), columns=nTCGAexp.columns)\n",
    "    \n",
    "    for i in range(len(tcga_sam_l)):\n",
    "        \n",
    "        nTCGAexpi = nTCGAexp.loc[tcga_sam_l[i], :]\n",
    "        nS_Di = nS_D.loc[tcga_sam_l[i], :]\n",
    "        nGDSCexpi = nGDSCexp.loc[gdsc_sam_l[i], :]\n",
    "\n",
    "        thres0 = nTCGAexpi[nS_Di==0]\n",
    "        ptp = np.ptp(nGDSCexpi.values, axis=0) / np.ptp(nTCGAexpi.values,axis=0)\n",
    "\n",
    "        if method == 'max':\n",
    "\n",
    "            norm_mean = np.mean(thres0)\n",
    "            col_max = np.max(thres0) \n",
    "            col_min = np.min(thres0) \n",
    "            print(col_max['A1CF'])\n",
    "            nnTCGAexpi_max = nTCGAexpi - col_max[None, :]\n",
    "            nnTCGAexpi_max = nnTCGAexpi_max > 0\n",
    "            nnTCGAexpi_min = nTCGAexpi - col_min[None, :]\n",
    "            nnTCGAexpi_min = nnTCGAexpi_min < 0\n",
    "            nnTCGAexpi = nnTCGAexpi_max + nnTCGAexpi_min\n",
    "            nnTCGAexp = pd.concat([nnTCGAexp, nnTCGAexpi], axis=0)\n",
    "            \n",
    "            nnGDSCexpi_max = nGDSCexpi - ptp * col_max[None, :]\n",
    "            nnGDSCexpi_max = nnGDSCexpi_max > 0\n",
    "            nnGDSCexpi_min = nGDSCexpi - ptp * col_min[None, :]\n",
    "            nnGDSCexpi_min = nnGDSCexpi_min < 0\n",
    "            nnGDSCexpi = nnGDSCexpi_max + nnGDSCexpi_min\n",
    "            nnGDSCexp = pd.concat([nnGDSCexp, nnGDSCexpi], axis=0)\n",
    "            \n",
    "        if method == 'gus':\n",
    "            \n",
    "            norm_mean = np.mean(thres0)\n",
    "            std = np.std(thres0) \n",
    "\n",
    "            nnTCGAexpi_max = nTCGAexpi - (norm_mean[None, :] + 1.96*std[None, :])\n",
    "            nnTCGAexpi_max = nnTCGAexpi_max > 0\n",
    "            nnTCGAexpi_min = nTCGAexpi - (norm_mean[None, :] - 1.96*std[None, :])\n",
    "            nnTCGAexpi_min = nnTCGAexpi_min < 0\n",
    "            nnTCGAexpi = nnTCGAexpi_max + nnTCGAexpi_min\n",
    "            nnTCGAexp = pd.concat([nnTCGAexp, nnTCGAexpi], axis=0)\n",
    "            \n",
    "            nnGDSCexpi_max = nGDSCexpi - ptp*(norm_mean[None, :] + 1.96*std[None, :])\n",
    "            nnGDSCexpi_max = nnGDSCexpi_max > 0\n",
    "            nnGDSCexpi_min = nGDSCexpi - ptp*(norm_mean[None, :] - 1.96*std[None, :])\n",
    "            nnGDSCexpi_min = nnGDSCexpi_min < 0\n",
    "            nnGDSCexpi = nnGDSCexpi_max + nnGDSCexpi_min\n",
    "            nnGDSCexp = pd.concat([nnGDSCexp, nnGDSCexpi], axis=0)\n",
    "\n",
    "    nnGDSCexp.to_csv('DrugNormal/Output/nGDSCexp.csv', header=True, index=True)"
   ]
  },
  {
   "cell_type": "code",
   "execution_count": null,
   "metadata": {
    "ExecuteTime": {
     "end_time": "2020-01-10T20:44:30.992814Z",
     "start_time": "2020-01-10T20:44:30.988240Z"
    },
    "code_folding": [
     0
    ]
   },
   "outputs": [],
   "source": [
    "def plot():\n",
    "    import matplotlib.pyplot as plt\n",
    "    n, bins, patches = plt.hist(x=nnGDSCexp.iloc[:,2], bins='auto', color='#0504aa',alpha=0.7, rwidth=0.85, density=True)\n",
    "    plt.grid(axis='y', alpha=0.75)\n",
    "    plt.xlabel('Value')\n",
    "    plt.ylabel('Frequency')\n",
    "    plt.title('Expression-Frequency')\n",
    "    maxfreq = n.max()"
   ]
  },
  {
   "cell_type": "code",
   "execution_count": null,
   "metadata": {
    "ExecuteTime": {
     "end_time": "2020-01-10T20:44:31.284955Z",
     "start_time": "2020-01-10T20:44:31.265655Z"
    },
    "code_folding": [
     0
    ]
   },
   "outputs": [],
   "source": [
    "# drug process\n",
    "\n",
    "def split_target():\n",
    "\n",
    "    GDSCdrug = pd.read_excel(\"DrugNormal/Input/Screened_Compounds.xlsx\")\n",
    "    Y_A = GDSCdrug.iloc[:, [0, 3]]\n",
    "    drop_l = []\n",
    "    for i in range(Y_A.shape[0]):\n",
    "        A_l = Y_A.iloc[i, 1].replace(' ', '').split(',')\n",
    "        if len(A_l) > 1:\n",
    "            drop_l.append(i)\n",
    "            for j in range(len(A_l)):\n",
    "                b = A_l[j] + str(i)\n",
    "                Y_A.loc[b] = [Y_A.iloc[i, 0], A_l[j]]\n",
    "    Y_A = Y_A.drop(Y_A.index[drop_l])\n",
    "    Y_A.to_csv('DrugNormal/Output/Y_A.csv', header=True, index=False)\n",
    "\n",
    "def drug_sga():\n",
    "    A_D = pd.read_csv('DrugNormal/Input/A_D.csv', header=0, index_col=0)\n",
    "    GDSCmut = pd.read_csv('DrugNormal/Input/GDSC mutation.csv',\n",
    "                          header=0,\n",
    "                          index_col=0)\n",
    "    GDSCRe = pd.read_csv('DrugNormal/Input/GDSC drug response.csv',\n",
    "                         header=0,\n",
    "                         index_col=0)\n",
    "    Y_A = pd.read_csv('DrugNormal/Output/Y_A.csv', header=0, index_col=None)\n",
    "\n",
    "    nY_A_idx = [\n",
    "        Y_A.iloc[:, 1].tolist().index(idx) for idx in A_D.index\n",
    "        if idx in Y_A.iloc[:, 1].tolist()\n",
    "    ]\n",
    "\n",
    "    nY_A = Y_A.loc[nY_A_idx, :]\n",
    "\n",
    "    nGDSCRe_col = GDSCRe.columns & nY_A.iloc[:, 0].tolist()\n",
    "    nGDSCRe = GDSCRe.loc[:, nGDSCRe_col]\n",
    "\n",
    "    Y_l = nY_A.iloc[:, 0].tolist()\n",
    "    Y_l = [str(ele) for ele in Y_l]\n",
    "    A_l = nY_A.iloc[:, 1].tolist()\n",
    "    del_l = []\n",
    "\n",
    "    for i in range(nGDSCRe.shape[1]):\n",
    "        print(i)\n",
    "        a = Y_l.index(nGDSCRe.columns[i])\n",
    "        print(a)\n",
    "        over = [A_l[a]] & nGDSCRe.columns\n",
    "        if len(over) > 0:\n",
    "            b = list(nGDSCRe.columns).index(A_l[a])\n",
    "            nGDSCRe.iloc[:, b] = nGDSCRe.iloc[:, i] + nGDSCRe.iloc[:, b]\n",
    "            del_l.append(i)\n",
    "        else:\n",
    "            nGDSCRe.columns.values[i] = A_l[a]\n",
    "\n",
    "    nGDSCRe = nGDSCRe.drop(nGDSCRe.columns[del_l])\n",
    "\n",
    "    ttcn = pd.read_csv('DrugNormal/Input/ttcn.csv', header=0, index_col=0)\n",
    "    nGDSCRe.to_csv('DrugNormal/Output/nGDSCRe.csv', header=True, index=True)\n",
    "    nGDSCRet_idx = nGDSCRe.index & ttcn.iloc[:, 0].tolist()\n",
    "    nGDSCRe.loc[nGDSCRet_idx, :].to_csv('DrugNormal/Output/nGDSCRen.csv',\n",
    "                                        header=True,\n",
    "                                        index=True)\n",
    "\n",
    "    nGDSCmut_idx = [idx for idx in GDSCmut.index if idx in nGDSCRe.columns]\n",
    "    nGDSCmut = GDSCmut.loc[nGDSCmut_idx, :].T\n",
    "    nGDSCmut.to_csv('DrugNormal/Output/nGDSCmut.csv', header=True, index=True)\n",
    "    nGDSCmutt_idx = nGDSCmut.index & ttcn.iloc[:, 0].tolist()\n",
    "    nGDSCmut.loc[nGDSCmutt_idx, :].to_csv('DrugNormal/Output/nGDSCmutn.csv',\n",
    "                                          header=True,\n",
    "                                          index=True)"
   ]
  },
  {
   "cell_type": "code",
   "execution_count": null,
   "metadata": {
    "ExecuteTime": {
     "end_time": "2020-01-10T20:44:31.715281Z",
     "start_time": "2020-01-10T20:44:31.694440Z"
    },
    "code_folding": [
     0
    ]
   },
   "outputs": [],
   "source": [
    "# target_process\n",
    "\n",
    "def gene_l():\n",
    "    GDSCdrug = pd.read_excel(\"DrugNormal/Input/Screened_Compounds.xlsx\")\n",
    "    GDSCRe = pd.read_csv('DrugNormal/Input/GDSC drug response.csv',\n",
    "                         header=0,\n",
    "                         index_col=0)\n",
    "    gene_l = [\n",
    "        'AKT1', 'AR', 'ATM', 'BRAF', 'RAF1', 'PDGFRA', 'KIT', 'KDR', 'CDK4',\n",
    "        'ERBB2', 'EGFR', 'FGFR1', 'FGFR3', 'MDM4', 'TP53', 'TOP2A', 'PPM1D',\n",
    "        'PIK3CA', 'MTOR'\n",
    "    ]\n",
    "\n",
    "    for gene in gene_l:\n",
    "        Y_l = []\n",
    "        col_l = []\n",
    "        for i in range(GDSCdrug.shape[0]):\n",
    "            A_l = GDSCdrug.iloc[i, 3]\n",
    "            if gene in A_l:\n",
    "                print(gene + '_' + A_l)\n",
    "                Y_l.append(str(GDSCdrug.iloc[i, 0]))\n",
    "                col_l.append(\n",
    "                    str(GDSCdrug.iloc[i, 0]) + '-' + GDSCdrug.iloc[i, 1] +\n",
    "                    ':' + GDSCdrug.iloc[i, 3])\n",
    "        df = GDSCRe.loc[:, Y_l]\n",
    "        df.columns = col_l\n",
    "        df.to_csv('DrugNormal/Output/gene/' + gene + '.csv',\n",
    "                  header=True,\n",
    "                  index=True)\n",
    "\n",
    "    ttcn = pd.read_csv('DrugNormal/Input/ttcn.csv', header=0, index_col=0)\n",
    "    GDSCmut = pd.read_csv('DrugNormal/Input/GDSC mutation.csv',\n",
    "                          header=0,\n",
    "                          index_col=0)\n",
    "    nGDSCmut = GDSCmut.loc[gene_l, :].T\n",
    "    nGDSCmut.to_csv('DrugNormal/Output/nGDSCmut.csv', header=True, index=True)\n",
    "    nGDSCmutt_idx = nGDSCmut.index & ttcn.iloc[:, 0].tolist()\n",
    "    nGDSCmut.loc[nGDSCmutt_idx, :].to_csv('DrugNormal/Output/nGDSCmutn.csv',\n",
    "                                          header=True,\n",
    "                                          index=True)\n",
    "\n",
    "def chan_ens():\n",
    "\n",
    "    nGDSCexp = pd.read_csv('DrugNormal/Input/GDSC_expression_discrete.csv',\n",
    "                           index_col=0,\n",
    "                           header=0)\n",
    "    A_D = pd.read_csv('DrugNormal/Input/A_D.csv', header=0, index_col=0)\n",
    "\n",
    "    gene_en = [ele for ele in nGDSCexp.columns if len(ele) > 12]\n",
    "\n",
    "    import mygene\n",
    "    mg = mygene.MyGeneInfo()\n",
    "    gene_info = mg.querymany(gene_en,\n",
    "                             scopes='ensembl.gene',\n",
    "                             fields='symbol',\n",
    "                             species='human')\n",
    "\n",
    "    gene_name = [ele['symbol'] for ele in gene_info if len(ele) > 2]\n",
    "    gene_disc = [ele['query'] for ele in gene_info if len(ele) <= 2]\n",
    "\n",
    "    ngene_en = [ele for ele in gene_en if ele not in gene_disc]\n",
    "    col_l = list(nGDSCexp.columns)\n",
    "    ngene_idx = [col_l.index(ele) for ele in ngene_en]\n",
    "    for i in range(len(ngene_en)):\n",
    "        col_l[col_l.index(ngene_en[i])] = gene_name[i]\n",
    "\n",
    "    sele_l = [ele for ele in col_l if ele not in gene_disc]\n",
    "    nGDSCexp.columns = col_l\n",
    "\n",
    "    nnGDSCexp = nGDSCexp[list(np.unique(sele_l))]\n",
    "\n",
    "    nnGDSCexp = nnGDSCexp[nnGDSCexp.columns & A_D.columns]\n",
    "    ttcn = pd.read_csv('DrugNormal/Input/ttcn.csv', header=0, index_col=0)\n",
    "    nnGDSCexp.to_csv('DrugNormal/Output/nGDSCexp.csv', header=True, index=True)\n",
    "    nnGDSCexpt_idx = nnGDSCexp.index & ttcn.iloc[:, 0].tolist()\n",
    "    nnGDSCexp.loc[nnGDSCexpt_idx, :].to_csv('DrugNormal/Output/nGDSCRexpn.csv',\n",
    "                                            header=True,\n",
    "                                            index=True)"
   ]
  },
  {
   "cell_type": "markdown",
   "metadata": {
    "ExecuteTime": {
     "end_time": "2020-01-23T17:55:01.567197Z",
     "start_time": "2020-01-23T17:55:01.563651Z"
    }
   },
   "source": [
    "## Test"
   ]
  },
  {
   "cell_type": "code",
   "execution_count": null,
   "metadata": {
    "ExecuteTime": {
     "end_time": "2020-01-23T17:52:35.568956Z",
     "start_time": "2020-01-23T17:52:35.565051Z"
    }
   },
   "outputs": [],
   "source": [
    "import numpy as np\n",
    "from scipy import stats"
   ]
  },
  {
   "cell_type": "code",
   "execution_count": null,
   "metadata": {
    "ExecuteTime": {
     "end_time": "2020-01-23T18:08:45.541532Z",
     "start_time": "2020-01-23T18:08:45.494131Z"
    }
   },
   "outputs": [],
   "source": [
    "rep_l = [idx for idx in rep.index if rep.loc[idx, \"1010\"]==1]\n",
    "nrep_l =  [idx for idx in rep.index if rep.loc[idx, \"1010\"]==0]\n",
    "rep_exp = GDSCexp.loc[rep_l, :]\n",
    "nrep_exp = GDSCexp.loc[nrep_l, :]"
   ]
  },
  {
   "cell_type": "code",
   "execution_count": null,
   "metadata": {
    "ExecuteTime": {
     "end_time": "2020-01-23T18:19:22.481890Z",
     "start_time": "2020-01-23T18:19:12.437986Z"
    }
   },
   "outputs": [],
   "source": [
    "stats_l = []\n",
    "de_l = []\n",
    "for deg in rep_exp.columns:\n",
    "    rsv1 = rep_exp[deg]\n",
    "    rsv2 = nrep_exp[deg]\n",
    "    p = stats.ttest_ind(rsv1,rsv2)\n",
    "    stats_l.append(p)\n",
    "    if p[1]<0.05:\n",
    "        de_l.append(deg)"
   ]
  },
  {
   "cell_type": "code",
   "execution_count": null,
   "metadata": {
    "ExecuteTime": {
     "end_time": "2020-01-23T18:25:06.582351Z",
     "start_time": "2020-01-23T18:24:46.939301Z"
    }
   },
   "outputs": [],
   "source": [
    "sns.clustermap(pd.concat([rep_exp[de_l], nrep_exp[de_l]], 0).T, col_cluster=False)"
   ]
  },
  {
   "cell_type": "code",
   "execution_count": null,
   "metadata": {},
   "outputs": [],
   "source": []
  }
 ],
 "metadata": {
  "kernelspec": {
   "display_name": "Python 3",
   "language": "python",
   "name": "python3"
  },
  "language_info": {
   "codemirror_mode": {
    "name": "ipython",
    "version": 3
   },
   "file_extension": ".py",
   "mimetype": "text/x-python",
   "name": "python",
   "nbconvert_exporter": "python",
   "pygments_lexer": "ipython3",
   "version": "3.7.7"
  },
  "toc": {
   "base_numbering": 1,
   "nav_menu": {},
   "number_sections": true,
   "sideBar": true,
   "skip_h1_title": false,
   "title_cell": "Table of Contents",
   "title_sidebar": "Contents",
   "toc_cell": false,
   "toc_position": {},
   "toc_section_display": true,
   "toc_window_display": false
  },
  "varInspector": {
   "cols": {
    "lenName": 16,
    "lenType": 16,
    "lenVar": 40
   },
   "kernels_config": {
    "python": {
     "delete_cmd_postfix": "",
     "delete_cmd_prefix": "del ",
     "library": "var_list.py",
     "varRefreshCmd": "print(var_dic_list())"
    },
    "r": {
     "delete_cmd_postfix": ") ",
     "delete_cmd_prefix": "rm(",
     "library": "var_list.r",
     "varRefreshCmd": "cat(var_dic_list()) "
    }
   },
   "types_to_exclude": [
    "module",
    "function",
    "builtin_function_or_method",
    "instance",
    "_Feature"
   ],
   "window_display": false
  }
 },
 "nbformat": 4,
 "nbformat_minor": 4
}
